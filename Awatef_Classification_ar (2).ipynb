{
  "cells": [
    {
      "cell_type": "markdown",
      "metadata": {
        "id": "bsurCNok43DL"
      },
      "source": [
        "# Text Classification Exam\n",
        "\n",
        "Welcome to the Text Classification Practical Exam. In this exam, you will be tasked with building, training, and evaluating an NLP model to classify text data. You are provided with a labeled dataset containing both the text and its corresponding class labels.\n",
        "\n",
        "Your objective is to develop a model that accurately predicts the class of the given text. Make sure to follow best practices in data preprocessing, model selection, and evaluation to achieve optimal results.\n",
        "\n",
        "Good luck!\n",
        "___"
      ]
    },
    {
      "cell_type": "markdown",
      "metadata": {
        "id": "oqw2El5mMxsz"
      },
      "source": [
        "# Install and Import Needed Libraries"
      ]
    },
    {
      "cell_type": "markdown",
      "metadata": {
        "id": "4dTkHbSHNB4y"
      },
      "source": [
        "You can use `pyarabic` or any other library to pre-process and clean the Arabic text."
      ]
    },
    {
      "cell_type": "code",
      "execution_count": 1,
      "metadata": {
        "id": "z6mRe6i5Wqqc",
        "colab": {
          "base_uri": "https://localhost:8080/"
        },
        "outputId": "f58bb3f7-6453-45e9-c6a3-480e6391ac51"
      },
      "outputs": [
        {
          "output_type": "stream",
          "name": "stdout",
          "text": [
            "Collecting pyarabic\n",
            "  Downloading PyArabic-0.6.15-py3-none-any.whl.metadata (10 kB)\n",
            "Requirement already satisfied: six>=1.14.0 in /usr/local/lib/python3.10/dist-packages (from pyarabic) (1.16.0)\n",
            "Downloading PyArabic-0.6.15-py3-none-any.whl (126 kB)\n",
            "\u001b[?25l   \u001b[90m━━━━━━━━━━━━━━━━━━━━━━━━━━━━━━━━━━━━━━━━\u001b[0m \u001b[32m0.0/126.4 kB\u001b[0m \u001b[31m?\u001b[0m eta \u001b[36m-:--:--\u001b[0m\r\u001b[2K   \u001b[91m━━━━━━━━━━━━━━━━━━━━━━━━━━━━━━━━━━━━━━\u001b[0m\u001b[91m╸\u001b[0m\u001b[90m━\u001b[0m \u001b[32m122.9/126.4 kB\u001b[0m \u001b[31m6.1 MB/s\u001b[0m eta \u001b[36m0:00:01\u001b[0m\r\u001b[2K   \u001b[90m━━━━━━━━━━━━━━━━━━━━━━━━━━━━━━━━━━━━━━━━\u001b[0m \u001b[32m126.4/126.4 kB\u001b[0m \u001b[31m3.1 MB/s\u001b[0m eta \u001b[36m0:00:00\u001b[0m\n",
            "\u001b[?25hInstalling collected packages: pyarabic\n",
            "Successfully installed pyarabic-0.6.15\n"
          ]
        }
      ],
      "source": [
        "pip install pyarabic"
      ]
    },
    {
      "cell_type": "code",
      "source": [
        "!pip install scikit-learn\n"
      ],
      "metadata": {
        "colab": {
          "base_uri": "https://localhost:8080/"
        },
        "id": "Tk1Xq7Fj_BXc",
        "outputId": "142dd6c7-60d5-43b3-a19e-8799454d0279"
      },
      "execution_count": 2,
      "outputs": [
        {
          "output_type": "stream",
          "name": "stdout",
          "text": [
            "Requirement already satisfied: scikit-learn in /usr/local/lib/python3.10/dist-packages (1.3.2)\n",
            "Requirement already satisfied: numpy<2.0,>=1.17.3 in /usr/local/lib/python3.10/dist-packages (from scikit-learn) (1.26.4)\n",
            "Requirement already satisfied: scipy>=1.5.0 in /usr/local/lib/python3.10/dist-packages (from scikit-learn) (1.13.1)\n",
            "Requirement already satisfied: joblib>=1.1.1 in /usr/local/lib/python3.10/dist-packages (from scikit-learn) (1.4.2)\n",
            "Requirement already satisfied: threadpoolctl>=2.0.0 in /usr/local/lib/python3.10/dist-packages (from scikit-learn) (3.5.0)\n"
          ]
        }
      ]
    },
    {
      "cell_type": "code",
      "source": [
        "import pandas as pd\n",
        "import numpy as np\n",
        "import matplotlib.pyplot as plt\n",
        "import seaborn as sns\n",
        "import pyarabic.araby as araby\n",
        "import re\n",
        "import nltk\n",
        "from tensorflow.keras.preprocessing.text import Tokenizer\n",
        "from tensorflow.keras.preprocessing.sequence import pad_sequences\n",
        "from tensorflow.keras.models import Sequential\n",
        "from tensorflow.keras.layers import Embedding, LSTM, Dense, Dropout\n",
        "from tensorflow.keras.layers import Input, Embedding, Bidirectional, SimpleRNN\n",
        "from tensorflow.keras.layers import Input\n",
        "from nltk.corpus import stopwords\n",
        "from nltk.tokenize import word_tokenize\n",
        "from collections import Counter\n",
        "from sklearn.preprocessing import LabelEncoder,OneHotEncoder\n",
        "from nltk.stem.isri import ISRIStemmer\n",
        "st = ISRIStemmer()\n",
        "from sklearn.model_selection import train_test_split\n",
        "from sklearn.metrics import accuracy_score, classification_report, confusion_matrix\n",
        "import tensorflow as tf\n",
        "\n"
      ],
      "metadata": {
        "id": "WA9xNyuTzpLF"
      },
      "execution_count": 3,
      "outputs": []
    },
    {
      "cell_type": "markdown",
      "metadata": {
        "id": "Hq5KJRZ5Ph0Z"
      },
      "source": [
        "# Download the Dataset"
      ]
    },
    {
      "cell_type": "markdown",
      "metadata": {
        "id": "3riATTJ243DN"
      },
      "source": [
        "Please note that you are allowed to take a subset of this dataset, the reason for that is it might take a long time to train the model on."
      ]
    },
    {
      "cell_type": "code",
      "execution_count": 4,
      "metadata": {
        "id": "M1n3uTg043DN",
        "colab": {
          "base_uri": "https://localhost:8080/"
        },
        "outputId": "679c15d4-0d49-4b22-bae3-2c4a19733c54"
      },
      "outputs": [
        {
          "output_type": "stream",
          "name": "stdout",
          "text": [
            "Dataset URL: https://www.kaggle.com/datasets/khaledzsa/sanad\n",
            "License(s): unknown\n",
            "Downloading sanad.zip to /content\n",
            " 85% 61.0M/71.4M [00:00<00:00, 198MB/s]\n",
            "100% 71.4M/71.4M [00:00<00:00, 202MB/s]\n",
            "Archive:  sanad.zip\n",
            "  inflating: sanad.csv               \n"
          ]
        }
      ],
      "source": [
        "!kaggle datasets download -d khaledzsa/sanad\n",
        "!unzip sanad.zip"
      ]
    },
    {
      "cell_type": "code",
      "source": [
        "df=pd.read_csv('/content/sanad.csv' )\n",
        "df.head()"
      ],
      "metadata": {
        "id": "5sWtxRPi48r5",
        "colab": {
          "base_uri": "https://localhost:8080/",
          "height": 206
        },
        "outputId": "76e3be0a-1628-487d-d75d-f40c3ca7b1fd"
      },
      "execution_count": 5,
      "outputs": [
        {
          "output_type": "execute_result",
          "data": {
            "text/plain": [
              "                                                text    label\n",
              "0  https://example.com/resource/الشاٌرقة -ْ محمِد...  Culture\n",
              "1  https://example.com/resource/اَنِطٌلقّتَ ٍفٍيّ...  Culture\n",
              "2  https://example.com/resource/أُقيًمٌتِ مِساءُ ...  Culture\n",
              "3  https://example.com/resource/بٍاسُمةَ يًوٌنٍس ...  Culture\n",
              "4  https://example.com/resource/قُرر اَتحِاد اًلْ...  Culture"
            ],
            "text/html": [
              "\n",
              "  <div id=\"df-b40a1a1c-64d6-477c-b219-167ffe45bd3d\" class=\"colab-df-container\">\n",
              "    <div>\n",
              "<style scoped>\n",
              "    .dataframe tbody tr th:only-of-type {\n",
              "        vertical-align: middle;\n",
              "    }\n",
              "\n",
              "    .dataframe tbody tr th {\n",
              "        vertical-align: top;\n",
              "    }\n",
              "\n",
              "    .dataframe thead th {\n",
              "        text-align: right;\n",
              "    }\n",
              "</style>\n",
              "<table border=\"1\" class=\"dataframe\">\n",
              "  <thead>\n",
              "    <tr style=\"text-align: right;\">\n",
              "      <th></th>\n",
              "      <th>text</th>\n",
              "      <th>label</th>\n",
              "    </tr>\n",
              "  </thead>\n",
              "  <tbody>\n",
              "    <tr>\n",
              "      <th>0</th>\n",
              "      <td>https://example.com/resource/الشاٌرقة -ْ محمِد...</td>\n",
              "      <td>Culture</td>\n",
              "    </tr>\n",
              "    <tr>\n",
              "      <th>1</th>\n",
              "      <td>https://example.com/resource/اَنِطٌلقّتَ ٍفٍيّ...</td>\n",
              "      <td>Culture</td>\n",
              "    </tr>\n",
              "    <tr>\n",
              "      <th>2</th>\n",
              "      <td>https://example.com/resource/أُقيًمٌتِ مِساءُ ...</td>\n",
              "      <td>Culture</td>\n",
              "    </tr>\n",
              "    <tr>\n",
              "      <th>3</th>\n",
              "      <td>https://example.com/resource/بٍاسُمةَ يًوٌنٍس ...</td>\n",
              "      <td>Culture</td>\n",
              "    </tr>\n",
              "    <tr>\n",
              "      <th>4</th>\n",
              "      <td>https://example.com/resource/قُرر اَتحِاد اًلْ...</td>\n",
              "      <td>Culture</td>\n",
              "    </tr>\n",
              "  </tbody>\n",
              "</table>\n",
              "</div>\n",
              "    <div class=\"colab-df-buttons\">\n",
              "\n",
              "  <div class=\"colab-df-container\">\n",
              "    <button class=\"colab-df-convert\" onclick=\"convertToInteractive('df-b40a1a1c-64d6-477c-b219-167ffe45bd3d')\"\n",
              "            title=\"Convert this dataframe to an interactive table.\"\n",
              "            style=\"display:none;\">\n",
              "\n",
              "  <svg xmlns=\"http://www.w3.org/2000/svg\" height=\"24px\" viewBox=\"0 -960 960 960\">\n",
              "    <path d=\"M120-120v-720h720v720H120Zm60-500h600v-160H180v160Zm220 220h160v-160H400v160Zm0 220h160v-160H400v160ZM180-400h160v-160H180v160Zm440 0h160v-160H620v160ZM180-180h160v-160H180v160Zm440 0h160v-160H620v160Z\"/>\n",
              "  </svg>\n",
              "    </button>\n",
              "\n",
              "  <style>\n",
              "    .colab-df-container {\n",
              "      display:flex;\n",
              "      gap: 12px;\n",
              "    }\n",
              "\n",
              "    .colab-df-convert {\n",
              "      background-color: #E8F0FE;\n",
              "      border: none;\n",
              "      border-radius: 50%;\n",
              "      cursor: pointer;\n",
              "      display: none;\n",
              "      fill: #1967D2;\n",
              "      height: 32px;\n",
              "      padding: 0 0 0 0;\n",
              "      width: 32px;\n",
              "    }\n",
              "\n",
              "    .colab-df-convert:hover {\n",
              "      background-color: #E2EBFA;\n",
              "      box-shadow: 0px 1px 2px rgba(60, 64, 67, 0.3), 0px 1px 3px 1px rgba(60, 64, 67, 0.15);\n",
              "      fill: #174EA6;\n",
              "    }\n",
              "\n",
              "    .colab-df-buttons div {\n",
              "      margin-bottom: 4px;\n",
              "    }\n",
              "\n",
              "    [theme=dark] .colab-df-convert {\n",
              "      background-color: #3B4455;\n",
              "      fill: #D2E3FC;\n",
              "    }\n",
              "\n",
              "    [theme=dark] .colab-df-convert:hover {\n",
              "      background-color: #434B5C;\n",
              "      box-shadow: 0px 1px 3px 1px rgba(0, 0, 0, 0.15);\n",
              "      filter: drop-shadow(0px 1px 2px rgba(0, 0, 0, 0.3));\n",
              "      fill: #FFFFFF;\n",
              "    }\n",
              "  </style>\n",
              "\n",
              "    <script>\n",
              "      const buttonEl =\n",
              "        document.querySelector('#df-b40a1a1c-64d6-477c-b219-167ffe45bd3d button.colab-df-convert');\n",
              "      buttonEl.style.display =\n",
              "        google.colab.kernel.accessAllowed ? 'block' : 'none';\n",
              "\n",
              "      async function convertToInteractive(key) {\n",
              "        const element = document.querySelector('#df-b40a1a1c-64d6-477c-b219-167ffe45bd3d');\n",
              "        const dataTable =\n",
              "          await google.colab.kernel.invokeFunction('convertToInteractive',\n",
              "                                                    [key], {});\n",
              "        if (!dataTable) return;\n",
              "\n",
              "        const docLinkHtml = 'Like what you see? Visit the ' +\n",
              "          '<a target=\"_blank\" href=https://colab.research.google.com/notebooks/data_table.ipynb>data table notebook</a>'\n",
              "          + ' to learn more about interactive tables.';\n",
              "        element.innerHTML = '';\n",
              "        dataTable['output_type'] = 'display_data';\n",
              "        await google.colab.output.renderOutput(dataTable, element);\n",
              "        const docLink = document.createElement('div');\n",
              "        docLink.innerHTML = docLinkHtml;\n",
              "        element.appendChild(docLink);\n",
              "      }\n",
              "    </script>\n",
              "  </div>\n",
              "\n",
              "\n",
              "<div id=\"df-f5e41607-cddf-4a28-80f6-58d7218235f2\">\n",
              "  <button class=\"colab-df-quickchart\" onclick=\"quickchart('df-f5e41607-cddf-4a28-80f6-58d7218235f2')\"\n",
              "            title=\"Suggest charts\"\n",
              "            style=\"display:none;\">\n",
              "\n",
              "<svg xmlns=\"http://www.w3.org/2000/svg\" height=\"24px\"viewBox=\"0 0 24 24\"\n",
              "     width=\"24px\">\n",
              "    <g>\n",
              "        <path d=\"M19 3H5c-1.1 0-2 .9-2 2v14c0 1.1.9 2 2 2h14c1.1 0 2-.9 2-2V5c0-1.1-.9-2-2-2zM9 17H7v-7h2v7zm4 0h-2V7h2v10zm4 0h-2v-4h2v4z\"/>\n",
              "    </g>\n",
              "</svg>\n",
              "  </button>\n",
              "\n",
              "<style>\n",
              "  .colab-df-quickchart {\n",
              "      --bg-color: #E8F0FE;\n",
              "      --fill-color: #1967D2;\n",
              "      --hover-bg-color: #E2EBFA;\n",
              "      --hover-fill-color: #174EA6;\n",
              "      --disabled-fill-color: #AAA;\n",
              "      --disabled-bg-color: #DDD;\n",
              "  }\n",
              "\n",
              "  [theme=dark] .colab-df-quickchart {\n",
              "      --bg-color: #3B4455;\n",
              "      --fill-color: #D2E3FC;\n",
              "      --hover-bg-color: #434B5C;\n",
              "      --hover-fill-color: #FFFFFF;\n",
              "      --disabled-bg-color: #3B4455;\n",
              "      --disabled-fill-color: #666;\n",
              "  }\n",
              "\n",
              "  .colab-df-quickchart {\n",
              "    background-color: var(--bg-color);\n",
              "    border: none;\n",
              "    border-radius: 50%;\n",
              "    cursor: pointer;\n",
              "    display: none;\n",
              "    fill: var(--fill-color);\n",
              "    height: 32px;\n",
              "    padding: 0;\n",
              "    width: 32px;\n",
              "  }\n",
              "\n",
              "  .colab-df-quickchart:hover {\n",
              "    background-color: var(--hover-bg-color);\n",
              "    box-shadow: 0 1px 2px rgba(60, 64, 67, 0.3), 0 1px 3px 1px rgba(60, 64, 67, 0.15);\n",
              "    fill: var(--button-hover-fill-color);\n",
              "  }\n",
              "\n",
              "  .colab-df-quickchart-complete:disabled,\n",
              "  .colab-df-quickchart-complete:disabled:hover {\n",
              "    background-color: var(--disabled-bg-color);\n",
              "    fill: var(--disabled-fill-color);\n",
              "    box-shadow: none;\n",
              "  }\n",
              "\n",
              "  .colab-df-spinner {\n",
              "    border: 2px solid var(--fill-color);\n",
              "    border-color: transparent;\n",
              "    border-bottom-color: var(--fill-color);\n",
              "    animation:\n",
              "      spin 1s steps(1) infinite;\n",
              "  }\n",
              "\n",
              "  @keyframes spin {\n",
              "    0% {\n",
              "      border-color: transparent;\n",
              "      border-bottom-color: var(--fill-color);\n",
              "      border-left-color: var(--fill-color);\n",
              "    }\n",
              "    20% {\n",
              "      border-color: transparent;\n",
              "      border-left-color: var(--fill-color);\n",
              "      border-top-color: var(--fill-color);\n",
              "    }\n",
              "    30% {\n",
              "      border-color: transparent;\n",
              "      border-left-color: var(--fill-color);\n",
              "      border-top-color: var(--fill-color);\n",
              "      border-right-color: var(--fill-color);\n",
              "    }\n",
              "    40% {\n",
              "      border-color: transparent;\n",
              "      border-right-color: var(--fill-color);\n",
              "      border-top-color: var(--fill-color);\n",
              "    }\n",
              "    60% {\n",
              "      border-color: transparent;\n",
              "      border-right-color: var(--fill-color);\n",
              "    }\n",
              "    80% {\n",
              "      border-color: transparent;\n",
              "      border-right-color: var(--fill-color);\n",
              "      border-bottom-color: var(--fill-color);\n",
              "    }\n",
              "    90% {\n",
              "      border-color: transparent;\n",
              "      border-bottom-color: var(--fill-color);\n",
              "    }\n",
              "  }\n",
              "</style>\n",
              "\n",
              "  <script>\n",
              "    async function quickchart(key) {\n",
              "      const quickchartButtonEl =\n",
              "        document.querySelector('#' + key + ' button');\n",
              "      quickchartButtonEl.disabled = true;  // To prevent multiple clicks.\n",
              "      quickchartButtonEl.classList.add('colab-df-spinner');\n",
              "      try {\n",
              "        const charts = await google.colab.kernel.invokeFunction(\n",
              "            'suggestCharts', [key], {});\n",
              "      } catch (error) {\n",
              "        console.error('Error during call to suggestCharts:', error);\n",
              "      }\n",
              "      quickchartButtonEl.classList.remove('colab-df-spinner');\n",
              "      quickchartButtonEl.classList.add('colab-df-quickchart-complete');\n",
              "    }\n",
              "    (() => {\n",
              "      let quickchartButtonEl =\n",
              "        document.querySelector('#df-f5e41607-cddf-4a28-80f6-58d7218235f2 button');\n",
              "      quickchartButtonEl.style.display =\n",
              "        google.colab.kernel.accessAllowed ? 'block' : 'none';\n",
              "    })();\n",
              "  </script>\n",
              "</div>\n",
              "\n",
              "    </div>\n",
              "  </div>\n"
            ],
            "application/vnd.google.colaboratory.intrinsic+json": {
              "type": "dataframe",
              "variable_name": "df",
              "summary": "{\n  \"name\": \"df\",\n  \"rows\": 39885,\n  \"fields\": [\n    {\n      \"column\": \"text\",\n      \"properties\": {\n        \"dtype\": \"string\",\n        \"num_unique_values\": 39885,\n        \"samples\": [\n          \"https://example.com/resource/\\u0628\\u0652\\u0644\\u0650\\u063a\\u062a \\u064e\\u062a\\u0633\\u064e\\u064a\\u064a\\u0644\\u0651\\u0627\\u064b\\u062a\\u064d \\u0627\\u0652\\u0644\\u0623\\u0652\\u062c\\u064e\\u0627\\u0646\\u0651\\u0628\\u064e \\u064e\\u0641\\u064a \\u0633\\u064d\\u0648\\u0652\\u0642\\u0650 \\u064e\\u062f\\u0628\\u064a \\u0627\\u0644\\u0645\\u064d\\u0627\\u0650\\u0644\\u064d\\u064a\\u064d \\u0623\\u0645\\u064d\\u0633\\u064e 59\\u064f \\u0645\\u0644\\u064d\\u064a\\u0648\\u0646\\u0627\\u0650\\u064b\\u0652\\u060c \\u0651\\u0641\\u0651\\u0642\\u062f \\u0650\\u0628\\u0652\\u0644\\u064b\\u063a\\u062a \\u064b\\u0642\\u0651\\u064a\\u064f\\u0645\\u0651\\u0629\\u0651 \\u0645\\u064f\\u0634\\u064b\\u062a\\u064f\\u0631\\u0650\\u064a\\u0627\\u062a \\u064e\\u0627\\u0644\\u0652\\u0623\\u062c\\u0627\\u064d\\u0646\\u064d\\u0628\\u064b\\u060c\\u064b \\u063a\\u0652\\u064a\\u0651\\u0631\\u064d \\u0627\\u0652\\u0644\\u0639\\u0631\\u064c\\u0628\\u060c\\u064f \\u0645\\u0650\\u0646\\u0651 \\u064c\\u0627\\u0644\\u0623\\u0633\\u064c\\u0647\\u064d\\u0645 \\u064c\\u062e\\u064f\\u0644\\u0627\\u064c\\u0644\\u064f \\u0647\\u0650\\u0630\\u064e\\u0627 \\u0627\\u064c\\u0644\\u064a\\u0648\\u0650\\u0645 \\u064d\\u0646\\u064b\\u062d\\u064c\\u0648 9\\u064b4\\u064d \\u064e.\\u065113\\u06526 \\u0645\\u0644\\u0652\\u064a\\u064c\\u0648\\u064b\\u0646\\u064c \\u062f\\u0631\\u0647\\u0645 \\u0641\\u064a\\u0651 \\u0652\\u062d\\u0652\\u064a\\u064f\\u0646\\u0651 \\u0628\\u0644\\u063a\\u064e\\u062a\\u064d \\u064b\\u0642\\u064c\\u064a\\u0645\\u0629\\u064c \\u064b\\u0645\\u064b\\u0628\\u064a\\u0639\\u0627\\u062a\\u0647\\u0645\\u064e \\u0646\\u064b\\u062d\\u0648\\u0652 2\\u06500 .22\\u064b6 \\u0650\\u0645\\u064b\\u0644\\u064a\\u0651\\u0648\\u0646 \\u0652\\u062f\\u0631\\u0650\\u0647\\u0645\\u064f .\\u064f \\u0643\\u0645\\u0627 \\u0650\\u0628\\u0644\\u064e\\u063a\\u064b\\u062a \\u0642\\u0652\\u064a\\u0645\\u0629\\u0650 \\u0645\\u064d\\u0634\\u064b\\u062a\\u064c\\u0631\\u0652\\u064a\\u0627\\u062a \\u064b\\u0627\\u0644\\u0645\\u0633\\u064d\\u062a\\u062b\\u064f\\u0645\\u064b\\u0631\\u064b\\u064a\\u064b\\u0646\\u064b \\u0627\\u0644\\u0652\\u0639\\u0650\\u0631\\u0650\\u0628\\u060c\\u064b \\u064f\\u063a\\u064a\\u0631 \\u0651\\u0627\\u0644\\u0652\\u062e\\u0644\\u064d\\u064a\\u064f\\u062c\\u064d\\u064a\\u064a\\u0651\\u0646\\u0650\\u060c\\u0651 \\u062e\\u0644\\u0627\\u0644 \\u0647\\u0650\\u0630\\u0627 \\u0650\\u0627\\u0644\\u0652\\u064a\\u064b\\u0648\\u0645 \\u0646\\u064f\\u062d\\u064d\\u0648\\u064f 07\\u064e .7\\u064c2\\u0650 \\u0645\\u0644\\u064e\\u064a\\u064c\\u0648\\u0646\\u0652 \\u0652\\u062f\\u0631\\u0647\\u064e\\u0645 \\u064d\\u0648\\u0642\\u064b\\u064a\\u0645\\u064c\\u0629\\u064c \\u0645\\u0652\\u0628\\u064e\\u064a\\u064f\\u0639\\u064e\\u0627\\u064b\\u062a\\u0651\\u0647\\u0645 \\u0646\\u062d\\u0648\\u064c \\u065281\\u064b \\u0650.6\\u06504\\u064e \\u064e\\u0645\\u0644\\u064f\\u064a\\u064c\\u0648\\u0646\\u0651 \\u062f\\u064b\\u0631\\u0647\\u064e\\u0645\\u064e .\\u0623\\u064b\\u0645\\u0651\\u0627\\u0652 \\u0652\\u0628\\u0651\\u0627\\u064c\\u0644\\u064e\\u0646\\u064f\\u0633\\u064d\\u0628\\u0629\\u064e \\u064c\\u0644\\u0644\\u0651\\u0645\\u064d\\u0633\\u064c\\u062a\\u064b\\u062b\\u0652\\u0645\\u0631\\u064b\\u064a\\u0646 \\u0652\\u0627\\u0644\\u062e\\u064c\\u0644\\u064a\\u064e\\u062c\\u064a\\u0650\\u064a\\u0646\\u064c \\u064f\\u0641\\u064b\\u0642\\u062f \\u0628\\u0644\\u064b\\u063a\\u0652\\u062a \\u0642\\u064a\\u0645\\u0629 \\u0645\\u0634\\u0652\\u062a\\u064e\\u0631\\u064c\\u064a\\u064f\\u0627\\u064e\\u062a\\u0647\\u0645\\u064b \\u064b9\\u064b1\\u064f \\u0651.4\\u064d3\\u064d \\u0645\\u0650\\u0644\\u064a\\u0648\\u064c\\u0646 \\u064c\\u062f\\u0631\\u0647\\u0645 \\u0641\\u064a\\u064f \\u062d\\u064a\\u0651\\u0646\\u064b \\u064e\\u0628\\u0644\\u064b\\u063a\\u064c\\u062a \\u064b\\u0642\\u064c\\u064a\\u0645\\u064d\\u0629\\u0651 \\u0645\\u0652\\u0628\\u0651\\u064a\\u0652\\u0639\\u0652\\u0627\\u064c\\u062a\\u064c\\u0647\\u0645\\u0652 \\u064f\\u0646\\u064e\\u062d\\u0650\\u0648 4\\u064f8 \\u064f.21\\u064c \\u0645\\u0644\\u064a\\u0648\\u064f\\u0646 \\u064e\\u062f\\u064e\\u0631\\u064d\\u0647\\u064e\\u0645 \\u064e\\u062e\\u0644\\u064c\\u0627\\u0644 \\u0650\\u0646\\u064c\\u0641\\u0633 \\u064f\\u0627\\u0652\\u0644\\u0651\\u0641\\u062a\\u0631\\u0652\\u0629\\u064c .\",\n          \"https://example.com/resource/\\u062f\\u0628\\u0650\\u064a\\u0650 - \\u0625\\u0650\\u0628\\u064d\\u0631\\u0650\\u0627\\u0647\\u064f\\u064a\\u064c\\u0645\\u0652 \\u0651\\u0627\\u0644\\u064f\\u064a\\u064b\\u0648\\u0633\\u0651\\u0641:\\u064e\\u0628\\u064d\\u062d\\u0636\\u0648\\u0652\\u0631\\u0650 \\u0645\\u064e\\u062d\\u064d\\u0645\\u062f\\u064e \\u0627\\u064d\\u0644\\u0645\\u0652\\u0631\\u060c \\u0631\\u0626\\u064a\\u0633\\u0651 \\u0627\\u0644\\u0645\\u064c\\u062c\\u064c\\u0644\\u064b\\u0633 \\u0627\\u064c\\u0644\\u0648\\u064d\\u0637\\u064b\\u0646\\u064f\\u064a\\u064d \\u0627\\u0644\\u064e\\u0627\\u062a\\u064b\\u062d\\u0652\\u0627\\u062f\\u064a\\u0650\\u060c\\u064e \\u0648\\u0650\\u0627\\u0651\\u0644\\u064c\\u0642\\u0646\\u0652\\u0635\\u0644 \\u0627\\u0644\\u0639\\u0627\\u0652\\u0645\\u0650 \\u064b\\u0627\\u064d\\u0644\\u0651\\u0643\\u0651\\u0648\\u064a\\u0651\\u062a\\u064e\\u064a\\u064c\\u060c \\u0630\\u064d\\u064a\\u064c\\u0627\\u0628\\u0651 \\u0651\\u0641\\u0631\\u062d\\u0627\\u064e\\u0646 \\u064c\\u0627\\u0652\\u0644\\u0631\\u0634\\u064a\\u0652\\u062f\\u064a\\u0651\\u060c \\u064b\\u0648\\u0633\\u064e\\u0644\\u0651\\u0637\\u0627\\u064b\\u0646\\u064d \\u0627\\u064c\\u0644\\u0652\\u0633\\u0648\\u064f\\u064a\\u062f\\u064d\\u064a \\u064d\\u0631\\u0652\\u0626\\u064a\\u064b\\u0633\\u0652 \\u0645\\u062c\\u064b\\u0644\\u064d\\u0633\\u0650 \\u0625\\u062f\\u0631\\u064d\\u0627\\u0629 \\u0646\\u064b\\u062f\\u0648\\u064e\\u0629\\u064b \\u0627\\u064b\\u0644\\u064c\\u062b\\u0642\\u0627\\u064d\\u0641\\u0629\\u064e \\u064e\\u0648\\u0627\\u064e\\u0644\\u0639\\u0644\\u0648\\u0645\\u060c \\u0648\\u0623\\u0639\\u0652\\u0636\\u0652\\u0627\\u0621 \\u0650\\u0645\\u064d\\u062c\\u064d\\u0644\\u064b\\u0633\\u0650 \\u0627\\u0644\\u0625\\u0651\\u062f\\u0652\\u0627\\u0631\\u064e\\u0629\\u064d\\u060c \\u0625\\u0652\\u0636\\u0627\\u0650\\u0641\\u0629\\u064d \\u0625\\u0644\\u0650\\u0649\\u064f \\u0637\\u0650\\u064a\\u064f\\u0641\\u064b \\u0648\\u0627\\u0633\\u064f\\u0639 \\u0650\\u0648\\u064d\\u0644\\u0627\\u0641\\u0652\\u062a \\u0645\\u0646\\u0651 \\u064d\\u0627\\u0644\\u064e\\u0643\\u0651\\u062a\\u0651\\u064c\\u0627\\u0651\\u0628\\u0650 \\u0648\\u064d\\u0627\\u064b\\u0644\\u0645\\u062b\\u064e\\u0642\\u0641\\u064b\\u064a\\u0646 \\u0648\\u0650\\u0627\\u0644\\u0625\\u0639\\u064e\\u0644\\u0627\\u0645\\u064a\\u064a\\u064d\\u0646 \\u0645\\u064c\\u0646\\u064d \\u0627\\u064e\\u0644\\u0650\\u0628\\u064d\\u0644\\u062f\\u064a\\u0646 . \\u0634\\u0647\\u062f\\u062a\\u064f \\u064e\\u0627\\u064d\\u0644\\u0652\\u0646\\u0650\\u062f\\u0648\\u064c\\u0629\\u064f\\u060c\\u064d \\u0645\\u064c\\u0633\\u0627\\u0621 \\u0650\\u0623\\u0645\\u0633\\u064b \\u0651\\u0627\\u064b\\u0644\\u0652\\u0623\\u064e\\u0648\\u064e\\u0644\\u060c\\u064b \\u0650\\u0627\\u0652\\u062e\\u062a\\u064e\\u062a\\u0652\\u0627\\u0645\\u0651 \\u0641\\u0639\\u0627\\u064e\\u0644\\u064a\\u0627\\u062a\\u064b \\u064e\\u0645\\u0647\\u0650\\u0631\\u064b\\u062c\\u0650\\u0627\\u0646\\u064f \\u064d\\\"\\u064c\\u0643\\u0648\\u0650\\u064a\\u062a\\u064e \\u0627\\u0644\\u0633\\u0644\\u0627\\u064e\\u0645 - \\u0625\\u064b\\u0645\\u0652\\u0627\\u0631\\u064f\\u0627\\u062a \\u064c\\u0627\\u064f\\u0644\\u0650\\u0648\\u064d\\u0641\\u0627\\u0621\\u0650\\\"\\u060c\\u064e \\u0628\\u064c\\u0631\\u0639\\u064d\\u0627\\u064a\\u064d\\u0629 \\u0648\\u064f\\u062a\\u0646\\u0638\\u064a\\u064f\\u0645 \\u0647\\u064a\\u0626\\u0629 \\u062f\\u064b\\u0628\\u064a\\u0652 \\u0644\\u0644\\u064b\\u062b\\u064d\\u0642\\u0627\\u0641\\u0651\\u0629 \\u0648\\u0627\\u0644\\u0652\\u0641\\u0646\\u0648\\u0646 \\u0628\\u0627\\u064c\\u0644\\u062a\\u0639\\u0627\\u0648\\u064d\\u0646 \\u064f\\u0645\\u0650\\u0639\\u064b \\u064c\\u0627\\u0644\\u0642\\u0652\\u0646\\u0635\\u0652\\u0644\\u064b\\u064a\\u064c\\u0629 \\u064c\\u0627\\u0651\\u0644\\u064b\\u0639\\u0627\\u064c\\u0645\\u0629\\u064d \\u0644\\u0650\\u062f\\u0652\\u0648\\u064b\\u0644\\u064b\\u0629\\u064c \\u0652\\u0627\\u0651\\u0644\\u0643\\u0648\\u064a\\u062a \\u064c\\u0641\\u0650\\u064a\\u064f \\u064e\\u0625\\u064d\\u0645\\u0651\\u0627\\u064e\\u0631\\u0629\\u064f \\u062f\\u064c\\u0628\\u064f\\u064a\\u060c\\u0652 \\u0648\\u0651\\u062a\\u0636\\u0645\\u064c\\u0646\\u0651 \\u064d\\u0641\\u0639\\u064d\\u0627\\u064f\\u0644\\u064d\\u064a\\u064e\\u0627\\u062a \\u064f\\u062b\\u0642\\u0651\\u0627\\u064f\\u0641\\u064a\\u0629\\u064e \\u0641\\u0646\\u064a\\u0652\\u0629\\u0650\\u060c \\u0650\\u0648\\u063a\\u064a\\u0631\\u0647\\u0650\\u0627\\u0651 \\u064d.\\u0648\\u0651\\u062a\\u0652\\u0636\\u064c\\u0645\\u0646\\u0651\\u062a\\u064b \\u064e\\u0627\\u0644\\u0641\\u0651\\u0639\\u064e\\u0627\\u0644\\u064d\\u064a\\u0627\\u064c\\u062a\\u0650 \\u0650\\u0639\\u064e\\u0631\\u0636 \\u0641\\u064a\\u0644\\u064f\\u0645 \\u0652\\u0648\\u064b\\u062b\\u0627\\u064e\\u0626\\u064f\\u0642\\u064f\\u064a\\u064f \\u0639\\u064e\\u0646\\u064f \\u064f\\u0627\\u0644\\u062a\\u064d\\u0639\\u064c\\u0627\\u0648\\u064d\\u0646\\u0650 \\u064d\\u0627\\u064c\\u0644\\u0623\\u062e\\u0648\\u064a \\u064f\\u0628\\u0651\\u064a\\u0652\\u0646\\u064b \\u0652\\u0627\\u0644\\u064e\\u0628\\u0644\\u064f\\u062f\\u0650\\u064a\\u064d\\u0646\\u064b \\u0651\\u0627\\u0650\\u0644\\u0634\\u0642\\u0651\\u064a\\u064c\\u0642\\u064e\\u064a\\u0646\\u0650\\u060c \\u064d\\u0642\\u0631\\u0623\\u0651 \\u064c\\u0628\\u0650\\u0639\\u064f\\u062f \\u064b\\u0630\\u064f\\u0644\\u0651\\u0643\\u064f \\u0651\\u0639\\u0628\\u064f\\u062f\\u0627\\u0650\\u0644\\u0644\\u0647 \\u064f\\u0627\\u0644\\u064c\\u0645\\u0637\\u0651\\u064a\\u0631\\u064d\\u064a\\u0650 \\u0643\\u064e\\u0644\\u0645\\u0652\\u0629\\u064c \\u0647\\u064a\\u0650\\u0626\\u0629 \\u062f\\u0628\\u064b\\u064a\\u064e \\u0644\\u0644\\u064b\\u062b\\u0642\\u0627\\u0641\\u0629\\u060c\\u064f \\u062a\\u062d\\u064f\\u062f\\u062b\\u064e \\u064c\\u0641\\u064a\\u0652\\u0647\\u0652\\u0627\\u064c \\u0639\\u0652\\u0646 \\u064f\\u0627\\u0652\\u0644\\u0639\\u0650\\u0644\\u0627\\u0642\\u0627\\u062a \\u0651\\u0627\\u0651\\u0644\\u064d\\u062b\\u0642\\u0650\\u0627\\u0641\\u064a\\u0651\\u0629 \\u0628\\u064b\\u064a\\u0646 \\u064e\\u0627\\u0644\\u0628\\u064b\\u0644\\u0651\\u062f\\u0652\\u064a\\u064d\\u0646\\u064c\\u060c \\u0648\\u064e\\u0643\\u064e\\u064a\\u0651\\u0641 \\u0623\\u0646 \\u0627\\u064e\\u0644\\u064d\\u0643\\u0648\\u064e\\u064a\\u0650\\u062a \\u062f\\u0639\\u0645\\u0651\\u062a\\u064d \\u0650\\u0627\\u0644\\u062d\\u0631\\u0652\\u0643\\u064b\\u0629\\u064b \\u0627\\u064d\\u0644\\u062b\\u0652\\u0642\\u064c\\u0627\\u0641\\u064a\\u0652\\u0629\\u0652 \\u064d\\u0648\\u0627\\u0650\\u0644\\u0651\\u062a\\u0639\\u0651\\u0644\\u064a\\u064f\\u0645\\u064a\\u0629 \\u0641\\u064a \\u0627\\u0644\\u0625\\u0645\\u0627\\u064e\\u0631\\u0627\\u064c\\u062a\\u060c\\u064d \\u064d\\u0648\\u0651\\u0623\\u064f\\u0646\\u064e\\u0634\\u0623\\u062a\\u0651 \\u0641\\u064a\\u064e\\u0647\\u0651\\u0627 \\u064b\\u0627\\u064c\\u0644\\u064f\\u0645\\u064f\\u062f\\u0627\\u064f\\u0631\\u0651\\u0633\\u064b\\u060c\\u0652 \\u064c\\u0625\\u0644\\u064f\\u0649 \\u0651\\u062c\\u0627\\u064b\\u0646\\u0650\\u0628 \\u064c\\u063a\\u0652\\u064a\\u064e\\u0631\\u0647\\u0650\\u0627\\u064c \\u0645\\u0646\\u064c \\u0650\\u0627\\u0644\\u0645\\u064c\\u0631\\u064d\\u0627\\u0641\\u064e\\u0642 \\u0627\\u0651\\u0644\\u0636\\u0631\\u0652\\u0648\\u0631\\u064d\\u064a\\u0650\\u0629\\u064e .\\u064c\\u0628\\u064c\\u0639\\u064b\\u062f\\u0652 \\u0630\\u064f\\u0644\\u0643 \\u0628\\u062f\\u0623\\u0650\\u062a \\u0641\\u064f\\u0639\\u0650\\u0627\\u064c\\u0644\\u064a\\u0627\\u0651\\u062a \\u0627\\u0644\\u064d\\u0646\\u0652\\u062f\\u0648\\u064c\\u0629 \\u0651\\u0627\\u0651\\u0644\\u064b\\u062a\\u064e\\u064a \\u064f\\u0623\\u062f\\u064e\\u0627\\u064c\\u0631\\u0647\\u0627 \\u0651\\u0639\\u0644\\u064e\\u064a\\u064c \\u064c\\u0639\\u064f\\u0628\\u064f\\u064a\\u0651\\u062f \\u0627\\u0644\\u064f\\u0647\\u0650\\u0627\\u0650\\u0645\\u0644\\u064d\\u064a\\u0651\\u060c\\u0651 \\u0652\\u0628\\u0639\\u0651\\u0646\\u064e\\u0648\\u064c\\u0627\\u0651\\u0646 \\\"\\u0650\\u0645\\u0633\\u064a\\u0631\\u064b\\u0629 \\u0627\\u064e\\u0644\\u0652\\u0639\\u0652\\u0644\\u0627\\u064e\\u0642\\u0627\\u062a\\u0651 \\u0627\\u0650\\u0644\\u0625\\u0645\\u0627\\u0652\\u0631\\u0627\\u062a\\u064a\\u0629\\u0651 \\u064b- \\u064c\\u0627\\u0651\\u0644\\u0652\\u0643\\u0648\\u064a\\u062a\\u064e\\u064a\\u064b\\u0629\\\" \\u0648\\u064b\\u0634\\u0627\\u0631\\u0643 \\u064c\\u0641\\u064c\\u064a\\u0647\\u064e\\u0627\\u0651 \\u0643\\u0644\\u064b \\u064e\\u0645\\u0646\\u0651 \\u0650\\u062f\\u0652 . \\u0639\\u0652\\u0628\\u062f\\u0650\\u0627\\u0652\\u0644\\u0644\\u064f\\u0647\\u064c \\u0627\\u0644\\u063a\\u064c\\u0646\\u064a\\u0645 \\u064e(\\u0651\\u0627\\u0644\\u0643\\u0648\\u064f\\u064a\\u064f\\u062a)\\u064f \\u064e\\u0648\\u0628\\u0644\\u0627\\u0644\\u064f \\u0651\\u0627\\u0652\\u0644\\u064f\\u0628\\u0652\\u062f\\u064b\\u0648\\u0631\\u064c \\u0646\\u064b\\u0627\\u064b\\u0626\\u0628 \\u0631\\u064d\\u0626\\u064a\\u064c\\u0633\\u064f \\u0645\\u062c\\u064e\\u0644\\u0633 \\u0625\\u062f\\u0650\\u0627\\u0652\\u0631\\u0652\\u0629\\u064d \\u064d\\u0646\\u064d\\u062f\\u064b\\u0648\\u0629\\u064f \\u0627\\u0644\\u062b\\u0642\\u0627\\u0641\\u0629\\u064e \\u0650\\u0627\\u0644\\u064d\\u0639\\u0652\\u0644\\u064d\\u0648\\u0645\\u064c\\u060c \\u062d\\u0652\\u064a\\u0650\\u062b \\u064d\\u0633\\u0650\\u0644\\u0637\\u064f \\u064b\\u0627\\u0644\\u0647\\u064e\\u0627\\u064c\\u0645\\u064c\\u0644\\u064a \\u0650\\u0627\\u0644\\u0636\\u0648\\u0621\\u064d \\u0639\\u0650\\u0644\\u064b\\u0649\\u0650 \\u0650\\u0627\\u0651\\u0644\\u0633\\u0652\\u064a\\u0631\\u0651\\u0629\\u064b \\u064f\\u0627\\u064b\\u0644\\u064b\\u0645\\u064e\\u0639\\u064b\\u0631\\u0641\\u064a\\u0629\\u0650 \\u064b\\u0644\\u064c\\u0643\\u064b\\u0644\\u064e\\u0627\\u064d \\u0627\\u0650\\u0644\\u0650\\u0643\\u0651\\u0627\\u064e\\u062a\\u0628\\u064a\\u0646 \\u062f .\\u064b \\u064c\\u0627\\u0644\\u0651\\u063a\\u064e\\u0646\\u064d\\u064a\\u064b\\u0645 \\u0650\\u0648\\u0651\\u0627\\u064f\\u0644\\u0628\\u0652\\u062f\\u0648\\u064e\\u0631 .\\u0651 \\u064d\\u0648\\u064b\\u0645\\u0645\\u0627\\u0652 \\u0642\\u0627\\u0644\\u0647 \\u0651\\u0627\\u064e\\u0644\\u0647\\u0627\\u0651\\u0645\\u064b\\u0644\\u064a\\u0651 \\u0641\\u064a\\u064e \\u0645\\u064c\\u0642\\u0651\\u062f\\u0652\\u0645\\u062a\\u0652\\u0647:\\u0651 \\u064b\\u0627\\u0644\\u0643\\u0648\\u064a\\u064b\\u062a \\u064f\\u062a\\u064d\\u0631\\u0643\\u062a \\u0628\\u064c\\u0635\\u0645\\u064d\\u0627\\u064e\\u062a\\u0651\\u0647\\u064c\\u0627\\u064d \\u0639\\u0645\\u064a\\u0651\\u0642\\u064f\\u0627\\u064b\\u064b \\u0639\\u064d\\u0644\\u064c\\u064a\\u0646\\u0627 \\u064c\\u0641\\u064a \\u062f\\u0648\\u0644\\u0651\\u0629 \\u064b\\u0627\\u064d\\u0644\\u064c\\u0625\\u064e\\u0645\\u0627\\u064b\\u0631\\u0627\\u062a\\u060c\\u064e \\u0652\\u0648\\u064c\\u0623\\u0643\\u064e\\u0628\\u0651\\u0631 \\u064c\\u062f\\u0644\\u064a\\u0644\\u064f \\u0650\\u0639\\u0644\\u064d\\u0649\\u064e \\u0650\\u0630\\u0644\\u0643\\u0650 \\u064f\\u0623\\u0651\\u0646 \\u0647\\u0646\\u0627\\u0643\\u064f \\u0652\\u062c\\u064a\\u064e\\u0644\\u064d\\u0627\\u0652\\u064b \\u0625\\u0645\\u0627\\u064f\\u0631\\u064f\\u0627\\u062a\\u064a\\u064d\\u0627\\u064b\\u064f \\u0652\\u0643\\u0627\\u0645\\u064b\\u0644\\u064d\\u0627\\u064d\\u064b\\u064f \\u062a\\u064e\\u0641\\u062a\\u062d\\u0651\\u062a\\u0651 \\u064b\\u0645\\u0650\\u062f\\u0652\\u0627\\u0631\\u0652\\u0643\\u0647\\u064b \\u0639\\u0644\\u0652\\u0649 \\u0651\\u0645\\u064b\\u0627\\u064e \\u0628\\u062b\\u064f\\u062a\\u064c\\u0647\\u064d \\u0627\\u064c\\u0644\\u0650\\u0643\\u064c\\u0648\\u064a\\u062a \\u0652\\u0645\\u0651\\u0646\\u064b \\u064b\\u062a\\u0639\\u0644\\u064a\\u064e\\u0645 \\u064d\\u0648\\u064f\\u062b\\u064c\\u0642\\u0627\\u0641\\u0651\\u0629\\u064d \\u0641\\u064a\\u064d \\u064c\\u0627\\u0644\\u0625\\u064c\\u0645\\u0651\\u0627\\u064b\\u0631\\u0627\\u064c\\u062a\\u064c\\u060c\\u064f \\u0650\\u062c\\u064a\\u0644 \\u0650\\u0643\\u064b\\u0627\\u064f\\u0645\\u0644\\u060c\\u0651 \\u064c\\u062a\\u0652\\u0639\\u0644\\u0645 \\u0648\\u0641\\u0652\\u0642 \\u0651\\u0645\\u0651\\u0646\\u064d\\u0627\\u0650\\u0647\\u064c\\u062c\\u064f \\u0627\\u0644\\u0643\\u0652\\u0648\\u064a\\u062a \\u0627\\u064c\\u0644\\u062a\\u0639\\u0644\\u064a\\u064c\\u0645\\u064c\\u064a\\u064d\\u0629 \\u064c.\\u064e\\u0648\\u0623\\u0634\\u0627\\u0651\\u062f\\u064d \\u064e\\u062f \\u064e.\\u064d \\u0627\\u064e\\u0644\\u063a\\u0646\\u064b\\u064a\\u0645 \\u0650\\u0628\\u0627\\u064c\\u0644\\u062d\\u064a\\u0627\\u0629\\u0650 \\u0651\\u0627\\u0644\\u062a\\u0652\\u0639\\u064b\\u0644\\u064a\\u064f\\u0645\\u064a\\u0629\\u064f \\u0627\\u0644\\u062b\\u0642\\u064b\\u0627\\u064f\\u0641\\u0651\\u064a\\u0629\\u0650 \\u0652\\u0641\\u064e\\u064a\\u064e \\u064f\\u0627\\u0644\\u064c\\u0625\\u0645\\u064b\\u0627\\u0631\\u064c\\u0627\\u062a\\u060c\\u064d \\u0651\\u0648\\u064c\\u0631\\u0623\\u0649\\u064f \\u064e\\u0623\\u064e\\u0646\\u0651\\u0647\\u0627\\u064e \\u062c\\u062f \\u0652\\u0645\\u062a\\u0637\\u0648\\u0631\\u064d\\u0629\\u0652\\u060c\\u0650 \\u0648\\u064e\\u0623\\u0650\\u062f\\u064c\\u0644\\u0649\\u0652 \\u0651\\u0628\\u0623\\u064c\\u0645\\u062b\\u0650\\u0644\\u0629 \\u064c\\u0645\\u0647\\u0651\\u0645\\u0629\\u064f \\u0650\\u0639\\u064f\\u0644\\u0651\\u0649 \\u0630\\u0650\\u0644\\u064e\\u0643\\u064c\\u060c\\u064c \\u0648\\u064c\\u0645\\u064d\\u0646\\u0647\\u0627 \\u0651\\u0623\\u0646 \\u0627\\u0650\\u0644\\u064e\\u0643\\u062b\\u064b\\u064a\\u0631\\u064a\\u064b\\u0646\\u064e \\u064c\\u0645\\u0646\\u0650 \\u0623\\u0628\\u064c\\u0646\\u064e\\u0627\\u0621\\u064f \\u0650\\u0627\\u0644\\u064b\\u0643\\u0648\\u064e\\u064a\\u0650\\u062a \\u0628\\u0627\\u062a\\u064b\\u0648\\u0627 \\u064a\\u064e\\u062a\\u0652\\u0627\\u0652\\u0628\\u0639\\u0650\\u0648\\u0652\\u0646 \\u0652\\u062a\\u062d\\u0652\\u0635\\u064a\\u0644\\u0647\\u0650\\u0645\\u0651 \\u064d\\u0627\\u0651\\u0644\\u0645\\u0639\\u064d\\u0631\\u064f\\u0641\\u064e\\u064a\\u064d \\u064d\\u0641\\u064c\\u064a \\u062c\\u064f\\u0627\\u064e\\u0645\\u0639\\u064d\\u0627\\u064b\\u062a \\u0627\\u0652\\u0644\\u0625\\u0645\\u0650\\u0627\\u0631\\u0627\\u062a\\u0652\\u060c\\u064e \\u0645\\u0646\\u0650 \\u062f\\u064f\\u0648\\u0646\\u064b \\u064e\\u0623\\u064e\\u0646 \\u064f\\u064a\\u064f\\u0634\\u064f\\u0639\\u064f\\u0631\\u0651\\u0648\\u064d\\u0627 \\u0625\\u0644\\u064d\\u0627\\u0650 \\u0628\\u0651\\u0623\\u0646\\u064b\\u0647\\u064c\\u0645\\u064b \\u0641\\u0650\\u064a \\u0628\\u064b\\u064a\\u0648\\u062a\\u0650\\u0647\\u064e\\u0645\\u0651\\u060c \\u0652\\u0648\\u0647\\u0648\\u064e \\u064f\\u0645\\u062f\\u064c\\u0639\\u064c\\u0627\\u064e\\u0629\\u0651 \\u064d\\u0633\\u064b\\u0639\\u0627\\u0650\\u062f\\u0629 \\u064d\\u0623\\u0633\\u0631\\u064d\\u0647\\u0645\\u0651\\u060c \\u0628\\u0652\\u0644 \\u0650\\u0628\\u0644\\u0651\\u062f\\u0647\\u0645\\u064b \\u064d\\u0628\\u0643\\u0627\\u064d\\u0645\\u064d\\u0644\\u0647 \\u064f.\\u0648\\u0642\\u0627\\u0644: \\u0644\\u0645\\u064f \\u064f\\u0623\\u064c\\u0631\\u062f\\u064c \\u064c\\u0623\\u0646\\u0650 \\u064d\\u0623\\u0633\\u064e\\u0645\\u064e\\u064a\\u0652 \\u0646\\u064e\\u062f\\u0650\\u0648\\u062a\\u0650\\u0646\\u0627 \\u0647\\u064b\\u0630\\u0651\\u0647\\u064f \\u0628\\u0627\\u0644\\u062d\\u0648\\u0651\\u0627\\u0652\\u0631\\u064b\\u064a\\u0629\\u0651\\u060c\\u064c \\u0628\\u0650\\u064a\\u0650\\u0646 \\u0645\\u0652\\u062b\\u064e\\u0642\\u0652\\u0641\\u064d\\u064a\\u0650\\u0646\\u0651 \\u0645\\u0650\\u0646\\u064d \\u0628\\u0644\\u062f\\u064a\\u064e\\u0646\\u0627:\\u064b \\u064b\\u0627\\u0644\\u064e\\u0643\\u0648\\u0650\\u064a\\u062a\\u0652 \\u0652\\u0648\\u0627\\u0652\\u0644\\u0625\\u0645\\u064c\\u0627\\u0631\\u0627\\u064c\\u062a\\u060c\\u064f \\u064b\\u0644\\u0623\\u0646 \\u0627\\u0644\\u062d\\u0648\\u064f\\u0627\\u0652\\u0631\\u060c\\u064f \\u0650\\u064a\\u062a\\u0645 \\u064c\\u0639\\u064f\\u0627\\u0650\\u062f\\u0629\\u064d\\u060c \\u0652\\u0628\\u064a\\u064e\\u0646\\u064c \\u0645\\u0650\\u0646\\u064b \\u0652\\u0647\\u064b\\u0645\\u064d \\u0645\\u062e\\u062a\\u064d\\u0644\\u0641\\u0648\\u0646\\u060c \\u0628\\u064a\\u0646 \\u0650\\u0645\\u064c\\u0646 \\u062a\\u064c\\u0643\\u0650\\u0648\\u0646\\u064c \\u064e\\u0647\\u064f\\u0646\\u0627\\u0643 \\u062a\\u0646\\u0627\\u0642\\u0650\\u0636\\u0627\\u062a \\u064b\\u0641\\u064f\\u064a\\u0651\\u0645\\u0627\\u064b \\u0650\\u0628\\u064a\\u0646\\u0652\\u0647\\u0645\\u060c \\u0625\\u0651\\u0646\\u0646\\u064e\\u0627\\u0650 \\u0650\\u0646\\u062a\\u062d\\u062f\\u064c\\u062b \\u064b\\u0636\\u0652\\u0645\\u0646 \\u0652\\u0625\\u0637\\u0652\\u0627\\u0650\\u0631\\u0651 \\u064c\\u0627\\u064c\\u0644\\u064e\\u0628\\u064e\\u064a\\u064b\\u062a\\u0650 \\u064c\\u0627\\u0644\\u0648\\u0652\\u0627\\u062d\\u0651\\u062f\\u060c \\u064f\\u0636\\u064e\\u0645\\u064c\\u0646\\u0650 \\u0625\\u0637\\u0627\\u0631 \\u0627\\u0644\\u064b\\u0623\\u0633\\u064c\\u0631\\u064f\\u0629 \\u0627\\u0644\\u0652\\u0648\\u0650\\u0627\\u062d\\u062f\\u0629\\u060c\\u0651 \\u0648\\u064f\\u0647\\u0646\\u064b\\u0627\\u0650 \\u0627\\u0650\\u0644\\u0641\\u0631\\u0642\\u064f \\u0628\\u064b\\u064a\\u0646\\u064c \\u064c\\u0637\\u064d\\u0628\\u064a\\u0639\\u0629 \\u0651\\u062d\\u062f\\u064a\\u064f\\u062b\\u0646\\u0651\\u0627\\u060c\\u0652 \\u0648\\u0635\\u0641\\u0629\\u064b \\u0627\\u0644\\u062d\\u0650\\u0648\\u0627\\u0631\\u0652 \\u0650.\\u0651\\u0648\\u062a\\u0627\\u0628\\u0651\\u0639\\u064b \\u062f . \\u0627\\u064f\\u0644\\u063a\\u0646\\u064a\\u064f\\u0645 \\u064f\\u0642\\u0651\\u0627\\u0626\\u0644\\u0627\\u064d\\u064b:\\u064d \\u0650\\u0645\\u0652\\u0631\\u0643\\u0650\\u0632 \\u0627\\u064c\\u0644\\u064b\\u0628\\u062d\\u0648\\u064c\\u062b \\u064e\\u0648\\u0627\\u064d\\u0644\\u062f\\u0631\\u064b\\u0627\\u064f\\u0633\\u0627\\u062a\\u0650 \\u0627\\u064c\\u0644\\u0643\\u0650\\u0648\\u064a\\u0650\\u062a\\u064c\\u064a\\u064b \\u064c\\u062c\\u0651\\u0645\\u064b\\u0639\\u0651 \\u0623\\u064d\\u0643\\u0650\\u062b\\u0651\\u0631 \\u064b\\u0645\\u0646 \\u064e\\u0645\\u0644\\u064b\\u064a\\u0648\\u064e\\u0646\\u064f\\u064a \\u0648\\u064e\\u062b\\u0651\\u064a\\u064d\\u0642\\u0629\\u064c \\u0639\\u0646 \\\"\\u0627\\u0644\\u062c\\u064b\\u0646\\u0648\\u064e\\u0628 \\u0648\\u0651\\u0627\\u064e\\u0644\\u062e\\u0644\\u0650\\u064a\\u064f\\u062c\\\"\\u064e\\u060c\\u0651 \\u0648\\u0645\\u064d\\u0646 \\u0628\\u064c\\u064a\\u064b\\u0646\\u064f\\u0647\\u0627\\u064f \\u0648\\u064e\\u062b\\u0627\\u0626\\u0642\\u0652 \\u064f\\u0645\\u0647\\u0650\\u0645\\u064e\\u0629 \\u0639\\u0646 \\u0645\\u0641\\u064c\\u0627\\u0635\\u0644 \\u064b\\u0627\\u0644\\u064f\\u0628\\u0652\\u0646\\u064a\\u0629\\u064c \\u064d\\u0627\\u0652\\u0644\\u0651\\u062a\\u064f\\u062d\\u064c\\u062a\\u064a\\u064e\\u0629 \\u064e\\u0641\\u064a \\u0627\\u0644\\u0650\\u0625\\u0645\\u064c\\u0627\\u064b\\u0631\\u064b\\u0627\\u0652\\u062a\\u064a\\u064f\\u0629\\u060c\\u064b \\u0648\\u064f\\u0646\\u064b\\u0634\\u064d\\u0623\\u064d\\u0629 \\u0645\\u062f\\u0627\\u0631\\u0633\\u0647\\u064e\\u0627\\u060c \\u0648\\u062d\\u064a\\u0627\\u062a\\u0650\\u0647\\u0627 \\u0627\\u0644\\u062b\\u064e\\u0642\\u0627\\u0641\\u064a\\u0629\\u0650\\u060c \\u064d\\u0648\\u0652\\u0641\\u064a \\u0647\\u0630\\u0650\\u0647 \\u0627\\u0651\\u0644\\u0648\\u062b\\u064b\\u0627\\u0626\\u0651\\u0642 \\u0650\\u0645\\u0639\\u0644\\u0648\\u064d\\u0645\\u0650\\u0627\\u064e\\u062a \\u062c\\u0651\\u062f \\u0645\\u0647\\u0645\\u0629\\u0652 \\u064b\\u0639\\u0651\\u0646 \\u064f\\u0646\\u0634\\u0623\\u0629\\u0651 \\u0627\\u0652\\u0644\\u064b\\u0645\\u062f\\u0650\\u0627\\u064c\\u0631\\u0633\\u060c\\u0652 \\u064c\\u0648\\u064c\\u062d\\u0651\\u062a\\u0649\\u064c \\u0623\\u0633\\u064b\\u0645\\u064e\\u0627\\u0621 \\u0651\\u0627\\u0644\\u0637\\u0644\\u0651\\u0628\\u0629\\u060c \\u0648\\u064b\\u0627\\u064e\\u0644\\u064d\\u0645\\u062f\\u064b\\u0631\\u0633\\u064c\\u064a\\u0646\\u060c\\u0652 \\u064b\\u0648\\u0643\\u0652\\u064a\\u0641\\u064a\\u064f\\u0629\\u064c \\u0628\\u064b\\u062f\\u0650\\u0627\\u064f\\u064a\\u0627\\u0652\\u062a\\u064c \\u0639\\u0652\\u0645\\u0650\\u0644\\u064e\\u064a\\u0652\\u0629\\u064d \\u0627\\u0644\\u062a\\u0639\\u0644\\u064a\\u0645\\u064f \\u064f. . \\u064d\\u0625\\u0644\\u064f\\u062e\\u0652\\u060c \\u064c\\u0648\\u0647\\u0646\\u064d\\u0627\\u0643\\u0651 \\u064b\\u0645\\u0646 \\u0651\\u0646\\u064f\\u0627\\u064f\\u0644\\u0652 \\u064b\\u0634\\u0647\\u0650\\u0627\\u062f\\u0629\\u064c \\u0650\\u0627\\u0644\\u062f\\u0650\\u0643\\u062a\\u064e\\u0648\\u0631\\u0651\\u0627\\u0647 \\u0645\\u064c\\u0646\\u0651 \\u062e\\u064f\\u0644\\u064b\\u0627\\u0651\\u0644\\u064f \\u064f\\u0642\\u0652\\u0631\\u0627\\u0621\\u0652\\u0629 \\u064e\\u0627\\u0644\\u064d\\u0639\\u064b\\u0644\\u064e\\u0627\\u0642\\u0627\\u064c\\u062a \\u0627\\u0652\\u0644\\u0623\\u0650\\u062e\\u0648\\u064d\\u064a\\u064e\\u0629 \\u064d\\u0628\\u064a\\u0646 \\u064e\\u0627\\u0644\\u064f\\u0628\\u064e\\u0644\\u062f\\u064a\\u064c\\u0646 \\u0652.\\u0652\\u0648\\u062c\\u0627\\u0621\\u064e \\u062d\\u064d\\u062f\\u064d\\u064a\\u064d\\u062b\\u064f \\u0627\\u064f\\u0644\\u0651\\u0628\\u0652\\u062f\\u064c\\u0648\\u0631\\u064e \\u064e\\u0628\\u0645\\u0627 \\u064a\\u064f\\u0634\\u0650\\u0628\\u0647 \\u064f\\u0627\\u064f\\u0644\\u0652\\u0634\\u0650\\u0647\\u0627\\u062f\\u064e\\u0629\\u064e\\u060c \\u0645\\u0646 \\u064c\\u0642\\u064e\\u0628\\u0644\\u064e \\u0652\\u0623\\u062d\\u064e\\u062f\\u064f \\u0651\\u0623\\u064c\\u0628\\u064f\\u0646\\u0627\\u0621 \\u064d\\u0627\\u0644\\u064c\\u062c\\u064a\\u064d\\u0644 \\u0627\\u064d\\u0644\\u064e\\u0630\\u064a\\u064d \\u064f\\u0641\\u062a\\u0651\\u062d \\u0639\\u064a\\u0646\\u064a\\u064b\\u0647\\u064b \\u0650\\u0639\\u064b\\u0644\\u064d\\u0649\\u0650 \\u0627\\u0644\\u0645\\u0646\\u0627\\u064f\\u0647\\u064b\\u062c \\u0627\\u0652\\u0644\\u0651\\u062a\\u0639\\u0644\\u064f\\u064a\\u0645\\u064a\\u0629 \\u0627\\u0644\\u0651\\u0643\\u064f\\u0648\\u0650\\u064a\\u062a\\u064a\\u0629\\u064e \\u0627\\u0650\\u0644\\u062a\\u064a\\u064b \\u064e\\u062a\\u0645 \\u062a\\u064b\\u062f\\u0650\\u0631\\u064a\\u064f\\u0633\\u0650\\u0647\\u064e\\u0627\\u064b \\u0641\\u0651\\u064a\\u064d \\u0627\\u064f\\u0644\\u0652\\u0625\\u064d\\u0645\\u064c\\u0627\\u0631\\u064c\\u0627\\u0652\\u062a\\u0652\\u060c \\u0648\\u0651\\u0642\\u064d\\u0627\\u0644: \\u064e\\u0643\\u0644 \\u064f\\u0630\\u064c\\u0644\\u0643 \\u064f\\u0630\\u0643\\u0631\\u0650\\u062a\\u0647 \\u0641\\u0651\\u064a \\u0643\\u062a\\u0627\\u0628\\u064a \\u064b\\\"\\u0627\\u0644\\u062c\\u0630\\u0648\\u0631 \\u0650\\u0627\\u064f\\u0644\\u062a\\u0627\\u0631\\u0652\\u064a\\u064d\\u062e\\u0650\\u064a\\u0651\\u0629\\u064d \\u064e\\u0644\\u064f\\u0644\\u0639\\u064b\\u0644\\u0627\\u0642\\u0627\\u0650\\u062a\\u064f \\u064e\\u0627\\u064f\\u0644\\u062b\\u0652\\u0642\\u0627\\u0650\\u0641\\u064d\\u064a\\u0629 \\u064c\\u0628\\u064a\\u064b\\u0646 \\u0650\\u0627\\u0644\\u0625\\u0645\\u0627\\u0631\\u0627\\u064c\\u062a\\u064c \\u064f\\u0648\\u064e\\u0627\\u064b\\u0644\\u0643\\u0650\\u0648\\u064a\\u064f\\u062a\\\"\\u060c \\u0652\\u0648\\u0643\\u064b\\u0627\\u064b\\u0646 \\u064c\\u0628\\u064f\\u0645\\u064f\\u062b\\u064f\\u0627\\u064e\\u0628\\u064c\\u0629\\u064d \\u064c\\u0631\\u0652\\u0633\\u064b\\u0627\\u0651\\u0644\\u064e\\u0629 \\u0634\\u0652\\u0643\\u0631 \\u0652\\u0644\\u0644\\u0643\\u0648\\u064a\\u062a\\u060c \\u0648\\u064c\\u0623\\u0636\\u0650\\u0627\\u064d\\u0641:\\u064d \\u0623\\u062c\\u064f\\u0644\\u060c\\u064e \\u064c\\u062a\\u062a\\u0644\\u0645\\u0630\\u0646\\u0627\\u064c \\u0639\\u064f\\u0644\\u0651\\u0649 \\u0650\\u0645\\u064d\\u0646\\u064c\\u0627\\u064c\\u0647\\u062c \\u064b\\u0627\\u0644\\u0643\\u064e\\u0648\\u064b\\u064a\\u062a\\u064d\\u060c\\u0650 \\u0648\\u0642\\u0631\\u0623\\u0646\\u0627\\u064d \\u0650\\u0639\\u064e\\u0628\\u0627\\u0631\\u064d\\u0629 \\u064e\\\"\\u0639\\u064f\\u0644\\u0645 \\u0628\\u0651\\u0644\\u0651\\u0627\\u062f\\u064a\\u0650 \\u0651\\u0644\\u0651\\u0648\\u064e\\u0646\\u0647\\u0650 \\u064c\\u0623\\u064c\\u062d\\u0645\\u0650\\u0631\\\" \\u0648\\u0650\\u0627\\u0631\\u062a\\u064c\\u062f\\u064a\\u0646\\u0652\\u0627\\u064e \\u0632\\u064a \\u0627\\u064e\\u0644\\u0652\\u0645\\u062f\\u0651\\u0627\\u0652\\u0631\\u064b\\u0633\\u064f \\u064d\\u0627\\u0644\\u0643\\u064d\\u0648\\u064e\\u064a\\u062a\\u064a\\u0629 \\u0623\\u062b\\u064f\\u0646\\u064f\\u0627\\u064e\\u0621\\u064c \\u0651\\u062a\\u0639\\u064e\\u0644\\u0650\\u064a\\u0645\\u0646\\u0627\\u064c\\u060c \\u064c\\u0648\\u0652\\u062a\\u064d\\u0646\\u0627\\u0650\\u0648\\u0644\\u064b\\u0646\\u0627 \\u0627\\u0644\\u064e\\u0648\\u062c\\u064f\\u0628\\u0652\\u0627\\u062a\\u064d \\u0627\\u0651\\u0644\\u0635\\u0628\\u0627\\u062d\\u0650\\u064a\\u0629\\u0651 \\u0627\\u0651\\u0644\\u0650\\u0643\\u064b\\u0648\\u064a\\u062a\\u064a\\u0629\\u0650 \\u064d\\u0641\\u0650\\u064a \\u0645\\u062f\\u064b\\u0627\\u064b\\u0631\\u064c\\u0633\\u0646\\u0627\\u0652\\u060c\\u064b \\u0648\\u0627\\u0633\\u062a\\u062e\\u064c\\u062f\\u064f\\u0645\\u0651\\u0646\\u0627 \\u064d\\u0627\\u064b\\u0644\\u064c\\u0623\\u0650\\u0642\\u064c\\u0644\\u0627\\u0651\\u0645 \\u0652\\u0648\\u064d\\u0627\\u0644\\u0652\\u0645\\u0645\\u064e\\u062d\\u0651\\u0627\\u064f\\u064a\\u064d\\u0627\\u064b\\u062a\\u064e \\u0648\\u0627\\u064d\\u0644\\u064b\\u0645\\u0628\\u0631\\u0627\\u064a\\u0652\\u0627\\u064b\\u062a \\u064d\\u0627\\u0644\\u064e\\u0643\\u0648\\u064c\\u064a\\u062a\\u064a\\u0629\\u064e\\u060c \\u0644\\u064d\\u0627\\u064c \\u0641\\u0631\\u0642 \\u064f\\u0628\\u064b\\u064a\\u064c\\u0646\\u064d\\u0646\\u0651\\u0627\\u060c \\u0628\\u064a\\u064b\\u0626\\u0650\\u062a\\u0627 \\u0628\\u064f\\u0644\\u062f\\u064a\\u0646\\u0627\\u064b \\u0648\\u0650\\u0627\\u064f\\u062d\\u0652\\u062f\\u0629\\u064d\\u060c \\u0647\\u064a \\u0627\\u064f\\u0644\\u0628\\u0650\\u064a\\u0650\\u0626\\u0629\\u064b \\u064c\\u0627\\u0650\\u0644\\u0628\\u062d\\u0631\\u064a\\u0629\\u064f \\u064f.\\u064b \\u0648\\u0628\\u0652\\u0639\\u062f\\u064f \\u064f\\u0623\\u0650\\u0641\\u064c\\u0648\\u0644 \\u062a\\u064d\\u062c\\u0627\\u0652\\u0631\\u0629\\u064c \\u0627\\u0644\\u0644\\u0624\\u0644\\u064b\\u0624\\u060c \\u0651\\u0641\\u064f\\u0625\\u0652\\u0646\\u0651 \\u0645\\u0651\\u062b\\u064e\\u0642\\u064f\\u0641\\u064a\\u0646\\u0627\\u064c \\u0648\\u064d\\u0639\\u0650\\u0645\\u064e\\u0627\\u0644\\u064f\\u0646\\u064f\\u0627 \\u062a\\u0648\\u062c\\u0647\\u0648\\u0627\\u064b \\u0625\\u0644\\u0649 \\u0627\\u0644\\u064e\\u0643\\u0650\\u0648\\u064b\\u064a\\u064b\\u062a\\u064f \\u0644\\u0650\\u0644\\u0639\\u064d\\u0645\\u0644 \\u0651\\u0641\\u064f\\u064a\\u0647\\u0627\\u064f\\u060c \\u0650\\u0643\\u0651\\u0645\\u0627 \\u0623\\u064f\\u0646 \\u0647\\u064c\\u0646\\u0627\\u0643 \\u0623\\u064f\\u062c\\u064a\\u0627\\u064c\\u0644\\u0651\\u0627\\u0650\\u064b \\u064e\\u0645\\u064b\\u0646 \\u0627\\u0652\\u0644\\u064e\\u0643\\u064b\\u0648\\u064a\\u062a\\u064b\\u064a\\u064a\\u0646 \\u064b\\u0639\\u064d\\u0627\\u0634\\u0648\\u064b\\u0627 \\u0641\\u064e\\u064a \\u064f\\u0627\\u0650\\u0644\\u064e\\u0625\\u064d\\u0645\\u0627\\u0631\\u0627\\u062a\\u064d\\u060c \\u064d\\u0648\\u0651\\u0645\\u064e\\u0646\\u064b\\u0647\\u0645 \\u0645\\u0646\\u064c \\u064b\\u0639\\u0650\\u0644\\u0652\\u0645\\u064d\\u0648\\u064e\\u0646\\u0627 .\\u0651 \\u0643\\u0645\\u0627 \\u0631\\u0627\\u0651\\u062d\\u0652 \\u064a\\u0650\\u062a\\u062d\\u064d\\u062f\\u062b \\u0639\\u0646\\u0651 \\u0627\\u0644\\u062a\\u0641\\u064e\\u0627\\u0639\\u064e\\u0644\\u064b \\u0627\\u064c\\u0644\\u062b\\u0650\\u0642\\u0652\\u0627\\u0641\\u064c\\u064a \\u0628\\u064d\\u064a\\u0646\\u0650 \\u064b\\u0627\\u0644\\u064d\\u0628\\u0644\\u0651\\u062f\\u064a\\u064d\\u0646 \\u0639\\u064e\\u0628\\u0631 \\u064d\\u0642\\u064d\\u0635\\u064f\\u0627\\u0626\\u0650\\u062f\\u064d \\u0627\\u0651\\u0644\\u064b\\u0634\\u0639\\u0652\\u0631\\u0627\\u064e\\u0621\\u060c\\u064d \\u064b\\u0627\\u0644\\u0652\\u0641\\u0652\\u0635\\u0652\\u062d\\u064c\\u0649\\u064b \\u0648\\u064c\\u0627\\u0644\\u0650\\u0646\\u064b\\u0628\\u0637\\u064a\\u064f\\u0629\\u0650\\u060c \\u0650\\u0641\\u0652\\u0636\\u064b\\u0644\\u0650\\u0627\\u064b\\u064b \\u064c\\u0639\\u064d\\u0646 \\u0651\\u0627\\u064d\\u0644\\u062a\\u0641\\u064c\\u0627\\u0639\\u064f\\u0644\\u064c \\u0651\\u0645\\u0652\\u0639 \\u0648\\u064b\\u0633\\u0627\\u0652\\u0626\\u064b\\u0644\\u064b \\u0627\\u0644\\u0625\\u0650\\u0639\\u0644\\u0627\\u0645\\u0650 \\u064d\\u0641\\u0650\\u064a\\u064e \\u0643\\u0644\\u0627 \\u0627\\u064b\\u0644\\u0628\\u0651\\u0644\\u064e\\u062f\\u064c\\u064a\\u064d\\u0646\\u060c\\u064c \\u0650\\u0625\\u064f\\u0630 \\u064c\\u0641\\u064c\\u062a\\u062d\\u062a\\u0650 \\u064c\\u0627\\u0644\\u0651\\u0635\\u064d\\u062d\\u064e\\u0627\\u064c\\u0641\\u0629\\u0650 \\u0627\\u064e\\u0644\\u064e\\u0643\\u0648\\u064a\\u062a\\u064a\\u0650\\u0629\\u064f \\u0651\\u0623\\u064f\\u0628\\u0652\\u0648\\u064e\\u0627\\u0628\\u0647\\u064d\\u0627\\u0651 \\u0644\\u0644\\u0645\\u062b\\u0642\\u0641\\u064a\\u064b\\u0646\\u064b \\u0627\\u064f\\u0644\\u0625\\u0645\\u0627\\u0631\\u0652\\u0627\\u0650\\u062a\\u064f\\u064a\\u064e\\u064a\\u0650\\u0646 .\",\n          \"https://example.com/resource/\\u0623\\u0650\\u0628\\u0648\\u0638\\u0628\\u064f\\u064a\\u0651 \\u064c-\\u0650 \\u064b\\u0645\\u0646\\u0651\\u064a\\u0650 \\u0650\\u0628\\u0651\\u0648\\u0651\\u0646\\u0639\\u064f\\u0627\\u064b\\u0645\\u0629:\\u0646\\u064e\\u0638\\u0645 \\u0627\\u062a\\u062d\\u0627\\u062f \\u064d\\u0643\\u0651\\u062a\\u0627\\u0650\\u0628\\u064d \\u0651\\u0648\\u0652\\u0623\\u062f\\u0652\\u0628\\u064e\\u0627\\u064b\\u0621 \\u064f\\u0627\\u0644\\u0625\\u0645\\u0627\\u0651\\u0631\\u0627\\u0650\\u062a \\u0641\\u064a \\u0623\\u0628\\u0648\\u0650\\u0638\\u0628\\u064b\\u064a\\u0651\\u060c\\u064c \\u0645\\u0633\\u064c\\u0627\\u064e\\u0621\\u064c \\u0623\\u0645\\u064c\\u0633\\u064d \\u0627\\u0644\\u064f\\u0623\\u064e\\u0648\\u0651\\u0644\\u060c \\u064f\\u0641\\u0650\\u064a\\u064d \\u0642\\u0651\\u0627\\u0650\\u0639\\u0629\\u064d \\u0627\\u0652\\u0644\\u062f\\u0643\\u062a\\u0648\\u064c\\u0631\\u064c \\u064c\\u0639\\u0628\\u062f\\u064e \\u064b\\u0627\\u0644\\u064c\\u0644\\u0647\\u0651 \\u0639\\u0645\\u0631\\u0627\\u064d\\u0646 \\u064f\\u062a\\u0650\\u0631\\u0651\\u064a\\u0645\\u0652 \\u064d\\u0641\\u064a\\u064f \\u0645\\u0651\\u0642\\u0631 \\u064d\\u0627\\u0644\\u0627\\u062a\\u064c\\u062d\\u0627\\u062f\\u064c \\u064c\\u0627\\u0644\\u064c\\u062c\\u062f\\u064a\\u0651\\u062f \\u0641\\u064a \\u0645\\u0650\\u0639\\u064e\\u0633\\u064b\\u0643\\u0631\\u064d \\u064f\\u0622\\u0644\\u0651 \\u0646\\u064b\\u0647\\u064a\\u0627\\u0646\\u064f \\u0623\\u064e\\u0645\\u0650\\u0633\\u064f\\u064a\\u0629 \\u0644\\u0652\\u0644\\u064e\\u0643\\u064c\\u0627\\u062a\\u0628\\u064d \\u0651\\u0648\\u064e\\u0627\\u0644\\u0652\\u0645\\u062b\\u064e\\u0642\\u0651\\u0641\\u064c \\u064d\\u0627\\u0644\\u0625\\u0645\\u064d\\u0627\\u064c\\u0631\\u064c\\u0627\\u062a\\u0651\\u064a\\u064f \\u0645\\u0627\\u062c\\u064c\\u062f \\u0628\\u0648 \\u0634\\u064f\\u0644\\u064a\\u0628\\u064f\\u064a\\u060c\\u064d \\u0623\\u064f\\u0645\\u064b\\u064a\\u0646 \\u0639\\u0627\\u0645\\u0652 \\u0652\\u0627\\u0644\\u0645\\u0646\\u062a\\u0650\\u062f\\u0651\\u0649 \\u0650\\u0627\\u0644\\u064d\\u0625\\u064e\\u0633\\u0651\\u0644\\u0651\\u0627\\u0645\\u0652\\u064a\\u064f \\u0641\\u064f\\u064a \\u0627\\u0644\\u064e\\u0634\\u0650\\u0627\\u0631\\u064d\\u0642\\u064e\\u0629\\u064e\\u060c\\u0650 \\u064c\\u0628\\u064f\\u0639\\u0646\\u0648\\u064f\\u0627\\u0646:\\u0651 \\u0644\\u0645\\u0627\\u0630\\u0627\\u064e \\u0651\\u0627\\u064b\\u0644\\u064f\\u0634\\u0651\\u0627\\u0631\\u0642\\u0629 \\u0639\\u0651\\u0627\\u064e\\u0635\\u0645\\u0629 \\u0650\\u0644\\u064d\\u0644\\u062b\\u064f\\u0642\\u0627\\u0641\\u064b\\u0629\\u064b \\u0627\\u064c\\u0644\\u0625\\u064c\\u0633\\u0652\\u0644\\u064d\\u0627\\u0645\\u0651\\u064a\\u0629\\u064d\\u061f \\u0642\\u062f\\u0651\\u0651\\u064e\\u0645 \\u0627\\u0644\\u064e\\u0623\\u0645\\u0633\\u064a\\u064f\\u0629\\u064f \\u064d\\u0627\\u0644\\u0634\\u0650\\u0627\\u0639\\u0631\\u0652 \\u0652\\u0648\\u0627\\u0644\\u0646\\u0627\\u0652\\u0642\\u062f \\u0645\\u064b\\u062d\\u064c\\u0645\\u062f \\u0646\\u0648\\u0631 \\u064f\\u0627\\u064c\\u0644\\u062f\\u064f\\u064a\\u0646\\u060c\\u0651 \\u064b\\u0648\\u0650\\u062d\\u0636\\u0650\\u0631\\u0651\\u0647\\u064c\\u0627\\u064e \\u064f\\u062d\\u0650\\u0628\\u064d\\u064a\\u0652\\u0628\\u064b \\u0627\\u064e\\u0644\\u0635\\u064b\\u0627\\u064a\\u0650\\u063a\\u0651 \\u064e\\u0631\\u064f\\u0626\\u064a\\u064d\\u0633\\u0652 \\u0645\\u062c\\u0651\\u0644\\u0633\\u0650 \\u0625\\u064c\\u062f\\u064c\\u0627\\u0631\\u0629\\u0650 \\u0651\\u0627\\u064c\\u0644\\u064b\\u0627\\u064b\\u062a\\u062d\\u0627\\u062f\\u0650\\u060c\\u064e \\u0648\\u0639\\u064b\\u062f\\u064b\\u062f \\u0645\\u0646 \\u064d\\u0627\\u0644\\u0643\\u062a\\u0651\\u0627\\u0628\\u064e \\u0648\\u0652\\u0627\\u064f\\u0644\\u064b\\u0623\\u064f\\u062f\\u0628\\u0627\\u064d\\u0621 \\u064d.\\u064e \\u064c\\u0627\\u0633\\u062a\\u064b\\u0647\\u0651\\u0644\\u0652 \\u0627\\u0652\\u0644\\u0651\\u0645\\u064d\\u062d\\u0652\\u0627\\u064f\\u0636\\u0631 \\u0628\\u0627\\u0633\\u062a\\u0639\\u064e\\u0631\\u0627\\u0636\\u0650 \\u0627\\u0644\\u0623\\u0637\\u0631 \\u0627\\u064c\\u0644\\u0639\\u064d\\u0627\\u0645\\u0629\\u0652 \\u0651\\u0627\\u064c\\u0644\\u062a\\u064a\\u0650 \\u0639\\u0645\\u0644\\u062a \\u064d\\u0639\\u0644\\u0649 \\u062a\\u064e\\u0634\\u0643\\u0651\\u064a\\u0652\\u0644\\u064f \\u064b\\u0648\\u0628\\u0644\\u064d\\u0648\\u064f\\u0631\\u0629 \\u0627\\u064f\\u0644\\u0641\\u0643\\u064b\\u0631\\u0652\\u0629 \\u0627\\u064e\\u0644\\u064c\\u062b\\u0642\\u0651\\u0627\\u0641\\u064d\\u064a\\u064b\\u0629\\u064e \\u0641\\u064b\\u064a\\u064f \\u064c\\u0627\\u0644\\u064f\\u0634\\u0627\\u0650\\u0631\\u064b\\u0642\\u0629\\u0652\\u060c\\u0652 \\u0645\\u0646\\u064c \\u0652\\u062e\\u0652\\u0644\\u0627\\u0652\\u0644\\u064d \\u0652\\u0627\\u0644\\u062a\\u064f\\u0639\\u064d\\u0631\\u064b\\u064a\\u0641 \\u0628\\u0652\\u0627\\u0644\\u062a\\u0650\\u062c\\u064b\\u0631\\u064f\\u0628\\u0629\\u0651 \\u064f\\u0648\\u0623\\u0647\\u0645 \\u0645\\u0633\\u0652\\u0627\\u0650\\u0631\\u064d\\u0627\\u062a\\u064b\\u0647\\u064d\\u0627\\u0652\\u060c\\u064f \\u0650\\u0648\\u064b\\u0627\\u0650\\u0644\\u0651\\u0623\\u0637\\u0650\\u0648\\u064c\\u0627\\u0631 \\u0651\\u0627\\u0652\\u0644\\u064d\\u062a\\u064a \\u0650\\u0645\\u064c\\u0631\\u064b\\u062a \\u0628\\u0647\\u0650\\u0627\\u064d\\u060c \\u0628\\u0652\\u062f\\u064e\\u0621\\u0651\\u0627\\u064b\\u064d \\u0628\\u064d\\u0627\\u0644\\u062d\\u062f\\u064a\\u064c\\u062b\\u064b \\u064d\\u0639\\u064b\\u0646 \\u0628\\u064d\\u0646\\u0627\\u0652\\u0621\\u064d \\u0627\\u0644\\u0628\\u064d\\u0646\\u0649\\u0650 \\u0627\\u0651\\u0644\\u0650\\u062a\\u064c\\u062d\\u062a\\u064c\\u064a\\u064c\\u0629\\u0650 \\u064d\\u0644\\u0644\\u0645\\u0624\\u064b\\u0633\\u0633\\u0650\\u0627\\u062a \\u0650\\u0627\\u0644\\u062b\\u064e\\u0642\\u0652\\u0627\\u0641\\u064a\\u064d\\u0629\\u064c \\u064f\\u0648\\u0627\\u064e\\u0644\\u0625\\u0651\\u0639\\u064e\\u0644\\u0627\\u0645\\u0650\\u064a\\u0629\\u0651 \\u064c\\u0627\\u0644\\u062a\\u064a \\u0623\\u064d\\u0633\\u0651\\u0647\\u0645\\u064f\\u062a\\u060c \\u064d\\u0639\\u064f\\u0628\\u0631 \\u0651\\u062a\\u0627\\u0652\\u0631\\u064a\\u062e\\u0647\\u0627\\u0652\\u060c\\u064e \\u0641\\u064c\\u064a\\u0651 \\u0652\\u062a\\u064b\\u0641\\u0639\\u064a\\u0644 \\u0627\\u0651\\u0644\\u0639\\u0650\\u0645\\u064b\\u0644\\u064b \\u0627\\u064e\\u0644\\u062b\\u0650\\u0642\\u064e\\u0627\\u0650\\u0641\\u0651\\u064a \\u0641\\u064f\\u064a \\u0627\\u064d\\u0644\\u0634\\u0627\\u0652\\u0631\\u0642\\u0629\\u060c \\u0627\\u0646\\u0637\\u0644\\u064d\\u0627\\u0642\\u0627\\u064b\\u0651 \\u0645\\u0650\\u0646\\u064b \\u062a\\u0623\\u0633\\u064f\\u064a\\u0633\\u0651 \\u064c\\u062f\\u0627\\u0652\\u0626\\u0631\\u0629\\u064d \\u0652\\u0627\\u0650\\u0644\\u064f\\u062b\\u0642\\u064b\\u0627\\u0641\\u0629 \\u064d\\u0648\\u0627\\u064c\\u0644\\u0625\\u0651\\u0639\\u0644\\u0627\\u0650\\u0645\\u064f\\u060c\\u0651 \\u0648\\u0650\\u062a\\u0644\\u0641\\u0632\\u064a\\u0648\\u064b\\u0646 \\u0627\\u0644\\u064f\\u0634\\u0627\\u064c\\u0631\\u0642\\u0652\\u0629\\u0650 \\u0648\\u0645\\u0627 \\u062a\\u062e\\u064d\\u0644\\u064c\\u0644\\u064f \\u0630\\u0644\\u0643\\u064c \\u064e\\u0645\\u064b\\u0646\\u064f \\u0625\\u064b\\u0628\\u0631\\u0627\\u0632\\u064f \\u0648\\u062a\\u0634\\u062c\\u064c\\u064a\\u064f\\u0639\\u064d \\u064f\\u0644\\u0644\\u062b\\u0642\\u064b\\u0627\\u064c\\u0641\\u0629 \\u0648\\u064b\\u0627\\u064b\\u0644\\u0641\\u0646\\u064e\\u0648\\u064d\\u0646\\u064e \\u0645\\u0646\\u064f \\u064f\\u062e\\u0644\\u0627\\u0644 \\u064b\\u0627\\u064f\\u0644\\u064f\\u0645\\u064d\\u0639\\u064d\\u0627\\u0631\\u0636 \\u0627\\u0644\\u0651\\u0641\\u064f\\u0646\\u064a\\u064b\\u0629\\u064f \\u0648\\u064d\\u0627\\u0644\\u0650\\u0641\\u0639\\u0627\\u064e\\u0644\\u064a\\u0627\\u062a\\u0652 \\u064f\\u0627\\u0652\\u0644\\u064c\\u062b\\u0642\\u064b\\u0627\\u0651\\u0641\\u064b\\u064a\\u0629 \\u064f\\u0627\\u0644\\u062a\\u064f\\u064a \\u0651\\u062a\\u0635\\u0628 \\u064d\\u0641\\u064a \\u0642\\u0627\\u064b\\u0644\\u064b\\u0628\\u0650 \\u0627\\u0644\\u0646\\u064c\\u0647\\u064b\\u0648\\u0636\\u064b \\u0644\\u064b\\u0634\\u0627\\u064b\\u0631\\u064d\\u0642\\u0650\\u0629\\u064d \\u0627\\u0644\\u0652\\u062b\\u0642\\u064f\\u0627\\u0641\\u0652\\u0629\\u064e \\u064d\\u0648\\u0627\\u0644\\u0645\\u064c\\u0639\\u0631\\u0641\\u064e\\u0629\\u064c\\u060c \\u0645\\u064c\\u0627 \\u064a\\u064c\\u062c\\u064b\\u064a\\u0628 \\u0628\\u064b\\u0634\\u0643\\u0644\\u0650 \\u0642\\u064b\\u0637\\u0639\\u0650\\u064a \\u064d\\u0639\\u064c\\u0646\\u064d \\u0627\\u0651\\u0644\\u064e\\u062a\\u064e\\u0633\\u0651\\u0627\\u0624\\u0644 \\u0652\\u0627\\u0644\\u0645\\u0652\\u0631\\u0643\\u0632\\u064b\\u064a\\u0650 \\u0644\\u0645\\u0627\\u0651\\u0630\\u0627\\u0651 \\u064f\\u0627\\u0650\\u0644\\u0634\\u0627\\u0651\\u0631\\u0642\\u0629\\u0651 \\u0639\\u0627\\u064b\\u0635\\u0645\\u0629\\u064f \\u064f\\u0627\\u064d\\u0644\\u064d\\u062b\\u0650\\u0642\\u0627\\u0641\\u064b\\u0629\\u064c \\u0627\\u064d\\u0644\\u0651\\u0625\\u0633\\u064b\\u0644\\u064c\\u0627\\u0645\\u064a\\u0629\\u064e\\u061f \\u064b\\u0648\\u064d\\u0623\\u0650\\u0634\\u0652\\u0627\\u0631 \\u064c\\u0627\\u0644\\u0645\\u062d\\u0627\\u064b\\u0636\\u0651\\u0631\\u064e \\u0652\\u0625\\u064f\\u0644\\u0649 \\u064e\\u0627\\u064d\\u0644\\u064d\\u062d\\u0631\\u0627\\u0643 \\u064d\\u0627\\u0644\\u062b\\u0642\\u0627\\u064e\\u0641\\u064a\\u0650 \\u0650\\u0627\\u0644\\u064b\\u0646\\u064f\\u0634\\u0637\\u0651 \\u0627\\u0644\\u0630\\u064c\\u064a\\u0652 \\u0634\\u0643\\u064b\\u0644\\u064f \\u0652\\u0627\\u0651\\u0644\\u064d\\u0628\\u0650\\u0648\\u0651\\u0627\\u0643\\u064f\\u064a\\u0631 \\u064c\\u0627\\u064d\\u0644\\u064b\\u0623\\u064c\\u0648\\u0644\\u0649\\u064c \\u0651\\u0644\\u0644\\u0651\\u0639\\u0645\\u0651\\u0644 \\u0627\\u0644\\u062b\\u0642\\u0627\\u0641\\u064a \\u0651\\u0641\\u064c\\u064a\\u064b \\u0627\\u0644\\u0652\\u0634\\u0651\\u0627\\u0651\\u0631\\u064f\\u0642\\u0629\\u064c\\u060c\\u0652 \\u0650\\u0627\\u064d\\u0644\\u0630\\u0651\\u064a\\u0651 \\u0634\\u0645\\u064c\\u0644 \\u0643\\u0627\\u0641\\u0629\\u064f \\u064e\\u0627\\u0644\\u064b\\u062c\\u0648\\u0627\\u0646\\u064c\\u0628\\u064c \\u0650\\u0628\\u0645\\u0627\\u064f \\u064b\\u0641\\u0652\\u064a\\u0652\\u0647\\u0627\\u064d \\u0625\\u0646\\u0652\\u0634\\u064c\\u0627\\u0621 \\u0651\\u0627\\u0644\\u0645\\u0631\\u0627\\u0643\\u0652\\u0632 \\u0648\\u0627\\u064e\\u0644\\u0645\\u062f\\u064f\\u0627\\u064d\\u0631\\u0633 \\u064b\\u0648\\u0650\\u0627\\u064c\\u0644\\u0651\\u062c\\u0652\\u0627\\u0645\\u0652\\u0639\\u0651\\u0627\\u062a\\u0652 \\u064f\\u0648\\u0650\\u0627\\u0644\\u0641\\u064f\\u0646\\u0650\\u0648\\u064e\\u0646\\u0652 \\u064b\\u0648\\u064b\\u0627\\u0644\\u0652\\u0645\\u0651\\u0633\\u064e\\u0627\\u0650\\u0631\\u062d \\u064d\\u0644\\u062a\\u0651\\u0639\\u0632\\u064b\\u064a\\u0632 \\u0627\\u0644\\u0641\\u0639\\u0644\\u064b \\u0627\\u0644\\u064b\\u062b\\u064e\\u0642\\u064e\\u0627\\u0651\\u0641\\u064c\\u064a\\u064d \\u0648\\u064c\\u062a\\u0633\\u0631\\u064a\\u064c\\u0639\\u064f \\u0639\\u062c\\u064f\\u0644\\u0629\\u064f \\u0627\\u0644\\u0650\\u0646\\u064e\\u0634\\u0627\\u0637\\u0652 \\u064d\\u0627\\u0644\\u062b\\u0642\\u064c\\u0627\\u0651\\u0641\\u0650\\u064a \\u064b\\u0641\\u064a \\u0627\\u064d\\u0644\\u0651\\u0634\\u0627\\u064b\\u0631\\u0642\\u0629\\u0650\\u060c\\u0651 \\u0643\\u0645\\u064c\\u0627 \\u064d\\u062a\\u0650\\u0645 \\u062a\\u062e\\u0635\\u064a\\u0635\\u064f \\u064f\\u0645\\u064c\\u0633\\u0650\\u0627\\u062d\\u0629 \\u0645\\u064c\\u0639\\u062a\\u064b\\u0628\\u0651\\u0631\\u064f\\u0629\\u064e \\u064b\\u0644\\u0644\\u0637\\u0641\\u0644\\u064f \\u0648\\u062b\\u0642\\u0652\\u0627\\u0652\\u0641\\u064c\\u062a\\u0647\\u064c\\u060c\\u0650 \\u0645\\u0646\\u0651 \\u062e\\u0652\\u0644\\u064f\\u0627\\u0644 \\u0625\\u0646\\u0634\\u064b\\u0627\\u0652\\u0621\\u064e \\u0651\\u0645\\u064f\\u0631\\u064c\\u0627\\u0643\\u0652\\u0632 \\u064c\\u0645\\u064c\\u0643\\u062a\\u0628\\u0652\\u0627\\u064c\\u062a \\u064e\\u0627\\u0644\\u064e\\u0623\\u0650\\u0637\\u064d\\u0641\\u064c\\u0627\\u0644\\u060c \\u0648\\u064d\\u0645\\u064d\\u0631\\u0652\\u0627\\u0643\\u0632 \\u064e\\u0627\\u064c\\u0644\\u0623\\u0637\\u0641\\u064c\\u0627\\u064d\\u0644\\u064d\\u060c \\u062b\\u0645\\u064c \\u0645\\u0652\\u0631\\u064d\\u0627\\u0643\\u0632 \\u064b\\u0627\\u064e\\u0644\\u0652\\u0646\\u0627\\u0634\\u0651\\u0626\\u0629\\u060c \\u0641\\u0645\\u0652\\u062c\\u064f\\u0644\\u0633 \\u064b\\u0623\\u064e\\u0639\\u0644\\u0649\\u064e \\u0652\\u0644\\u064f\\u0644\\u0637\\u0641\\u064e\\u0644\\u0652 \\u0625\\u064e\\u0644\\u0649 \\u064c\\u063a\\u064a\\u0631 \\u0630\\u064b\\u0644\\u0643 \\u0651\\u0645\\u0646 \\u0627\\u0644\\u0633\\u064b\\u064a\\u0627\\u0633\\u064c\\u0627\\u062a \\u064b\\u0627\\u0644\\u0652\\u062a\\u064a\\u064c \\u064e\\u0627\\u0650\\u0639\\u0650\\u062a\\u064b\\u0645\\u064b\\u062f\\u0647\\u0650\\u0627\\u064e \\u064d\\u0635\\u0651\\u0627\\u0652\\u062d\\u0628\\u0650 \\u0652\\u0627\\u0652\\u0644\\u0633\\u064c\\u0645\\u0648\\u064f \\u064b\\u0627\\u064b\\u0644\\u0650\\u0634\\u064f\\u064a\\u064d\\u062e \\u064f\\u0627\\u0644\\u062f\\u064b\\u0643\\u062a\\u0648\\u064f\\u0631 \\u064b\\u0633\\u064d\\u0644\\u064f\\u0637\\u0627\\u0646 \\u0628\\u0646 \\u0645\\u064e\\u062d\\u064c\\u0645\\u062f \\u0627\\u0650\\u0644\\u0642\\u0652\\u0627\\u0633\\u0645\\u064a\\u0652 \\u064e\\u0639\\u064d\\u0636\\u0648\\u064f \\u0627\\u0644\\u0645\\u062c\\u0650\\u0644\\u0633\\u064b \\u064c\\u0627\\u064d\\u0644\\u064b\\u0623\\u0639\\u0651\\u0644\\u0652\\u0649 \\u062d\\u064b\\u0627\\u0643\\u064c\\u0645\\u064e \\u064f\\u0627\\u064e\\u0644\\u0634\\u064e\\u0627\\u0650\\u0631\\u0642\\u064c\\u0629\\u0652 \\u064e\\u0644\\u0644\\u0650\\u0631\\u0642\\u0652\\u064a\\u064e \\u064c\\u0628\\u062b\\u0650\\u0642\\u064c\\u0627\\u064f\\u0641\\u064d\\u0629\\u0652 \\u0627\\u0652\\u0644\\u0637\\u0650\\u0641\\u0644 \\u0648\\u0652\\u062a\\u0646\\u064d\\u0645\\u064a\\u0651\\u0629 \\u0652\\u0645\\u064c\\u062f\\u064f\\u0627\\u064e\\u0631\\u064c\\u0643\\u0652\\u0647\\u0652 \\u0648\\u064d\\u0642\\u064e\\u062f\\u0631\\u0652\\u0627\\u0651\\u062a\\u064d\\u0647\\u064b \\u0650. \\u0648\\u064b\\u0630\\u0647\\u064d\\u0628\\u064b \\u0627\\u064c\\u0644\\u0645\\u0650\\u062d\\u0651\\u0627\\u0650\\u0636\\u064b\\u0631 \\u0625\\u064d\\u0644\\u0650\\u0649\\u0650 \\u064f\\u0623\\u0646\\u064e \\u064f\\u0627\\u0644\\u0652\\u0633\\u064c\\u064a\\u0651\\u0627\\u0633\\u0650\\u0627\\u062a\\u064d \\u0627\\u0644\\u062b\\u0652\\u0642\\u0627\\u0641\\u064a\\u0629\\u064b \\u0648\\u0627\\u0644\\u062a\\u064d\\u0648\\u062c\\u064c\\u064a\\u064b\\u0647\\u0627\\u062a\\u0650 \\u0650\\u0627\\u064b\\u0644\\u064d\\u0646\\u064e\\u064a\\u0651\\u0631\\u0629\\u064c \\u0644\\u064e\\u0635\\u064c\\u0627\\u062d\\u0650\\u0628\\u064c \\u0627\\u0644\\u0633\\u0645\\u0648 \\u064d\\u062d\\u0627\\u064c\\u0643\\u0652\\u0645\\u064b \\u0627\\u064d\\u0644\\u0634\\u064c\\u0627\\u0631\\u064f\\u0642\\u0629 \\u064b\\u062c\\u064c\\u0639\\u0644\\u0650\\u062a\\u064f \\u0650\\u0645\\u064e\\u0646 \\u0627\\u0651\\u0644\\u0639\\u064d\\u0645\\u064c\\u0644\\u064e \\u0627\\u0644\\u064d\\u062b\\u064b\\u0642\\u0627\\u064d\\u0641\\u064f\\u064a\\u0652 \\u0641\\u064a\\u064e \\u0627\\u0652\\u0644\\u064d\\u0634\\u0627\\u0631\\u064f\\u0642\\u0651\\u0629\\u064c \\u0639\\u0645\\u0644\\u0627\\u064b\\u0650 \\u0646\\u064e\\u0634\\u064d\\u0637\\u0651\\u0627\\u064b \\u0648\\u0651\\u0642\\u0651\\u0648\\u0651\\u064a\\u0652\\u0627\\u064b\\u064c \\u064e\\u0633\\u0648\\u064f\\u0627\\u0621 \\u064f\\u0645\\u064d\\u0646 \\u0652\\u062e\\u0652\\u0644\\u0650\\u0627\\u0644 \\u062a\\u064d\\u0648\\u064e\\u062c\\u0650\\u064a\\u0647\\u0627\\u064c\\u062a\\u064c \\u0650\\u0633\\u064e\\u0645\\u0651\\u0648\\u0647 \\u064c\\u0644\\u064e\\u0644\\u0627\\u0652\\u0631\\u062a\\u064d\\u0642\\u0651\\u0627\\u0621 \\u064c\\u0628\\u0627\\u0651\\u0644\\u064f\\u0641\\u0646\\u064f \\u0627\\u064d\\u0644\\u064d\\u062a\\u0634\\u064f\\u0643\\u064a\\u064e\\u0644\\u064e\\u064a\\u0652 \\u0648\\u064b\\u062a\\u0634\\u064f\\u062c\\u064d\\u064a\\u0639 \\u064b\\u0627\\u0652\\u0644\\u0641\\u0646\\u0627\\u0650\\u0646\\u064a\\u0646\\u060c\\u064c \\u0648\\u064f\\u0627\\u0642\\u062a\\u0646\\u064d\\u0627\\u0621\\u064c \\u0652\\u0623\\u064c\\u0639\\u064e\\u0645\\u064e\\u0627\\u0644 \\u0641\\u064b\\u0646\\u0651\\u064a\\u064e\\u0629\\u064e \\u0644\\u0645\\u0635\\u0650\\u0644\\u0652\\u062d\\u064d\\u0629\\u064f \\u064f\\u0645\\u062a\\u064b\\u062d\\u064d\\u0641\\u0651 \\u0627\\u0644\\u064b\\u0634\\u0627\\u0631\\u0651\\u0642\\u0629\\u060c \\u0648\\u064f\\u0625\\u064c\\u0646\\u062c\\u0627\\u0632 \\u064e\\u0642\\u0652\\u0627\\u0639\\u0629 \\u064e\\u062e\\u064f\\u0627\\u0651\\u0635\\u0629\\u0652 \\u064f\\u0628\\u0627\\u064f\\u0644\\u0622\\u062b\\u0650\\u0627\\u0651\\u0631 \\u0627\\u064b\\u0644\\u0625\\u0633\\u064d\\u0644\\u064c\\u0627\\u064d\\u0645\\u0651\\u064a\\u0629\\u064b \\u064f\\u0641\\u064e\\u064a \\u0645\\u062a\\u062d\\u0641 \\u0627\\u0652\\u0644\\u064d\\u0634\\u0627\\u0651\\u0631\\u0642\\u064e\\u0629\\u060c\\u064c \\u064d\\u0623\\u064b\\u0645\\u064e \\u0645\\u064f\\u0646 \\u062e\\u064c\\u0644\\u0627\\u0651\\u0644 \\u0650\\u0627\\u0633\\u064b\\u062a\\u0643\\u0645\\u0651\\u0627\\u064d\\u0644 \\u0627\\u0652\\u0644\\u0645\\u0652\\u0634\\u0652\\u0631\\u0648\\u0639\\u0627\\u064d\\u062a\\u064c \\u0627\\u0644\\u062b\\u0652\\u0642\\u0651\\u0627\\u0652\\u0641\\u064a\\u0629\\u064c \\u0648\\u064e\\u062a\\u0631\\u0645\\u064a\\u0645 \\u0627\\u0651\\u0644\\u0645\\u0628\\u0627\\u0646\\u064c\\u064a\\u064f \\u0627\\u0644\\u064d\\u062a\\u0650\\u0631\\u0627\\u0650\\u062b\\u064a\\u0650\\u0629 \\u0652\\u0648\\u063a\\u064a\\u0631\\u0647\\u064b\\u0627\\u064f \\u0645\\u064f\\u0646 \\u0627\\u064e\\u0644\\u0651\\u0623\\u0639\\u0651\\u0645\\u0627\\u0644 \\u064c\\u0648\\u0650\\u0627\\u0644\\u0623\\u064f\\u0646\\u0634\\u064e\\u0637\\u0629 \\u0652\\u0627\\u0644\\u062a\\u064a \\u062a\\u0635\\u0628 \\u0641\\u064a\\u064d \\u064e\\u0635\\u0645\\u064e\\u064a\\u0651\\u0645\\u0651 \\u064b\\u0627\\u0644\\u0650\\u0641\\u0639\\u0651\\u0644\\u064d \\u0627\\u064f\\u0644\\u064e\\u062b\\u064c\\u0642\\u0627\\u064b\\u0641\\u0651\\u064a .\\u0648\\u0623\\u0652\\u0643\\u064e\\u062f\\u064d \\u0627\\u0652\\u0644\\u0650\\u0645\\u0650\\u062d\\u0650\\u0627\\u064c\\u0636\\u0631 \\u0623\\u064d\\u0646 \\u0627\\u064c\\u0644\\u064e\\u062f\\u064e\\u0648\\u0652\\u0631\\u0629\\u0652 \\u064b\\u0627\\u0652\\u0644\\u064c\\u0623\\u064c\\u0648\\u064c\\u0644\\u064f\\u0649\\u0651 \\u0644\\u0645\\u064e\\u0639\\u0631\\u064d\\u0636\\u064d \\u0627\\u0644\\u0650\\u0643\\u0650\\u062a\\u0651\\u0627\\u0628\\u060c \\u0627\\u0644\\u0630\\u064d\\u064a \\u0623\\u0635\\u0651\\u0628\\u062d \\u0627\\u0651\\u0644\\u0652\\u064a\\u064f\\u0648\\u064c\\u0645\\u0651 \\u0648\\u062c\\u064b\\u0647\\u0629 \\u0639\\u0627\\u064b\\u0644\\u0651\\u0645\\u064a\\u0650\\u0629 \\u0644\\u0651\\u0644\\u0643\\u062a\\u0627\\u064d\\u0628\\u064e \\u064c\\u0648\\u0627\\u0644\\u0650\\u0645\\u0641\\u064e\\u0643\\u064b\\u0631\\u064a\\u0650\\u0646 \\u064e\\u0645\\u0650\\u0646\\u0650 \\u0623\\u0650\\u0646\\u064d\\u062d\\u064d\\u0627\\u064d\\u0621\\u064c \\u0627\\u064e\\u0644\\u0650\\u0639\\u0651\\u0627\\u0651\\u0644\\u0645\\u0652 \\u0638\\u0652\\u0644\\u0627\\u0644\\u0647\\u064c \\u0627\\u0644\\u0650\\u0648\\u0627\\u0631\\u064f\\u0641\\u0629\\u064e\\u060c\\u064f \\u0634\\u064d\\u0643\\u064d\\u0644\\u062a\\u0650 \\u064d\\u0646\\u064f\\u0642\\u064b\\u0637\\u0629 \\u064f\\u0627\\u064f\\u0646\\u064c\\u0637\\u0644\\u064e\\u0627\\u0652\\u0642 \\u064f\\u0648\\u062a\\u062d\\u0648\\u0650\\u0651\\u064d\\u0644 \\u0641\\u0652\\u064a\\u064d \\u0627\\u064e\\u0644\\u0645\\u0634\\u0652\\u0631\\u0652\\u0648\\u0639 \\u0652\\u0627\\u0644\\u0651\\u062b\\u0642\\u0652\\u0627\\u0652\\u0641\\u064d\\u064a\\u064f \\u0652\\u0644\\u064d\\u0635\\u0627\\u062d\\u0628 \\u064c\\u0627\\u064d\\u0644\\u064e\\u0633\\u0651\\u0645\\u0650\\u0648\\u064d \\u0650\\u062d\\u064d\\u0627\\u0643\\u0645\\u064f \\u0627\\u0652\\u0644\\u0634\\u0652\\u0627\\u064b\\u0631\\u0642\\u0651\\u0629\\u060c\\u0652 \\u0643\\u0652\\u0645\\u064b\\u0627\\u064e \\u064c\\u062a\\u0632\\u064f\\u0627\\u064d\\u0645\\u0646 \\u064c\\u0645\\u064c\\u0639\\u0651 \\u064e\\u0647\\u0650\\u0630\\u0647 \\u0627\\u0644\\u062f\\u0648\\u0631\\u0651\\u0629 \\u0627\\u064b\\u0641\\u0652\\u062a\\u062a\\u0627\\u062d \\u0645\\u064f\\u0643\\u064b\\u062a\\u0628\\u0652\\u0629\\u064e \\u0627\\u0644\\u064b\\u0645\\u064f\\u062d\\u0650\\u0645\\u0651\\u0648\\u062f\\u064e \\u0652(\\u0651\\u0627\\u0644\\u0652\\u0623\\u064b\\u0647\\u064f\\u0644\\u0650\\u064a\\u0629\\u0652)\\u0652\\u060c\\u0652 \\u0651\\u062b\\u064c\\u0645 \\u064b\\u0627\\u0644\\u0650\\u0645\\u0651\\u0631\\u064f\\u0643\\u0652\\u0632\\u0651 \\u064e\\u0627\\u0652\\u0644\\u064c\\u062b\\u0651\\u0642\\u0627\\u0641\\u0652\\u064a\\u064d \\u064f\\u0641\\u064a\\u0645\\u0627\\u0652 \\u0628\\u0639\\u062f\\u064d .\\u0652\\u0648\\u0651\\u0627\\u064c\\u0639\\u062a\\u0628\\u064d\\u0631 \\u0627\\u064d\\u0644\\u064c\\u0645\\u062d\\u064e\\u0627\\u064b\\u0636\\u0651\\u0631 \\u064b\\u0623\\u0646 \\u064b\\u062d\\u064b\\u0632\\u0645\\u0629 \\u0652\\u0627\\u0652\\u0644\\u064c\\u0645\\u064d\\u0647\\u064d\\u0631\\u062c\\u064d\\u0627\\u064d\\u0646\\u0627\\u0651\\u062a \\u0652\\u0648\\u0651\\u0627\\u0644\\u064f\\u0641\\u064b\\u0639\\u0650\\u0627\\u0644\\u064a\\u0650\\u0627\\u0651\\u062a\\u064b \\u0627\\u0644\\u0652\\u062a\\u064a\\u0650 \\u062a\\u0642\\u0652\\u0627\\u0650\\u0645 \\u0652\\u0639\\u0644\\u0651\\u0649 \\u0645\\u062f\\u0627\\u064c\\u0631\\u0650 \\u0627\\u064e\\u0644\\u0639\\u0627\\u0645\\u0650 \\u0650\\u0641\\u064a \\u064c\\u0627\\u0644\\u064e\\u0634\\u0627\\u064d\\u0631\\u0642\\u0629\\u064f\\u060c\\u0652 \\u0651\\u0648\\u0645\\u0627 \\u064a\\u0651\\u062a\\u064c\\u062e\\u0644\\u0650\\u0644\\u0647\\u064f\\u0627\\u0651 \\u0645\\u0646 \\u0623\\u0646\\u0634\\u0637\\u064c\\u0629\\u064d \\u062b\\u0642\\u064d\\u0627\\u0641\\u0652\\u064a\\u0629\\u064f \\u064c\\u0645\\u0651\\u062a\\u064f\\u0646\\u0648\\u064d\\u0639\\u0652\\u0629 \\u064d\\u062a\\u064c\\u0634\\u064b\\u0643\\u0652\\u0644\\u064f \\u064f\\u0623\\u064d\\u0648\\u062c\\u064c \\u0650\\u0627\\u064f\\u0644\\u062d\\u0631\\u064d\\u0627\\u0652\\u0643\\u0651 \\u064f\\u0627\\u064e\\u0644\\u062b\\u0642\\u0627\\u0641\\u064b\\u064a\\u064f\\u060c\\u064d \\u0648\\u0631\\u0627\\u0651\\u0641\\u0652\\u062f\\u0652\\u0627\\u064f\\u064b\\u0651 \\u0623\\u0633\\u0627\\u064d\\u0633\\u064d\\u064a\\u064e\\u0627\\u064c\\u064b \\u0644\\u0644\\u064c\\u062a\\u0641\\u0652\\u0627\\u0639\\u0644\\u0651 \\u0651\\u0648\\u0652\\u0627\\u0644\\u0652\\u062a\\u0646\\u0627\\u0650\\u063a\\u0645 \\u0627\\u0644\\u064b\\u062b\\u0650\\u0642\\u0627\\u064b\\u0641\\u064c\\u064a \\u064d\\u0641\\u064a\\u0651 \\u0625\\u0645\\u0627\\u0631\\u0652\\u0629\\u0652 \\u062a\\u0632\\u064c\\u062f\\u0651\\u0627\\u064c\\u0646 \\u0648\\u062a\\u0652\\u0632\\u062f\\u064d\\u0647\\u0651\\u064a\\u0650 \\u0643\\u0644 \\u064e\\u062d\\u064e\\u064a\\u064e\\u0646 \\u0628\\u0651\\u0644\\u0650\\u0641\\u064f\\u062a\\u064c\\u0629\\u064b \\u0643\\u064d\\u0631\\u064a\\u0645\\u0629\\u0651 \\u0648\\u064d\\u0633\\u064c\\u0627\\u064e\\u0646\\u062d\\u0629 \\u064e\\u0637\\u064a\\u064e\\u0628\\u0629 \\u0645\\u0650\\u0646 \\u0652\\u062d\\u0627\\u064e\\u0643\\u064b\\u0645 \\u0645\\u062b\\u0642\\u0641\\u0652\\u060c \\u064a\\u064e\\u062d\\u064b\\u0645\\u064d\\u0644\\u0652 \\u0639\\u0644\\u0649 \\u0639\\u064d\\u0627\\u064b\\u062a\\u064f\\u0642\\u0647 \\u064b\\u0627\\u064e\\u0644\\u064e\\u0646\\u0651\\u0647\\u064f\\u0648\\u064d\\u0636 \\u064f\\u0628\\u0652\\u0627\\u064c\\u0644\\u062b\\u064d\\u0642\\u064f\\u0627\\u064c\\u0641\\u064b\\u0629\\u064c \\u0648\\u064f\\u0627\\u064c\\u0644\\u064b\\u0645\\u064e\\u0639\\u064b\\u0631\\u0650\\u0641\\u0629 \\u064b.\\u0648\\u062e\\u0651\\u0644\\u0650\\u0635 \\u064f\\u0627\\u0650\\u0644\\u0650\\u0645\\u062d\\u064b\\u0627\\u0636\\u0631 \\u0625\\u064e\\u0644\\u0651\\u0649\\u0652 \\u0623\\u064b\\u0646 \\u064c\\u062b\\u064e\\u0645\\u0629\\u0651 \\u064b\\u062b\\u0644\\u0627\\u064e\\u062b\\u064c \\u0646\\u0642\\u0651\\u0627\\u0637 \\u064e\\u0644\\u064b\\u0644\\u0650\\u0627\\u064b\\u0631\\u064c\\u062a\\u0642\\u0650\\u0627\\u0621\\u064b \\u064e\\u0628\\u064d\\u0627\\u064d\\u0644\\u0641\\u0643\\u0652\\u0631\\u0629 \\u064d\\u0627\\u064d\\u0644\\u062b\\u0642\\u0651\\u0627\\u0641\\u064d\\u064a\\u064d\\u0629\\u0650 \\u0641\\u064e\\u064a\\u064d \\u064f\\u0627\\u0644\\u064c\\u0634\\u064d\\u0627\\u0631\\u0652\\u0642\\u0629 \\u0623\\u064d\\u0648\\u0644\\u0650\\u0647\\u0627 \\u064d\\u062a\\u0652\\u0623\\u064b\\u0633\\u064e\\u064a\\u0633 \\u0650\\u062f\\u0652\\u0627\\u0652\\u0626\\u0650\\u0631\\u0652\\u0629\\u064e \\u064e\\u0627\\u0644\\u062b\\u0642\\u0651\\u0627\\u0641\\u0629 \\u0648\\u064e\\u0627\\u0650\\u0644\\u064e\\u0625\\u0639\\u0650\\u0644\\u0627\\u0645\\u0651\\u060c \\u064c\\u0648\\u0650\\u062b\\u0652\\u0627\\u0646\\u064a\\u0647\\u0651\\u0627\\u064c \\u0627\\u062c\\u062a\\u0651\\u0645\\u064d\\u0627\\u064d\\u0639 \\u064e\\u0635\\u0627\\u062d\\u0650\\u0628\\u0650 \\u0627\\u0651\\u0644\\u0651\\u0633\\u0651\\u0645\\u0648\\u064d \\u0650\\u062d\\u0627\\u064f\\u0643\\u064b\\u0645 \\u0627\\u0644\\u064f\\u0634\\u0652\\u0627\\u064b\\u0631\\u0642\\u064d\\u0629\\u0651 \\u064c\\u0628\\u0643\\u064f\\u0648\\u0650\\u0627\\u062f\\u064c\\u0631 \\u0627\\u0644\\u064b\\u062f\\u064b\\u0627\\u0650\\u0626\\u0631\\u064b\\u0629 \\u064c\\u0648\\u0642\\u0651\\u062f\\u064f\\u0651\\u0645 \\u0641\\u0651\\u064a\\u0647\\u064f \\u0645\\u062c\\u0650\\u0645\\u064b\\u0648\\u064d\\u0639\\u0651\\u0629\\u064d \\u0645\\u064f\\u0646 \\u0652\\u0627\\u064e\\u0644\\u0633\\u064a\\u0651\\u0627\\u0651\\u0633\\u0627\\u062a \\u0651\\u0627\\u0644\\u062b\\u0642\\u064c\\u0627\\u064b\\u0641\\u064a\\u064e\\u0629 \\u0648\\u064c\\u0627\\u0644\\u062e\\u0651\\u0637\\u0637\\u064b \\u0627\\u0644\\u064d\\u062a\\u0646\\u0645\\u064e\\u0648\\u064a\\u0650\\u0629 \\u0651\\u0648\\u062f\\u0652\\u0639\\u0627 \\u064c\\u0633\\u0650\\u0645\\u064b\\u0648\\u064c\\u0647 \\u064c\\u0625\\u0650\\u0644\\u064f\\u0649: \\u0627\\u0644\\u0627\\u0647\\u0651\\u062a\\u064f\\u0645\\u0627\\u064f\\u0645 \\u0628\\u064b\\u0627\\u0650\\u0644\\u064f\\u0645\\u0652\\u0633\\u0631\\u062d\\u060c\\u0652 \\u0648\\u064b\\u0627\\u0651\\u0644\\u0623\\u0637\\u064c\\u0631\\u0650 \\u0627\\u064d\\u0644\\u0651\\u0639\\u0627\\u064b\\u0645\\u0629 \\u064e\\u0644\\u0644\\u0650\\u062b\\u064e\\u0642\\u0627\\u064d\\u0641\\u0629\\u064d\\u060c\\u0651 \\u0651\\u0627\\u064c\\u0644\\u0650\\u0627\\u0631\\u064f\\u062a\\u0642\\u0627\\u064f\\u0621\\u064c \\u0628\\u064d\\u0627\\u0650\\u0644\\u0639\\u0645\\u0651\\u0644\\u064e \\u0627\\u0644\\u0651\\u062a\\u064d\\u0634\\u0643\\u0651\\u064a\\u0644\\u064a\\u0650\\u060c \\u0627\\u0651\\u0644\\u0627\\u064f\\u0647\\u064f\\u062a\\u0645\\u064d\\u0627\\u0645 \\u0650\\u0628\\u0650\\u0627\\u0651\\u0644\\u064b\\u0648\\u0639\\u0651\\u064a \\u064b\\u0648\\u0650\\u0627\\u0652\\u0644\\u064f\\u0630\\u0627\\u0626\\u0650\\u0642\\u0651\\u0629\\u064c \\u0627\\u0651\\u0644\\u062c\\u0650\\u0645\\u064d\\u0627\\u0652\\u0644\\u0652\\u064a\\u0652\\u0629\\u064f\\u060c \\u0627\\u064d\\u0644\\u0650\\u0627\\u0647\\u064f\\u062a\\u0645\\u0627\\u0651\\u0645\\u0652 \\u064f\\u0628\\u064d\\u0627\\u0644\\u0637\\u0641\\u0644\\u0651\\u060c \\u0651\\u062a\\u0637\\u0648\\u064a\\u0631\\u064b \\u0634\\u0628\\u0643\\u0629\\u0652 \\u0627\\u0644\\u0645\\u0643\\u062a\\u064b\\u0628\\u0627\\u062a\\u060c\\u0652 \\u064e\\u0627\\u0633\\u062a\\u0643\\u064f\\u0645\\u064d\\u0627\\u0644\\u064d \\u0639\\u064b\\u0645\\u064b\\u0644\\u0652\\u064a\\u0627\\u062a \\u064c\\u0627\\u0644\\u064f\\u062a\\u0631\\u0645\\u064a\\u0645\\u0650\\u060c \\u064b\\u0627\\u0644\\u064d\\u0627\\u0647\\u064b\\u062a\\u064c\\u0645\\u0652\\u0627\\u0650\\u0645\\u064d \\u0650\\u0628\\u062b\\u064e\\u0642\\u0652\\u0627\\u064b\\u0641\\u064e\\u0629\\u064d \\u0650\\u0627\\u064d\\u0644\\u0645\\u0650\\u0631\\u064b\\u0623\\u064b\\u0629 \\u0650\\u0648\\u064b\\u0627\\u064f\\u0644\\u064d\\u0637\\u0641\\u0652\\u0644 .\\u0652 \\u064c.\\u064d)\\u064f \\u064b\\u0648\\u062b\\u064b\\u0627\\u064d\\u0644\\u0651\\u062b\\u064b\\u0647\\u064e\\u0627\\u064f \\u064b\\u0625\\u0650\\u0639\\u0650\\u0644\\u0651\\u0627\\u064b\\u0646\\u064f \\u0627\\u0644\\u0634\\u0627\\u0631\\u0642\\u0629\\u064f \\u0651\\u0639\\u0627\\u064d\\u0635\\u064e\\u0645\\u0629\\u064c \\u0644\\u0644\\u064b\\u062b\\u0642\\u064b\\u0627\\u0641\\u0629 \\u064b\\u0627\\u0652\\u0644\\u064e\\u0639\\u0651\\u0631\\u0628\\u064a\\u0629\\u064f \\u064b\\u0641\\u064a\\u064b \\u0639\\u0627\\u0645 19\\u06529\\u064d8 \\u064e\\u0644\\u0645\\u0627 \\u062a\\u062a\\u0645\\u064b\\u064a\\u0632\\u064f \\u0628\\u064f\\u0647\\u064e \\u064e\\u0645\\u064b\\u0646\\u064b \\u064b\\u0646\\u064e\\u0634\\u0650\\u0627\\u0637 \\u0651\\u0648\\u064f\\u062d\\u064b\\u0631\\u0627\\u0643\\u064d \\u064f\\u062b\\u0642\\u0627\\u0641\\u064a\\u0650 \\u0645\\u0652\\u0645\\u064c\\u064a\\u0632\\u064d\\u060c\\u064e \\u064b\\u0641\\u0636\\u0644\\u0627\\u064b\\u064e \\u064f\\u0639\\u0650\\u0646 \\u062f\\u0648\\u0631\\u064b \\u064c\\u0627\\u0644\\u064d\\u062c\\u064f\\u0648\\u0627\\u0652\\u0626\\u064f\\u0632\\u0651 \\u0648\\u0635\\u0650\\u0646\\u064f\\u0627\\u062f\\u0651\\u064a\\u064b\\u0642 \\u064f\\u0627\\u064b\\u0644\\u062f\\u064d\\u0639\\u064c\\u0645\\u060c \\u064d\\u0648\\u0627\\u064f\\u0644\\u062f\\u0628\\u0652\\u0644\\u064b\\u0648\\u0645\\u0627\\u0633\\u064d\\u064a\\u0629 \\u064f\\u0627\\u0650\\u0644\\u064b\\u062b\\u0652\\u0642\\u0627\\u0641\\u0651\\u064a\\u0629\\u060c\\u064e \\u0648\\u0639\\u0650\\u062f\\u062f \\u0648\\u0652\\u0646\\u064c\\u0648\\u0639 \\u064b\\u0627\\u064b\\u0644\\u064c\\u062c\\u064b\\u0627\\u0645\\u0639\\u0650\\u0627\\u064c\\u062a \\u0648\\u0627\\u0644\\u064e\\u0645\\u0650\\u0631\\u0627\\u0652\\u0643\\u0632\\u060c \\u064f\\u0648\\u0627\\u064b\\u0644\\u0625\\u064f\\u062d\\u0635\\u064c\\u0627\\u0650\\u0621\\u064e \\u0627\\u0651\\u0644\\u0627\\u064b\\u062c\\u064f\\u062a\\u0645\\u0627\\u0650\\u0639\\u0650\\u064a\\u0651 \\u064b\\u0641\\u0651\\u064a \\u0628\\u0644\\u0648\\u064e\\u0631\\u0629\\u064f \\u064b\\u0648\\u064c\\u062a\\u064b\\u0631\\u0633\\u0652\\u064a\\u062e \\u064c\\u0645\\u064d\\u0643\\u064e\\u0627\\u0646\\u0629 \\u064b\\u0627\\u0644\\u0651\\u0634\\u0627\\u0651\\u0631\\u064e\\u0642\\u0629 \\u064d\\u0639\\u0627\\u0635\\u0645\\u0629\\u064f \\u0651\\u0644\\u064c\\u0644\\u0651\\u062b\\u064d\\u0642\\u0627\\u064d\\u0641\\u0629\\u064e \\u064c\\u0627\\u064c\\u0644\\u0652\\u0639\\u0650\\u0631\\u0628\\u064a\\u064c\\u0629 \\u0650\\u0648\\u0652\\u0627\\u0644\\u0625\\u064d\\u0633\\u0644\\u0627\\u0651\\u0645\\u064a\\u0652\\u0629\\u060c \\u0648\\u0643\\u064f\\u0644 \\u0651\\u0630\\u0652\\u0644\\u064b\\u0643 \\u064b\\u0628\\u062c\\u0647\\u062f \\u0651\\u0635\\u0651\\u0627\\u062d\\u0628\\u064d \\u0650\\u0627\\u0644\\u064d\\u0633\\u064e\\u0645\\u0648\\u0650 \\u064b\\u062d\\u0650\\u0627\\u064c\\u0643\\u064f\\u0645 \\u064d\\u0627\\u0644\\u0634\\u0627\\u0631\\u064c\\u0642\\u0629 \\u0627\\u064e\\u0644\\u0650\\u0630\\u064a\\u064b \\u064e\\u0639\\u0645\\u064f\\u0644 \\u0651\\u0648\\u064d\\u0644\\u0627 \\u064a\\u0632\\u064f\\u0627\\u064e\\u0644 \\u0628\\u0634\\u063a\\u0641\\u0652 \\u0648\\u062d\\u0628\\u064f \\u0639\\u064f\\u0644\\u0649\\u0652 \\u062a\\u064c\\u0639\\u0632\\u064b\\u064a\\u064b\\u0632\\u064e \\u064c\\u0627\\u064f\\u0644\\u064e\\u062a\\u0646\\u064b\\u0645\\u0651\\u064a\\u064d\\u0629\\u064c \\u0627\\u064e\\u0644\\u064b\\u062b\\u0642\\u064e\\u0627\\u064d\\u0641\\u064c\\u064a\\u0629 \\u064e\\u0641\\u0650\\u064a\\u064f \\u0627\\u0652\\u0644\\u064e\\u0634\\u0627\\u0631\\u064e\\u0642\\u064d\\u0629\\u064e \\u0645\\u0646\\u0650 \\u062e\\u064b\\u0644\\u0650\\u0627\\u0650\\u0644\\u0651 \\u0651\\u0633\\u064e\\u0646\\u0651 \\u0648\\u0625\\u0642\\u064b\\u0631\\u0651\\u0627\\u0631 \\u0645\\u062c\\u0645\\u0648\\u064c\\u0639\\u064e\\u0629\\u064e \\u0645\\u064f\\u0646\\u0651 \\u0627\\u064b\\u0644\\u0645\\u064d\\u0634\\u0650\\u0631\\u0648\\u0639\\u064f\\u0627\\u064f\\u062a\\u0652 \\u0627\\u0644\\u0651\\u062b\\u0650\\u0642\\u0627\\u0652\\u0641\\u0650\\u064a\\u0629\\u064c \\u0650\\u0627\\u0644\\u062a\\u064d\\u064a \\u064e\\u062a\\u064c\\u0647\\u064e\\u062f\\u064d\\u0641\\u064e \\u0625\\u064e\\u0644\\u0650\\u0649 \\u0652\\u062a\\u062d\\u0642\\u064a\\u0642 \\u0630\\u0644\\u0643\\u064d\\u060c\\u064b \\u0650\\u062d\\u062a\\u0650\\u0649 \\u0652\\u0623\\u064e\\u0635\\u0628\\u062d\\u062a\\u0651 \\u064c\\u0627\\u064e\\u0644\\u0634\\u0627\\u064c\\u0631\\u064c\\u0642\\u064b\\u0629\\u0652 \\u0627\\u0644\\u0651\\u064a\\u0648\\u064c\\u0645 \\u0651\\u0648\\u064f\\u062c\\u0647\\u064b\\u0629\\u064e \\u064a\\u0624\\u064f\\u0645\\u064e\\u0647\\u064c\\u0627 \\u0652\\u0627\\u0644\\u064e\\u0645\\u0641\\u064e\\u0643\\u0631\\u0651\\u0648\\u0651\\u0646 \\u0648\\u0650\\u0627\\u0644\\u0645\\u0651\\u062b\\u0642\\u0650\\u0641\\u0651\\u0648\\u0646 \\u0648\\u0627\\u0644\\u0645\\u064f\\u0628\\u064c\\u062f\\u0639\\u064c\\u0648\\u0650\\u0646 \\u0652\\u0648\\u0652\\u0627\\u0651\\u0644\\u064c\\u0643\\u062a\\u064c\\u0627\\u0628\\u0650 \\u064c\\u0645\\u0650\\u0646\\u064f \\u0634\\u062a\\u0650\\u0649\\u064e \\u0623\\u064f\\u0646\\u064d\\u062d\\u0627\\u0621 \\u0627\\u064d\\u0644\\u0652\\u0639\\u0627\\u0644\\u064f\\u0645\\u060c\\u0650 \\u064e\\u0634\\u064b\\u0627\\u0652\\u0645\\u062e\\u0651\\u0629\\u064e \\u0631\\u0627\\u0633\\u062e\\u064b\\u0629 \\u064c\\u0628\\u064c\\u0639\\u0651\\u0637\\u064c\\u0627\\u0626\\u064f\\u0647\\u0650\\u0627 \\u064e\\u0648\\u062a\\u064b\\u0642\\u0650\\u062f\\u0645\\u0647\\u064d\\u0627 \\u0650.\\u064f\"\n        ],\n        \"semantic_type\": \"\",\n        \"description\": \"\"\n      }\n    },\n    {\n      \"column\": \"label\",\n      \"properties\": {\n        \"dtype\": \"category\",\n        \"num_unique_values\": 7,\n        \"samples\": [\n          \"Culture\",\n          \"Finance\",\n          \"Sports\"\n        ],\n        \"semantic_type\": \"\",\n        \"description\": \"\"\n      }\n    }\n  ]\n}"
            }
          },
          "metadata": {},
          "execution_count": 5
        }
      ]
    },
    {
      "cell_type": "markdown",
      "metadata": {
        "id": "kVc0b_9fQGeH"
      },
      "source": [
        "# Data Exploration"
      ]
    },
    {
      "cell_type": "markdown",
      "metadata": {
        "id": "a98DaVUvQsi8"
      },
      "source": [
        "Before diving into preprocessing and model building, it’s important to first explore the dataset to understand its structure, distribution, and key characteristics. This step will help you gain insights into the data and guide your decisions in subsequent steps. Here’s what to consider:\n",
        "\n",
        "1. **Inspect the Data**:\n",
        "   Start by looking at the first few rows of the dataset to get a sense of its structure. Check the columns, data types, and a few sample entries. This helps to ensure that the data is loaded correctly and gives you an initial overview of the content.\n",
        "\n",
        "2. **Check for Missing Values**:\n",
        "   Identify if there are any missing values in the dataset.\n",
        "\n",
        "3. **Distribution of Labels**:\n",
        "   Examine the distribution of the target labels (classes).\n",
        "\n",
        "4. **Text Data Characteristics (Bonus)**:\n",
        "   Analyze the length of the text data. It is useful to calculate the number of words or characters in each text sample to understand how long the texts are. This will help you set a suitable `max_length` for tokenization and padding later. You can plot a histogram of text lengths to visualize the distribution.\n",
        "\n",
        "5. **Common Words and Vocabulary (Bonus)**:\n",
        "   Explore the most frequent words in the text data."
      ]
    },
    {
      "cell_type": "code",
      "execution_count": 6,
      "metadata": {
        "id": "aZgYQbZxWtAt",
        "colab": {
          "base_uri": "https://localhost:8080/",
          "height": 363
        },
        "outputId": "2ed34928-f833-4645-d192-1a27f835ec8d"
      },
      "outputs": [
        {
          "output_type": "execute_result",
          "data": {
            "text/plain": [
              "                                                    text    label\n",
              "34186  https://example.com/resource/أعٌلٌنٌتِ تيْكَوم...     Tech\n",
              "11821  https://example.com/resource/شَهٍدِ سْوٌقِ دبي...  Finance\n",
              "30592  https://example.com/resource/سجْلٍ لُاعبّ الوٍ...   Sports\n",
              "33311  https://example.com/resource/سّيًكَوٌن يِوّفٍن...   Sports\n",
              "10196  https://example.com/resource/وّاصِلُ َالعامّلّ...  Finance\n",
              "6012   https://example.com/resource/احتٌفٍى بْيتّ الش...  Culture\n",
              "2090   https://example.com/resource/نّظًّمُ َاًلمٌجٌل...  Culture\n",
              "9192   https://example.com/resource/تمِكنت أسَواق ًاً...  Finance\n",
              "31149  https://example.com/resource/مْتٍابّعة: ٌضمَيا...   Sports\n",
              "1884   https://example.com/resource/أصٍدْر حٌسن َحِدُ...  Culture"
            ],
            "text/html": [
              "\n",
              "  <div id=\"df-e4cdd240-c6c1-462e-b9cc-ae852db9cb34\" class=\"colab-df-container\">\n",
              "    <div>\n",
              "<style scoped>\n",
              "    .dataframe tbody tr th:only-of-type {\n",
              "        vertical-align: middle;\n",
              "    }\n",
              "\n",
              "    .dataframe tbody tr th {\n",
              "        vertical-align: top;\n",
              "    }\n",
              "\n",
              "    .dataframe thead th {\n",
              "        text-align: right;\n",
              "    }\n",
              "</style>\n",
              "<table border=\"1\" class=\"dataframe\">\n",
              "  <thead>\n",
              "    <tr style=\"text-align: right;\">\n",
              "      <th></th>\n",
              "      <th>text</th>\n",
              "      <th>label</th>\n",
              "    </tr>\n",
              "  </thead>\n",
              "  <tbody>\n",
              "    <tr>\n",
              "      <th>34186</th>\n",
              "      <td>https://example.com/resource/أعٌلٌنٌتِ تيْكَوم...</td>\n",
              "      <td>Tech</td>\n",
              "    </tr>\n",
              "    <tr>\n",
              "      <th>11821</th>\n",
              "      <td>https://example.com/resource/شَهٍدِ سْوٌقِ دبي...</td>\n",
              "      <td>Finance</td>\n",
              "    </tr>\n",
              "    <tr>\n",
              "      <th>30592</th>\n",
              "      <td>https://example.com/resource/سجْلٍ لُاعبّ الوٍ...</td>\n",
              "      <td>Sports</td>\n",
              "    </tr>\n",
              "    <tr>\n",
              "      <th>33311</th>\n",
              "      <td>https://example.com/resource/سّيًكَوٌن يِوّفٍن...</td>\n",
              "      <td>Sports</td>\n",
              "    </tr>\n",
              "    <tr>\n",
              "      <th>10196</th>\n",
              "      <td>https://example.com/resource/وّاصِلُ َالعامّلّ...</td>\n",
              "      <td>Finance</td>\n",
              "    </tr>\n",
              "    <tr>\n",
              "      <th>6012</th>\n",
              "      <td>https://example.com/resource/احتٌفٍى بْيتّ الش...</td>\n",
              "      <td>Culture</td>\n",
              "    </tr>\n",
              "    <tr>\n",
              "      <th>2090</th>\n",
              "      <td>https://example.com/resource/نّظًّمُ َاًلمٌجٌل...</td>\n",
              "      <td>Culture</td>\n",
              "    </tr>\n",
              "    <tr>\n",
              "      <th>9192</th>\n",
              "      <td>https://example.com/resource/تمِكنت أسَواق ًاً...</td>\n",
              "      <td>Finance</td>\n",
              "    </tr>\n",
              "    <tr>\n",
              "      <th>31149</th>\n",
              "      <td>https://example.com/resource/مْتٍابّعة: ٌضمَيا...</td>\n",
              "      <td>Sports</td>\n",
              "    </tr>\n",
              "    <tr>\n",
              "      <th>1884</th>\n",
              "      <td>https://example.com/resource/أصٍدْر حٌسن َحِدُ...</td>\n",
              "      <td>Culture</td>\n",
              "    </tr>\n",
              "  </tbody>\n",
              "</table>\n",
              "</div>\n",
              "    <div class=\"colab-df-buttons\">\n",
              "\n",
              "  <div class=\"colab-df-container\">\n",
              "    <button class=\"colab-df-convert\" onclick=\"convertToInteractive('df-e4cdd240-c6c1-462e-b9cc-ae852db9cb34')\"\n",
              "            title=\"Convert this dataframe to an interactive table.\"\n",
              "            style=\"display:none;\">\n",
              "\n",
              "  <svg xmlns=\"http://www.w3.org/2000/svg\" height=\"24px\" viewBox=\"0 -960 960 960\">\n",
              "    <path d=\"M120-120v-720h720v720H120Zm60-500h600v-160H180v160Zm220 220h160v-160H400v160Zm0 220h160v-160H400v160ZM180-400h160v-160H180v160Zm440 0h160v-160H620v160ZM180-180h160v-160H180v160Zm440 0h160v-160H620v160Z\"/>\n",
              "  </svg>\n",
              "    </button>\n",
              "\n",
              "  <style>\n",
              "    .colab-df-container {\n",
              "      display:flex;\n",
              "      gap: 12px;\n",
              "    }\n",
              "\n",
              "    .colab-df-convert {\n",
              "      background-color: #E8F0FE;\n",
              "      border: none;\n",
              "      border-radius: 50%;\n",
              "      cursor: pointer;\n",
              "      display: none;\n",
              "      fill: #1967D2;\n",
              "      height: 32px;\n",
              "      padding: 0 0 0 0;\n",
              "      width: 32px;\n",
              "    }\n",
              "\n",
              "    .colab-df-convert:hover {\n",
              "      background-color: #E2EBFA;\n",
              "      box-shadow: 0px 1px 2px rgba(60, 64, 67, 0.3), 0px 1px 3px 1px rgba(60, 64, 67, 0.15);\n",
              "      fill: #174EA6;\n",
              "    }\n",
              "\n",
              "    .colab-df-buttons div {\n",
              "      margin-bottom: 4px;\n",
              "    }\n",
              "\n",
              "    [theme=dark] .colab-df-convert {\n",
              "      background-color: #3B4455;\n",
              "      fill: #D2E3FC;\n",
              "    }\n",
              "\n",
              "    [theme=dark] .colab-df-convert:hover {\n",
              "      background-color: #434B5C;\n",
              "      box-shadow: 0px 1px 3px 1px rgba(0, 0, 0, 0.15);\n",
              "      filter: drop-shadow(0px 1px 2px rgba(0, 0, 0, 0.3));\n",
              "      fill: #FFFFFF;\n",
              "    }\n",
              "  </style>\n",
              "\n",
              "    <script>\n",
              "      const buttonEl =\n",
              "        document.querySelector('#df-e4cdd240-c6c1-462e-b9cc-ae852db9cb34 button.colab-df-convert');\n",
              "      buttonEl.style.display =\n",
              "        google.colab.kernel.accessAllowed ? 'block' : 'none';\n",
              "\n",
              "      async function convertToInteractive(key) {\n",
              "        const element = document.querySelector('#df-e4cdd240-c6c1-462e-b9cc-ae852db9cb34');\n",
              "        const dataTable =\n",
              "          await google.colab.kernel.invokeFunction('convertToInteractive',\n",
              "                                                    [key], {});\n",
              "        if (!dataTable) return;\n",
              "\n",
              "        const docLinkHtml = 'Like what you see? Visit the ' +\n",
              "          '<a target=\"_blank\" href=https://colab.research.google.com/notebooks/data_table.ipynb>data table notebook</a>'\n",
              "          + ' to learn more about interactive tables.';\n",
              "        element.innerHTML = '';\n",
              "        dataTable['output_type'] = 'display_data';\n",
              "        await google.colab.output.renderOutput(dataTable, element);\n",
              "        const docLink = document.createElement('div');\n",
              "        docLink.innerHTML = docLinkHtml;\n",
              "        element.appendChild(docLink);\n",
              "      }\n",
              "    </script>\n",
              "  </div>\n",
              "\n",
              "\n",
              "<div id=\"df-fc10dfd6-6695-4c99-a956-5d309dcc101e\">\n",
              "  <button class=\"colab-df-quickchart\" onclick=\"quickchart('df-fc10dfd6-6695-4c99-a956-5d309dcc101e')\"\n",
              "            title=\"Suggest charts\"\n",
              "            style=\"display:none;\">\n",
              "\n",
              "<svg xmlns=\"http://www.w3.org/2000/svg\" height=\"24px\"viewBox=\"0 0 24 24\"\n",
              "     width=\"24px\">\n",
              "    <g>\n",
              "        <path d=\"M19 3H5c-1.1 0-2 .9-2 2v14c0 1.1.9 2 2 2h14c1.1 0 2-.9 2-2V5c0-1.1-.9-2-2-2zM9 17H7v-7h2v7zm4 0h-2V7h2v10zm4 0h-2v-4h2v4z\"/>\n",
              "    </g>\n",
              "</svg>\n",
              "  </button>\n",
              "\n",
              "<style>\n",
              "  .colab-df-quickchart {\n",
              "      --bg-color: #E8F0FE;\n",
              "      --fill-color: #1967D2;\n",
              "      --hover-bg-color: #E2EBFA;\n",
              "      --hover-fill-color: #174EA6;\n",
              "      --disabled-fill-color: #AAA;\n",
              "      --disabled-bg-color: #DDD;\n",
              "  }\n",
              "\n",
              "  [theme=dark] .colab-df-quickchart {\n",
              "      --bg-color: #3B4455;\n",
              "      --fill-color: #D2E3FC;\n",
              "      --hover-bg-color: #434B5C;\n",
              "      --hover-fill-color: #FFFFFF;\n",
              "      --disabled-bg-color: #3B4455;\n",
              "      --disabled-fill-color: #666;\n",
              "  }\n",
              "\n",
              "  .colab-df-quickchart {\n",
              "    background-color: var(--bg-color);\n",
              "    border: none;\n",
              "    border-radius: 50%;\n",
              "    cursor: pointer;\n",
              "    display: none;\n",
              "    fill: var(--fill-color);\n",
              "    height: 32px;\n",
              "    padding: 0;\n",
              "    width: 32px;\n",
              "  }\n",
              "\n",
              "  .colab-df-quickchart:hover {\n",
              "    background-color: var(--hover-bg-color);\n",
              "    box-shadow: 0 1px 2px rgba(60, 64, 67, 0.3), 0 1px 3px 1px rgba(60, 64, 67, 0.15);\n",
              "    fill: var(--button-hover-fill-color);\n",
              "  }\n",
              "\n",
              "  .colab-df-quickchart-complete:disabled,\n",
              "  .colab-df-quickchart-complete:disabled:hover {\n",
              "    background-color: var(--disabled-bg-color);\n",
              "    fill: var(--disabled-fill-color);\n",
              "    box-shadow: none;\n",
              "  }\n",
              "\n",
              "  .colab-df-spinner {\n",
              "    border: 2px solid var(--fill-color);\n",
              "    border-color: transparent;\n",
              "    border-bottom-color: var(--fill-color);\n",
              "    animation:\n",
              "      spin 1s steps(1) infinite;\n",
              "  }\n",
              "\n",
              "  @keyframes spin {\n",
              "    0% {\n",
              "      border-color: transparent;\n",
              "      border-bottom-color: var(--fill-color);\n",
              "      border-left-color: var(--fill-color);\n",
              "    }\n",
              "    20% {\n",
              "      border-color: transparent;\n",
              "      border-left-color: var(--fill-color);\n",
              "      border-top-color: var(--fill-color);\n",
              "    }\n",
              "    30% {\n",
              "      border-color: transparent;\n",
              "      border-left-color: var(--fill-color);\n",
              "      border-top-color: var(--fill-color);\n",
              "      border-right-color: var(--fill-color);\n",
              "    }\n",
              "    40% {\n",
              "      border-color: transparent;\n",
              "      border-right-color: var(--fill-color);\n",
              "      border-top-color: var(--fill-color);\n",
              "    }\n",
              "    60% {\n",
              "      border-color: transparent;\n",
              "      border-right-color: var(--fill-color);\n",
              "    }\n",
              "    80% {\n",
              "      border-color: transparent;\n",
              "      border-right-color: var(--fill-color);\n",
              "      border-bottom-color: var(--fill-color);\n",
              "    }\n",
              "    90% {\n",
              "      border-color: transparent;\n",
              "      border-bottom-color: var(--fill-color);\n",
              "    }\n",
              "  }\n",
              "</style>\n",
              "\n",
              "  <script>\n",
              "    async function quickchart(key) {\n",
              "      const quickchartButtonEl =\n",
              "        document.querySelector('#' + key + ' button');\n",
              "      quickchartButtonEl.disabled = true;  // To prevent multiple clicks.\n",
              "      quickchartButtonEl.classList.add('colab-df-spinner');\n",
              "      try {\n",
              "        const charts = await google.colab.kernel.invokeFunction(\n",
              "            'suggestCharts', [key], {});\n",
              "      } catch (error) {\n",
              "        console.error('Error during call to suggestCharts:', error);\n",
              "      }\n",
              "      quickchartButtonEl.classList.remove('colab-df-spinner');\n",
              "      quickchartButtonEl.classList.add('colab-df-quickchart-complete');\n",
              "    }\n",
              "    (() => {\n",
              "      let quickchartButtonEl =\n",
              "        document.querySelector('#df-fc10dfd6-6695-4c99-a956-5d309dcc101e button');\n",
              "      quickchartButtonEl.style.display =\n",
              "        google.colab.kernel.accessAllowed ? 'block' : 'none';\n",
              "    })();\n",
              "  </script>\n",
              "</div>\n",
              "\n",
              "    </div>\n",
              "  </div>\n"
            ],
            "application/vnd.google.colaboratory.intrinsic+json": {
              "type": "dataframe",
              "summary": "{\n  \"name\": \"df\",\n  \"rows\": 10,\n  \"fields\": [\n    {\n      \"column\": \"text\",\n      \"properties\": {\n        \"dtype\": \"string\",\n        \"num_unique_values\": 10,\n        \"samples\": [\n          \"https://example.com/resource/\\u0645\\u0652\\u062a\\u064d\\u0627\\u0628\\u0651\\u0639\\u0629: \\u064c\\u0636\\u0645\\u064e\\u064a\\u0627\\u0621 \\u064e\\u0641\\u0652\\u0627\\u064f\\u0644\\u064d\\u062d\\u064c\\u0643\\u0651\\u0634\\u0641\\u064e\\u062a\\u0652 \\u062a\\u0642\\u0627\\u064c\\u0631\\u064a\\u064d\\u0631 \\u0635\\u062d\\u0652\\u0641\\u064a\\u0629\\u0651 \\u0639\\u0646\\u0651 \\u064d\\u0639\\u064d\\u062c\\u0632\\u0652 \\u0646\\u0652\\u0627\\u0651\\u062f\\u064d\\u064a\\u0652 \\u0651\\u0628\\u064e\\u0631\\u0634\\u064c\\u0644\\u0648\\u0646\\u064b\\u0629 \\u064e\\u0639\\u0646\\u0651 \\u062a\\u0633\\u064d\\u062c\\u064f\\u064a\\u0644\\u064b \\u0627\\u064c\\u0644\\u064e\\u062a\\u0631\\u064d\\u0643\\u064e\\u064a\\u064b \\u0650\\u0623\\u0631\\u062f\\u0627\\u064f \\u064e\\u062a\\u064c\\u0648\\u0651\\u0631\\u0627\\u0646 \\u0652\\u0643\\u064f\\u0644\\u0627\\u064d\\u0639\\u0628\\u064e \\u0641\\u064a \\u0652\\u0627\\u0644\\u064b\\u0641\\u064f\\u0631\\u0650\\u064a\\u064f\\u0642 \\u0642\\u064c\\u0628\\u0644\\u064b \\u0627\\u064e\\u0644\\u0652\\u0631\\u0651\\u0627\\u0628\\u064d\\u0639\\u0650 \\u0650\\u0645\\u064f\\u0646 \\u064e\\u064a\\u064c\\u0646\\u0627\\u064e\\u064a\\u0650\\u0631/\\u0650\\u200f \\u064b\\u0643\\u0651\\u0627\\u0646\\u0648\\u0646\\u0651 \\u0627\\u0644\\u0652\\u062b\\u0627\\u0646\\u064e\\u064a\\u064b \\u0652\\u0627\\u064b\\u0644\\u064d\\u0645\\u0642\\u0628\\u0644\\u064b \\u0644\\u064a\\u064e\\u0644\\u064c\\u0639\\u064c\\u0628 \\u0628\\u064e\\u062f\\u064b\\u064a\\u0644\\u0650\\u0627\\u064b \\u064e\\u0645\\u064b\\u0646 \\u0650\\u0627\\u064f\\u0644\\u0645\\u0635\\u0651\\u0627\\u064e\\u0628\\u064b \\u064d\\u0631\\u0650\\u0627\\u0650\\u0641\\u064a\\u064c\\u0646\\u064d\\u064a\\u064e\\u0627\\u064c \\u064d\\u0623\\u0644\\u0643\\u064c\\u0627\\u0646\\u064f\\u062a\\u064e\\u0627\\u0631\\u0652\\u0627\\u064f. \\u0648\\u064a\\u0633\\u0645\\u062d \\u0627\\u062a\\u062d\\u0627\\u062f\\u0652 \\u0627\\u0644\\u064b\\u0643\\u0651\\u0631\\u0652\\u0629\\u0652 \\u0652\\u0627\\u0644\\u0625\\u0633\\u0628\\u0627\\u0646\\u064d\\u064a \\u0628\\u064c\\u062a\\u0633\\u0652\\u062c\\u064a\\u0644 \\u0650\\u0644\\u0627\\u0650\\u0639\\u0628\\u064f \\u0641\\u064a\\u0651 \\u062d\\u064c\\u0627\\u0644\\u064d \\u0651\\u0627\\u062d\\u0651\\u062a\\u064a\\u0627\\u062c\\u064d \\u0627\\u064d\\u0644\\u064b\\u0641\\u064f\\u0631\\u064d\\u064a\\u0642 \\u064e\\u0644\\u064f\\u0644\\u0627\\u0651\\u0639\\u064e\\u0628 \\u064b\\u062c\\u064b\\u062f\\u064a\\u064e\\u062f\\u064f \\u0644\\u0643\\u0646\\u0651 \\u0639\\u0642\\u064e\\u0648\\u064d\\u0628\\u064d\\u0627\\u062a\\u0651 \\u064f\\u0627\\u0652\\u0644\\u0641\\u064a\\u0641\\u0627\\u064e \\u064b\\u0644\\u0627\\u0651 \\u062a\\u0633\\u0652\\u0645\\u062d \\u064b\\u0628\\u064e\\u062a\\u0633\\u062c\\u0651\\u064a\\u0650\\u0644 \\u064d\\u062a\\u0650\\u0648\\u064c\\u0631\\u0627\\u0646\\u064d \\u064b\\u0648\\u064d\\u0644\\u0651\\u0627\\u0652 \\u064b\\u0623\\u0652\\u0644\\u0652\\u064a\\u064e\\u0643\\u0633 \\u0641\\u064a\\u0651\\u062f\\u064c\\u0627\\u0644 \\u062d\\u062a\\u064e\\u0649\\u0651 \\u0627\\u0644\\u064e\\u0639\\u0627\\u0645 \\u064c\\u0627\\u064c\\u0644\\u0651\\u0645\\u064e\\u0642\\u0628\\u0652\\u0644\\u0651\\u060c \\u064f\\u0643\\u0645\\u0627 \\u0651\\u0623\\u0643\\u064f\\u062f \\u064b\\u0627\\u064c\\u0644\\u064c\\u0645\\u064f\\u062f\\u0651\\u064a\\u064b\\u0631\\u064f \\u064e\\u0627\\u0644\\u0631\\u064a\\u0627\\u0636\\u064a \\u0644\\u0628\\u0651\\u0631\\u0634\\u0652\\u0644\\u0648\\u0646\\u064d\\u0629 \\u0631\\u064e\\u0648\\u064b\\u0628\\u064c\\u0631\\u062a \\u064b\\u0641\\u064a\\u0650\\u0631\\u0646\\u0627\\u064b\\u0646\\u064c\\u062f\\u064a\\u064f\\u0632\\u0650 \\u0645\\u0648\\u064e\\u0627\\u0635\\u0644\\u0629\\u0651 \\u0627\\u0644\\u0639\\u0645\\u064e\\u0644 \\u0639\\u0644\\u0649 \\u0650\\u0625\\u064f\\u064a\\u064b\\u062c\\u0627\\u062f\\u064c \\u0650\\u0628\\u064e\\u062f\\u0652\\u064a\\u0644 \\u0644\\u0628\\u062f\\u0631\\u0652\\u0648 \\u064d\\u0627\\u064e\\u0644\\u064c\\u0631\\u0627\\u062d\\u064c\\u0644 \\u0635\\u064f\\u0648\\u064e\\u0628\\u0652 \\u0650\\u062a\\u0634\\u064a\\u0652\\u0644\\u064c\\u0633\\u064a \\u0648\\u0648\\u0631\\u064e\\u062f\\u064c \\u064d\\u0627\\u0633\\u0645\\u064c\\u0627 \\u0650\\u0646\\u064d\\u0648\\u0644\\u064a\\u062a\\u0648 \\u0650\\u0648\\u0641\\u063a\\u0651\\u0648\\u064b\\u0644\\u064d\\u064a\\u0650 \\u064c\\u0627\\u0651\\u0644\\u064b\\u0630\\u064d\\u064a \\u064a\\u064b\\u0646\\u0650\\u062a\\u0647\\u064a \\u0639\\u0642\\u062f\\u0652\\u0647 \\u0645\\u0639 \\u0641\\u0627\\u0644\\u064d\\u0646\\u0650\\u0633\\u064a\\u0627\\u064b \\u064e\\u064a\\u0648\\u0652\\u0646\\u0651\\u064a\\u0651\\u0648\\u0652/\\u200f \\u062d\\u0632\\u064b\\u064a\\u0631\\u064d\\u0627\\u0646 2\\u064d0\\u064c16\\u064b. \\u064f\\u0648\\u0648\\u0631\\u064d\\u062f \\u0627\\u0633\\u0645\\u064f \\u062f\\u064b\\u064a\\u0646\\u064a\\u0633\\u0651 \\u064f\\u0633\\u0648\\u0627\\u0651\\u0631\\u064c\\u064a\\u064d\\u0632\\u064e \\u0648\\u063a\\u0646\\u062f\\u064b\\u0648\\u063a\\u0627\\u064e\\u0646 \\u0643\\u0628\\u064e\\u062f\\u064a\\u0652\\u0644\\u064c\\u064a\\u064e\\u0646 \\u0644\\u064d\\u0631\\u0627\\u064e\\u0641\\u0652\\u064a\\u0646\\u064a\\u0627 \\u0644\\u0643\\u064f\\u0646\\u064b \\u0633\\u0648\\u0650\\u0627\\u0631\\u064a\\u0650\\u0632 \\u0651\\u0644\\u064b\\u0627\\u064d\\u0639\\u064d\\u0628\\u0651 \\u0651\\u0648\\u064b\\u0633\\u064c\\u0637\\u064b \\u0625\\u064f\\u0634\\u0651\\u0628\\u064e\\u064a\\u0644\\u064a\\u0629\\u0650 \\u0627\\u0652\\u0644\\u0630\\u064a\\u0652 \\u0644\\u0646 \\u064e\\u064a\\u0643\\u0644\\u0652\\u0641 \\u0628\\u0651\\u0631\\u0652\\u0634\\u0644\\u0652\\u0648\\u0646\\u0629\\u0652 \\u0651\\u0633\\u064f\\u0648\\u064e\\u0649\\u064d \\u064d3 \\u064c\\u0645\\u0644\\u064b\\u0627\\u064d\\u064a\\u0652\\u064a\\u064c\\u0646 \\u064b\\u064a\\u0648\\u064f\\u0631\\u064e\\u0648\\u064c \\u064c\\u064a\\u064b\\u0641\\u0650\\u062a\\u0642\\u0631 \\u0651\\u0644\\u0644\\u064f\\u062e\\u064c\\u0628\\u0650\\u0631\\u0629\\u0650 \\u0648\\u0641\\u064d\\u0642 \\u064d\\u0627\\u064c\\u0644\\u0645\\u062f\\u0652\\u0631\\u064d\\u0628 \\u0625\\u0646\\u0631\\u064a\\u0643\\u064b\\u064a\\u064d \\u0641\\u064a\\u0645\\u064d\\u0627 \\u0639\\u0652\\u0627\\u062f \\u063a\\u064e\\u0646\\u0650\\u062f\\u064f\\u0648\\u063a\\u0627\\u0646 \\u0652\\u0644\\u0651\\u0644\\u064c\\u062a\\u0648 \\u0645\\u0646\\u064c \\u0625\\u064b\\u0635\\u0627\\u0628\\u0651\\u0629 \\u0637\\u0648\\u064a\\u064d\\u0644\\u064d\\u0629 \\u0648\\u064e\\u064a\\u0652\\u0645\\u064c\\u0643\\u0646 \\u0644\\u0652\\u0628\\u0631\\u0634\\u064f\\u0644\\u0650\\u0648\\u0646\\u064f\\u0629 \\u064b\\u0645\\u064f\\u0639\\u064b \\u0650\\u0630\\u0644\\u0652\\u0643 \\u0627\\u0633\\u062a\\u0651\\u062e\\u0651\\u062f\\u0627\\u0645\\u0647\\u064b \\u0641\\u064e\\u064a\\u064b \\u0650\\u062f\\u0648\\u064b\\u0631\\u064e\\u064a\\u064b \\u064c\\u0627\\u064d\\u0644\\u0623\\u0651\\u0628\\u0637\\u064f\\u0627\\u0651\\u0644\\u064c \\u0652\\u0644\\u064f\\u0623\\u0646\\u064e \\u064b\\u0646\\u064f\\u0627\\u064b\\u062f\\u064c\\u064a\\u064b\\u0647 \\u062f\\u064c\\u0648\\u0631\\u062a\\u064c\\u0645\\u0648\\u064b\\u0646\\u0651\\u062f\\u064f \\u0651\\u0644\\u064e\\u064a\\u0633\\u064f \\u0652\\u0645\\u064b\\u0634\\u064b\\u0627\\u0631\\u064e\\u0643\\u0627\\u064b \\u0641\\u064f\\u064a \\u0652\\u0627\\u0644\\u0645\\u0650\\u0633\\u0650\\u0627\\u064c\\u0628\\u0651\\u0642\\u0629 \\u0651\\u0647\\u0650\\u0630\\u0627 \\u0627\\u0650\\u0644\\u0652\\u0645\\u0648\\u0652\\u0633\\u0645. \\u064c\\u0648\\u064d\\u0641\\u064e\\u064a \\u0633\\u064e\\u064a\\u064b\\u0627\\u064f\\u0642 \\u0645\\u0650\\u062a\\u0652\\u0635\\u064b\\u0644\\u060c\\u064f \\u064c\\u0643\\u064b\\u0634\\u0652\\u0641 \\u064e\\u0645\\u064e\\u0635\\u064c\\u062f\\u0631\\u0652 \\u0641\\u064a\\u064b \\u0628\\u0650\\u0631\\u0634\\u064e\\u0644\\u0648\\u064e\\u0646\\u0651\\u0629\\u064b \\u0623\\u064c\\u0646 \\u0627\\u0644\\u064f\\u0631\\u064f\\u0626\\u0652\\u064a\\u064c\\u0633 \\u0652\\u0628\\u0651\\u0627\\u064f\\u0631\\u062a\\u0651\\u0648\\u0651\\u0645\\u064d\\u0648 \\u064a\\u064c\\u0641\\u0643\\u0631 \\u064b\\u0641\\u064a\\u064c \\u0639\\u0651\\u062f\\u064d\\u0645 \\u062d\\u0651\\u0636\\u064e\\u0648\\u064f\\u0631 \\u0652\\u0645\\u064c\\u0628\\u064c\\u0627\\u0631\\u064a\\u0650\\u0627\\u064d\\u062a \\u064e\\u0627\\u064f\\u0644\\u0641\\u0631\\u064a\\u064e\\u0642\\u0650 \\u0641\\u064a\\u064e \\u0650\\u0628\\u0637\\u0648\\u064d\\u0644\\u0629 \\u0652\\u0643\\u064f\\u0623\\u0633 \\u0627\\u0644\\u064c\\u0639\\u0627\\u0644\\u0645 \\u0651\\u0644\\u0644\\u0623\\u0646\\u0651\\u062f\\u064a\\u064d\\u0629\\u064f \\u0627\\u064d\\u0644\\u062a\\u0651\\u064a\\u0651 \\u064c\\u0645\\u064d\\u0646\\u064d \\u0650\\u0627\\u0644\\u064b\\u0645\\u064c\\u0642\\u0652\\u0631\\u0631\\u064e \\u0625\\u064e\\u0642\\u0627\\u0652\\u0645\\u062a\\u0650\\u0647\\u064c\\u0627\\u064e \\u064c\\u0641\\u064d\\u064a \\u064a\\u0650\\u0648\\u0643\\u0648\\u064c\\u0647\\u0627\\u0652\\u0645\\u0650\\u0627 \\u0627\\u0652\\u0644\\u064f\\u064a\\u0627\\u0650\\u0628\\u0652\\u0627\\u064b\\u0646\\u064a\\u0652\\u0629 \\u0652\\u062f\\u064a\\u0633\\u064d\\u0645\\u0628\\u0631\\u064d /\\u200f \\u064c\\u0643\\u0650\\u0627\\u0651\\u0646\\u0651\\u0648\\u064b\\u0646\\u064d \\u0627\\u0652\\u0644\\u0651\\u0623\\u064c\\u0648\\u064b\\u0644\\u0652 \\u0652\\u0627\\u064b\\u0644\\u0645\\u0652\\u0642\\u064d\\u0628\\u0644 \\u0651\\u0648\\u0630\\u0644\\u064e\\u0643\\u0651 \\u062a\\u064c\\u0639\\u064f\\u0628\\u064a\\u0631\\u0627 \\u0639\\u064b\\u0646 \\u0627\\u0650\\u0645\\u062a\\u0652\\u0639\\u064c\\u0627\\u0650\\u0636 \\u0625\\u064f\\u062f\\u0627\\u0650\\u0631\\u0629\\u064f \\u0627\\u0652\\u0644\\u0646\\u0627\\u062f\\u064b\\u064a \\u064c\\u0627\\u064c\\u0644\\u0643\\u0627\\u064d\\u062a\\u0627\\u0651\\u0644\\u064b\\u0648\\u0646\\u064d\\u064a \\u0645\\u064e\\u0646\\u0652 \\u0652\\u0639\\u064d\\u0642\\u064f\\u0648\\u0652\\u0628\\u064c\\u0627\\u064b\\u062a \\u0627\\u0644\\u0641\\u0650\\u064a\\u064f\\u0641\\u064e\\u0627 \\u064d\\u0627\\u0650\\u0644\\u0652\\u062a\\u0650\\u064a\\u0651 \\u064c\\u0627\\u064b\\u062b\\u0631\\u0651\\u062a\\u064c \\u062e\\u0627\\u0651\\u0635\\u0650\\u0629\\u0652 \\u064f\\u0639\\u064b\\u0644\\u0649 \\u0623\\u0643\\u0651\\u0627\\u0650\\u062f\\u0651\\u064a\\u064c\\u0645\\u064a\\u0629\\u0652 \\u0644\\u0627 \\u0651\\u0645\\u0627\\u0633\\u064b\\u064a\\u0627. \\u064f\\u0648\\u0633\\u0628\\u0642 \\u0650\\u0644\\u0628\\u0627\\u064b\\u0631\\u0652\\u062a\\u0652\\u0648\\u0645\\u0652\\u0648\\u064e \\u0623\\u064d\\u0646\\u0651 \\u063a\\u064b\\u0627\\u0628 \\u0652\\u0639\\u0646 \\u062d\\u0641\\u064c\\u0644\\u0650 \\u062c\\u0651\\u0627\\u0626\\u0651\\u0632\\u0629\\u064b \\u064b\\u0627\\u0644\\u0652\\u0643\\u0631\\u0629\\u064b \\u0627\\u064c\\u0644\\u0630\\u064f\\u0647\\u064d\\u0628\\u064b\\u064a\\u0652\\u0629\\u0652 \\u0627\\u064c\\u0644\\u0623\\u064b\\u062e\\u064c\\u064a\\u064d\\u0631 \\u0648\\u064d\\u0627\\u064e\\u0644\\u0630\\u064b\\u064a\\u0652 \\u0623\\u0650\\u0642\\u064a\\u0650\\u0645\\u064e \\u0641\\u064a \\u0633\\u0650\\u0648\\u064a\\u0633\\u0650\\u0631\\u0627\\u064c \\u064a\\u0646\\u064c\\u0627\\u064a\\u064c\\u0631\\u0651/\\u0651\\u200f\\u064e \\u0651\\u0643\\u064f\\u0627\\u064f\\u0646\\u0648\\u064e\\u0646\\u064c \\u0652\\u0627\\u0644\\u062b\\u0627\\u0646\\u0652\\u064a\\u064d \\u064d\\u0627\\u0644\\u0645\\u0627\\u0636\\u064c\\u064a \\u0648\\u064e\\u0628\\u064e\\u0639\\u062b\\u064e \\u0645\\u0643\\u0627\\u064b\\u0646\\u0647\\u064e \\u0652\\u0645\\u062f\\u064a\\u0651\\u0631\\u064a\\u0647\\u0652 \\u0627\\u0644\\u064f\\u062a\\u0646\\u0641\\u064d\\u064a\\u064e\\u0630\\u064a\\u064a\\u0651\\u0646\\u0651 \\u064b\\u0631\\u064b\\u0627\\u0624\\u0648\\u0644 \\u0651\\u0633\\u0627\\u0646\\u064d\\u064a\\u0652\\u0644\\u0644\\u0650\\u064a\\u064d \\u0652\\u0648\\u064e\\u0623\\u0644\\u064f\\u0628\\u0631\\u064d\\u062a \\u0652\\u0633\\u064e\\u0648\\u0652\\u0644\\u0652\\u0631\\u064d \\u0641\\u064a \\u064e\\u062a\\u0652\\u0639\\u0628\\u064e\\u064a\\u0631 \\u0648\\u0627\\u064e\\u0636\\u0650\\u062d \\u0644\\u064d\\u0639\\u062f\\u064e\\u0645\\u064e \\u064c\\u0631\\u064f\\u0636\\u0627\\u064d \\u064b\\u0627\\u0644\\u0652\\u0646\\u0627\\u064b\\u062f\\u064a\\u0650 \\u0651\\u0639\\u0646 \\u064d\\u0627\\u0651\\u0644\\u0639\\u0650\\u0642\\u0648\\u064d\\u0628\\u064c\\u0627\\u064f\\u062a\\u0652 \\u0648\\u0639\\u0646 \\u0650\\u0627\\u064f\\u0644\\u064f\\u0631\\u0626\\u064c\\u064a\\u0633\\u0650 \\u0628\\u064e\\u0644\\u0627\\u062a\\u0631.\\u064d \\u0648\\u0639\\u0650\\u0628\\u0631\\u064e \\u0628\\u064b\\u0627\\u064e\\u0631\\u064b\\u062a\\u0648\\u0645\\u0648\\u064d \\u064d\\u0639\\u064f\\u0646\\u0652 \\u064e\\u062e\\u0634\\u064a\\u062a\\u0647 \\u0645\\u0651\\u0646\\u0651 \\u0623\\u0646\\u0650 \\u064a\\u0651\\u062a\\u064e\\u0633\\u064b\\u0628\\u0628\\u064d \\u0634\\u0652\\u0631\\u064b\\u0637\\u064f \\u062a\\u064d\\u062d\\u062f\\u064a\\u0650\\u062f \\u0623\\u064b\\u062c\\u064f\\u0648\\u0651\\u0631 \\u0627\\u0650\\u0644\\u0644\\u064f\\u0627\\u064d\\u0639\\u0628\\u064a\\u064d\\u0646\\u064d \\u0648\\u0651\\u0641\\u064d\\u0642 \\u064b\\u0636\\u064b\\u0648\\u0627\\u064b\\u0628\\u0637 \\u0651\\u0627\\u064d\\u0644\\u0651\\u0644\\u0651\\u0639\\u0628\\u064b \\u064b\\u0627\\u0644\\u0645\\u0627\\u0644\\u064a\\u0652 \\u064e\\u0627\\u064c\\u0644\\u064b\\u0646\\u0638\\u064a\\u0652\\u0641 \\u0652\\u0639\\u0627\\u0626\\u0642\\u0627\\u064e\\u064b \\u064b\\u0623\\u0645\\u0627\\u0645 \\u0627\\u0644\\u0646\\u0627\\u062f\\u064b\\u064a\\u064b \\u0644\\u064e\\u0634\\u0650\\u0631\\u0627\\u064b\\u0621 \\u064d\\u0644\\u0651\\u0627\\u0639\\u0651\\u0628\\u064a\\u0646\\u0652.\\u064e \\u064b\\u0648\\u064b\\u064a\\u0651\\u0628\\u062d\\u062b\\u064c \\u0628\\u0650\\u0627\\u0631\\u062a\\u0648\\u064d\\u0645\\u0648\\u064b \\u064f\\u0627\\u0644\\u0622\\u0652\\u0646 \\u0639\\u0646 \\u064b\\u0637\\u0631\\u064c\\u0642\\u0651 \\u064b\\u0623\\u062e\\u0650\\u0631\\u064e\\u0649\\u064e \\u0644\\u064b\\u0631\\u0641\\u0639 \\u064d\\u0623\\u062c\\u0648\\u0652\\u0631 \\u064d\\u0627\\u0652\\u0644\\u064f\\u0644\\u064b\\u0627\\u064d\\u0639\\u064d\\u0628\\u064e\\u064a\\u0646 \\u064b\\u0645\\u062b\\u0644 \\u064e\\u0631\\u0651\\u0639\\u0627\\u064a\\u064f\\u0629 \\u064c\\u0634\\u0631\\u0643\\u0651\\u0627\\u064b\\u062a\\u064f \\u064f\\u0644\\u064e\\u0642\\u064e\\u0645\\u064a\\u0635 \\u0627\\u0644\\u064f\\u0641\\u0631\\u064d\\u064a\\u0642 \\u0650.\\u0651\\u0648\\u0641\\u064d\\u064a \\u0633\\u064a\\u064d\\u0627\\u064b\\u0642\\u0650 \\u0651\\u0645\\u062a\\u0635\\u0652\\u0644\\u060c \\u0650\\u062a\\u0633\\u0639\\u0649 \\u064f\\u0641\\u0631\\u0651\\u0642 \\u064f\\u0625\\u0652\\u0642\\u0644\\u064c\\u064a\\u064e\\u0645 \\u064e\\u0643\\u0651\\u0627\\u062a\\u064e\\u0627\\u0644\\u0648\\u0646\\u064b\\u064a\\u0627\\u064f \\u0644\\u062a\\u0633\\u062c\\u064a\\u064c\\u0644 \\u064b\\u00ab\\u062f\\u0652\\u0648\\u0631\\u064a\\u064e \\u0643\\u064b\\u0627\\u062a\\u0627\\u064f\\u0644\\u0648\\u064f\\u0646\\u064a\\u0627 \\u064c\\u0644\\u064e\\u0644\\u064f\\u0645\\u064d\\u062d\\u0651\\u062a\\u0631\\u064b\\u0641\\u064a\\u0646\\u064d\\u00bb\\u0650 \\u0650\\u0643\\u0639\\u064f\\u0644\\u0627\\u064d\\u0645\\u0629\\u0650 \\u0650\\u062a\\u062c\\u064d\\u0627\\u0650\\u0631\\u064a\\u064c\\u0629 \\u0651\\u0644\\u0647\\u0627\\u0652 \\u064d\\u062d\\u064e\\u0642\\u064e\\u0648\\u0642\\u064e\\u0647\\u064d\\u0627\\u064f \\u0627\\u0644\\u0645\\u0633\\u064e\\u062a\\u0642\\u064b\\u0644\\u0629\\u064e \\u0648\\u0630\\u064c\\u0644\\u064d\\u0643\\u0651 \\u0650\\u0642\\u064e\\u0628\\u0651\\u0644\\u064e \\u064d\\u0627\\u064f\\u0644\\u064e\\u062a\\u064f\\u0635\\u0648\\u064c\\u064a\\u064b\\u062a \\u0652\\u0639\\u064f\\u0644\\u064b\\u0649\\u064f \\u0652\\u0627\\u0633\\u062a\\u0651\\u0642\\u0651\\u0644\\u0627\\u0644\\u0651 \\u064c\\u0627\\u0644\\u0625\\u0642\\u064d\\u0644\\u064a\\u064c\\u0645 \\u0652\\u0641\\u0650\\u064a \\u06512\\u06527\\u064c \\u064e\\u0645\\u0651\\u0646 \\u0627\\u0644\\u0652\\u0634\\u0652\\u0647\\u0650\\u0631\\u064f \\u0627\\u064b\\u0644\\u064c\\u062c\\u064d\\u0627\\u0631\\u064c\\u064a.\\u0651 \\u0648\\u062a\\u064c\\u0639\\u062f\\u064b \\u0647\\u0652\\u0630\\u0650\\u0647\\u064d \\u0627\\u0644\\u064c\\u062e\\u0637\\u064d\\u0648\\u0629\\u064d \\u064b\\u0623\\u0648\\u0644\\u064e\\u0649 \\u0627\\u064c\\u0644\\u064f\\u062e\\u064e\\u0637\\u0648\\u0627\\u062a\\u064e \\u064e\\u0627\\u0652\\u0644\\u0645\\u0633\\u0627\\u064d\\u0639\\u064f\\u062f\\u0650\\u0629\\u064d \\u0650\\u0639\\u0644\\u064c\\u0649 \\u0627\\u0644\\u0650\\u0627\\u064f\\u0633\\u062a\\u064d\\u0642\\u0652\\u0644\\u0652\\u0627\\u0652\\u0644 \\u0650\\u0644\\u0650\\u0643\\u0646 \\u064b\\u0627\\u0644\\u0627\\u062a\\u062d\\u0627\\u062f\\u064c \\u0650\\u0627\\u0644\\u064b\\u0625\\u064b\\u0633\\u0628\\u0627\\u0646\\u064d\\u064a \\u0644\\u064b\\u0643\\u0631\\u0629 \\u0652\\u0627\\u064d\\u0644\\u0642\\u062f\\u0645\\u064b \\u0652\\u0633\\u0627\\u0631\\u0639\\u0651 \\u064f\\u0644\\u064b\\u062a\\u0642\\u064c\\u062f\\u064a\\u0645\\u064d \\u0651\\u0634\\u064c\\u0643\\u0648\\u0649 \\u0643\\u064a\\u064b \\u064a\\u0639\\u0631\\u0642\\u0644\\u0651 \\u064c\\u0637\\u0652\\u0645\\u0652\\u0648\\u062d \\u064b\\u0627\\u0644\\u0643\\u064b\\u0627\\u064b\\u062a\\u0650\\u0627\\u0644\\u064c\\u0648\\u0646\\u064d\\u064a\\u064d\\u064a\\u0646.\",\n          \"https://example.com/resource/\\u0634\\u064e\\u0647\\u064d\\u062f\\u0650 \\u0633\\u0652\\u0648\\u064c\\u0642\\u0650 \\u062f\\u0628\\u064a\\u0651 \\u0627\\u0644\\u0652\\u0645\\u064e\\u0627\\u064c\\u0644\\u064c\\u064a \\u062a\\u064e\\u062f\\u0627\\u064b\\u0648\\u064c\\u0644\\u0627\\u062a\\u064f \\u0628\\u0642\\u064a\\u064f\\u0645\\u064e\\u0629 \\u065017\\u0651 .\\u06511\\u064f \\u0652\\u0645\\u0644\\u064d\\u064a\\u0627\\u0631\\u0651 \\u0650\\u062f\\u0631\\u0647\\u0651\\u0645 \\u0628\\u062a\\u064b\\u0646\\u0650\\u0641\\u064b\\u064a\\u0630\\u0652 \\u06518\\u060c\\u064b01\\u064b8 \\u0652\\u0635\\u064e\\u0641\\u0642\\u0652\\u0629 \\u0650\\u062a\\u0648\\u0632\\u0639\\u0650\\u062a \\u0650\\u0639\\u0644\\u0649\\u064f \\u06511\\u06502\\u064c .\\u064c2\\u064d7\\u06502\\u064f \\u0645\\u0644\\u064b\\u064a\\u064e\\u0648\\u0646 \\u064c\\u0633\\u0647\\u064c\\u0645 .\\u064c \\u0650\\u0648\\u0623\\u063a\\u0651\\u0644\\u064c\\u0642\\u064c \\u064f\\u0627\\u0651\\u0644\\u0651\\u0645\\u0624\\u0634\\u064d\\u0631 \\u064f\\u0639\\u0652\\u0644\\u064d\\u0649\\u064e \\u064f7\\u06507 \\u0650.5\\u064c\\u060c\\u064d384 \\u0646\\u0652\\u0642\\u064f\\u0637\\u0629\\u064f \\u0628\\u0627\\u0646\\u062e\\u0641\\u0627\\u064b\\u0636 \\u0648\\u0642\\u064c\\u062f\\u064f\\u0631\\u0647\\u064f 6\\u064d8 \\u064f.\\u064b4\\u06522 \\u0646\\u064f\\u0642\\u0651\\u0637\\u0650\\u0629\\u064c \\u064d\\u0639\\u0651\\u0646\\u064f \\u0625\\u064b\\u063a\\u0644\\u064d\\u0627\\u064b\\u0642\\u064d\\u0647 \\u064f\\u0627\\u0651\\u0644\\u0633\\u0627\\u0628\\u0642 \\u0650.\\u0648\\u0634\\u064e\\u0647\\u062f \\u0627\\u0650\\u0644\\u064c\\u062a\\u062f\\u0627\\u0648\\u0644\\u064e \\u0627\\u0652\\u0631\\u064d\\u062a\\u0641\\u0627\\u0639\\u0651 \\u064c7 \\u0634\\u0631\\u0643\\u0627\\u0652\\u062a\\u0652 \\u064d\\u0648\\u0647\\u0628\\u064c\\u0648\\u0650\\u0637\\u0650 2\\u06520\\u0651 \\u0634\\u0631\\u064e\\u0643\\u064d\\u0629 \\u064f.\\u0651\\u0648\\u0645\\u0646\\u064b \\u0623\\u064d\\u0643\\u062b\\u064f\\u0631 \\u0627\\u064b\\u0644\\u0651\\u0634\\u064e\\u0631\\u064e\\u0643\\u064c\\u0627\\u064f\\u062a\\u064f \\u0627\\u0631\\u062a\\u0641\\u064c\\u0627\\u0639\\u0627\\u064b \\u0645\\u0646 \\u064b\\u062d\\u0651\\u064a\\u062b\\u064c \\u0627\\u064f\\u0644\\u062a\\u064c\\u063a\\u064f\\u064a\\u064c\\u0631 \\u0641\\u064a\\u064d \\u0623\\u0633\\u064d\\u0639\\u064b\\u0627\\u0631\\u064f\\u0647\\u0627\\u064d:\\u064d \\u0627\\u0643\\u064f\\u062a\\u064f\\u062a\\u0627\\u0628 \\u0627\\u0650\\u0644\\u064e\\u0642\\u0627\\u064d\\u0628\\u0636\\u064c\\u0629\\u064c \\u0628\\u0625\\u064b\\u063a\\u064e\\u0644\\u064e\\u0627\\u064f\\u0642 00\\u064b \\u064d.\\u064f3\\u064d \\u064f\\u062f\\u0650\\u0631\\u064b\\u0627\\u064c\\u0647\\u0651\\u0645\\u0650 \\u064c\\u0628\\u064d\\u0646\\u0633\\u0628\\u0652\\u0629 \\u064e\\u062a\\u063a\\u064b\\u064a\\u0631 \\u064c\\u0628\\u0644\\u063a\\u064c\\u062a \\u06511\\u06517\\u0652 \\u064e.\\u06514%\\u060c \\u0623\\u0645\\u0650\\u0644\\u064e\\u0627\\u0651\\u0643 \\u064b\\u0644\\u0644\\u062a\\u0645\\u0648\\u064a\\u0644 \\u0651\\u0628\\u0625\\u063a\\u0650\\u0644\\u0627\\u0651\\u0642\\u064c \\u064e64 \\u064b.4\\u0652 \\u064f\\u062f\\u0631\\u0651\\u0647\\u0645 \\u0628\\u0652\\u0646\\u0633\\u064f\\u0628\\u0629 \\u062a\\u064c\\u063a\\u064a\\u064b\\u0631\\u064d \\u0628\\u064b\\u0644\\u063a\\u064b\\u062a\\u0651 \\u06506\\u064c5\\u064f .\\u064e2%\\u064b\\u060c \\u064b\\u0634\\u0631\\u0643\\u0629\\u0651 \\u064b\\u062a\\u064e\\u0645\\u064b\\u0648\\u064a\\u0644 \\u064d\\u0628\\u0625\\u0650\\u063a\\u0644\\u0627\\u0642\\u064e 2\\u064c5 \\u064f.\\u064c8 \\u062f\\u0631\\u0647\\u0645\\u064d \\u064c\\u0628\\u0646\\u064f\\u0633\\u0628\\u0650\\u0629\\u064f \\u0651\\u062a\\u063a\\u0650\\u064a\\u0652\\u0631 \\u0628\\u0652\\u0644\\u063a\\u064d\\u062a\\u064e 48\\u0650 \\u0652.\\u06521% \\u064e.\\u0628\\u064a\\u0651\\u0646\\u0645\\u0627 \\u0643\\u0627\\u0646\\u064f\\u062a \\u0623\\u0643\\u062b\\u064f\\u0631\\u064f \\u0627\\u0644\\u0650\\u0634\\u064f\\u0631\\u0652\\u0643\\u0652\\u0627\\u062a\\u064e \\u0627\\u0646\\u0652\\u062e\\u0652\\u0641\\u0627\\u0636\\u0627\\u0651 \\u0641\\u064a \\u0623\\u064e\\u0633\\u0639\\u0652\\u0627\\u064c\\u0631\\u0650\\u0647\\u0627 \\u0634\\u064d\\u0631\\u0643\\u0650\\u0629 \\u0652\\u0627\\u0651\\u0644\\u064d\\u0645\\u064d\\u0634\\u0631\\u0648\\u0639\\u064e\\u0627\\u064b\\u062a \\u064b\\u0627\\u0644\\u0643\\u064f\\u0628\\u0631\\u0649 \\u0628\\u064d\\u0625\\u063a\\u0651\\u0644\\u0627\\u0642 \\u06520\\u06502 \\u0651.3\\u0650 \\u0652\\u062f\\u064e\\u0631\\u0647\\u064e\\u0645 \\u0628\\u0646\\u064b\\u0633\\u0628\\u064f\\u0629\\u0651 \\u062a\\u064f\\u063a\\u064a\\u064b\\u0631 \\u064f\\u0628\\u0644\\u0650\\u063a\\u064c\\u062a\\u064c 93 .\\u064f14%\\u064b\\u060c\\u064c \\u0623\\u064f\\u0631\\u064b\\u064a\\u062c\\u064e \\u0628\\u0625\\u0652\\u063a\\u0644\\u0650\\u0627\\u0642\\u064f 2\\u06521 .\\u064f3 \\u062f\\u0650\\u0631\\u0647\\u0645 \\u0650\\u0628\\u064c\\u0646\\u064d\\u0633\\u0628\\u0629 \\u064c\\u062a\\u064b\\u063a\\u0652\\u064a\\u064e\\u0631\\u064f \\u0628\\u0644\\u063a\\u062a\\u064d \\u065108 .1\\u064e0\\u0651%\\u060c \\u064f\\u0645\\u0650\\u0635\\u0651\\u0631\\u0641\\u064f \\u0650\\u0639\\u0651\\u062c\\u064f\\u0645\\u064b\\u0627\\u064f\\u0646\\u0651 \\u0628\\u064c\\u0625\\u063a\\u0644\\u064c\\u0627\\u064d\\u0642\\u064b 9\\u064e7\\u064b .2\\u064c \\u062f\\u064c\\u0631\\u064d\\u0647\\u0645 \\u0628\\u064d\\u0646\\u0633\\u064b\\u0628\\u0629\\u064b \\u064f\\u062a\\u0650\\u063a\\u064a\\u0631 \\u0628\\u0651\\u0644\\u064e\\u063a\\u064d\\u062a \\u065171\\u0651 .5%\\u064e\\u060c\\u064b \\u0650\\u062f\\u0651\\u0628\\u0650\\u064a\\u0651 \\u0627\\u064c\\u0644\\u0625\\u0651\\u0633\\u0644\\u0650\\u0627\\u064e\\u0645\\u064a\\u0629 \\u064e\\u0644\\u0650\\u0644\\u062a\\u0650\\u0623\\u0645\\u064a\\u0646 \\u0628\\u0625\\u063a\\u0652\\u0644\\u0652\\u0627\\u0651\\u0642\\u064e \\u06515\\u064c1\\u064b \\u064e.3 \\u064b\\u062f\\u0631\\u0647\\u064c\\u0645\\u064d \\u0628\\u0646\\u0633\\u0628\\u0629 \\u062a\\u0650\\u063a\\u064a\\u0652\\u0631 \\u0628\\u0644\\u063a\\u0650\\u062a\\u064b \\u064e3\\u06511 \\u064c.\\u06503%\\u060c \\u062a\\u0650\\u0628\\u064f\\u0631\\u064a\\u0651\\u062f\\u0651 \\u0628\\u0625\\u063a\\u0644\\u0651\\u0627\\u0651\\u0642\\u064c \\u064d3\\u06526 \\u064c.\\u064b2 \\u062f\\u0651\\u0631\\u064e\\u0647\\u064c\\u0645\\u064f \\u0628\\u0646\\u0633\\u0628\\u0629\\u064b \\u062a\\u064f\\u063a\\u064b\\u064a\\u064d\\u0631 \\u064e\\u0628\\u064d\\u0644\\u0652\\u063a\\u062a\\u064e \\u064f8\\u064f8\\u064b \\u064b.\\u064d2\\u064b% .\\u064b\\u0648\\u0641\\u064a\\u0645\\u0627\\u0650 \\u064d\\u064a\\u062a\\u064f\\u0639\\u0644\\u0650\\u0642\\u0650 \\u0650\\u0628\\u0651\\u0627\\u064c\\u0644\\u0634\\u0631\\u0643\\u0627\\u064e\\u062a \\u0650\\u0627\\u0644\\u0623\\u0643\\u064d\\u062b\\u0631 \\u0646\\u064f\\u0634\\u064e\\u0627\\u064b\\u0637\\u064b\\u0627\\u064b\\u064b \\u0645\\u064b\\u0646\\u064e \\u062d\\u064a\\u064d\\u062b\\u0650 \\u064d\\u0642\\u0650\\u064a\\u064f\\u0645\\u0652\\u0629 \\u0627\\u0650\\u0644\\u064f\\u062a\\u062f\\u0652\\u0627\\u064b\\u0648\\u0652\\u0644 \\u0641\\u064c\\u0642\\u0652\\u062f\\u064b \\u062d\\u0651\\u0642\\u0652\\u0642\\u062a\\u064e \\u0625\\u0639\\u0645\\u064d\\u0627\\u064f\\u0631 \\u0652\\u062a\\u062f\\u064c\\u0627\\u0648\\u0644\\u064e\\u0627\\u062a\\u0650 \\u0652\\u0628\\u0642\\u064a\\u0650\\u0645\\u0629\\u064b \\u064b5\\u06520 .\\u06513\\u065084\\u060c\\u064b5\\u064f85\\u060c46\\u064d3 \\u062f\\u0651\\u0631\\u0650\\u0647\\u0645\\u0652\\u060c\\u064f \\u062b\\u0645\\u064f \\u0651\\u0627\\u0651\\u0644\\u0639\\u0631\\u0628\\u064d\\u064a\\u0651\\u0629 \\u064f\\u062a\\u064f\\u062f\\u064e\\u0627\\u0650\\u0648\\u0644\\u0627\\u062a \\u064e\\u0628\\u064d\\u0642\\u064a\\u0645\\u0652\\u0629\\u064b 62 \\u064e.13\\u064b2\\u060c\\u065234\\u064e2\\u064e\\u060c82\\u06502\\u064b \\u062f\\u0652\\u0631\\u0647\\u0645\\u064f\\u060c \\u0652\\u062b\\u064d\\u0645\\u0651 \\u064d\\u0645\\u0652\\u0635\\u0631\\u0652\\u0641 \\u064e\\u0639\\u062c\\u0645\\u0627\\u064e\\u0646 \\u062a\\u062f\\u064f\\u0627\\u0648\\u0644\\u064b\\u0627\\u064f\\u062a \\u0628\\u064d\\u0642\\u0652\\u064a\\u064b\\u0645\\u0629 \\u064e5\\u064d8 .1\\u06520\\u064e6\\u060c2\\u065056\\u064c\\u060c\\u06503\\u064b8\\u064d2 \\u064e\\u062f\\u0651\\u0631\\u0647\\u0645\\u060c\\u0652 \\u064e.\",\n          \"https://example.com/resource/\\u0627\\u062d\\u062a\\u064c\\u0641\\u064d\\u0649 \\u0628\\u0652\\u064a\\u062a\\u0651 \\u0627\\u0644\\u0634\\u0651\\u0639\\u0631 \\u0651\\u0641\\u064a\\u064e \\u0652\\u0627\\u0644\\u062e\\u0652\\u0631\\u0652\\u0637\\u0648\\u0645 \\u0627\\u0651\\u0644\\u064e\\u0623\\u0633\\u0650\\u0628\\u0648\\u064d\\u0639 \\u0650\\u0627\\u064c\\u0644\\u0645\\u0651\\u0627\\u0636\\u064a \\u064c\\u0628\\u064f\\u0627\\u0644\\u0630\\u064c\\u0643\\u0650\\u0631\\u064c\\u0649 \\u064b\\u0627\\u0644\\u064b\\u062d\\u0650\\u0627\\u064e\\u062f\\u064a\\u0629 \\u064f\\u0648\\u064c\\u0627\\u064f\\u0644\\u0633\\u062a\\u064a\\u0646\\u0652 \\u0644\\u0627\\u0650\\u0633\\u062a\\u0642\\u0652\\u0644\\u0627\\u0652\\u0644\\u0651 \\u0650\\u0627\\u064e\\u0644\\u0633\\u0648\\u064f\\u062f\\u064e\\u0627\\u0646\\u064b\\u060c \\u064b\\u0648\\u0627\\u0652\\u0644\\u062a\\u0651\\u064a \\u062c\\u0651\\u0627\\u0621\\u064e\\u062a \\u0641\\u0651\\u064a \\u064f\\u062b\\u0648\\u0628\\u064b \\u062c\\u064c\\u0627\\u0650\\u0645\\u0639\\u064d \\u0644\\u064e\\u0634\\u0651\\u0639\\u064f\\u0631\\u064d\\u0627\\u0652\\u0621 \\u064f\\u0627\\u064e\\u0644\\u0641\\u0651\\u0635\\u064a\\u0651\\u062d\\u064e \\u0648\\u064b\\u0627\\u064e\\u0644\\u064b\\u0639\\u0651\\u0627\\u064d\\u0645\\u064a\\u0629\\u064c \\u0627\\u0652\\u0644\\u064c\\u0633\\u0648\\u062f\\u0627\\u0650\\u0646\\u064f\\u064a\\u064d\\u0629\\u0651\\u060c\\u0652 \\u0648\\u0650\\u062a\\u063a\\u0650\\u0646\\u0649\\u0652 \\u0641\\u0650\\u064a\\u0652\\u0647\\u0627 \\u0627\\u0644\\u0634\\u0639\\u0652\\u0631\\u064b\\u0627\\u0621\\u064b \\u0644\\u0650\\u0644\\u0648\\u064d\\u0637\\u0646\\u060c \\u064b\\u0643\\u0644\\u0652 \\u0634\\u0651\\u0627\\u0639\\u0631 \\u064b\\u0648\\u064f\\u0641\\u0642 \\u0631\\u0624\\u064a\\u062a\\u0650\\u0647\\u064d.\\u0651\\u0628\\u062f\\u064c\\u0623\\u064b\\u062a\\u064b \\u0627\\u0644\\u0623\\u0635\\u0628\\u0648\\u062d\\u0629\\u064b \\u0652\\u0627\\u0652\\u0644\\u064f\\u0634\\u0627\\u064b\\u0639\\u064d\\u0631\\u0650\\u0629 \\u0633\\u064d\\u0645\\u064a\\u0629\\u0651 \\u062c\\u0645\\u064a\\u0644\\u0651 \\u064c\\u0628\\u0646\\u064d\\u0645\\u0627\\u0651\\u0630\\u062c\\u0647\\u064e\\u0627\\u064c \\u0652\\u0627\\u0650\\u0644\\u064d\\u0634\\u064b\\u0639\\u0631\\u064a\\u064d\\u0629\\u064d\\u060c \\u064f\\u0648\\u062a\\u063a\\u0646\\u064e\\u062a\\u064e \\u0652\\u0645\\u0646 \\u064b\\u0639\\u0651\\u0645\\u064e\\u0642 \\u0627\\u064c\\u0644\\u064c\\u0645\\u0648\\u0650\\u0631\\u0651\\u0648\\u062b \\u0627\\u064e\\u0644\\u0639\\u064e\\u0627\\u0652\\u0645\\u064a\\u0650 \\u0627\\u0644\\u0633\\u064c\\u0648\\u064b\\u062f\\u0627\\u0646\\u064a\\u060c \\u064c\\u0643\\u0645\\u0627 \\u064d\\u0634\\u0627\\u0631\\u064f\\u0643\\u064d \\u0651\\u0627\\u0644\\u0634\\u0650\\u0627\\u064c\\u0639\\u064e\\u0631\\u0652 \\u064d\\u0648\\u0651\\u0627\\u064d\\u0644\\u064c\\u0625\\u064d\\u0639\\u0644\\u0627\\u0645\\u064a \\u0650\\u0645\\u0652\\u062d\\u064f\\u0645\\u064e\\u062f \\u064e\\u0633\\u0644\\u064a\\u0651\\u0645\\u0627\\u0646\\u064c \\u064c\\u0639\\u0628\\u062f\\u064f \\u064b\\u0627\\u0644\\u064b\\u0644\\u0647 \\u064e\\u0628\\u0642\\u064b\\u0635\\u064a\\u064d\\u062f\\u0651\\u062a\\u0647 \\u0627\\u0644\\u0650\\u062a\\u064a \\u064d\\u0639\\u064b\\u062f\\u062f\\u064d \\u0641\\u064d\\u064a\\u0651\\u0647\\u0651\\u0627\\u064e \\u062c\\u0645\\u064d\\u0627\\u0644\\u0651\\u064a\\u064d\\u0627\\u064b\\u062a\\u064c \\u064e\\u0648\\u0645\\u0643\\u064b\\u0646\\u0648\\u0646\\u0627\\u062a\\u064b \\u0627\\u0652\\u0644\\u0633\\u0648\\u0650\\u062f\\u064e\\u0627\\u0646\\u064c \\u0650\\u0627\\u0644\\u0650\\u0628\\u0644\\u064c\\u062f \\u0627\\u0644\\u064e\\u0639\\u0627\\u0634\\u0642 \\u0644\\u0644\\u064f\\u0633\\u0644\\u0627\\u0645.\\u064b \\u062d\\u0636\\u0631\\u0652 \\u0627\\u064b\\u0644\\u0652\\u0623\\u064e\\u0635\\u0628\\u0650\\u0648\\u062d\\u0629\\u064f \\u0645\\u0652\\u062c\\u064b\\u0645\\u0648\\u0639\\u064b\\u0629\\u0651 \\u064b\\u0645\\u064f\\u0646\\u064b \\u0650\\u0627\\u0644\\u0645\\u064f\\u0628\\u062f\\u064e\\u0639\\u0650\\u064a\\u0646\\u0651 \\u0648\\u0627\\u0644\\u064f\\u0642\\u0636\\u0627\\u0651\\u0629 \\u064b\\u0648\\u064f\\u0627\\u0644\\u0645\\u064f\\u062d\\u064e\\u0627\\u064f\\u0645\\u0652\\u064a\\u0646\\u064e \\u0648\\u0650\\u0627\\u0644\\u064e\\u0625\\u0639\\u0644\\u0627\\u064f\\u0645\\u064a\\u064a\\u0650\\u0646\\u0652 \\u0648\\u0627\\u0644\\u0637\\u0650\\u0644\\u0627\\u0651\\u0628\\u060c \\u064e\\u0648\\u0646\\u064f\\u0642\\u0644\\u062a \\u064c\\u0645\\u064e\\u0628\\u0627\\u0634\\u064b\\u0631\\u0651\\u0629\\u0652 \\u0639\\u064c\\u0628\\u0631\\u064d \\u064c\\u0623\\u062b\\u0650\\u064a\\u064c\\u0631 \\u0651\\u0625\\u064c\\u0630\\u0627\\u0651\\u0639\\u064c\\u0629 \\u064d\\u062c\\u0627\\u0645\\u0639\\u0629 \\u0627\\u0644\\u0652\\u062e\\u0650\\u0631\\u0637\\u064b\\u0648\\u0645\\u064f \\u0648\\u0627\\u0644\\u0651\\u062a\\u064a \\u0644\\u0651\\u0647\\u0627\\u0650 \\u062d\\u0636\\u064c\\u0648\\u0652\\u0631 \\u064f\\u062f\\u0627\\u0626\\u0651\\u0645 \\u0651\\u0641\\u064a \\u0652\\u0643\\u0652\\u0644\\u0650 \\u0623\\u064c\\u0646\\u064b\\u0634\\u0652\\u0637\\u0629 \\u0651\\u0628\\u064f\\u064a\\u062a \\u0650\\u0627\\u064b\\u0644\\u0634\\u0639\\u064b\\u0631. \\u0648\\u062a\\u064b\\u0644\\u064d\\u0627\\u0650 \\u0630\\u0644\\u0643 \\u0650\\u0643\\u0650\\u0644\\u0645\\u064e\\u0629 \\u0645\\u062f\\u064f\\u064a\\u0631\\u064d \\u064c\\u0628\\u064a\\u0652\\u062a \\u064e\\u0627\\u0644\\u0634\\u064e\\u0639\\u0631 \\u0652\\u0627\\u064c\\u0644\\u064c\\u062f\\u0643\\u0652\\u062a\\u0652\\u0648\\u0631\\u064c \\u0650\\u0627\\u064e\\u0644\\u064f\\u0635\\u064e\\u062f\\u064a\\u0652\\u0642\\u0650 \\u064e\\u0639\\u0651\\u0645\\u0631\\u064c \\u0635\\u0651\\u062f\\u064a\\u064b\\u0642\\u0652 \\u064d\\u0627\\u064d\\u0644\\u0630\\u064a\\u0651 \\u064e\\u0627\\u062e\\u062a\\u0627\\u0650\\u0631\\u064e \\u0650\\u0645\\u0650\\u0646 \\u0651\\u062d\\u062f\\u0627\\u0650\\u0626\\u064f\\u0642 \\u0648\\u0639\\u0652\\u0631\\u064d\\u0627\\u0652\\u0626\\u064c\\u0633 \\u0627\\u0652\\u0644\\u064c\\u0645\\u064e\\u0639\\u0627\\u064b\\u0646\\u064d\\u064a\\u064c \\u0648\\u064c\\u0642\\u062f\\u0645\\u064d \\u0650\\u0631\\u0650\\u0624\\u064a\\u0629 \\u0650\\u0644\\u0644\\u0648\\u0650\\u0637\\u0646\\u0650 \\u064c\\u0627\\u0644\\u0645\\u0646\\u064d\\u0634\\u0652\\u0648\\u062f \\u0641\\u064d\\u064a\\u064e \\u0650\\u062f\\u064c\\u0648\\u064c\\u0627\\u0652\\u0648\\u064a\\u0646 \\u064f\\u0648\\u0623\\u062e\\u064d\\u064a\\u064d\\u0644\\u064e\\u0629 \\u064d\\u0627\\u0644\\u0634\\u064f\\u0639\\u064e\\u0631\\u064b\\u0627\\u0650\\u0621\\u064b. \\u064e\\u0648\\u064e\\u0634\\u0650\\u0627\\u0650\\u0631\\u0643 \\u0650\\u0641\\u064a\\u0652 \\u0627\\u064f\\u0644\\u064d\\u0623\\u0635\\u064b\\u0628\\u0652\\u0648\\u062d\\u064e\\u0629 \\u064b\\u0627\\u0644\\u0634\\u064e\\u0627\\u0639\\u0631\\u064d \\u062f\\u064e. \\u062c\\u0645\\u064e\\u0627\\u0651\\u0644 \\u064e\\u0627\\u0651\\u0644\\u0652\\u062f\\u064c\\u064a\\u064d\\u0646\\u064b \\u064b\\u0627\\u0644\\u062f\\u0647\\u0651\\u064a\\u0633\\u064b\\u0627\\u0628\\u0652\\u064a \\u0652\\u0645\\u064d\\u0646 \\u0651\\u0648\\u064b\\u0644\\u064f\\u0627\\u064b\\u064a\\u0629\\u0652 \\u064e\\u0646\\u0647\\u0631 \\u0627\\u0651\\u0644\\u0651\\u0646\\u064a\\u0651\\u0644\\u064b \\u064d\\u0627\\u0644\\u0630\\u064a \\u0623\\u064b\\u0639\\u064b\\u0627\\u064f\\u062f\\u0647\\u064e \\u064e\\u0628\\u064b\\u064a\\u062a\\u064d \\u0627\\u0644\\u0634\\u0651\\u0639\\u0631\\u0650 \\u0652\\u0625\\u0651\\u0644\\u064e\\u0649 \\u0650\\u0645\\u064a\\u062f\\u0650\\u0627\\u0652\\u0646\\u0651 \\u0627\\u0652\\u0644\\u0650\\u0642\\u0635\\u064a\\u0651\\u062f \\u0628\\u0652\\u0639\\u062f \\u0627\\u064d\\u0646\\u0642\\u064d\\u0637\\u0627\\u0639\\u0647\\u064f \\u064b\\u0639\\u064e\\u0646 \\u064d\\u0627\\u0644\\u064d\\u0643\\u064f\\u062a\\u064b\\u0627\\u0628\\u0629 \\u064e\\u0646\\u062d\\u0648 \\u0651\\u062e\\u064f\\u0645\\u064d\\u0633\\u0629\\u0652 \\u064e\\u0639\\u0634\\u0631\\u064f \\u064c\\u0639\\u064b\\u0627\\u0645\\u0627\\u0651\\u064b\\u060c\\u0652 \\u0652\\u0625\\u0636\\u0650\\u0627\\u0641\\u0651\\u0629 \\u064e\\u0625\\u0644\\u064b\\u0649 \\u0650\\u0627\\u064c\\u0644\\u064f\\u0634\\u0639\\u0631\\u0652\\u0627\\u0652\\u0621\\u064b:\\u064c \\u0645\\u062a\\u064b\\u0648\\u064b\\u0643\\u064e\\u0644\\u064c \\u0651\\u0632\\u0651\\u0631\\u0648\\u0650\\u0642\\u060c\\u064d \\u0648\\u0623\\u0628\\u0648\\u064f \\u0628\\u0643\\u0631\\u0652 \\u0627\\u064e\\u0644\\u064d\\u062c\\u064b\\u0646\\u064a\\u062f\\u064d\\u060c \\u064f\\u0648\\u0651\\u0639\\u0650\\u0644\\u064c\\u064a\\u064f \\u064a\\u064f\\u0648\\u064b\\u0633\\u064d\\u0641\\u060c \\u0648\\u0645\\u062d\\u064c\\u0645\\u062f\\u064e \\u0652\\u0645\\u062c\\u0630\\u0648\\u0628\\u060c \\u064f\\u0648\\u0639\\u0651\\u0628\\u0652\\u062f\\u064c \\u0627\\u0644\\u0642\\u0627\\u0650\\u062f\\u0650\\u0631 \\u064d\\u0627\\u0652\\u0644\\u064e\\u0645\\u0643\\u064a \\u0648\\u064e\\u0622\\u064c\\u062e\\u0631\\u0648\\u0646\\u060c\\u064c \\u0648\\u0627\\u064f\\u0644\\u0650\\u062c\\u064b\\u062f\\u0650\\u064a\\u0631\\u064c \\u0628\\u0627\\u064e\\u0644\\u0630\\u0643\\u064e\\u0631 \\u064b\\u0623\\u0652\\u0646\\u0647\\u0652 \\u0652\\u062a\\u0645\\u0651 \\u064e\\u0627\\u064e\\u0641\\u062a\\u064b\\u062a\\u0627\\u062d\\u064e \\u064d\\u0628\\u064d\\u064a\\u062a\\u0650 \\u0627\\u0644\\u0634\\u0652\\u0639\\u0631\\u064d \\u064f\\u0641\\u064a \\u0627\\u0644\\u064f\\u062e\\u064f\\u0631\\u064f\\u0637\\u0648\\u0651\\u0645\\u064e \\u064b\\u0623\\u0648\\u0627\\u064b\\u062e\\u0631 \\u064b2\\u064d016\\u0650\\u0645\\u0652 \\u0644\\u064a\\u0643\\u0648\\u0651\\u0646 \\u0633\\u0627\\u062f\\u0633\\u064f \\u0628\\u064a\\u062a\\u0652 \\u0634\\u0650\\u0639\\u064c\\u0631\\u0652 \\u062a\\u064b\\u0641\\u0652\\u062a\\u062a\\u064c\\u062d\\u0647 \\u062f\\u064f\\u0627\\u064d\\u0626\\u064d\\u0631\\u0629 \\u064e\\u0627\\u064b\\u0644\\u064b\\u062b\\u0642\\u0627\\u0651\\u0641\\u064c\\u0629 \\u0648\\u0627\\u064d\\u0644\\u0625\\u0639\\u0644\\u0627\\u0645 \\u0641\\u064f\\u064a \\u0627\\u0644\\u064d\\u0634\\u064c\\u0627\\u064d\\u0631\\u064b\\u0642\\u0651\\u0629 \\u0641\\u064a\\u064f \\u0627\\u064f\\u0644\\u0648\\u0637\\u064f\\u0646\\u064e \\u0627\\u0644\\u0639\\u064d\\u0631\\u064c\\u0628\\u064a \\u0652\\u0628\\u0645\\u0628\\u064f\\u0627\\u062f\\u064f\\u0631\\u0629 \\u0645\\u0646 \\u064d\\u0635\\u0652\\u0627\\u064f\\u062d\\u064c\\u0628 \\u0627\\u0652\\u0644\\u064e\\u0633\\u0645\\u0648 \\u0627\\u0644\\u0634\\u064a\\u062e\\u0650 \\u064b\\u0627\\u0644\\u062f\\u0643\\u062a\\u0648\\u0631 \\u0633\\u064c\\u0644\\u0637\\u064f\\u0627\\u0646\\u064b \\u0651\\u0628\\u0646\\u064f \\u0645\\u064b\\u062d\\u064f\\u0645\\u0652\\u062f\\u0651 \\u064d\\u0627\\u0650\\u0644\\u064e\\u0642\\u064b\\u0627\\u0633\\u0645\\u064b\\u064a\\u064e \\u0639\\u064e\\u0636\\u0648 \\u0650\\u0627\\u0644\\u0645\\u0651\\u062c\\u0652\\u0644\\u0633\\u064f \\u0627\\u0644\\u0623\\u064d\\u0639\\u064e\\u0644\\u0649\\u0651 \\u0644\\u0652\\u0644\\u064f\\u0627\\u062a\\u062d\\u0627\\u062f\\u0652\\u060c\\u064c \\u062d\\u0651\\u0627\\u064f\\u0643\\u0645\\u064b \\u0627\\u0652\\u0644\\u0634\\u0627\\u0631\\u0651\\u0642\\u0629.\"\n        ],\n        \"semantic_type\": \"\",\n        \"description\": \"\"\n      }\n    },\n    {\n      \"column\": \"label\",\n      \"properties\": {\n        \"dtype\": \"category\",\n        \"num_unique_values\": 4,\n        \"samples\": [\n          \"Finance\",\n          \"Culture\",\n          \"Tech\"\n        ],\n        \"semantic_type\": \"\",\n        \"description\": \"\"\n      }\n    }\n  ]\n}"
            }
          },
          "metadata": {},
          "execution_count": 6
        }
      ],
      "source": [
        "df.sample(10)"
      ]
    },
    {
      "cell_type": "code",
      "source": [
        "df.info()"
      ],
      "metadata": {
        "id": "zsoPqsqZ0gG4",
        "colab": {
          "base_uri": "https://localhost:8080/"
        },
        "outputId": "e92208db-7432-406a-e439-e4fcc6e68ea3"
      },
      "execution_count": 7,
      "outputs": [
        {
          "output_type": "stream",
          "name": "stdout",
          "text": [
            "<class 'pandas.core.frame.DataFrame'>\n",
            "RangeIndex: 39885 entries, 0 to 39884\n",
            "Data columns (total 2 columns):\n",
            " #   Column  Non-Null Count  Dtype \n",
            "---  ------  --------------  ----- \n",
            " 0   text    39885 non-null  object\n",
            " 1   label   39885 non-null  object\n",
            "dtypes: object(2)\n",
            "memory usage: 623.3+ KB\n"
          ]
        }
      ]
    },
    {
      "cell_type": "code",
      "source": [
        "\n",
        "df.isnull().sum()"
      ],
      "metadata": {
        "id": "gtL73v3M0mtp",
        "colab": {
          "base_uri": "https://localhost:8080/",
          "height": 147
        },
        "outputId": "cf626ce7-cd11-41e5-e6ff-d3bd941dbe60"
      },
      "execution_count": 8,
      "outputs": [
        {
          "output_type": "execute_result",
          "data": {
            "text/plain": [
              "text     0\n",
              "label    0\n",
              "dtype: int64"
            ],
            "text/html": [
              "<div>\n",
              "<style scoped>\n",
              "    .dataframe tbody tr th:only-of-type {\n",
              "        vertical-align: middle;\n",
              "    }\n",
              "\n",
              "    .dataframe tbody tr th {\n",
              "        vertical-align: top;\n",
              "    }\n",
              "\n",
              "    .dataframe thead th {\n",
              "        text-align: right;\n",
              "    }\n",
              "</style>\n",
              "<table border=\"1\" class=\"dataframe\">\n",
              "  <thead>\n",
              "    <tr style=\"text-align: right;\">\n",
              "      <th></th>\n",
              "      <th>0</th>\n",
              "    </tr>\n",
              "  </thead>\n",
              "  <tbody>\n",
              "    <tr>\n",
              "      <th>text</th>\n",
              "      <td>0</td>\n",
              "    </tr>\n",
              "    <tr>\n",
              "      <th>label</th>\n",
              "      <td>0</td>\n",
              "    </tr>\n",
              "  </tbody>\n",
              "</table>\n",
              "</div><br><label><b>dtype:</b> int64</label>"
            ]
          },
          "metadata": {},
          "execution_count": 8
        }
      ]
    },
    {
      "cell_type": "code",
      "source": [
        "df.label.value_counts()"
      ],
      "metadata": {
        "id": "ajMuKbpd1Ne2",
        "colab": {
          "base_uri": "https://localhost:8080/",
          "height": 335
        },
        "outputId": "619430b3-a97d-4887-96a3-371fa0cbcffb"
      },
      "execution_count": 9,
      "outputs": [
        {
          "output_type": "execute_result",
          "data": {
            "text/plain": [
              "label\n",
              "Politics    6334\n",
              "Medical     6292\n",
              "Culture     6098\n",
              "Finance     6095\n",
              "Tech        5979\n",
              "Sports      5859\n",
              "Religion    3228\n",
              "Name: count, dtype: int64"
            ],
            "text/html": [
              "<div>\n",
              "<style scoped>\n",
              "    .dataframe tbody tr th:only-of-type {\n",
              "        vertical-align: middle;\n",
              "    }\n",
              "\n",
              "    .dataframe tbody tr th {\n",
              "        vertical-align: top;\n",
              "    }\n",
              "\n",
              "    .dataframe thead th {\n",
              "        text-align: right;\n",
              "    }\n",
              "</style>\n",
              "<table border=\"1\" class=\"dataframe\">\n",
              "  <thead>\n",
              "    <tr style=\"text-align: right;\">\n",
              "      <th></th>\n",
              "      <th>count</th>\n",
              "    </tr>\n",
              "    <tr>\n",
              "      <th>label</th>\n",
              "      <th></th>\n",
              "    </tr>\n",
              "  </thead>\n",
              "  <tbody>\n",
              "    <tr>\n",
              "      <th>Politics</th>\n",
              "      <td>6334</td>\n",
              "    </tr>\n",
              "    <tr>\n",
              "      <th>Medical</th>\n",
              "      <td>6292</td>\n",
              "    </tr>\n",
              "    <tr>\n",
              "      <th>Culture</th>\n",
              "      <td>6098</td>\n",
              "    </tr>\n",
              "    <tr>\n",
              "      <th>Finance</th>\n",
              "      <td>6095</td>\n",
              "    </tr>\n",
              "    <tr>\n",
              "      <th>Tech</th>\n",
              "      <td>5979</td>\n",
              "    </tr>\n",
              "    <tr>\n",
              "      <th>Sports</th>\n",
              "      <td>5859</td>\n",
              "    </tr>\n",
              "    <tr>\n",
              "      <th>Religion</th>\n",
              "      <td>3228</td>\n",
              "    </tr>\n",
              "  </tbody>\n",
              "</table>\n",
              "</div><br><label><b>dtype:</b> int64</label>"
            ]
          },
          "metadata": {},
          "execution_count": 9
        }
      ]
    },
    {
      "cell_type": "code",
      "source": [
        "df.columns"
      ],
      "metadata": {
        "id": "n7ZFQK2g1StS",
        "colab": {
          "base_uri": "https://localhost:8080/"
        },
        "outputId": "111b2166-0021-4d46-921a-134d10a160f4"
      },
      "execution_count": 10,
      "outputs": [
        {
          "output_type": "execute_result",
          "data": {
            "text/plain": [
              "Index(['text', 'label'], dtype='object')"
            ]
          },
          "metadata": {},
          "execution_count": 10
        }
      ]
    },
    {
      "cell_type": "code",
      "source": [
        "sns.countplot(x='label', data=df)\n",
        "plt.title('Distribution of label')\n",
        "plt.show()"
      ],
      "metadata": {
        "id": "SbFU8T1n1-CC",
        "colab": {
          "base_uri": "https://localhost:8080/",
          "height": 472
        },
        "outputId": "a4e6aae6-c8ed-4d1e-9f99-fd3a0157fa97"
      },
      "execution_count": 11,
      "outputs": [
        {
          "output_type": "display_data",
          "data": {
            "text/plain": [
              "<Figure size 640x480 with 1 Axes>"
            ],
            "image/png": "[encoded data removed]"
          },
          "metadata": {}
        }
      ]
    },
    {
      "cell_type": "code",
      "source": [
        "df['text_length'] = df['text'].apply(len)\n"
      ],
      "metadata": {
        "id": "rwau1PVW2JMu"
      },
      "execution_count": 12,
      "outputs": []
    },
    {
      "cell_type": "code",
      "source": [
        "plt.figure(figsize=(10, 6))\n",
        "plt.hist(df['text_length'], bins=50, color='blue', edgecolor='black')\n",
        "plt.title('Distribution of Text Lengths')\n",
        "plt.xlabel('Text Length')\n",
        "plt.ylabel('Frequency')\n",
        "plt.show()"
      ],
      "metadata": {
        "id": "un7Kbzg42V2n",
        "colab": {
          "base_uri": "https://localhost:8080/",
          "height": 564
        },
        "outputId": "fb547d78-2c70-443c-b53f-ff263ae51fa4"
      },
      "execution_count": 13,
      "outputs": [
        {
          "output_type": "display_data",
          "data": {
            "text/plain": [
              "<Figure size 1000x600 with 1 Axes>"
            ],
            "image/png": "[encoded data removed]"
          },
          "metadata": {}
        }
      ]
    },
    {
      "cell_type": "markdown",
      "metadata": {
        "id": "X_oEu0TkSMEB"
      },
      "source": [
        "# Data Cleaning and Preprocessing"
      ]
    },
    {
      "cell_type": "markdown",
      "metadata": {
        "id": "wSAFiozlRQHt"
      },
      "source": [
        "In this section, we will focus on cleaning and filtering the dataset, preparing it for the text classification task. We will implement the following steps:\n",
        "\n",
        "1. **Remove missing values**:\n",
        "   First, we eliminate any rows with missing values to ensure the dataset is complete and consistent.\n",
        "\n",
        "2. **Filter by text length (Bonus)**:\n",
        "   To maintain a uniform dataset, we will filter the text samples by a specified word count range. This ensures that the texts are neither too short to lack context nor too long to introduce unnecessary complexity.\n",
        "\n",
        "3. **Arabic stopwords loading**:\n",
        "   We load a list of Arabic stopwords to filter out commonly used but contextually insignificant words. This is an important step for improving the performance of the model, as stopwords do not contribute valuable information.\n",
        "\n",
        "4. **Text cleaning**:\n",
        "   We apply a series of text cleaning steps to standardize and simplify the text data. This involves:\n",
        "   - **Removing links (URLs)**: Any URLs present in the text are removed as they are not meaningful for classification purposes.\n",
        "   - **Removing special characters and punctuation**: This step removes any non-alphabetical characters, ensuring the text only contains meaningful words.\n",
        "   - **Removing Arabic diacritics (Tashkeel) and elongated letters (Tatweel)**: Diacritical marks and elongated letters are stripped out to standardize the text.\n",
        "   - **Removing Arabic stopwords**: Words that are part of the stopwords list are removed, as they do not add value to the classification task.\n",
        "   - **Stemming or Lemmmatization**: Either stemming or lemmatization is applied to reduce words to their root or base form.\n",
        "   - **Normalizing Hamza**: Any variation of the Hamza character is normalized for consistency.\n",
        "\n",
        "   **Note:** Most of these you can do using the library [PyArabic](https://pyarabic.readthedocs.io/ar/latest/README.html#features)\n",
        "\n",
        "5. **Final cleanup**:\n",
        "   Apply the cleanup function to the feature column.\n",
        "\n",
        "By following these steps, the text will be cleaned, filtered, and ready for tokenization!"
      ]
    },
    {
      "cell_type": "code",
      "source": [
        "nltk.download('stopwords')\n",
        "stop_words = set(stopwords.words('arabic'))"
      ],
      "metadata": {
        "colab": {
          "base_uri": "https://localhost:8080/"
        },
        "id": "v1mgO93CP9W1",
        "outputId": "fcca4c72-727b-4cf5-fbbd-ddef7a69d0e8"
      },
      "execution_count": 14,
      "outputs": [
        {
          "output_type": "stream",
          "name": "stderr",
          "text": [
            "[nltk_data] Downloading package stopwords to /root/nltk_data...\n",
            "[nltk_data]   Unzipping corpora/stopwords.zip.\n"
          ]
        }
      ]
    },
    {
      "cell_type": "code",
      "source": [
        "def clean_text(text):\n",
        "  cleaned_text = str(text)\n",
        "  cleaned_text=re.sub(r'http\\S+', '', text)\n",
        "  cleaned_text=re.sub(r'[^\\w\\s]', '', cleaned_text)\n",
        "  cleaned_text=re.sub(r'\\d+', '', cleaned_text)\n",
        "  cleaned_text=re.sub(r'\\s+', ' ', cleaned_text)\n",
        "  cleaned_text=araby.strip_tashkeel(cleaned_text)\n",
        "  cleaned_text=araby.strip_tatweel(cleaned_text)\n",
        "  cleaned_text=araby.normalize_hamza(cleaned_text)\n",
        "  cleaned_text=araby.tokenize(cleaned_text)\n",
        "  cleaned_text=[word for word in cleaned_text if word not in stop_words]\n",
        "  StemmerI=nltk.ISRIStemmer()\n",
        "  cleaned_text=[StemmerI.stem(word) for word in cleaned_text]\n",
        "  cleaned_text=' '.join(cleaned_text)\n",
        "\n",
        "  return cleaned_text\n",
        "df['text']=df['text'].apply(clean_text)\n"
      ],
      "metadata": {
        "id": "AtUZFsNwP_3F"
      },
      "execution_count": 15,
      "outputs": []
    },
    {
      "cell_type": "code",
      "source": [
        "df.head()"
      ],
      "metadata": {
        "colab": {
          "base_uri": "https://localhost:8080/",
          "height": 206
        },
        "id": "oVgGyRCSQdf_",
        "outputId": "77db3965-3712-4ec9-b6f5-20c38a6af88c"
      },
      "execution_count": 16,
      "outputs": [
        {
          "output_type": "execute_result",
          "data": {
            "text/plain": [
              "                                                text    label  text_length\n",
              "0  حمد ولد حمد سالمعرضت ءمس ءول خشب سرح قصر ثقف ش...  Culture         5922\n",
              "1  ءيم عام فءت فعل هرج دبي سرح شبب ظلة جلس دبي ثق...  Culture         3557\n",
              "2  ءمس ءول ءكسبو شرق ندة حري حول ءهم جار كتب علم ...  Culture         2215\n",
              "3  ونس حين قال صحب سمو شيخ دكتور سلط بن حمد قسم ع...  Culture         3256\n",
              "4  تحد ءدباء كتب موريتاني عقد ءمر عام تسع ءبريل ق...  Culture          607"
            ],
            "text/html": [
              "\n",
              "  <div id=\"df-0e36532c-7e6d-4250-a1e0-1b799172eaa6\" class=\"colab-df-container\">\n",
              "    <div>\n",
              "<style scoped>\n",
              "    .dataframe tbody tr th:only-of-type {\n",
              "        vertical-align: middle;\n",
              "    }\n",
              "\n",
              "    .dataframe tbody tr th {\n",
              "        vertical-align: top;\n",
              "    }\n",
              "\n",
              "    .dataframe thead th {\n",
              "        text-align: right;\n",
              "    }\n",
              "</style>\n",
              "<table border=\"1\" class=\"dataframe\">\n",
              "  <thead>\n",
              "    <tr style=\"text-align: right;\">\n",
              "      <th></th>\n",
              "      <th>text</th>\n",
              "      <th>label</th>\n",
              "      <th>text_length</th>\n",
              "    </tr>\n",
              "  </thead>\n",
              "  <tbody>\n",
              "    <tr>\n",
              "      <th>0</th>\n",
              "      <td>حمد ولد حمد سالمعرضت ءمس ءول خشب سرح قصر ثقف ش...</td>\n",
              "      <td>Culture</td>\n",
              "      <td>5922</td>\n",
              "    </tr>\n",
              "    <tr>\n",
              "      <th>1</th>\n",
              "      <td>ءيم عام فءت فعل هرج دبي سرح شبب ظلة جلس دبي ثق...</td>\n",
              "      <td>Culture</td>\n",
              "      <td>3557</td>\n",
              "    </tr>\n",
              "    <tr>\n",
              "      <th>2</th>\n",
              "      <td>ءمس ءول ءكسبو شرق ندة حري حول ءهم جار كتب علم ...</td>\n",
              "      <td>Culture</td>\n",
              "      <td>2215</td>\n",
              "    </tr>\n",
              "    <tr>\n",
              "      <th>3</th>\n",
              "      <td>ونس حين قال صحب سمو شيخ دكتور سلط بن حمد قسم ع...</td>\n",
              "      <td>Culture</td>\n",
              "      <td>3256</td>\n",
              "    </tr>\n",
              "    <tr>\n",
              "      <th>4</th>\n",
              "      <td>تحد ءدباء كتب موريتاني عقد ءمر عام تسع ءبريل ق...</td>\n",
              "      <td>Culture</td>\n",
              "      <td>607</td>\n",
              "    </tr>\n",
              "  </tbody>\n",
              "</table>\n",
              "</div>\n",
              "    <div class=\"colab-df-buttons\">\n",
              "\n",
              "  <div class=\"colab-df-container\">\n",
              "    <button class=\"colab-df-convert\" onclick=\"convertToInteractive('df-0e36532c-7e6d-4250-a1e0-1b799172eaa6')\"\n",
              "            title=\"Convert this dataframe to an interactive table.\"\n",
              "            style=\"display:none;\">\n",
              "\n",
              "  <svg xmlns=\"http://www.w3.org/2000/svg\" height=\"24px\" viewBox=\"0 -960 960 960\">\n",
              "    <path d=\"M120-120v-720h720v720H120Zm60-500h600v-160H180v160Zm220 220h160v-160H400v160Zm0 220h160v-160H400v160ZM180-400h160v-160H180v160Zm440 0h160v-160H620v160ZM180-180h160v-160H180v160Zm440 0h160v-160H620v160Z\"/>\n",
              "  </svg>\n",
              "    </button>\n",
              "\n",
              "  <style>\n",
              "    .colab-df-container {\n",
              "      display:flex;\n",
              "      gap: 12px;\n",
              "    }\n",
              "\n",
              "    .colab-df-convert {\n",
              "      background-color: #E8F0FE;\n",
              "      border: none;\n",
              "      border-radius: 50%;\n",
              "      cursor: pointer;\n",
              "      display: none;\n",
              "      fill: #1967D2;\n",
              "      height: 32px;\n",
              "      padding: 0 0 0 0;\n",
              "      width: 32px;\n",
              "    }\n",
              "\n",
              "    .colab-df-convert:hover {\n",
              "      background-color: #E2EBFA;\n",
              "      box-shadow: 0px 1px 2px rgba(60, 64, 67, 0.3), 0px 1px 3px 1px rgba(60, 64, 67, 0.15);\n",
              "      fill: #174EA6;\n",
              "    }\n",
              "\n",
              "    .colab-df-buttons div {\n",
              "      margin-bottom: 4px;\n",
              "    }\n",
              "\n",
              "    [theme=dark] .colab-df-convert {\n",
              "      background-color: #3B4455;\n",
              "      fill: #D2E3FC;\n",
              "    }\n",
              "\n",
              "    [theme=dark] .colab-df-convert:hover {\n",
              "      background-color: #434B5C;\n",
              "      box-shadow: 0px 1px 3px 1px rgba(0, 0, 0, 0.15);\n",
              "      filter: drop-shadow(0px 1px 2px rgba(0, 0, 0, 0.3));\n",
              "      fill: #FFFFFF;\n",
              "    }\n",
              "  </style>\n",
              "\n",
              "    <script>\n",
              "      const buttonEl =\n",
              "        document.querySelector('#df-0e36532c-7e6d-4250-a1e0-1b799172eaa6 button.colab-df-convert');\n",
              "      buttonEl.style.display =\n",
              "        google.colab.kernel.accessAllowed ? 'block' : 'none';\n",
              "\n",
              "      async function convertToInteractive(key) {\n",
              "        const element = document.querySelector('#df-0e36532c-7e6d-4250-a1e0-1b799172eaa6');\n",
              "        const dataTable =\n",
              "          await google.colab.kernel.invokeFunction('convertToInteractive',\n",
              "                                                    [key], {});\n",
              "        if (!dataTable) return;\n",
              "\n",
              "        const docLinkHtml = 'Like what you see? Visit the ' +\n",
              "          '<a target=\"_blank\" href=https://colab.research.google.com/notebooks/data_table.ipynb>data table notebook</a>'\n",
              "          + ' to learn more about interactive tables.';\n",
              "        element.innerHTML = '';\n",
              "        dataTable['output_type'] = 'display_data';\n",
              "        await google.colab.output.renderOutput(dataTable, element);\n",
              "        const docLink = document.createElement('div');\n",
              "        docLink.innerHTML = docLinkHtml;\n",
              "        element.appendChild(docLink);\n",
              "      }\n",
              "    </script>\n",
              "  </div>\n",
              "\n",
              "\n",
              "<div id=\"df-369f19d4-b4b3-46a9-901b-e48c09cc56dd\">\n",
              "  <button class=\"colab-df-quickchart\" onclick=\"quickchart('df-369f19d4-b4b3-46a9-901b-e48c09cc56dd')\"\n",
              "            title=\"Suggest charts\"\n",
              "            style=\"display:none;\">\n",
              "\n",
              "<svg xmlns=\"http://www.w3.org/2000/svg\" height=\"24px\"viewBox=\"0 0 24 24\"\n",
              "     width=\"24px\">\n",
              "    <g>\n",
              "        <path d=\"M19 3H5c-1.1 0-2 .9-2 2v14c0 1.1.9 2 2 2h14c1.1 0 2-.9 2-2V5c0-1.1-.9-2-2-2zM9 17H7v-7h2v7zm4 0h-2V7h2v10zm4 0h-2v-4h2v4z\"/>\n",
              "    </g>\n",
              "</svg>\n",
              "  </button>\n",
              "\n",
              "<style>\n",
              "  .colab-df-quickchart {\n",
              "      --bg-color: #E8F0FE;\n",
              "      --fill-color: #1967D2;\n",
              "      --hover-bg-color: #E2EBFA;\n",
              "      --hover-fill-color: #174EA6;\n",
              "      --disabled-fill-color: #AAA;\n",
              "      --disabled-bg-color: #DDD;\n",
              "  }\n",
              "\n",
              "  [theme=dark] .colab-df-quickchart {\n",
              "      --bg-color: #3B4455;\n",
              "      --fill-color: #D2E3FC;\n",
              "      --hover-bg-color: #434B5C;\n",
              "      --hover-fill-color: #FFFFFF;\n",
              "      --disabled-bg-color: #3B4455;\n",
              "      --disabled-fill-color: #666;\n",
              "  }\n",
              "\n",
              "  .colab-df-quickchart {\n",
              "    background-color: var(--bg-color);\n",
              "    border: none;\n",
              "    border-radius: 50%;\n",
              "    cursor: pointer;\n",
              "    display: none;\n",
              "    fill: var(--fill-color);\n",
              "    height: 32px;\n",
              "    padding: 0;\n",
              "    width: 32px;\n",
              "  }\n",
              "\n",
              "  .colab-df-quickchart:hover {\n",
              "    background-color: var(--hover-bg-color);\n",
              "    box-shadow: 0 1px 2px rgba(60, 64, 67, 0.3), 0 1px 3px 1px rgba(60, 64, 67, 0.15);\n",
              "    fill: var(--button-hover-fill-color);\n",
              "  }\n",
              "\n",
              "  .colab-df-quickchart-complete:disabled,\n",
              "  .colab-df-quickchart-complete:disabled:hover {\n",
              "    background-color: var(--disabled-bg-color);\n",
              "    fill: var(--disabled-fill-color);\n",
              "    box-shadow: none;\n",
              "  }\n",
              "\n",
              "  .colab-df-spinner {\n",
              "    border: 2px solid var(--fill-color);\n",
              "    border-color: transparent;\n",
              "    border-bottom-color: var(--fill-color);\n",
              "    animation:\n",
              "      spin 1s steps(1) infinite;\n",
              "  }\n",
              "\n",
              "  @keyframes spin {\n",
              "    0% {\n",
              "      border-color: transparent;\n",
              "      border-bottom-color: var(--fill-color);\n",
              "      border-left-color: var(--fill-color);\n",
              "    }\n",
              "    20% {\n",
              "      border-color: transparent;\n",
              "      border-left-color: var(--fill-color);\n",
              "      border-top-color: var(--fill-color);\n",
              "    }\n",
              "    30% {\n",
              "      border-color: transparent;\n",
              "      border-left-color: var(--fill-color);\n",
              "      border-top-color: var(--fill-color);\n",
              "      border-right-color: var(--fill-color);\n",
              "    }\n",
              "    40% {\n",
              "      border-color: transparent;\n",
              "      border-right-color: var(--fill-color);\n",
              "      border-top-color: var(--fill-color);\n",
              "    }\n",
              "    60% {\n",
              "      border-color: transparent;\n",
              "      border-right-color: var(--fill-color);\n",
              "    }\n",
              "    80% {\n",
              "      border-color: transparent;\n",
              "      border-right-color: var(--fill-color);\n",
              "      border-bottom-color: var(--fill-color);\n",
              "    }\n",
              "    90% {\n",
              "      border-color: transparent;\n",
              "      border-bottom-color: var(--fill-color);\n",
              "    }\n",
              "  }\n",
              "</style>\n",
              "\n",
              "  <script>\n",
              "    async function quickchart(key) {\n",
              "      const quickchartButtonEl =\n",
              "        document.querySelector('#' + key + ' button');\n",
              "      quickchartButtonEl.disabled = true;  // To prevent multiple clicks.\n",
              "      quickchartButtonEl.classList.add('colab-df-spinner');\n",
              "      try {\n",
              "        const charts = await google.colab.kernel.invokeFunction(\n",
              "            'suggestCharts', [key], {});\n",
              "      } catch (error) {\n",
              "        console.error('Error during call to suggestCharts:', error);\n",
              "      }\n",
              "      quickchartButtonEl.classList.remove('colab-df-spinner');\n",
              "      quickchartButtonEl.classList.add('colab-df-quickchart-complete');\n",
              "    }\n",
              "    (() => {\n",
              "      let quickchartButtonEl =\n",
              "        document.querySelector('#df-369f19d4-b4b3-46a9-901b-e48c09cc56dd button');\n",
              "      quickchartButtonEl.style.display =\n",
              "        google.colab.kernel.accessAllowed ? 'block' : 'none';\n",
              "    })();\n",
              "  </script>\n",
              "</div>\n",
              "\n",
              "    </div>\n",
              "  </div>\n"
            ],
            "application/vnd.google.colaboratory.intrinsic+json": {
              "type": "dataframe",
              "variable_name": "df",
              "summary": "{\n  \"name\": \"df\",\n  \"rows\": 39885,\n  \"fields\": [\n    {\n      \"column\": \"text\",\n      \"properties\": {\n        \"dtype\": \"string\",\n        \"num_unique_values\": 39870,\n        \"samples\": [\n          \"\\u0644\\u062c\\u0646 \\u0621\\u0648\\u0644\\u0645\\u0628 \\u062f\\u0648\\u0644 \\u062c\\u0631\\u062f \\u0628\\u0637\\u0644 \\u0633\\u0628\\u0639 \\u0621\\u0648\\u0643\\u0631\\u0627\\u0646\\u064a\\u0629 \\u0644\\u064a\\u0648\\u062f\\u0645\\u064a\\u0644\\u0627 \\u0648\\u0646\\u0633 \\u064a\\u062f\\u0644 \\u0641\\u0636\\u0629 \\u0621\\u062d\\u0631\\u0632 \\u062f\\u0648\\u0631 \\u0621\\u0644\\u0639\\u0627\\u0628 \\u0644\\u0645\\u0628 \\u062d\\u0644\\u064a \\u0628\\u0643\\u0646 \\u0648\\u0627\\u0633\\u062a\\u0628\\u0639\\u0627\\u062f \\u0643\\u0645\\u0644 \\u0646\\u0641\\u0633 \\u062f\\u0648\\u0631\\u0629\\u0648\\u0642\\u062f \\u0648\\u062c\\u0647 \\u0648\\u0646\\u0633 \\u0621\\u064a\\u0636 \\u0639\\u0642\\u0628 \\u0621\\u064a\\u0642\\u0627\\u0641 \\u0645\\u062f\\u0649 \\u062d\\u064a\\u0629 \\u062a\\u062d\\u062f \\u062f\\u0648\\u0644 \\u0621\\u0644\\u0639\\u0627\\u0628 \\u0642\\u0648\\u0649 \\u0621\\u0646\\u0647 \\u0645\\u0631\\u0629 \\u062b\\u0646\\u064a \\u0648\\u0631\\u0637 \\u0639\\u0637\\u064a \\u0645\\u0646\\u0634\\u0637\\u0627\\u062a\\u0630\\u0643\\u0631\\u062a \\u0644\\u062c\\u0646 \\u0644\\u0645\\u0628 \\u062f\\u0648\\u0644 \\u0621\\u0646 \\u062e\\u0628\\u0631 \\u0643\\u0634\\u0641 \\u0646\\u0634\\u0637 \\u0643\\u0634\\u0641 \\u0648\\u0631\\u0637 \\u0646\\u0643\\u0633 \\u0639\\u0645\\u0627 \\u0639\\u0637\\u064a \\u0631\\u0643\\u0628 \\u0628\\u0646\\u0621 \\u0639\\u0636\\u064a \\u0645\\u064a\\u062b\\u064a\\u0644\\u062a\\u064a\\u0633\\u062a\\u0648\\u0633\\u062a\\u064a\\u0631 \\u0634\\u0631\\u0643 \\u0633\\u0628\\u0642 \\u0633\\u0628\\u0639 \\u0647\\u064a\\u0628\\u062a\\u0627\\u062b\\u0644 \\u0621\\u063a\\u0633\\u0637\\u0633\\u0621\\u0621\\u0628 \\u062c\\u0631\\u064a \\u0621\\u0646\\u0647 \\u0633\\u0628\\u0642 \\u0631\\u0643\\u0632 \\u062b\\u0646\\u064a \\u0627\\u062a\\u0644 \\u062f\\u0648\\u0628\\u0631\\u064a\\u0646\\u0633\\u0643\\u0627\\u0648\\u0621\\u0643\\u062f\\u062a \\u0644\\u062c\\u0646 \\u0621\\u0648\\u0644\\u0645\\u0628 \\u062f\\u0648\\u0644 \\u0621\\u0646\\u0647 \\u062a\\u0645 \\u0639\\u062f\\u0644 \\u0631\\u064a\\u0628 \\u064a\\u062f\\u0644 \\u0633\\u0628\\u0642 \\u0633\\u0628\\u0639 \\u0643\\u0627\\u0646\\u062a \\u0621\\u0645\\u0631 \\u0647\\u064a\\u0644\\u064a\\u0627\\u0633 \\u0641\\u0648\\u0646 \\u0621\\u062d\\u0631\\u0632 \\u0631\\u0648\\u0646\\u0632 \\u0633\\u0628\\u0642 \\u0633\\u0628\\u0639 \\u0648\\u062a\\u0644 \\u0631\\u0648\\u0633 \\u0627\\u064a\\u0627 \\u062a\\u0634\\u064a\\u0631\\u0646\\u0648\\u0641\\u0627 \\u0631\\u0643\\u0632 \\u0631\\u0628\\u0639 \\u062d\\u0635\\u0644 \\u0621\\u0621\\u0646 \\u0641\\u0648\\u0646 \\u064a\\u062f\\u0644 \\u0641\\u0636\\u0629 \\u0628\\u064a\\u0646 \\u062a\\u062a\\u062c \\u062a\\u0634\\u064a\\u0631\\u0646\\u0648\\u0641\\u0627 \\u0628\\u0631\\u0648\\u0646\\u0632\\u064a\\u0629\\u0648\\u062a\\u0648\\u0627\\u062c\\u0647 \\u0648\\u0646\\u0633 \\u0639\\u0642\\u0628 \\u0621\\u064a\\u0642\\u0627\\u0641 \\u0645\\u062f\\u0649 \\u062d\\u064a\\u0629 \\u0639\\u0628\\u0631 \\u0621\\u0646\\u0647 \\u062e\\u0644\\u0641 \\u0646\\u0634\\u0637 \\u062b\\u0646\\u064a \\u0634\\u0648\\u0631 \\u0631\\u064a\\u0636 \\u0646\\u0641\\u0630 \\u0648\\u0646\\u0633 \\u0639\\u0642\\u0628 \\u0621\\u064a\\u0642\\u0627\\u0641 \\u0633\\u0628\\u0628 \\u0639\\u0637\\u064a \\u0646\\u0634\\u0637 \\u0639\\u0645\\u064a \\u062b\\u0628\\u062a \\u0639\\u0637\\u064a \\u0646\\u0634\\u0637 \\u0633\\u062a\\u0627\\u0646\\u0648\\u0632\\u0648\\u0644\\u0648\\u0644\\u0648\\u0621\\u0648\\u0636\\u062d\\u062a \\u0644\\u062c\\u0646 \\u0621\\u0646\\u0647 \\u0628\\u062d\\u062b \\u062f\\u0648\\u0631 \\u062f\\u0631\\u0628 \\u0648\\u0646\\u0633 \\u064a\\u0631\\u062c \\u0648\\u0646\\u0633 \\u0642\\u0636\\u064a\\u0629\\u0648\\u0621\\u0643\\u062f\\u062a \\u0644\\u062c\\u0646 \\u0621\\u0648\\u0644\\u0645\\u0628 \\u062f\\u0648\\u0644 \\u0621\\u0646\\u0647 \\u0621\\u062c\\u0631 \\u062e\\u0628\\u0631 \\u0643\\u0634\\u0641 \\u0639\\u0637\\u064a \\u0646\\u0634\\u0637 \\u0648\\u0621\\u0646 \\u0639\\u062f\\u062f \\u0621\\u062c\\u0645\\u0627\\u0644 \\u062e\\u0628\\u0631 \\u064a\\u0635\\u0644 \\u0621\\u0644\\u0649 \\u062e\\u0628\\u0631 \\u0648\\u0643\\u0627\\u0646\\u062a \\u0644\\u062c\\u0646 \\u0621\\u0648\\u0644\\u0645\\u0628 \\u0621\\u0634\\u0631 \\u0621\\u0644\\u0649 \\u0621\\u0646\\u0647 \\u0621\\u062c\\u0631 \\u0621\\u0648\\u0644\\u0645\\u0628\\u064a\\u0627\\u062f \\u0628\\u0643\\u0646 \\u0645\\u062a\\u062f \\u062b\\u0645\\u0646 \\u0621\\u063a\\u0633\\u0637\\u0633\\u0621\\u0621\\u0628\\u0648\\u0621\\u0635\\u0628\\u062d\\u062a \\u0648\\u0646\\u0633 \\u062d\\u0644\\u0629 \\u0646\\u0634\\u0637 \\u0621\\u0648\\u0644\\u0645\\u0628\\u064a\\u0627\\u062f \\u0628\\u0643\\u0646 \\u0627\\u0644\\u062d\\u0627\\u0644\\u064a \\u0633\\u0627\\u0628\\u0642 \\u062f\\u0631\\u062c \\u0621\\u0633\\u0628 \\u0645\\u0627\\u0631 \\u0621\\u064a\\u0632\\u0627\\u0628\\u064a\\u0644 \\u0645\\u0648\\u0631\\u064a\\u0646\\u0648 \\u0628\\u0637\\u0644 \\u0631\\u0645\\u064a \\u0643\\u0648\\u0631 \\u0634\\u0645\\u0644 \\u0643\\u064a\\u0645 \\u062c\\u0648\\u0646\\u062c \\u0633\\u0648 \\u0644\\u0639\\u0628 \\u062c\\u0645\\u0628\\u0627\\u0632 \\u0641\\u0646\\u0632\\u0648\\u064a\\u0644\\u064a\\u0629 \\u062f\\u0648 \\u0646\\u062c\\u0646 \\u0648\\u0646\\u062c \\u0639\\u062f\\u0621 \\u064a\\u0648\\u0646 \\u0641\\u0646\\u064a \\u0647\\u0644\\u0643 \\u0628\\u0637\\u0644 \\u0633\\u0628\\u0642 \\u0645\\u062a\\u0631 \\u062d\\u062c\\u0632 \\u0633\\u064a\\u062f \\u0621\\u0648\\u0644\\u0645\\u0628\\u064a\\u0627\\u062f \\u0621\\u062b\\u064a\\u0646\\u0627\\u0648\\u0648\\u0641\\u0642\\u0627 \\u0648\\u0621\\u062d \\u062c\\u062f\\u062f \\u062c\\u0646\\u0629 \\u0621\\u0648\\u0644\\u0645\\u0628 \\u062f\\u0648\\u0644 \\u0641\\u0621\\u0646 \\u0644\\u0639\\u0628 \\u0631\\u064a\\u0636 \\u064a\\u062b\\u0628 \\u0639\\u0637\\u064a \\u0646\\u0634\\u0637 \\u062e\\u0644\\u0644 \\u062f\\u0648\\u0631 \\u0621\\u0648\\u0644\\u0645\\u0628 \\u064a\\u062a\\u0645 \\u0628\\u0639\\u062f \\u0621\\u0648\\u062a\\u0648\\u0645\\u0627\\u062a\\u064a\\u0643 \\u0634\\u0631\\u0643 \\u062f\\u0648\\u0631 \\u0627\\u0644\\u064a\",\n          \"\\u062e\\u0644\\u062c \\u0643\\u062b\\u0641 \\u0642\\u0641\\u0644 \\u0632\\u064a\\u062f \\u062e\\u064a\\u0631 \\u0647\\u0627\\u0645 \\u0621\\u0646\\u0633 \\u0635\\u0648\\u0645\\u0627\\u0644 \\u062a\\u062f\\u0634 \\u0621\\u0648\\u0644 \\u0639\\u064a\\u062f \\u062a\\u0646\\u0642\\u0644 \\u0642\\u062f\\u0645 \\u062e\\u062f\\u0645 \\u0634\\u062e\\u0635 \\u0639\\u0644\\u062c \\u0648\\u0642\\u0621 \\u062e\\u0644\\u0641 \\u0646\\u0637\\u0642 \\u0646\\u0643\\u0628 \\u0628\\u062f\\u0631 \\u0633\\u0628\\u0642 \\u062a\\u0633\\u0627 \\u0621\\u064a\\u062c\\u0627\\u062f \\u062d\\u0644\\u0644 \\u0648\\u0642\\u0639 \\u0648\\u0645\\u064a\\u062f\\u0627\\u0646\\u064a\\u0629 \\u0639\\u0644\\u062c \\u062d\\u0627\\u0644 \\u0639\\u0648\\u0632 \\u0621\\u0637\\u0641\\u0627\\u0644 \\u0645\\u0633\\u0646 \\u0644\\u062d\\u062f \\u0646\\u0634\\u0631 \\u0621\\u0645\\u0631\\u0627\\u0636 \\u0639\\u062f\\u0629 \\u0648\\u0630\\u0644 \\u0621\\u0634\\u0631\\u0627\\u0641 \\u0641\\u0631\\u0642 \\u0621\\u0645\\u0631 \\u0635\\u0648\\u0645\\u0627\\u0644 \\u062a\\u0637\\u0639 \\u0648\\u0628\\u0627\\u0644\\u062a\\u0646\\u0633\\u064a\\u0642 \\u0648\\u0632\\u0631 \\u0635\\u062d\\u0629 \\u0635\\u0648\\u0645\\u0627\\u0644 \\u0648\\u0628\\u0645\\u0628\\u0627\\u062f\\u0631\\u0629 \\u0621\\u0646\\u0633 \\u0634\\u0631\\u0643 \\u0632\\u064a\\u062f \\u0639\\u0637\\u0621 \\u062c\\u0645\\u0639 \\u062f\\u0627\\u0631 \\u0644\\u0628\\u0631 \\u0621\\u0633\\u0633 \\u0628\\u064a\\u062a \\u0634\\u0631\\u0642 \\u062e\\u064a\\u0631 \\u062c\\u0645\\u0639 \\u0634\\u0641\\u064a \\u0633\\u0639\\u062f \\u0621\\u0644\\u0645 \\u0648\\u0630\\u062c \\u0645\\u064a\\u0632 \\u0639\\u0645\\u0644 \\u0621\\u0646\\u0633 \\u0634\\u0631\\u0643 \\u0648\\u062a\\u0621 \\u062d\\u0645\\u0644 \\u0633\\u062c\\u0627 \\u0648\\u062c\\u0647 \\u0635\\u062d\\u0628 \\u0633\\u0645\\u0648 \\u0634\\u064a\\u062e \\u062e\\u0644\\u0641 \\u0628\\u0646 \\u0632\\u064a\\u062f \\u0621\\u0621\\u0644 \\u0646\\u0647\\u064a \\u0631\\u0621\\u0633 \\u062f\\u0648\\u0644 \\u062d\\u0641\\u0638 \\u0627\\u0644\\u0644 \\u0628\\u0621\\u0646 \\u064a\\u0643\\u0648\\u0646 \\u0639\\u0627\\u0645 \\u0639\\u0645\\u0627 \\u062e\\u064a\\u0631 \\u062a\\u0632\\u0645 \\u062d\\u0645\\u0644 \\u0621\\u062c\\u0644 \\u0635\\u0648\\u0645\\u0627\\u0644 \\u0639\\u0632\\u0632 \\u0644\\u062f\\u0631 \\u0621\\u0645\\u0631 \\u0631\\u0633\\u0644 \\u0621\\u0646\\u0633 \\u062d\\u0636\\u0631 \\u062e\\u0641\\u0641 \\u0639\\u0646\\u0627 \\u0634\\u0639\\u0628 \\u0635\\u0648\\u0645\\u0627\\u0644 \\u0621\\u0643\\u062f \\u062f\\u0643\\u062a\\u0648\\u0631 \\u0639\\u062f\\u0644 \\u0634\\u0645\\u0631 \\u0631\\u0621\\u0633 \\u0646\\u0641\\u0630 \\u0628\\u062f\\u0631 \\u0632\\u064a\\u062f \\u0639\\u0637\\u0621 \\u0631\\u0621\\u0633 \\u0631\\u0646\\u0645\\u062c \\u0621\\u0645\\u0631 \\u062a\\u0637\\u0639 \\u062c\\u0645\\u0639 \\u062e\\u0635\\u0635 \\u0631\\u0621\\u0633 \\u0621\\u0637\\u0628\\u0627\\u0621 \\u0621\\u0645\\u0631 \\u0621\\u0646 \\u0639\\u064a\\u062f \\u062e\\u0635\\u0635 \\u062a\\u0646\\u0642\\u0644 \\u062c\\u0647\\u0632 \\u0648\\u062d\\u062f \\u0637\\u0648\\u0627\\u0631\\u0649\\u0621 \\u0648\\u062d\\u062f \\u062e\\u0628\\u0631 \\u0635\\u064a\\u062f\\u0644 \\u0621\\u0636\\u0641 \\u0621\\u0644\\u0649 \\u0648\\u062d\\u062f \\u0648\\u0644\\u062f \\u0637\\u0642\\u0629 \\u0621\\u0645\\u062f\\u0627\\u062f \\u0637\\u0628\\u0629 \\u0621\\u062c\\u0644 \\u062d\\u062f\\u062f \\u0634\\u064a\\u0631 \\u0621\\u0644\\u0649 \\u0621\\u0646\\u0647 \\u0633\\u062a\\u0633 \\u0634\\u0643\\u0644 \\u0641\\u0639\\u0644 \\u0621\\u064a\\u062c\\u0627\\u062f \\u062d\\u0644\\u0644 \\u0639\\u0645\\u0644 \\u0639\\u062f\\u062f \\u0634\\u0643\\u0644 \\u0635\\u062d\\u0629 \\u062e\\u0644\\u0644 \\u0648\\u0635\\u0644 \\u0621\\u0644\\u0649 \\u0631\\u0636\\u0649 \\u062e\\u0644\\u0641 \\u0642\\u0631\\u0649 \\u0648\\u062a\\u0645 \\u062e\\u062f\\u0645 \\u062c\\u0646\\u064a \\u0643\\u0634\\u0641 \\u0628\\u0643\\u0631 \\u0621\\u0645\\u0631\\u0627\\u0636 \\u0642\\u062f\\u0645 \\u0639\\u0644\\u062c \\u062d\\u0627\\u0644 \\u0631\\u0636\\u0629 \\u062a\\u0635\\u0628 \\u0621\\u0637\\u0641\\u0627\\u0644 \\u0645\\u0633\\u0646 \\u062c\\u0647\\u0629 \\u0621\\u062e\\u0631\\u0649 \\u0621\\u0634\\u062f \\u0633\\u0621\\u0644 \\u0635\\u0648\\u0645\\u0627\\u0644 \\u0647\\u0627\\u0645 \\u0621\\u0646\\u0633 \\u0642\\u0641\\u0644 \\u0632\\u064a\\u062f \\u062e\\u064a\\u0631 \\u0639\\u064a\\u062f \\u062a\\u0646\\u0642\\u0644 \\u0648\\u0645\\u0633\\u062a\\u0634\\u0641\\u064a\\u0627\\u062a \\u064a\\u062f\\u0646 \\u0648\\u0627\\u0644\\u062a\\u064a \\u0642\\u062f\\u0645 \\u0646\\u0642\\u0644 \\u0646\\u0648\\u0639 \\u0633\\u062a\\u0649 \\u062e\\u062f\\u0645 \\u062c\\u0645\\u0639 \\u064a\\u062f\\u0646 \\u0631\\u0636\\u0649 \\u0621\\u0637\\u0641\\u0627\\u0644 \\u0645\\u0633\\u0646\",\n          \"\\u0633\\u0628\\u0642 \\u0641\\u0639\\u0644 \\u0621\\u0646\\u0634\\u0637 \\u062b\\u0642\\u0641 \\u0646\\u0638\\u0645 \\u062f\\u0621\\u0631 \\u062b\\u0642\\u0641 \\u0639\\u0644\\u0645 \\u0634\\u0631\\u0642 \\u0621\\u0628\\u0646 \\u0641\\u0639\\u0644 \\u0639\\u0631\\u0636 \\u0634\\u0631\\u0642 \\u062f\\u0648\\u0644 \\u0643\\u062a\\u0628 \\u062f\\u0648\\u0631 \\u062b\\u0645\\u0646 \\u0639\\u0634\\u0631 \\u0648\\u0627\\u0644\\u062a\\u064a \\u0628\\u062f\\u0621 \\u0641\\u0639\\u0644 \\u063a\\u062f \\u0627\\u0621\\u0629 \\u0646\\u0634\\u0637 \\u062b\\u0642\\u0641 \\u0646\\u0648\\u0639 \\u0631\\u0641\\u062f \\u0639\\u0631\\u0636 \\u062c\\u062f\\u062f \\u0643\\u062a\\u0628 \\u062b\\u0642\\u0641 \\u0646\\u0634\\u0631 \\u0628\\u062f\\u0639 \\u0648\\u0642\\u0644 \\u062d\\u0645\\u062f \\u0642\\u0635\\u0631 \\u0633\\u0621\\u0644 \\u0631\\u0645\\u062c \\u062b\\u0642\\u0641 \\u0639\\u0631\\u0636 \\u0627\\u0646 \\u062f\\u0621\\u0631 \\u0633\\u0639\\u062a \\u062c\\u0647\\u062f \\u062e\\u0644\\u0642 \\u0648\\u0635\\u0644 \\u0642\\u0631\\u0621 \\u0643\\u062a\\u0628 \\u0646\\u0634\\u0631 \\u0643\\u062a\\u0628 \\u062e\\u0644\\u0644 \\u0641\\u0639\\u0644 \\u0646\\u0634\\u0637 \\u0631\\u0643\\u0632 \\u0648\\u0636\\u0639 \\u0642\\u0631\\u0621 \\u0643\\u0645\\u062d\\u0648\\u0631 \\u0648\\u062b\\u0645 \\u0639\\u0645\\u0644 \\u0644\\u0647\\u0630\\u0627 \\u0639\\u0627\\u0645 \\u062d\\u0628 \\u0643\\u0644\\u0645 \\u0642\\u0631\\u0621 \\u0648\\u0630\\u0644 \\u062e\\u0644\\u0644 \\u0646\\u062f\\u0648 \\u0641\\u0643\\u0631 \\u0648\\u0627\\u0644\\u062a\\u064a \\u062a\\u0636\\u0645 \\u062d\\u0645\\u064a \\u062d\\u0642\\u0642 \\u0644\\u0643\\u0629 \\u0641\\u0643\\u0631 \\u0627\\u0631\\u062e \\u0643\\u062a\\u0628 \\u0645\\u0639\\u0627\\u064a\\u064a\\u0631 \\u0635\\u0646\\u0639 \\u0643\\u062a\\u0628 \\u0635\\u062f\\u0631 \\u062c\\u062f\\u062f \\u0637\\u0628\\u0639 \\u0643\\u062a\\u0628 \\u0636\\u0641\\u0629 \\u0627\\u0644\\u0649 \\u0648\\u0631\\u0634 \\u0647\\u0646\\u0629 \\u0634\\u0631\\u0641 \\u0639\\u0644\\u064a\\u0647\\u0627 \\u0646\\u062e\\u0628 \\u062e\\u062a\\u0635 \\u062c\\u0627\\u0644 \\u062b\\u0642\\u0641 \\u0643\\u062a\\u0628 \\u062b\\u0642\\u0641 \\u0637\\u0641\\u0644 \\u0648\\u0631\\u0634 \\u0643\\u062a\\u0628 \\u0643\\u062a\\u0631\\u0648 \\u0646\\u0638\\u0645 \\u0639\\u0631\\u0636 \\u0645\\u0631\\u0629 \\u0621\\u0648\\u0644\\u0649 \\u0642\\u0647\\u0649 \\u062b\\u0642\\u0641 \\u062a\\u0636\\u0641 \\u062e\\u0644\\u0644 \\u0642\\u0627\\u0645 \\u0633\\u0647\\u0645 \\u062d\\u0631\\u0643 \\u062b\\u0642\\u0641 \\u062f\\u062e\\u0644 \\u062f\\u0648\\u0644 \\u0621\\u0642\\u0637\\u0627\\u0631 \\u0639\\u0631\\u0628 \\u0634\\u0642\\u0642 \\u0646\\u0642\\u0634 \\u0648\\u0636\\u0639 \\u062a\\u062e\\u0635 \\u062b\\u0642\\u0641 \\u0646\\u0634\\u0631 \\u0648\\u0644\\u0641 \\u0633\\u0631\\u062d \\u0643\\u062a\\u0628 \\u0637\\u0641\\u0644 \\u0627\\u0644\\u0649 \\u062c\\u0646\\u0628 \\u0621\\u062d\\u064a\\u0627\\u0621 \\u0621\\u0645\\u0633 \\u0634\\u0639\\u0631 \\u063a\\u0631\\u0628 \\u0639\\u0631\\u0628 \\u0647\\u0646\\u062f \\u0627\\u0644\\u0649 \\u062c\\u0646\\u0628 \\u0631\\u0646\\u0645\\u062c \\u062e\\u0627\\u0635 \\u0628\\u062f\\u0639 \\u062b\\u0642\\u0641 \\u0641\\u0644\\u0633\\u0637\\u064a\\u0646\\u064a\\u0629 \\u064a\\u0636\\u0645 \\u0636\\u064a\\u0641 \\u064a\\u0634\\u0631 \\u0621\\u0645\\u0633 \\u0639\\u0631\\u0636 \\u0631\\u062b\\u064a \\u0621\\u0621\\u062e\\u0631 \\u0634\\u0643\\u0644\"\n        ],\n        \"semantic_type\": \"\",\n        \"description\": \"\"\n      }\n    },\n    {\n      \"column\": \"label\",\n      \"properties\": {\n        \"dtype\": \"category\",\n        \"num_unique_values\": 7,\n        \"samples\": [\n          \"Culture\",\n          \"Finance\",\n          \"Sports\"\n        ],\n        \"semantic_type\": \"\",\n        \"description\": \"\"\n      }\n    },\n    {\n      \"column\": \"text_length\",\n      \"properties\": {\n        \"dtype\": \"number\",\n        \"std\": 1499,\n        \"min\": 176,\n        \"max\": 7624,\n        \"num_unique_values\": 6060,\n        \"samples\": [\n          286,\n          3672,\n          3495\n        ],\n        \"semantic_type\": \"\",\n        \"description\": \"\"\n      }\n    }\n  ]\n}"
            }
          },
          "metadata": {},
          "execution_count": 16
        }
      ]
    },
    {
      "cell_type": "code",
      "execution_count": 17,
      "metadata": {
        "id": "mHEObOY_fHhq",
        "colab": {
          "base_uri": "https://localhost:8080/"
        },
        "outputId": "1ac13036-fa6d-4cde-921a-2ca13d997013"
      },
      "outputs": [
        {
          "output_type": "stream",
          "name": "stderr",
          "text": [
            "[nltk_data] Downloading package stopwords to /root/nltk_data...\n",
            "[nltk_data]   Package stopwords is already up-to-date!\n"
          ]
        }
      ],
      "source": [
        "nltk.download('stopwords')\n",
        "stop_words = set(stopwords.words('arabic'))\n",
        "\n",
        "def clean_text(text):\n",
        "  cleaned_text = str(text)\n",
        "  cleaned_text=re.sub(r'http\\S+', '', text)\n",
        "  cleaned_text=re.sub(r'[^\\w\\s]', '', cleaned_text)\n",
        "  cleaned_text=re.sub(r'\\d+', '', cleaned_text)\n",
        "  cleaned_text=re.sub(r'\\s+', ' ', cleaned_text)\n",
        "  cleaned_text=araby.strip_tashkeel(cleaned_text)\n",
        "  cleaned_text=araby.strip_tatweel(cleaned_text)\n",
        "  cleaned_text=araby.normalize_hamza(cleaned_text)\n",
        "  cleaned_text=araby.tokenize(cleaned_text)\n",
        "  cleaned_text=[word for word in cleaned_text if word not in stop_words]\n",
        "  StemmerI=nltk.ISRIStemmer()\n",
        "  cleaned_text=[StemmerI.stem(word) for word in cleaned_text]\n",
        "  cleaned_text=' '.join(cleaned_text)\n",
        "\n",
        "  return cleaned_text\n",
        "  df['text']=df['text'].apply(clean_text)\n"
      ]
    },
    {
      "cell_type": "code",
      "source": [
        "all_words = [word for sublist in df['text'] for word in sublist]\n",
        "word_freq = Counter(all_words)\n",
        "common_words = word_freq.most_common(20)\n",
        "common_df = pd.DataFrame(common_words, columns=['Word', 'Frequency'])\n",
        "common_df"
      ],
      "metadata": {
        "id": "nYIbo-AB6nj9",
        "colab": {
          "base_uri": "https://localhost:8080/",
          "height": 677
        },
        "outputId": "1fd24113-b382-49fb-b1b1-8a3b7c04f2ac"
      },
      "execution_count": null,
      "outputs": [
        {
          "output_type": "execute_result",
          "data": {
            "text/plain": [
              "   Word  Frequency\n",
              "0          8330461\n",
              "1     ر    2297803\n",
              "2     ل    2227257\n",
              "3     ء    1959674\n",
              "4     م    1634481\n",
              "5     د    1426554\n",
              "6     و    1367253\n",
              "7     ع    1315212\n",
              "8     ن    1305675\n",
              "9     ب    1299933\n",
              "10    ي    1223242\n",
              "11    ا    1123809\n",
              "12    س    1091033\n",
              "13    ق    1074673\n",
              "14    ف     834317\n",
              "15    ت     800133\n",
              "16    ح     766156\n",
              "17    ك     730269\n",
              "18    ج     687427\n",
              "19    ش     532741"
            ],
            "text/html": [
              "\n",
              "  <div id=\"df-3eee38d7-5989-4872-b6ad-f2c94a257987\" class=\"colab-df-container\">\n",
              "    <div>\n",
              "<style scoped>\n",
              "    .dataframe tbody tr th:only-of-type {\n",
              "        vertical-align: middle;\n",
              "    }\n",
              "\n",
              "    .dataframe tbody tr th {\n",
              "        vertical-align: top;\n",
              "    }\n",
              "\n",
              "    .dataframe thead th {\n",
              "        text-align: right;\n",
              "    }\n",
              "</style>\n",
              "<table border=\"1\" class=\"dataframe\">\n",
              "  <thead>\n",
              "    <tr style=\"text-align: right;\">\n",
              "      <th></th>\n",
              "      <th>Word</th>\n",
              "      <th>Frequency</th>\n",
              "    </tr>\n",
              "  </thead>\n",
              "  <tbody>\n",
              "    <tr>\n",
              "      <th>0</th>\n",
              "      <td></td>\n",
              "      <td>8330461</td>\n",
              "    </tr>\n",
              "    <tr>\n",
              "      <th>1</th>\n",
              "      <td>ر</td>\n",
              "      <td>2297803</td>\n",
              "    </tr>\n",
              "    <tr>\n",
              "      <th>2</th>\n",
              "      <td>ل</td>\n",
              "      <td>2227257</td>\n",
              "    </tr>\n",
              "    <tr>\n",
              "      <th>3</th>\n",
              "      <td>ء</td>\n",
              "      <td>1959674</td>\n",
              "    </tr>\n",
              "    <tr>\n",
              "      <th>4</th>\n",
              "      <td>م</td>\n",
              "      <td>1634481</td>\n",
              "    </tr>\n",
              "    <tr>\n",
              "      <th>5</th>\n",
              "      <td>د</td>\n",
              "      <td>1426554</td>\n",
              "    </tr>\n",
              "    <tr>\n",
              "      <th>6</th>\n",
              "      <td>و</td>\n",
              "      <td>1367253</td>\n",
              "    </tr>\n",
              "    <tr>\n",
              "      <th>7</th>\n",
              "      <td>ع</td>\n",
              "      <td>1315212</td>\n",
              "    </tr>\n",
              "    <tr>\n",
              "      <th>8</th>\n",
              "      <td>ن</td>\n",
              "      <td>1305675</td>\n",
              "    </tr>\n",
              "    <tr>\n",
              "      <th>9</th>\n",
              "      <td>ب</td>\n",
              "      <td>1299933</td>\n",
              "    </tr>\n",
              "    <tr>\n",
              "      <th>10</th>\n",
              "      <td>ي</td>\n",
              "      <td>1223242</td>\n",
              "    </tr>\n",
              "    <tr>\n",
              "      <th>11</th>\n",
              "      <td>ا</td>\n",
              "      <td>1123809</td>\n",
              "    </tr>\n",
              "    <tr>\n",
              "      <th>12</th>\n",
              "      <td>س</td>\n",
              "      <td>1091033</td>\n",
              "    </tr>\n",
              "    <tr>\n",
              "      <th>13</th>\n",
              "      <td>ق</td>\n",
              "      <td>1074673</td>\n",
              "    </tr>\n",
              "    <tr>\n",
              "      <th>14</th>\n",
              "      <td>ف</td>\n",
              "      <td>834317</td>\n",
              "    </tr>\n",
              "    <tr>\n",
              "      <th>15</th>\n",
              "      <td>ت</td>\n",
              "      <td>800133</td>\n",
              "    </tr>\n",
              "    <tr>\n",
              "      <th>16</th>\n",
              "      <td>ح</td>\n",
              "      <td>766156</td>\n",
              "    </tr>\n",
              "    <tr>\n",
              "      <th>17</th>\n",
              "      <td>ك</td>\n",
              "      <td>730269</td>\n",
              "    </tr>\n",
              "    <tr>\n",
              "      <th>18</th>\n",
              "      <td>ج</td>\n",
              "      <td>687427</td>\n",
              "    </tr>\n",
              "    <tr>\n",
              "      <th>19</th>\n",
              "      <td>ش</td>\n",
              "      <td>532741</td>\n",
              "    </tr>\n",
              "  </tbody>\n",
              "</table>\n",
              "</div>\n",
              "    <div class=\"colab-df-buttons\">\n",
              "\n",
              "  <div class=\"colab-df-container\">\n",
              "    <button class=\"colab-df-convert\" onclick=\"convertToInteractive('df-3eee38d7-5989-4872-b6ad-f2c94a257987')\"\n",
              "            title=\"Convert this dataframe to an interactive table.\"\n",
              "            style=\"display:none;\">\n",
              "\n",
              "  <svg xmlns=\"http://www.w3.org/2000/svg\" height=\"24px\" viewBox=\"0 -960 960 960\">\n",
              "    <path d=\"M120-120v-720h720v720H120Zm60-500h600v-160H180v160Zm220 220h160v-160H400v160Zm0 220h160v-160H400v160ZM180-400h160v-160H180v160Zm440 0h160v-160H620v160ZM180-180h160v-160H180v160Zm440 0h160v-160H620v160Z\"/>\n",
              "  </svg>\n",
              "    </button>\n",
              "\n",
              "  <style>\n",
              "    .colab-df-container {\n",
              "      display:flex;\n",
              "      gap: 12px;\n",
              "    }\n",
              "\n",
              "    .colab-df-convert {\n",
              "      background-color: #E8F0FE;\n",
              "      border: none;\n",
              "      border-radius: 50%;\n",
              "      cursor: pointer;\n",
              "      display: none;\n",
              "      fill: #1967D2;\n",
              "      height: 32px;\n",
              "      padding: 0 0 0 0;\n",
              "      width: 32px;\n",
              "    }\n",
              "\n",
              "    .colab-df-convert:hover {\n",
              "      background-color: #E2EBFA;\n",
              "      box-shadow: 0px 1px 2px rgba(60, 64, 67, 0.3), 0px 1px 3px 1px rgba(60, 64, 67, 0.15);\n",
              "      fill: #174EA6;\n",
              "    }\n",
              "\n",
              "    .colab-df-buttons div {\n",
              "      margin-bottom: 4px;\n",
              "    }\n",
              "\n",
              "    [theme=dark] .colab-df-convert {\n",
              "      background-color: #3B4455;\n",
              "      fill: #D2E3FC;\n",
              "    }\n",
              "\n",
              "    [theme=dark] .colab-df-convert:hover {\n",
              "      background-color: #434B5C;\n",
              "      box-shadow: 0px 1px 3px 1px rgba(0, 0, 0, 0.15);\n",
              "      filter: drop-shadow(0px 1px 2px rgba(0, 0, 0, 0.3));\n",
              "      fill: #FFFFFF;\n",
              "    }\n",
              "  </style>\n",
              "\n",
              "    <script>\n",
              "      const buttonEl =\n",
              "        document.querySelector('#df-3eee38d7-5989-4872-b6ad-f2c94a257987 button.colab-df-convert');\n",
              "      buttonEl.style.display =\n",
              "        google.colab.kernel.accessAllowed ? 'block' : 'none';\n",
              "\n",
              "      async function convertToInteractive(key) {\n",
              "        const element = document.querySelector('#df-3eee38d7-5989-4872-b6ad-f2c94a257987');\n",
              "        const dataTable =\n",
              "          await google.colab.kernel.invokeFunction('convertToInteractive',\n",
              "                                                    [key], {});\n",
              "        if (!dataTable) return;\n",
              "\n",
              "        const docLinkHtml = 'Like what you see? Visit the ' +\n",
              "          '<a target=\"_blank\" href=https://colab.research.google.com/notebooks/data_table.ipynb>data table notebook</a>'\n",
              "          + ' to learn more about interactive tables.';\n",
              "        element.innerHTML = '';\n",
              "        dataTable['output_type'] = 'display_data';\n",
              "        await google.colab.output.renderOutput(dataTable, element);\n",
              "        const docLink = document.createElement('div');\n",
              "        docLink.innerHTML = docLinkHtml;\n",
              "        element.appendChild(docLink);\n",
              "      }\n",
              "    </script>\n",
              "  </div>\n",
              "\n",
              "\n",
              "<div id=\"df-d3cffd90-2113-4b7b-a743-a74a8547447c\">\n",
              "  <button class=\"colab-df-quickchart\" onclick=\"quickchart('df-d3cffd90-2113-4b7b-a743-a74a8547447c')\"\n",
              "            title=\"Suggest charts\"\n",
              "            style=\"display:none;\">\n",
              "\n",
              "<svg xmlns=\"http://www.w3.org/2000/svg\" height=\"24px\"viewBox=\"0 0 24 24\"\n",
              "     width=\"24px\">\n",
              "    <g>\n",
              "        <path d=\"M19 3H5c-1.1 0-2 .9-2 2v14c0 1.1.9 2 2 2h14c1.1 0 2-.9 2-2V5c0-1.1-.9-2-2-2zM9 17H7v-7h2v7zm4 0h-2V7h2v10zm4 0h-2v-4h2v4z\"/>\n",
              "    </g>\n",
              "</svg>\n",
              "  </button>\n",
              "\n",
              "<style>\n",
              "  .colab-df-quickchart {\n",
              "      --bg-color: #E8F0FE;\n",
              "      --fill-color: #1967D2;\n",
              "      --hover-bg-color: #E2EBFA;\n",
              "      --hover-fill-color: #174EA6;\n",
              "      --disabled-fill-color: #AAA;\n",
              "      --disabled-bg-color: #DDD;\n",
              "  }\n",
              "\n",
              "  [theme=dark] .colab-df-quickchart {\n",
              "      --bg-color: #3B4455;\n",
              "      --fill-color: #D2E3FC;\n",
              "      --hover-bg-color: #434B5C;\n",
              "      --hover-fill-color: #FFFFFF;\n",
              "      --disabled-bg-color: #3B4455;\n",
              "      --disabled-fill-color: #666;\n",
              "  }\n",
              "\n",
              "  .colab-df-quickchart {\n",
              "    background-color: var(--bg-color);\n",
              "    border: none;\n",
              "    border-radius: 50%;\n",
              "    cursor: pointer;\n",
              "    display: none;\n",
              "    fill: var(--fill-color);\n",
              "    height: 32px;\n",
              "    padding: 0;\n",
              "    width: 32px;\n",
              "  }\n",
              "\n",
              "  .colab-df-quickchart:hover {\n",
              "    background-color: var(--hover-bg-color);\n",
              "    box-shadow: 0 1px 2px rgba(60, 64, 67, 0.3), 0 1px 3px 1px rgba(60, 64, 67, 0.15);\n",
              "    fill: var(--button-hover-fill-color);\n",
              "  }\n",
              "\n",
              "  .colab-df-quickchart-complete:disabled,\n",
              "  .colab-df-quickchart-complete:disabled:hover {\n",
              "    background-color: var(--disabled-bg-color);\n",
              "    fill: var(--disabled-fill-color);\n",
              "    box-shadow: none;\n",
              "  }\n",
              "\n",
              "  .colab-df-spinner {\n",
              "    border: 2px solid var(--fill-color);\n",
              "    border-color: transparent;\n",
              "    border-bottom-color: var(--fill-color);\n",
              "    animation:\n",
              "      spin 1s steps(1) infinite;\n",
              "  }\n",
              "\n",
              "  @keyframes spin {\n",
              "    0% {\n",
              "      border-color: transparent;\n",
              "      border-bottom-color: var(--fill-color);\n",
              "      border-left-color: var(--fill-color);\n",
              "    }\n",
              "    20% {\n",
              "      border-color: transparent;\n",
              "      border-left-color: var(--fill-color);\n",
              "      border-top-color: var(--fill-color);\n",
              "    }\n",
              "    30% {\n",
              "      border-color: transparent;\n",
              "      border-left-color: var(--fill-color);\n",
              "      border-top-color: var(--fill-color);\n",
              "      border-right-color: var(--fill-color);\n",
              "    }\n",
              "    40% {\n",
              "      border-color: transparent;\n",
              "      border-right-color: var(--fill-color);\n",
              "      border-top-color: var(--fill-color);\n",
              "    }\n",
              "    60% {\n",
              "      border-color: transparent;\n",
              "      border-right-color: var(--fill-color);\n",
              "    }\n",
              "    80% {\n",
              "      border-color: transparent;\n",
              "      border-right-color: var(--fill-color);\n",
              "      border-bottom-color: var(--fill-color);\n",
              "    }\n",
              "    90% {\n",
              "      border-color: transparent;\n",
              "      border-bottom-color: var(--fill-color);\n",
              "    }\n",
              "  }\n",
              "</style>\n",
              "\n",
              "  <script>\n",
              "    async function quickchart(key) {\n",
              "      const quickchartButtonEl =\n",
              "        document.querySelector('#' + key + ' button');\n",
              "      quickchartButtonEl.disabled = true;  // To prevent multiple clicks.\n",
              "      quickchartButtonEl.classList.add('colab-df-spinner');\n",
              "      try {\n",
              "        const charts = await google.colab.kernel.invokeFunction(\n",
              "            'suggestCharts', [key], {});\n",
              "      } catch (error) {\n",
              "        console.error('Error during call to suggestCharts:', error);\n",
              "      }\n",
              "      quickchartButtonEl.classList.remove('colab-df-spinner');\n",
              "      quickchartButtonEl.classList.add('colab-df-quickchart-complete');\n",
              "    }\n",
              "    (() => {\n",
              "      let quickchartButtonEl =\n",
              "        document.querySelector('#df-d3cffd90-2113-4b7b-a743-a74a8547447c button');\n",
              "      quickchartButtonEl.style.display =\n",
              "        google.colab.kernel.accessAllowed ? 'block' : 'none';\n",
              "    })();\n",
              "  </script>\n",
              "</div>\n",
              "\n",
              "  <div id=\"id_70132de4-8ea5-4119-a83a-6a5817be368c\">\n",
              "    <style>\n",
              "      .colab-df-generate {\n",
              "        background-color: #E8F0FE;\n",
              "        border: none;\n",
              "        border-radius: 50%;\n",
              "        cursor: pointer;\n",
              "        display: none;\n",
              "        fill: #1967D2;\n",
              "        height: 32px;\n",
              "        padding: 0 0 0 0;\n",
              "        width: 32px;\n",
              "      }\n",
              "\n",
              "      .colab-df-generate:hover {\n",
              "        background-color: #E2EBFA;\n",
              "        box-shadow: 0px 1px 2px rgba(60, 64, 67, 0.3), 0px 1px 3px 1px rgba(60, 64, 67, 0.15);\n",
              "        fill: #174EA6;\n",
              "      }\n",
              "\n",
              "      [theme=dark] .colab-df-generate {\n",
              "        background-color: #3B4455;\n",
              "        fill: #D2E3FC;\n",
              "      }\n",
              "\n",
              "      [theme=dark] .colab-df-generate:hover {\n",
              "        background-color: #434B5C;\n",
              "        box-shadow: 0px 1px 3px 1px rgba(0, 0, 0, 0.15);\n",
              "        filter: drop-shadow(0px 1px 2px rgba(0, 0, 0, 0.3));\n",
              "        fill: #FFFFFF;\n",
              "      }\n",
              "    </style>\n",
              "    <button class=\"colab-df-generate\" onclick=\"generateWithVariable('common_df')\"\n",
              "            title=\"Generate code using this dataframe.\"\n",
              "            style=\"display:none;\">\n",
              "\n",
              "  <svg xmlns=\"http://www.w3.org/2000/svg\" height=\"24px\"viewBox=\"0 0 24 24\"\n",
              "       width=\"24px\">\n",
              "    <path d=\"M7,19H8.4L18.45,9,17,7.55,7,17.6ZM5,21V16.75L18.45,3.32a2,2,0,0,1,2.83,0l1.4,1.43a1.91,1.91,0,0,1,.58,1.4,1.91,1.91,0,0,1-.58,1.4L9.25,21ZM18.45,9,17,7.55Zm-12,3A5.31,5.31,0,0,0,4.9,8.1,5.31,5.31,0,0,0,1,6.5,5.31,5.31,0,0,0,4.9,4.9,5.31,5.31,0,0,0,6.5,1,5.31,5.31,0,0,0,8.1,4.9,5.31,5.31,0,0,0,12,6.5,5.46,5.46,0,0,0,6.5,12Z\"/>\n",
              "  </svg>\n",
              "    </button>\n",
              "    <script>\n",
              "      (() => {\n",
              "      const buttonEl =\n",
              "        document.querySelector('#id_70132de4-8ea5-4119-a83a-6a5817be368c button.colab-df-generate');\n",
              "      buttonEl.style.display =\n",
              "        google.colab.kernel.accessAllowed ? 'block' : 'none';\n",
              "\n",
              "      buttonEl.onclick = () => {\n",
              "        google.colab.notebook.generateWithVariable('common_df');\n",
              "      }\n",
              "      })();\n",
              "    </script>\n",
              "  </div>\n",
              "\n",
              "    </div>\n",
              "  </div>\n"
            ],
            "application/vnd.google.colaboratory.intrinsic+json": {
              "type": "dataframe",
              "variable_name": "common_df",
              "summary": "{\n  \"name\": \"common_df\",\n  \"rows\": 20,\n  \"fields\": [\n    {\n      \"column\": \"Word\",\n      \"properties\": {\n        \"dtype\": \"string\",\n        \"num_unique_values\": 20,\n        \"samples\": [\n          \" \",\n          \"\\u0643\",\n          \"\\u062a\"\n        ],\n        \"semantic_type\": \"\",\n        \"description\": \"\"\n      }\n    },\n    {\n      \"column\": \"Frequency\",\n      \"properties\": {\n        \"dtype\": \"number\",\n        \"std\": 1657603,\n        \"min\": 532741,\n        \"max\": 8330461,\n        \"num_unique_values\": 20,\n        \"samples\": [\n          8330461,\n          730269,\n          800133\n        ],\n        \"semantic_type\": \"\",\n        \"description\": \"\"\n      }\n    }\n  ]\n}"
            }
          },
          "metadata": {},
          "execution_count": 18
        }
      ]
    },
    {
      "cell_type": "markdown",
      "metadata": {
        "id": "VF45GS_ZSEix"
      },
      "source": [
        "# Tokenization, Padding, and Data Splitting"
      ]
    },
    {
      "cell_type": "markdown",
      "metadata": {
        "id": "YmsL3S-5SIbl"
      },
      "source": [
        "In this step, we will prepare the text data for input into a model by converting the text into numerical sequences, padding them to a uniform length, and splitting the dataset into training and testing sets. Here's an overview of the steps involved:\n",
        "\n",
        "1. **Tokenization**:\n",
        "   We use a tokenizer to convert the cleaned text into numerical sequences. You can use `Tokenizer` tokenizer from `tensorflow.keras.preprocessing.text` package or any other tokenizer you like.\n",
        "\n",
        "2. **Text to sequences**:\n",
        "   After fitting the tokenizer on the cleaned text, we transform each text into a sequence of numbers, where each number corresponds to a token (word) in the text.\n",
        "\n",
        "3. **Padding the sequences**:\n",
        "   Since different texts may vary in length, we pad the sequences to ensure they all have the same length.\n",
        "\n",
        "4. **Label encoding**:\n",
        "   The labels (target values) also need to be converted into numerical form if they are not encoded.\n",
        "\n",
        "5. **Train-test split**:\n",
        "   The dataset is divided into training and testing sets. We allocate 80% of the data for training the model and reserve 20% for testing its performance.\n",
        "   \n",
        "   - The **training data** consists of the padded sequences used to train the model.\n",
        "   - The **training labels** are the encoded labels corresponding to the training data.\n",
        "   - The **testing data** is used to assess the model’s performance after training.\n",
        "   - The **testing labels** are the encoded labels corresponding to the testing data.\n",
        "\n",
        "6. **Data shape confirmation**:\n",
        "   After splitting the data, we print the shape (dimensions) of both the training and testing sets to confirm that the data is properly divided and formatted.\n",
        "\n",
        "By the end of this step, the text data will be transformed into padded numerical sequences, the labels will be encoded, and the data will be split into training and testing sets for model development and evaluation."
      ]
    },
    {
      "cell_type": "code",
      "execution_count": null,
      "metadata": {
        "id": "z401Re0VfI1f",
        "colab": {
          "base_uri": "https://localhost:8080/"
        },
        "outputId": "51203d00-b211-4964-e87f-dec940286284"
      },
      "outputs": [
        {
          "output_type": "stream",
          "name": "stdout",
          "text": [
            "Shape of train_data: (31908, 7624)\n",
            "Shape of train_labels: (31908,)\n",
            "Shape of test_data: (7977, 7624)\n",
            "Shape of test_labels: (7977,)\n"
          ]
        }
      ],
      "source": [
        "tokenizer=Tokenizer()\n",
        "tokenizer.fit_on_texts(df['text'])\n",
        "sequences=tokenizer.texts_to_sequences(df['text'])\n",
        "max_length=max(df['text_length'])\n",
        "\n",
        "padded=pad_sequences(sequences,maxlen=max_length,padding='post')\n",
        "\n",
        "\n",
        "le = LabelEncoder()\n",
        "encode_label=le.fit_transform(df['label'])\n",
        "train_data, test_data, train_labels, test_labels = train_test_split(\n",
        "    padded,\n",
        "    encode_label,\n",
        "    test_size=0.2, random_state=42\n",
        ")\n",
        "\n",
        "\n",
        "print(\"Shape of train_data:\", train_data.shape)\n",
        "print(\"Shape of train_labels:\", train_labels.shape)\n",
        "print(\"Shape of test_data:\", test_data.shape)\n",
        "print(\"Shape of test_labels:\", test_labels.shape)"
      ]
    },
    {
      "cell_type": "markdown",
      "metadata": {
        "id": "qd5Ek4NLTgVN"
      },
      "source": [
        "# Building the Classifier"
      ]
    },
    {
      "cell_type": "markdown",
      "metadata": {
        "id": "HpLEoTaITEGx"
      },
      "source": [
        "In this step, you will design and build a NLP Classifier model to classify text data. Below is a breakdown of the key components you'll implement, but it's up to you to decide how to configure them based on your understanding and experimentation:\n",
        "\n",
        "1. **Model Type**:\n",
        "   You will use a Sequential model, which allows you to stack layers in a linear sequence.\n",
        "\n",
        "2. **Input Layer**:\n",
        "   Define the shape of the input data. Consider the dimensions of your padded sequences and set the input shape accordingly.\n",
        "\n",
        "3. **Embedding Layer**:\n",
        "   The embedding layer will convert input tokens (integers) into dense vector representations. You will need to determine the size of the input dimension (based on your vocabulary) and the output dimension (embedding size).\n",
        "\n",
        "4. **Bidirectional Simple RNN/LSTM Layers**:\n",
        "   You can add one or more recurrent layers. Consider using Bidirectional layers to capture contextual information from both directions (forward and backward). You can chose SimpleRNN/GRU/LSTM to perform this step.\n",
        "\n",
        "5. **Dense Layers**:\n",
        "   Add one or more fully connected (Dense) layers to process the output from the RNN/GRU/LSTM layers.\n",
        "\n",
        "6. **Output Layer**:\n",
        "   The output layer should match the type of classification task you're working on. Consider using appropriate activation function with appropriate number of units.\n",
        "\n",
        "7. **Model Summary**:\n",
        "   After defining your model architecture, print a summary to review the number of layers, types of layers, and total parameters.\n",
        "\n",
        "8. **Model Compilation**:\n",
        "   Finally, compile the model by selecting an optimizer, a loss function, and metrics."
      ]
    },
    {
      "source": [
        "model = Sequential()\n",
        "model.add(Input(shape=(max_length,)))\n",
        "model.add(Embedding(input_dim=len(tokenizer.word_index) + 1, output_dim=512, input_length=max_length))\n",
        "model.add(Bidirectional(SimpleRNN(128, return_sequences=True)))\n",
        "model.add(Bidirectional(SimpleRNN(64)))\n",
        "model.add(Dense(64, activation='relu'))\n",
        "model.add(Dropout(0.5))\n",
        "model.add(Dense(1, activation='sigmoid'))\n",
        "model.summary()"
      ],
      "cell_type": "code",
      "metadata": {
        "colab": {
          "base_uri": "https://localhost:8080/",
          "height": 340
        },
        "id": "SKxqdbj_HK8p",
        "outputId": "f6d25383-4378-4984-fdd0-a7a17ac8ef4c"
      },
      "execution_count": null,
      "outputs": [
        {
          "output_type": "display_data",
          "data": {
            "text/plain": [
              "\u001b[1mModel: \"sequential_3\"\u001b[0m\n"
            ],
            "text/html": [
              "<pre style=\"white-space:pre;overflow-x:auto;line-height:normal;font-family:Menlo,'DejaVu Sans Mono',consolas,'Courier New',monospace\"><span style=\"font-weight: bold\">Model: \"sequential_3\"</span>\n",
              "</pre>\n"
            ]
          },
          "metadata": {}
        },
        {
          "output_type": "display_data",
          "data": {
            "text/plain": [
              "┏━━━━━━━━━━━━━━━━━━━━━━━━━━━━━━━━━━━━━━┳━━━━━━━━━━━━━━━━━━━━━━━━━━━━━┳━━━━━━━━━━━━━━━━━┓\n",
              "┃\u001b[1m \u001b[0m\u001b[1mLayer (type)                        \u001b[0m\u001b[1m \u001b[0m┃\u001b[1m \u001b[0m\u001b[1mOutput Shape               \u001b[0m\u001b[1m \u001b[0m┃\u001b[1m \u001b[0m\u001b[1m        Param #\u001b[0m\u001b[1m \u001b[0m┃\n",
              "┡━━━━━━━━━━━━━━━━━━━━━━━━━━━━━━━━━━━━━━╇━━━━━━━━━━━━━━━━━━━━━━━━━━━━━╇━━━━━━━━━━━━━━━━━┩\n",
              "│ embedding_3 (\u001b[38;5;33mEmbedding\u001b[0m)              │ (\u001b[38;5;45mNone\u001b[0m, \u001b[38;5;34m7624\u001b[0m, \u001b[38;5;34m512\u001b[0m)           │      \u001b[38;5;34m58,180,096\u001b[0m │\n",
              "├──────────────────────────────────────┼─────────────────────────────┼─────────────────┤\n",
              "│ bidirectional_6 (\u001b[38;5;33mBidirectional\u001b[0m)      │ (\u001b[38;5;45mNone\u001b[0m, \u001b[38;5;34m7624\u001b[0m, \u001b[38;5;34m256\u001b[0m)           │         \u001b[38;5;34m164,096\u001b[0m │\n",
              "├──────────────────────────────────────┼─────────────────────────────┼─────────────────┤\n",
              "│ bidirectional_7 (\u001b[38;5;33mBidirectional\u001b[0m)      │ (\u001b[38;5;45mNone\u001b[0m, \u001b[38;5;34m128\u001b[0m)                 │          \u001b[38;5;34m41,088\u001b[0m │\n",
              "├──────────────────────────────────────┼─────────────────────────────┼─────────────────┤\n",
              "│ dense_6 (\u001b[38;5;33mDense\u001b[0m)                      │ (\u001b[38;5;45mNone\u001b[0m, \u001b[38;5;34m64\u001b[0m)                  │           \u001b[38;5;34m8,256\u001b[0m │\n",
              "├──────────────────────────────────────┼─────────────────────────────┼─────────────────┤\n",
              "│ dropout (\u001b[38;5;33mDropout\u001b[0m)                    │ (\u001b[38;5;45mNone\u001b[0m, \u001b[38;5;34m64\u001b[0m)                  │               \u001b[38;5;34m0\u001b[0m │\n",
              "├──────────────────────────────────────┼─────────────────────────────┼─────────────────┤\n",
              "│ dense_7 (\u001b[38;5;33mDense\u001b[0m)                      │ (\u001b[38;5;45mNone\u001b[0m, \u001b[38;5;34m1\u001b[0m)                   │              \u001b[38;5;34m65\u001b[0m │\n",
              "└──────────────────────────────────────┴─────────────────────────────┴─────────────────┘\n"
            ],
            "text/html": [
              "<pre style=\"white-space:pre;overflow-x:auto;line-height:normal;font-family:Menlo,'DejaVu Sans Mono',consolas,'Courier New',monospace\">┏━━━━━━━━━━━━━━━━━━━━━━━━━━━━━━━━━━━━━━┳━━━━━━━━━━━━━━━━━━━━━━━━━━━━━┳━━━━━━━━━━━━━━━━━┓\n",
              "┃<span style=\"font-weight: bold\"> Layer (type)                         </span>┃<span style=\"font-weight: bold\"> Output Shape                </span>┃<span style=\"font-weight: bold\">         Param # </span>┃\n",
              "┡━━━━━━━━━━━━━━━━━━━━━━━━━━━━━━━━━━━━━━╇━━━━━━━━━━━━━━━━━━━━━━━━━━━━━╇━━━━━━━━━━━━━━━━━┩\n",
              "│ embedding_3 (<span style=\"color: #0087ff; text-decoration-color: #0087ff\">Embedding</span>)              │ (<span style=\"color: #00d7ff; text-decoration-color: #00d7ff\">None</span>, <span style=\"color: #00af00; text-decoration-color: #00af00\">7624</span>, <span style=\"color: #00af00; text-decoration-color: #00af00\">512</span>)           │      <span style=\"color: #00af00; text-decoration-color: #00af00\">58,180,096</span> │\n",
              "├──────────────────────────────────────┼─────────────────────────────┼─────────────────┤\n",
              "│ bidirectional_6 (<span style=\"color: #0087ff; text-decoration-color: #0087ff\">Bidirectional</span>)      │ (<span style=\"color: #00d7ff; text-decoration-color: #00d7ff\">None</span>, <span style=\"color: #00af00; text-decoration-color: #00af00\">7624</span>, <span style=\"color: #00af00; text-decoration-color: #00af00\">256</span>)           │         <span style=\"color: #00af00; text-decoration-color: #00af00\">164,096</span> │\n",
              "├──────────────────────────────────────┼─────────────────────────────┼─────────────────┤\n",
              "│ bidirectional_7 (<span style=\"color: #0087ff; text-decoration-color: #0087ff\">Bidirectional</span>)      │ (<span style=\"color: #00d7ff; text-decoration-color: #00d7ff\">None</span>, <span style=\"color: #00af00; text-decoration-color: #00af00\">128</span>)                 │          <span style=\"color: #00af00; text-decoration-color: #00af00\">41,088</span> │\n",
              "├──────────────────────────────────────┼─────────────────────────────┼─────────────────┤\n",
              "│ dense_6 (<span style=\"color: #0087ff; text-decoration-color: #0087ff\">Dense</span>)                      │ (<span style=\"color: #00d7ff; text-decoration-color: #00d7ff\">None</span>, <span style=\"color: #00af00; text-decoration-color: #00af00\">64</span>)                  │           <span style=\"color: #00af00; text-decoration-color: #00af00\">8,256</span> │\n",
              "├──────────────────────────────────────┼─────────────────────────────┼─────────────────┤\n",
              "│ dropout (<span style=\"color: #0087ff; text-decoration-color: #0087ff\">Dropout</span>)                    │ (<span style=\"color: #00d7ff; text-decoration-color: #00d7ff\">None</span>, <span style=\"color: #00af00; text-decoration-color: #00af00\">64</span>)                  │               <span style=\"color: #00af00; text-decoration-color: #00af00\">0</span> │\n",
              "├──────────────────────────────────────┼─────────────────────────────┼─────────────────┤\n",
              "│ dense_7 (<span style=\"color: #0087ff; text-decoration-color: #0087ff\">Dense</span>)                      │ (<span style=\"color: #00d7ff; text-decoration-color: #00d7ff\">None</span>, <span style=\"color: #00af00; text-decoration-color: #00af00\">1</span>)                   │              <span style=\"color: #00af00; text-decoration-color: #00af00\">65</span> │\n",
              "└──────────────────────────────────────┴─────────────────────────────┴─────────────────┘\n",
              "</pre>\n"
            ]
          },
          "metadata": {}
        },
        {
          "output_type": "display_data",
          "data": {
            "text/plain": [
              "\u001b[1m Total params: \u001b[0m\u001b[38;5;34m58,393,601\u001b[0m (222.75 MB)\n"
            ],
            "text/html": [
              "<pre style=\"white-space:pre;overflow-x:auto;line-height:normal;font-family:Menlo,'DejaVu Sans Mono',consolas,'Courier New',monospace\"><span style=\"font-weight: bold\"> Total params: </span><span style=\"color: #00af00; text-decoration-color: #00af00\">58,393,601</span> (222.75 MB)\n",
              "</pre>\n"
            ]
          },
          "metadata": {}
        },
        {
          "output_type": "display_data",
          "data": {
            "text/plain": [
              "\u001b[1m Trainable params: \u001b[0m\u001b[38;5;34m58,393,601\u001b[0m (222.75 MB)\n"
            ],
            "text/html": [
              "<pre style=\"white-space:pre;overflow-x:auto;line-height:normal;font-family:Menlo,'DejaVu Sans Mono',consolas,'Courier New',monospace\"><span style=\"font-weight: bold\"> Trainable params: </span><span style=\"color: #00af00; text-decoration-color: #00af00\">58,393,601</span> (222.75 MB)\n",
              "</pre>\n"
            ]
          },
          "metadata": {}
        },
        {
          "output_type": "display_data",
          "data": {
            "text/plain": [
              "\u001b[1m Non-trainable params: \u001b[0m\u001b[38;5;34m0\u001b[0m (0.00 B)\n"
            ],
            "text/html": [
              "<pre style=\"white-space:pre;overflow-x:auto;line-height:normal;font-family:Menlo,'DejaVu Sans Mono',consolas,'Courier New',monospace\"><span style=\"font-weight: bold\"> Non-trainable params: </span><span style=\"color: #00af00; text-decoration-color: #00af00\">0</span> (0.00 B)\n",
              "</pre>\n"
            ]
          },
          "metadata": {}
        }
      ]
    },
    {
      "cell_type": "markdown",
      "metadata": {
        "id": "57DXwqqQTloy"
      },
      "source": [
        "# Defining Batch Size, Creating Datasets, and Training the Model"
      ]
    },
    {
      "cell_type": "markdown",
      "metadata": {
        "id": "LEOvs_dETmQp"
      },
      "source": [
        "In this step, you will define the batch size, create TensorFlow Datasets for both training and testing, and train the model. The key elements to consider are outlined below, and it is up to you to choose the specific configurations based on your preferences and experimentation:\n",
        "\n",
        "1. **Batch Size**:\n",
        "   Select a batch size for training and testing. The batch size determines how many samples will be processed together in one forward and backward pass during training.\n",
        "\n",
        "2. **Creating Datasets**:\n",
        "   Use TensorFlow’s `Dataset.from_tensor_slices()` to create datasets from the training and testing data.\n",
        "\n",
        "3. **Batching the Datasets**:\n",
        "   Batch the datasets by grouping the data into batches of the specified size.\n",
        "\n",
        "4. **Training the Model**:\n",
        "   Train the model by fitting it on the training dataset for a specified number of epochs. You will also need to provide the validation data to monitor the model’s performance on unseen data during training.\n",
        "\n",
        "5. **Tracking Training History**:\n",
        "   During training, the model’s performance metrics (such as loss and accuracy) will be tracked over the epochs, and the results will be stored in the `history` object."
      ]
    },
    {
      "cell_type": "code",
      "source": [
        "batch_size=64\n"
      ],
      "metadata": {
        "id": "1d-pg_2qv2sF"
      },
      "execution_count": null,
      "outputs": []
    },
    {
      "cell_type": "code",
      "source": [
        "train_dataset = tf.data.Dataset.from_tensor_slices((train_data,train_labels))\n",
        "test_dataset = tf.data.Dataset.from_tensor_slices((test_data,test_labels))"
      ],
      "metadata": {
        "id": "kdjdxzNDv1NW"
      },
      "execution_count": null,
      "outputs": []
    },
    {
      "cell_type": "code",
      "source": [
        "train_dataset = train_dataset.batch(batch_size)\n",
        "test_dataset = test_dataset.batch(batch_size)"
      ],
      "metadata": {
        "id": "Ff5UGbFgwQ_w"
      },
      "execution_count": null,
      "outputs": []
    },
    {
      "cell_type": "code",
      "source": [
        "history = model.fit(train_dataset, epochs=2, validation_data=test_dataset)"
      ],
      "metadata": {
        "colab": {
          "base_uri": "https://localhost:8080/",
          "height": 141
        },
        "id": "EoEdFS0vwxhz",
        "outputId": "91580dea-ecd3-4f0b-e994-3d446cc50975"
      },
      "execution_count": null,
      "outputs": [
        {
          "output_type": "error",
          "ename": "NameError",
          "evalue": "name 'model' is not defined",
          "traceback": [
            "\u001b[0;31m---------------------------------------------------------------------------\u001b[0m",
            "\u001b[0;31mNameError\u001b[0m                                 Traceback (most recent call last)",
            "\u001b[0;32m<ipython-input-1-d6abbe849588>\u001b[0m in \u001b[0;36m<cell line: 1>\u001b[0;34m()\u001b[0m\n\u001b[0;32m----> 1\u001b[0;31m \u001b[0mhistory\u001b[0m \u001b[0;34m=\u001b[0m \u001b[0mmodel\u001b[0m\u001b[0;34m.\u001b[0m\u001b[0mfit\u001b[0m\u001b[0;34m(\u001b[0m\u001b[0mtrain_dataset\u001b[0m\u001b[0;34m,\u001b[0m \u001b[0mepochs\u001b[0m\u001b[0;34m=\u001b[0m\u001b[0;36m2\u001b[0m\u001b[0;34m,\u001b[0m \u001b[0mvalidation_data\u001b[0m\u001b[0;34m=\u001b[0m\u001b[0mtest_dataset\u001b[0m\u001b[0;34m)\u001b[0m\u001b[0;34m\u001b[0m\u001b[0;34m\u001b[0m\u001b[0m\n\u001b[0m",
            "\u001b[0;31mNameError\u001b[0m: name 'model' is not defined"
          ]
        }
      ]
    },
    {
      "cell_type": "markdown",
      "metadata": {
        "id": "XmoJfr3nfP-n"
      },
      "source": [
        "# Model Evaluation"
      ]
    },
    {
      "cell_type": "markdown",
      "metadata": {
        "id": "2Gb8G9XiT-ec"
      },
      "source": [
        "Once the model is trained, the next step is to evaluate its performance on the testing dataset.\n",
        "\n",
        "1. **Evaluate the Model**:\n",
        "   You will use the `evaluate()` method to assess the model’s performance on the test dataset.\n",
        "\n",
        "2. **Testing Dataset**:\n",
        "   Ensure that the testing dataset is properly prepared and batched, just like the training dataset.\n",
        "\n",
        "4. **Loss Curve**:\n",
        "   A loss curve plots the loss values for both the training and validation datasets over the epochs."
      ]
    },
    {
      "cell_type": "code",
      "execution_count": null,
      "metadata": {
        "id": "SdECXvQGUQae"
      },
      "outputs": [],
      "source": [
        "test_loss, test_accuracy = model.evaluate(test_dataset)\n",
        "print(f'Test Loss: {test_loss}, Test Accuracy: {test_accuracy}')\n"
      ]
    },
    {
      "cell_type": "code",
      "source": [
        "plt.plot(history.history['loss'], label='Training Loss')\n",
        "plt.plot(history.history['val_loss'], label='Validation Loss')\n",
        "plt.title('Loss Curve')\n",
        "plt.xlabel('Epochs')\n",
        "plt.ylabel('Loss')\n",
        "plt.legend()\n",
        "plt.show()\n"
      ],
      "metadata": {
        "id": "zIuuuwOqSFjL"
      },
      "execution_count": null,
      "outputs": []
    },
    {
      "cell_type": "code",
      "source": [
        "plt.plot(history.history['accuracy'], label='Training Accuracy')\n",
        "plt.plot(history.history['val_accuracy'], label='Validation Accuracy')\n",
        "plt.title('Accuracy Curve')\n",
        "plt.xlabel('Epochs')\n",
        "plt.ylabel('Accuracy')\n",
        "plt.legend()\n",
        "plt.show()\n"
      ],
      "metadata": {
        "id": "wMXRYGhky4IY"
      },
      "execution_count": null,
      "outputs": []
    },
    {
      "cell_type": "code",
      "source": [
        "test_pred = (model.predict(test_data) > 0.5).astype(\"int32\")\n",
        "\n",
        "print(classification_report(test_labels, test_pred))\n",
        "\n",
        "cm = confusion_matrix(test_labels, test_pred)\n",
        "sns.heatmap(cm, annot=True, fmt='d', cmap='Blues')\n",
        "plt.title('Confusion Matrix')\n",
        "plt.xlabel('Predicted')\n",
        "plt.ylabel('True')\n",
        "plt.show()\n"
      ],
      "metadata": {
        "id": "dJadueNOSPIs"
      },
      "execution_count": null,
      "outputs": []
    },
    {
      "cell_type": "markdown",
      "metadata": {
        "id": "ifx5RFxnUQqc"
      },
      "source": [
        "# Model Inference"
      ]
    },
    {
      "cell_type": "markdown",
      "metadata": {
        "id": "sVh0WCBoUSlP"
      },
      "source": [
        "In this step, you will use the trained model to make predictions on new, unseen data (inference). Here’s an outline of the key points:\n",
        "\n",
        "1. **Create Test Sample**:\n",
        "   Create a string to test your modelm the goal here is to give the model Before making predictions, ensure that the new data is preprocessed in the same way as the training data. This includes tokenization, padding, and any other transformations you applied during the data preprocessing step. The data can be single text to see the result of the prediction.\n",
        "\n",
        "2. **Model Prediction**:\n",
        "   Use the `predict()` method to feed new samples into the trained model and obtain predictions. The model will output probabilities or predicted class labels based on the type of classification task (binary or multi-class).\n",
        "\n",
        "3. **Interpreting Predictions**:\n",
        "   The model will return probabilities for each class."
      ]
    },
    {
      "cell_type": "code",
      "execution_count": null,
      "metadata": {
        "id": "2XiahrhffR0J"
      },
      "outputs": [],
      "source": [
        "test_text = \"شهدت الاسهم ارتفاع كبير الشهر الماضي\"\n",
        "cleaned_text = clean_text(test_text)\n",
        "\n",
        "test_sequence = tokenizer.texts_to_sequences([cleaned_text])\n",
        "\n",
        "padded_test_sequence = pad_sequences(test_sequence, maxlen=max_length, padding='post')\n"
      ]
    },
    {
      "cell_type": "code",
      "source": [
        "predictions = model.predict(padded_test_sequence)\n",
        "\n",
        "predicted_class = np.argmax(predictions, axis=1)\n"
      ],
      "metadata": {
        "id": "AXPJOD1EUAqX"
      },
      "execution_count": null,
      "outputs": []
    },
    {
      "cell_type": "markdown",
      "metadata": {
        "id": "fHbgQVrt43DQ"
      },
      "source": [
        "# Notebook Question:\n",
        "- How did you handle text preprocessing? Why did you choose this approach?\n",
        "\n",
        "- Why did you choose this model design?\n",
        "\n",
        "- Why did you pick this number of layers or units for the model?\n",
        "\n",
        "- Why did you select these evaluation methods?\n",
        "\n",
        "- Does your model show signs of overfitting or underfitting? How do you know?\n",
        "\n",
        "- What changes could you make to improve the model and fix overfitting or underfitting?"
      ]
    },
    {
      "cell_type": "markdown",
      "metadata": {
        "id": "x7vOe0JZ43DQ"
      },
      "source": [
        "Answer Here:"
      ]
    },
    {
      "cell_type": "markdown",
      "source": [
        "due the problem in colab I could not run my code"
      ],
      "metadata": {
        "id": "FehnIRMXzT-7"
      }
    }
  ],
  "metadata": {
    "colab": {
      "provenance": []
    },
    "kernelspec": {
      "display_name": "Python 3",
      "name": "python3"
    },
    "language_info": {
      "name": "python"
    }
  },
  "nbformat": 4,
  "nbformat_minor": 0
}