{
  "cells": [
    {
      "cell_type": "markdown",
      "metadata": {
        "id": "m83H0SRDK01q"
      },
      "source": [
        "# Traffic Violation RAG System\n",
        "In this exam, you will implement a Retrieval-Augmented Generation (RAG) system that uses a language model and a vector database to answer questions about traffic violations. The goal is to generate answers with relevant data based on a dataset of traffic violations and fines.\n",
        "\n",
        "Here are helpful resources:\n",
        "* [LangChain](https://www.langchain.com/)\n",
        "* [groq cloud documentation](https://console.groq.com/docs/models)\n",
        "* [LangChain HuggingFace](https://python.langchain.com/docs/integrations/text_embedding/sentence_transformers/)\n",
        "* [Chroma Vector Store](https://python.langchain.com/docs/integrations/vectorstores/chroma/)\n",
        "* [Chroma Website](https://docs.trychroma.com/getting-started)\n",
        "* [ChatGroq LangChain](https://python.langchain.com/docs/integrations/chat/groq/)\n",
        "* [LLM Chain](https://api.python.langchain.com/en/latest/chains/langchain.chains.llm.LLMChain.html#langchain.chains.llm.LLMChain)\n",
        "\n",
        "Dataset [source](https://www.moi.gov.sa/wps/portal/Home/sectors/publicsecurity/traffic/contents/!ut/p/z0/04_Sj9CPykssy0xPLMnMz0vMAfIjo8ziDTxNTDwMTYy83V0CTQ0cA71d_T1djI0MXA30gxOL9L30o_ArApqSmVVYGOWoH5Wcn1eSWlGiH1FSlJiWlpmsagBlKCQWqRrkJmbmqRqUZebngB2gUJAKdERJZmqxfkG2ezgAhzhSyw!!/)\n",
        "\n",
        "Some installs if needed:\n",
        "```python\n",
        "!pip install langchain_huggingface langchain langchain-community langchain_chroma Chroma langchain_groq LLMChain\n",
        "```"
      ]
    },
    {
      "cell_type": "code",
      "execution_count": null,
      "metadata": {
        "id": "U5MtVtxvxqd7",
        "outputId": "23df5418-c050-4492-d3e7-752aae05a7ab",
        "colab": {
          "base_uri": "https://localhost:8080/"
        }
      },
      "outputs": [
        {
          "output_type": "stream",
          "name": "stdout",
          "text": [
            "Dataset URL: https://www.kaggle.com/datasets/khaledzsa/dataset\n",
            "License(s): unknown\n",
            "dataset.zip: Skipping, found more recently modified local copy (use --force to force download)\n",
            "Archive:  dataset.zip\n",
            "replace Dataset.csv? [y]es, [n]o, [A]ll, [N]one, [r]ename: "
          ]
        }
      ],
      "source": [
        "# !kaggle datasets download -d khaledzsa/dataset\n",
        "# !unzip dataset.zip"
      ]
    },
    {
      "cell_type": "markdown",
      "metadata": {
        "id": "IKe3G7bqK-W6"
      },
      "source": [
        "## Step 1: Install Required Libraries"
      ]
    },
    {
      "cell_type": "markdown",
      "metadata": {
        "id": "ewOnaf7BLBQ8"
      },
      "source": [
        "To begin, install the necessary libraries for this project. The libraries include `LangChain` for building language model chains, and `Chroma` for managing a vector database."
      ]
    },
    {
      "cell_type": "code",
      "source": [
        "!pip install langchain-huggingface langchain langchain-community langchain-chroma Chroma langchain-groq"
      ],
      "metadata": {
        "id": "sjiPx3oXTfWT",
        "outputId": "c4c292b8-7d96-4c31-f183-eb57d4302b69",
        "colab": {
          "base_uri": "https://localhost:8080/"
        }
      },
      "execution_count": null,
      "outputs": [
        {
          "output_type": "stream",
          "name": "stdout",
          "text": [
            "Requirement already satisfied: langchain-huggingface in /usr/local/lib/python3.10/dist-packages (0.1.0)\n",
            "Requirement already satisfied: langchain in /usr/local/lib/python3.10/dist-packages (0.3.0)\n",
            "Requirement already satisfied: langchain-community in /usr/local/lib/python3.10/dist-packages (0.3.0)\n",
            "Requirement already satisfied: langchain-chroma in /usr/local/lib/python3.10/dist-packages (0.1.4)\n",
            "Requirement already satisfied: Chroma in /usr/local/lib/python3.10/dist-packages (0.2.0)\n",
            "Requirement already satisfied: langchain-groq in /usr/local/lib/python3.10/dist-packages (0.2.0)\n",
            "Requirement already satisfied: huggingface-hub>=0.23.0 in /usr/local/lib/python3.10/dist-packages (from langchain-huggingface) (0.24.7)\n",
            "Requirement already satisfied: langchain-core<0.4,>=0.3.0 in /usr/local/lib/python3.10/dist-packages (from langchain-huggingface) (0.3.1)\n",
            "Requirement already satisfied: sentence-transformers>=2.6.0 in /usr/local/lib/python3.10/dist-packages (from langchain-huggingface) (3.1.0)\n",
            "Requirement already satisfied: tokenizers>=0.19.1 in /usr/local/lib/python3.10/dist-packages (from langchain-huggingface) (0.19.1)\n",
            "Requirement already satisfied: transformers>=4.39.0 in /usr/local/lib/python3.10/dist-packages (from langchain-huggingface) (4.44.2)\n",
            "Requirement already satisfied: PyYAML>=5.3 in /usr/local/lib/python3.10/dist-packages (from langchain) (6.0.2)\n",
            "Requirement already satisfied: SQLAlchemy<3,>=1.4 in /usr/local/lib/python3.10/dist-packages (from langchain) (2.0.34)\n",
            "Requirement already satisfied: aiohttp<4.0.0,>=3.8.3 in /usr/local/lib/python3.10/dist-packages (from langchain) (3.10.5)\n",
            "Requirement already satisfied: async-timeout<5.0.0,>=4.0.0 in /usr/local/lib/python3.10/dist-packages (from langchain) (4.0.3)\n",
            "Requirement already satisfied: langchain-text-splitters<0.4.0,>=0.3.0 in /usr/local/lib/python3.10/dist-packages (from langchain) (0.3.0)\n",
            "Requirement already satisfied: langsmith<0.2.0,>=0.1.17 in /usr/local/lib/python3.10/dist-packages (from langchain) (0.1.123)\n",
            "Requirement already satisfied: numpy<2,>=1 in /usr/local/lib/python3.10/dist-packages (from langchain) (1.26.4)\n",
            "Requirement already satisfied: pydantic<3.0.0,>=2.7.4 in /usr/local/lib/python3.10/dist-packages (from langchain) (2.9.1)\n",
            "Requirement already satisfied: requests<3,>=2 in /usr/local/lib/python3.10/dist-packages (from langchain) (2.32.3)\n",
            "Requirement already satisfied: tenacity!=8.4.0,<9.0.0,>=8.1.0 in /usr/local/lib/python3.10/dist-packages (from langchain) (8.5.0)\n",
            "Requirement already satisfied: dataclasses-json<0.7,>=0.5.7 in /usr/local/lib/python3.10/dist-packages (from langchain-community) (0.6.7)\n",
            "Requirement already satisfied: pydantic-settings<3.0.0,>=2.4.0 in /usr/local/lib/python3.10/dist-packages (from langchain-community) (2.5.2)\n",
            "Requirement already satisfied: chromadb!=0.5.4,!=0.5.5,<0.6.0,>=0.4.0 in /usr/local/lib/python3.10/dist-packages (from langchain-chroma) (0.5.7)\n",
            "Requirement already satisfied: fastapi<1,>=0.95.2 in /usr/local/lib/python3.10/dist-packages (from langchain-chroma) (0.115.0)\n",
            "Requirement already satisfied: groq<1,>=0.4.1 in /usr/local/lib/python3.10/dist-packages (from langchain-groq) (0.11.0)\n",
            "Requirement already satisfied: aiohappyeyeballs>=2.3.0 in /usr/local/lib/python3.10/dist-packages (from aiohttp<4.0.0,>=3.8.3->langchain) (2.4.0)\n",
            "Requirement already satisfied: aiosignal>=1.1.2 in /usr/local/lib/python3.10/dist-packages (from aiohttp<4.0.0,>=3.8.3->langchain) (1.3.1)\n",
            "Requirement already satisfied: attrs>=17.3.0 in /usr/local/lib/python3.10/dist-packages (from aiohttp<4.0.0,>=3.8.3->langchain) (24.2.0)\n",
            "Requirement already satisfied: frozenlist>=1.1.1 in /usr/local/lib/python3.10/dist-packages (from aiohttp<4.0.0,>=3.8.3->langchain) (1.4.1)\n",
            "Requirement already satisfied: multidict<7.0,>=4.5 in /usr/local/lib/python3.10/dist-packages (from aiohttp<4.0.0,>=3.8.3->langchain) (6.1.0)\n",
            "Requirement already satisfied: yarl<2.0,>=1.0 in /usr/local/lib/python3.10/dist-packages (from aiohttp<4.0.0,>=3.8.3->langchain) (1.11.1)\n",
            "Requirement already satisfied: build>=1.0.3 in /usr/local/lib/python3.10/dist-packages (from chromadb!=0.5.4,!=0.5.5,<0.6.0,>=0.4.0->langchain-chroma) (1.2.2)\n",
            "Requirement already satisfied: chroma-hnswlib==0.7.6 in /usr/local/lib/python3.10/dist-packages (from chromadb!=0.5.4,!=0.5.5,<0.6.0,>=0.4.0->langchain-chroma) (0.7.6)\n",
            "Requirement already satisfied: uvicorn>=0.18.3 in /usr/local/lib/python3.10/dist-packages (from uvicorn[standard]>=0.18.3->chromadb!=0.5.4,!=0.5.5,<0.6.0,>=0.4.0->langchain-chroma) (0.30.6)\n",
            "Requirement already satisfied: posthog>=2.4.0 in /usr/local/lib/python3.10/dist-packages (from chromadb!=0.5.4,!=0.5.5,<0.6.0,>=0.4.0->langchain-chroma) (3.6.6)\n",
            "Requirement already satisfied: typing-extensions>=4.5.0 in /usr/local/lib/python3.10/dist-packages (from chromadb!=0.5.4,!=0.5.5,<0.6.0,>=0.4.0->langchain-chroma) (4.12.2)\n",
            "Requirement already satisfied: onnxruntime>=1.14.1 in /usr/local/lib/python3.10/dist-packages (from chromadb!=0.5.4,!=0.5.5,<0.6.0,>=0.4.0->langchain-chroma) (1.19.2)\n",
            "Requirement already satisfied: opentelemetry-api>=1.2.0 in /usr/local/lib/python3.10/dist-packages (from chromadb!=0.5.4,!=0.5.5,<0.6.0,>=0.4.0->langchain-chroma) (1.27.0)\n",
            "Requirement already satisfied: opentelemetry-exporter-otlp-proto-grpc>=1.2.0 in /usr/local/lib/python3.10/dist-packages (from chromadb!=0.5.4,!=0.5.5,<0.6.0,>=0.4.0->langchain-chroma) (1.27.0)\n",
            "Requirement already satisfied: opentelemetry-instrumentation-fastapi>=0.41b0 in /usr/local/lib/python3.10/dist-packages (from chromadb!=0.5.4,!=0.5.5,<0.6.0,>=0.4.0->langchain-chroma) (0.48b0)\n",
            "Requirement already satisfied: opentelemetry-sdk>=1.2.0 in /usr/local/lib/python3.10/dist-packages (from chromadb!=0.5.4,!=0.5.5,<0.6.0,>=0.4.0->langchain-chroma) (1.27.0)\n",
            "Requirement already satisfied: pypika>=0.48.9 in /usr/local/lib/python3.10/dist-packages (from chromadb!=0.5.4,!=0.5.5,<0.6.0,>=0.4.0->langchain-chroma) (0.48.9)\n",
            "Requirement already satisfied: tqdm>=4.65.0 in /usr/local/lib/python3.10/dist-packages (from chromadb!=0.5.4,!=0.5.5,<0.6.0,>=0.4.0->langchain-chroma) (4.66.5)\n",
            "Requirement already satisfied: overrides>=7.3.1 in /usr/local/lib/python3.10/dist-packages (from chromadb!=0.5.4,!=0.5.5,<0.6.0,>=0.4.0->langchain-chroma) (7.7.0)\n",
            "Requirement already satisfied: importlib-resources in /usr/local/lib/python3.10/dist-packages (from chromadb!=0.5.4,!=0.5.5,<0.6.0,>=0.4.0->langchain-chroma) (6.4.5)\n",
            "Requirement already satisfied: grpcio>=1.58.0 in /usr/local/lib/python3.10/dist-packages (from chromadb!=0.5.4,!=0.5.5,<0.6.0,>=0.4.0->langchain-chroma) (1.64.1)\n",
            "Requirement already satisfied: bcrypt>=4.0.1 in /usr/local/lib/python3.10/dist-packages (from chromadb!=0.5.4,!=0.5.5,<0.6.0,>=0.4.0->langchain-chroma) (4.2.0)\n",
            "Requirement already satisfied: typer>=0.9.0 in /usr/local/lib/python3.10/dist-packages (from chromadb!=0.5.4,!=0.5.5,<0.6.0,>=0.4.0->langchain-chroma) (0.12.5)\n",
            "Requirement already satisfied: kubernetes>=28.1.0 in /usr/local/lib/python3.10/dist-packages (from chromadb!=0.5.4,!=0.5.5,<0.6.0,>=0.4.0->langchain-chroma) (30.1.0)\n",
            "Requirement already satisfied: mmh3>=4.0.1 in /usr/local/lib/python3.10/dist-packages (from chromadb!=0.5.4,!=0.5.5,<0.6.0,>=0.4.0->langchain-chroma) (5.0.0)\n",
            "Requirement already satisfied: orjson>=3.9.12 in /usr/local/lib/python3.10/dist-packages (from chromadb!=0.5.4,!=0.5.5,<0.6.0,>=0.4.0->langchain-chroma) (3.10.7)\n",
            "Requirement already satisfied: httpx>=0.27.0 in /usr/local/lib/python3.10/dist-packages (from chromadb!=0.5.4,!=0.5.5,<0.6.0,>=0.4.0->langchain-chroma) (0.27.2)\n",
            "Requirement already satisfied: rich>=10.11.0 in /usr/local/lib/python3.10/dist-packages (from chromadb!=0.5.4,!=0.5.5,<0.6.0,>=0.4.0->langchain-chroma) (13.8.1)\n",
            "Requirement already satisfied: marshmallow<4.0.0,>=3.18.0 in /usr/local/lib/python3.10/dist-packages (from dataclasses-json<0.7,>=0.5.7->langchain-community) (3.22.0)\n",
            "Requirement already satisfied: typing-inspect<1,>=0.4.0 in /usr/local/lib/python3.10/dist-packages (from dataclasses-json<0.7,>=0.5.7->langchain-community) (0.9.0)\n",
            "Requirement already satisfied: starlette<0.39.0,>=0.37.2 in /usr/local/lib/python3.10/dist-packages (from fastapi<1,>=0.95.2->langchain-chroma) (0.38.5)\n",
            "Requirement already satisfied: anyio<5,>=3.5.0 in /usr/local/lib/python3.10/dist-packages (from groq<1,>=0.4.1->langchain-groq) (3.7.1)\n",
            "Requirement already satisfied: distro<2,>=1.7.0 in /usr/lib/python3/dist-packages (from groq<1,>=0.4.1->langchain-groq) (1.7.0)\n",
            "Requirement already satisfied: sniffio in /usr/local/lib/python3.10/dist-packages (from groq<1,>=0.4.1->langchain-groq) (1.3.1)\n",
            "Requirement already satisfied: filelock in /usr/local/lib/python3.10/dist-packages (from huggingface-hub>=0.23.0->langchain-huggingface) (3.16.0)\n",
            "Requirement already satisfied: fsspec>=2023.5.0 in /usr/local/lib/python3.10/dist-packages (from huggingface-hub>=0.23.0->langchain-huggingface) (2024.6.1)\n",
            "Requirement already satisfied: packaging>=20.9 in /usr/local/lib/python3.10/dist-packages (from huggingface-hub>=0.23.0->langchain-huggingface) (24.1)\n",
            "Requirement already satisfied: jsonpatch<2.0,>=1.33 in /usr/local/lib/python3.10/dist-packages (from langchain-core<0.4,>=0.3.0->langchain-huggingface) (1.33)\n",
            "Requirement already satisfied: annotated-types>=0.6.0 in /usr/local/lib/python3.10/dist-packages (from pydantic<3.0.0,>=2.7.4->langchain) (0.7.0)\n",
            "Requirement already satisfied: pydantic-core==2.23.3 in /usr/local/lib/python3.10/dist-packages (from pydantic<3.0.0,>=2.7.4->langchain) (2.23.3)\n",
            "Requirement already satisfied: python-dotenv>=0.21.0 in /usr/local/lib/python3.10/dist-packages (from pydantic-settings<3.0.0,>=2.4.0->langchain-community) (1.0.1)\n",
            "Requirement already satisfied: charset-normalizer<4,>=2 in /usr/local/lib/python3.10/dist-packages (from requests<3,>=2->langchain) (3.3.2)\n",
            "Requirement already satisfied: idna<4,>=2.5 in /usr/local/lib/python3.10/dist-packages (from requests<3,>=2->langchain) (3.10)\n",
            "Requirement already satisfied: urllib3<3,>=1.21.1 in /usr/local/lib/python3.10/dist-packages (from requests<3,>=2->langchain) (2.0.7)\n",
            "Requirement already satisfied: certifi>=2017.4.17 in /usr/local/lib/python3.10/dist-packages (from requests<3,>=2->langchain) (2024.8.30)\n",
            "Requirement already satisfied: torch>=1.11.0 in /usr/local/lib/python3.10/dist-packages (from sentence-transformers>=2.6.0->langchain-huggingface) (2.4.0+cu121)\n",
            "Requirement already satisfied: scikit-learn in /usr/local/lib/python3.10/dist-packages (from sentence-transformers>=2.6.0->langchain-huggingface) (1.3.2)\n",
            "Requirement already satisfied: scipy in /usr/local/lib/python3.10/dist-packages (from sentence-transformers>=2.6.0->langchain-huggingface) (1.13.1)\n",
            "Requirement already satisfied: Pillow in /usr/local/lib/python3.10/dist-packages (from sentence-transformers>=2.6.0->langchain-huggingface) (10.4.0)\n",
            "Requirement already satisfied: greenlet!=0.4.17 in /usr/local/lib/python3.10/dist-packages (from SQLAlchemy<3,>=1.4->langchain) (3.1.0)\n",
            "Requirement already satisfied: regex!=2019.12.17 in /usr/local/lib/python3.10/dist-packages (from transformers>=4.39.0->langchain-huggingface) (2024.9.11)\n",
            "Requirement already satisfied: safetensors>=0.4.1 in /usr/local/lib/python3.10/dist-packages (from transformers>=4.39.0->langchain-huggingface) (0.4.5)\n",
            "Requirement already satisfied: exceptiongroup in /usr/local/lib/python3.10/dist-packages (from anyio<5,>=3.5.0->groq<1,>=0.4.1->langchain-groq) (1.2.2)\n",
            "Requirement already satisfied: pyproject_hooks in /usr/local/lib/python3.10/dist-packages (from build>=1.0.3->chromadb!=0.5.4,!=0.5.5,<0.6.0,>=0.4.0->langchain-chroma) (1.1.0)\n",
            "Requirement already satisfied: tomli>=1.1.0 in /usr/local/lib/python3.10/dist-packages (from build>=1.0.3->chromadb!=0.5.4,!=0.5.5,<0.6.0,>=0.4.0->langchain-chroma) (2.0.1)\n",
            "Requirement already satisfied: httpcore==1.* in /usr/local/lib/python3.10/dist-packages (from httpx>=0.27.0->chromadb!=0.5.4,!=0.5.5,<0.6.0,>=0.4.0->langchain-chroma) (1.0.5)\n",
            "Requirement already satisfied: h11<0.15,>=0.13 in /usr/local/lib/python3.10/dist-packages (from httpcore==1.*->httpx>=0.27.0->chromadb!=0.5.4,!=0.5.5,<0.6.0,>=0.4.0->langchain-chroma) (0.14.0)\n",
            "Requirement already satisfied: jsonpointer>=1.9 in /usr/local/lib/python3.10/dist-packages (from jsonpatch<2.0,>=1.33->langchain-core<0.4,>=0.3.0->langchain-huggingface) (3.0.0)\n",
            "Requirement already satisfied: six>=1.9.0 in /usr/local/lib/python3.10/dist-packages (from kubernetes>=28.1.0->chromadb!=0.5.4,!=0.5.5,<0.6.0,>=0.4.0->langchain-chroma) (1.16.0)\n",
            "Requirement already satisfied: python-dateutil>=2.5.3 in /usr/local/lib/python3.10/dist-packages (from kubernetes>=28.1.0->chromadb!=0.5.4,!=0.5.5,<0.6.0,>=0.4.0->langchain-chroma) (2.8.2)\n",
            "Requirement already satisfied: google-auth>=1.0.1 in /usr/local/lib/python3.10/dist-packages (from kubernetes>=28.1.0->chromadb!=0.5.4,!=0.5.5,<0.6.0,>=0.4.0->langchain-chroma) (2.27.0)\n",
            "Requirement already satisfied: websocket-client!=0.40.0,!=0.41.*,!=0.42.*,>=0.32.0 in /usr/local/lib/python3.10/dist-packages (from kubernetes>=28.1.0->chromadb!=0.5.4,!=0.5.5,<0.6.0,>=0.4.0->langchain-chroma) (1.8.0)\n",
            "Requirement already satisfied: requests-oauthlib in /usr/local/lib/python3.10/dist-packages (from kubernetes>=28.1.0->chromadb!=0.5.4,!=0.5.5,<0.6.0,>=0.4.0->langchain-chroma) (1.3.1)\n",
            "Requirement already satisfied: oauthlib>=3.2.2 in /usr/local/lib/python3.10/dist-packages (from kubernetes>=28.1.0->chromadb!=0.5.4,!=0.5.5,<0.6.0,>=0.4.0->langchain-chroma) (3.2.2)\n",
            "Requirement already satisfied: coloredlogs in /usr/local/lib/python3.10/dist-packages (from onnxruntime>=1.14.1->chromadb!=0.5.4,!=0.5.5,<0.6.0,>=0.4.0->langchain-chroma) (15.0.1)\n",
            "Requirement already satisfied: flatbuffers in /usr/local/lib/python3.10/dist-packages (from onnxruntime>=1.14.1->chromadb!=0.5.4,!=0.5.5,<0.6.0,>=0.4.0->langchain-chroma) (24.3.25)\n",
            "Requirement already satisfied: protobuf in /usr/local/lib/python3.10/dist-packages (from onnxruntime>=1.14.1->chromadb!=0.5.4,!=0.5.5,<0.6.0,>=0.4.0->langchain-chroma) (3.20.3)\n",
            "Requirement already satisfied: sympy in /usr/local/lib/python3.10/dist-packages (from onnxruntime>=1.14.1->chromadb!=0.5.4,!=0.5.5,<0.6.0,>=0.4.0->langchain-chroma) (1.13.2)\n",
            "Requirement already satisfied: deprecated>=1.2.6 in /usr/local/lib/python3.10/dist-packages (from opentelemetry-api>=1.2.0->chromadb!=0.5.4,!=0.5.5,<0.6.0,>=0.4.0->langchain-chroma) (1.2.14)\n",
            "Requirement already satisfied: importlib-metadata<=8.4.0,>=6.0 in /usr/local/lib/python3.10/dist-packages (from opentelemetry-api>=1.2.0->chromadb!=0.5.4,!=0.5.5,<0.6.0,>=0.4.0->langchain-chroma) (8.4.0)\n",
            "Requirement already satisfied: googleapis-common-protos~=1.52 in /usr/local/lib/python3.10/dist-packages (from opentelemetry-exporter-otlp-proto-grpc>=1.2.0->chromadb!=0.5.4,!=0.5.5,<0.6.0,>=0.4.0->langchain-chroma) (1.65.0)\n",
            "Requirement already satisfied: opentelemetry-exporter-otlp-proto-common==1.27.0 in /usr/local/lib/python3.10/dist-packages (from opentelemetry-exporter-otlp-proto-grpc>=1.2.0->chromadb!=0.5.4,!=0.5.5,<0.6.0,>=0.4.0->langchain-chroma) (1.27.0)\n",
            "Requirement already satisfied: opentelemetry-proto==1.27.0 in /usr/local/lib/python3.10/dist-packages (from opentelemetry-exporter-otlp-proto-grpc>=1.2.0->chromadb!=0.5.4,!=0.5.5,<0.6.0,>=0.4.0->langchain-chroma) (1.27.0)\n",
            "Requirement already satisfied: opentelemetry-instrumentation-asgi==0.48b0 in /usr/local/lib/python3.10/dist-packages (from opentelemetry-instrumentation-fastapi>=0.41b0->chromadb!=0.5.4,!=0.5.5,<0.6.0,>=0.4.0->langchain-chroma) (0.48b0)\n",
            "Requirement already satisfied: opentelemetry-instrumentation==0.48b0 in /usr/local/lib/python3.10/dist-packages (from opentelemetry-instrumentation-fastapi>=0.41b0->chromadb!=0.5.4,!=0.5.5,<0.6.0,>=0.4.0->langchain-chroma) (0.48b0)\n",
            "Requirement already satisfied: opentelemetry-semantic-conventions==0.48b0 in /usr/local/lib/python3.10/dist-packages (from opentelemetry-instrumentation-fastapi>=0.41b0->chromadb!=0.5.4,!=0.5.5,<0.6.0,>=0.4.0->langchain-chroma) (0.48b0)\n",
            "Requirement already satisfied: opentelemetry-util-http==0.48b0 in /usr/local/lib/python3.10/dist-packages (from opentelemetry-instrumentation-fastapi>=0.41b0->chromadb!=0.5.4,!=0.5.5,<0.6.0,>=0.4.0->langchain-chroma) (0.48b0)\n",
            "Requirement already satisfied: setuptools>=16.0 in /usr/local/lib/python3.10/dist-packages (from opentelemetry-instrumentation==0.48b0->opentelemetry-instrumentation-fastapi>=0.41b0->chromadb!=0.5.4,!=0.5.5,<0.6.0,>=0.4.0->langchain-chroma) (71.0.4)\n",
            "Requirement already satisfied: wrapt<2.0.0,>=1.0.0 in /usr/local/lib/python3.10/dist-packages (from opentelemetry-instrumentation==0.48b0->opentelemetry-instrumentation-fastapi>=0.41b0->chromadb!=0.5.4,!=0.5.5,<0.6.0,>=0.4.0->langchain-chroma) (1.16.0)\n",
            "Requirement already satisfied: asgiref~=3.0 in /usr/local/lib/python3.10/dist-packages (from opentelemetry-instrumentation-asgi==0.48b0->opentelemetry-instrumentation-fastapi>=0.41b0->chromadb!=0.5.4,!=0.5.5,<0.6.0,>=0.4.0->langchain-chroma) (3.8.1)\n",
            "Requirement already satisfied: monotonic>=1.5 in /usr/local/lib/python3.10/dist-packages (from posthog>=2.4.0->chromadb!=0.5.4,!=0.5.5,<0.6.0,>=0.4.0->langchain-chroma) (1.6)\n",
            "Requirement already satisfied: backoff>=1.10.0 in /usr/local/lib/python3.10/dist-packages (from posthog>=2.4.0->chromadb!=0.5.4,!=0.5.5,<0.6.0,>=0.4.0->langchain-chroma) (2.2.1)\n",
            "Requirement already satisfied: markdown-it-py>=2.2.0 in /usr/local/lib/python3.10/dist-packages (from rich>=10.11.0->chromadb!=0.5.4,!=0.5.5,<0.6.0,>=0.4.0->langchain-chroma) (3.0.0)\n",
            "Requirement already satisfied: pygments<3.0.0,>=2.13.0 in /usr/local/lib/python3.10/dist-packages (from rich>=10.11.0->chromadb!=0.5.4,!=0.5.5,<0.6.0,>=0.4.0->langchain-chroma) (2.18.0)\n",
            "Requirement already satisfied: networkx in /usr/local/lib/python3.10/dist-packages (from torch>=1.11.0->sentence-transformers>=2.6.0->langchain-huggingface) (3.3)\n",
            "Requirement already satisfied: jinja2 in /usr/local/lib/python3.10/dist-packages (from torch>=1.11.0->sentence-transformers>=2.6.0->langchain-huggingface) (3.1.4)\n",
            "Requirement already satisfied: click>=8.0.0 in /usr/local/lib/python3.10/dist-packages (from typer>=0.9.0->chromadb!=0.5.4,!=0.5.5,<0.6.0,>=0.4.0->langchain-chroma) (8.1.7)\n",
            "Requirement already satisfied: shellingham>=1.3.0 in /usr/local/lib/python3.10/dist-packages (from typer>=0.9.0->chromadb!=0.5.4,!=0.5.5,<0.6.0,>=0.4.0->langchain-chroma) (1.5.4)\n",
            "Requirement already satisfied: mypy-extensions>=0.3.0 in /usr/local/lib/python3.10/dist-packages (from typing-inspect<1,>=0.4.0->dataclasses-json<0.7,>=0.5.7->langchain-community) (1.0.0)\n",
            "Requirement already satisfied: httptools>=0.5.0 in /usr/local/lib/python3.10/dist-packages (from uvicorn[standard]>=0.18.3->chromadb!=0.5.4,!=0.5.5,<0.6.0,>=0.4.0->langchain-chroma) (0.6.1)\n",
            "Requirement already satisfied: uvloop!=0.15.0,!=0.15.1,>=0.14.0 in /usr/local/lib/python3.10/dist-packages (from uvicorn[standard]>=0.18.3->chromadb!=0.5.4,!=0.5.5,<0.6.0,>=0.4.0->langchain-chroma) (0.20.0)\n",
            "Requirement already satisfied: watchfiles>=0.13 in /usr/local/lib/python3.10/dist-packages (from uvicorn[standard]>=0.18.3->chromadb!=0.5.4,!=0.5.5,<0.6.0,>=0.4.0->langchain-chroma) (0.24.0)\n",
            "Requirement already satisfied: websockets>=10.4 in /usr/local/lib/python3.10/dist-packages (from uvicorn[standard]>=0.18.3->chromadb!=0.5.4,!=0.5.5,<0.6.0,>=0.4.0->langchain-chroma) (13.0.1)\n",
            "Requirement already satisfied: joblib>=1.1.1 in /usr/local/lib/python3.10/dist-packages (from scikit-learn->sentence-transformers>=2.6.0->langchain-huggingface) (1.4.2)\n",
            "Requirement already satisfied: threadpoolctl>=2.0.0 in /usr/local/lib/python3.10/dist-packages (from scikit-learn->sentence-transformers>=2.6.0->langchain-huggingface) (3.5.0)\n",
            "Requirement already satisfied: cachetools<6.0,>=2.0.0 in /usr/local/lib/python3.10/dist-packages (from google-auth>=1.0.1->kubernetes>=28.1.0->chromadb!=0.5.4,!=0.5.5,<0.6.0,>=0.4.0->langchain-chroma) (5.5.0)\n",
            "Requirement already satisfied: pyasn1-modules>=0.2.1 in /usr/local/lib/python3.10/dist-packages (from google-auth>=1.0.1->kubernetes>=28.1.0->chromadb!=0.5.4,!=0.5.5,<0.6.0,>=0.4.0->langchain-chroma) (0.4.1)\n",
            "Requirement already satisfied: rsa<5,>=3.1.4 in /usr/local/lib/python3.10/dist-packages (from google-auth>=1.0.1->kubernetes>=28.1.0->chromadb!=0.5.4,!=0.5.5,<0.6.0,>=0.4.0->langchain-chroma) (4.9)\n",
            "Requirement already satisfied: zipp>=0.5 in /usr/local/lib/python3.10/dist-packages (from importlib-metadata<=8.4.0,>=6.0->opentelemetry-api>=1.2.0->chromadb!=0.5.4,!=0.5.5,<0.6.0,>=0.4.0->langchain-chroma) (3.20.2)\n",
            "Requirement already satisfied: mdurl~=0.1 in /usr/local/lib/python3.10/dist-packages (from markdown-it-py>=2.2.0->rich>=10.11.0->chromadb!=0.5.4,!=0.5.5,<0.6.0,>=0.4.0->langchain-chroma) (0.1.2)\n",
            "Requirement already satisfied: humanfriendly>=9.1 in /usr/local/lib/python3.10/dist-packages (from coloredlogs->onnxruntime>=1.14.1->chromadb!=0.5.4,!=0.5.5,<0.6.0,>=0.4.0->langchain-chroma) (10.0)\n",
            "Requirement already satisfied: MarkupSafe>=2.0 in /usr/local/lib/python3.10/dist-packages (from jinja2->torch>=1.11.0->sentence-transformers>=2.6.0->langchain-huggingface) (2.1.5)\n",
            "Requirement already satisfied: mpmath<1.4,>=1.1.0 in /usr/local/lib/python3.10/dist-packages (from sympy->onnxruntime>=1.14.1->chromadb!=0.5.4,!=0.5.5,<0.6.0,>=0.4.0->langchain-chroma) (1.3.0)\n",
            "Requirement already satisfied: pyasn1<0.7.0,>=0.4.6 in /usr/local/lib/python3.10/dist-packages (from pyasn1-modules>=0.2.1->google-auth>=1.0.1->kubernetes>=28.1.0->chromadb!=0.5.4,!=0.5.5,<0.6.0,>=0.4.0->langchain-chroma) (0.6.1)\n"
          ]
        }
      ]
    },
    {
      "cell_type": "markdown",
      "metadata": {
        "id": "QI7_KEjILJZ8"
      },
      "source": [
        "## Step 2: Load the Traffic Violations Dataset"
      ]
    },
    {
      "cell_type": "markdown",
      "metadata": {
        "id": "FY6U8FxlLLON"
      },
      "source": [
        "You are provided with a dataset of traffic violations. Load the CSV file into a pandas DataFrame and preview the first few rows of the dataset using `.head()`. You can also try and see the dataset's characteristics."
      ]
    },
    {
      "cell_type": "code",
      "source": [
        "pip install pyarabic"
      ],
      "metadata": {
        "colab": {
          "base_uri": "https://localhost:8080/"
        },
        "id": "PTBbKtni3_7j",
        "outputId": "001d1a85-8174-48d4-94b3-97d2512aa0f7"
      },
      "execution_count": 70,
      "outputs": [
        {
          "output_type": "stream",
          "name": "stdout",
          "text": [
            "Requirement already satisfied: pyarabic in /usr/local/lib/python3.10/dist-packages (0.6.15)\n",
            "Requirement already satisfied: six>=1.14.0 in /usr/local/lib/python3.10/dist-packages (from pyarabic) (1.16.0)\n"
          ]
        }
      ]
    },
    {
      "cell_type": "code",
      "source": [
        "import pandas as pd\n",
        "df = pd.read_csv('/content/Dataset.csv')\n",
        "df.head()"
      ],
      "metadata": {
        "id": "gNpzTXHtd1Vy",
        "outputId": "f4cd53ea-2a0f-477e-c9f0-435f72ff9221",
        "colab": {
          "base_uri": "https://localhost:8080/",
          "height": 206
        }
      },
      "execution_count": 71,
      "outputs": [
        {
          "output_type": "execute_result",
          "data": {
            "text/plain": [
              "                                            المخالفة  \\\n",
              "0  قيادة المركبة في الأسواق التي لا يسمح بالقيادة...   \n",
              "1   ترك المركبة مفتوحة وفي وضع التشغيل بعد مغادرتها.   \n",
              "2                       عدم وجود تأمين ساري للمركبة.   \n",
              "3      عبور المشاة للطرق من غير الأماكن المخصصة لهم.   \n",
              "4              عدم تقيد المشاة بالإشارات الخاصة بهم.   \n",
              "\n",
              "                          الغرامة  \n",
              "0  الغرامة المالية 100 - 150 ريال  \n",
              "1  الغرامة المالية 100 - 150 ريال  \n",
              "2  الغرامة المالية 100 - 150 ريال  \n",
              "3  الغرامة المالية 100 - 150 ريال  \n",
              "4  الغرامة المالية 100 - 150 ريال  "
            ],
            "text/html": [
              "\n",
              "  <div id=\"df-15d490de-1e79-489d-8d86-5f989decbd80\" class=\"colab-df-container\">\n",
              "    <div>\n",
              "<style scoped>\n",
              "    .dataframe tbody tr th:only-of-type {\n",
              "        vertical-align: middle;\n",
              "    }\n",
              "\n",
              "    .dataframe tbody tr th {\n",
              "        vertical-align: top;\n",
              "    }\n",
              "\n",
              "    .dataframe thead th {\n",
              "        text-align: right;\n",
              "    }\n",
              "</style>\n",
              "<table border=\"1\" class=\"dataframe\">\n",
              "  <thead>\n",
              "    <tr style=\"text-align: right;\">\n",
              "      <th></th>\n",
              "      <th>المخالفة</th>\n",
              "      <th>الغرامة</th>\n",
              "    </tr>\n",
              "  </thead>\n",
              "  <tbody>\n",
              "    <tr>\n",
              "      <th>0</th>\n",
              "      <td>قيادة المركبة في الأسواق التي لا يسمح بالقيادة...</td>\n",
              "      <td>الغرامة المالية 100 - 150 ريال</td>\n",
              "    </tr>\n",
              "    <tr>\n",
              "      <th>1</th>\n",
              "      <td>ترك المركبة مفتوحة وفي وضع التشغيل بعد مغادرتها.</td>\n",
              "      <td>الغرامة المالية 100 - 150 ريال</td>\n",
              "    </tr>\n",
              "    <tr>\n",
              "      <th>2</th>\n",
              "      <td>عدم وجود تأمين ساري للمركبة.</td>\n",
              "      <td>الغرامة المالية 100 - 150 ريال</td>\n",
              "    </tr>\n",
              "    <tr>\n",
              "      <th>3</th>\n",
              "      <td>عبور المشاة للطرق من غير الأماكن المخصصة لهم.</td>\n",
              "      <td>الغرامة المالية 100 - 150 ريال</td>\n",
              "    </tr>\n",
              "    <tr>\n",
              "      <th>4</th>\n",
              "      <td>عدم تقيد المشاة بالإشارات الخاصة بهم.</td>\n",
              "      <td>الغرامة المالية 100 - 150 ريال</td>\n",
              "    </tr>\n",
              "  </tbody>\n",
              "</table>\n",
              "</div>\n",
              "    <div class=\"colab-df-buttons\">\n",
              "\n",
              "  <div class=\"colab-df-container\">\n",
              "    <button class=\"colab-df-convert\" onclick=\"convertToInteractive('df-15d490de-1e79-489d-8d86-5f989decbd80')\"\n",
              "            title=\"Convert this dataframe to an interactive table.\"\n",
              "            style=\"display:none;\">\n",
              "\n",
              "  <svg xmlns=\"http://www.w3.org/2000/svg\" height=\"24px\" viewBox=\"0 -960 960 960\">\n",
              "    <path d=\"M120-120v-720h720v720H120Zm60-500h600v-160H180v160Zm220 220h160v-160H400v160Zm0 220h160v-160H400v160ZM180-400h160v-160H180v160Zm440 0h160v-160H620v160ZM180-180h160v-160H180v160Zm440 0h160v-160H620v160Z\"/>\n",
              "  </svg>\n",
              "    </button>\n",
              "\n",
              "  <style>\n",
              "    .colab-df-container {\n",
              "      display:flex;\n",
              "      gap: 12px;\n",
              "    }\n",
              "\n",
              "    .colab-df-convert {\n",
              "      background-color: #E8F0FE;\n",
              "      border: none;\n",
              "      border-radius: 50%;\n",
              "      cursor: pointer;\n",
              "      display: none;\n",
              "      fill: #1967D2;\n",
              "      height: 32px;\n",
              "      padding: 0 0 0 0;\n",
              "      width: 32px;\n",
              "    }\n",
              "\n",
              "    .colab-df-convert:hover {\n",
              "      background-color: #E2EBFA;\n",
              "      box-shadow: 0px 1px 2px rgba(60, 64, 67, 0.3), 0px 1px 3px 1px rgba(60, 64, 67, 0.15);\n",
              "      fill: #174EA6;\n",
              "    }\n",
              "\n",
              "    .colab-df-buttons div {\n",
              "      margin-bottom: 4px;\n",
              "    }\n",
              "\n",
              "    [theme=dark] .colab-df-convert {\n",
              "      background-color: #3B4455;\n",
              "      fill: #D2E3FC;\n",
              "    }\n",
              "\n",
              "    [theme=dark] .colab-df-convert:hover {\n",
              "      background-color: #434B5C;\n",
              "      box-shadow: 0px 1px 3px 1px rgba(0, 0, 0, 0.15);\n",
              "      filter: drop-shadow(0px 1px 2px rgba(0, 0, 0, 0.3));\n",
              "      fill: #FFFFFF;\n",
              "    }\n",
              "  </style>\n",
              "\n",
              "    <script>\n",
              "      const buttonEl =\n",
              "        document.querySelector('#df-15d490de-1e79-489d-8d86-5f989decbd80 button.colab-df-convert');\n",
              "      buttonEl.style.display =\n",
              "        google.colab.kernel.accessAllowed ? 'block' : 'none';\n",
              "\n",
              "      async function convertToInteractive(key) {\n",
              "        const element = document.querySelector('#df-15d490de-1e79-489d-8d86-5f989decbd80');\n",
              "        const dataTable =\n",
              "          await google.colab.kernel.invokeFunction('convertToInteractive',\n",
              "                                                    [key], {});\n",
              "        if (!dataTable) return;\n",
              "\n",
              "        const docLinkHtml = 'Like what you see? Visit the ' +\n",
              "          '<a target=\"_blank\" href=https://colab.research.google.com/notebooks/data_table.ipynb>data table notebook</a>'\n",
              "          + ' to learn more about interactive tables.';\n",
              "        element.innerHTML = '';\n",
              "        dataTable['output_type'] = 'display_data';\n",
              "        await google.colab.output.renderOutput(dataTable, element);\n",
              "        const docLink = document.createElement('div');\n",
              "        docLink.innerHTML = docLinkHtml;\n",
              "        element.appendChild(docLink);\n",
              "      }\n",
              "    </script>\n",
              "  </div>\n",
              "\n",
              "\n",
              "<div id=\"df-244259c6-274f-4084-91cd-43166e882f1e\">\n",
              "  <button class=\"colab-df-quickchart\" onclick=\"quickchart('df-244259c6-274f-4084-91cd-43166e882f1e')\"\n",
              "            title=\"Suggest charts\"\n",
              "            style=\"display:none;\">\n",
              "\n",
              "<svg xmlns=\"http://www.w3.org/2000/svg\" height=\"24px\"viewBox=\"0 0 24 24\"\n",
              "     width=\"24px\">\n",
              "    <g>\n",
              "        <path d=\"M19 3H5c-1.1 0-2 .9-2 2v14c0 1.1.9 2 2 2h14c1.1 0 2-.9 2-2V5c0-1.1-.9-2-2-2zM9 17H7v-7h2v7zm4 0h-2V7h2v10zm4 0h-2v-4h2v4z\"/>\n",
              "    </g>\n",
              "</svg>\n",
              "  </button>\n",
              "\n",
              "<style>\n",
              "  .colab-df-quickchart {\n",
              "      --bg-color: #E8F0FE;\n",
              "      --fill-color: #1967D2;\n",
              "      --hover-bg-color: #E2EBFA;\n",
              "      --hover-fill-color: #174EA6;\n",
              "      --disabled-fill-color: #AAA;\n",
              "      --disabled-bg-color: #DDD;\n",
              "  }\n",
              "\n",
              "  [theme=dark] .colab-df-quickchart {\n",
              "      --bg-color: #3B4455;\n",
              "      --fill-color: #D2E3FC;\n",
              "      --hover-bg-color: #434B5C;\n",
              "      --hover-fill-color: #FFFFFF;\n",
              "      --disabled-bg-color: #3B4455;\n",
              "      --disabled-fill-color: #666;\n",
              "  }\n",
              "\n",
              "  .colab-df-quickchart {\n",
              "    background-color: var(--bg-color);\n",
              "    border: none;\n",
              "    border-radius: 50%;\n",
              "    cursor: pointer;\n",
              "    display: none;\n",
              "    fill: var(--fill-color);\n",
              "    height: 32px;\n",
              "    padding: 0;\n",
              "    width: 32px;\n",
              "  }\n",
              "\n",
              "  .colab-df-quickchart:hover {\n",
              "    background-color: var(--hover-bg-color);\n",
              "    box-shadow: 0 1px 2px rgba(60, 64, 67, 0.3), 0 1px 3px 1px rgba(60, 64, 67, 0.15);\n",
              "    fill: var(--button-hover-fill-color);\n",
              "  }\n",
              "\n",
              "  .colab-df-quickchart-complete:disabled,\n",
              "  .colab-df-quickchart-complete:disabled:hover {\n",
              "    background-color: var(--disabled-bg-color);\n",
              "    fill: var(--disabled-fill-color);\n",
              "    box-shadow: none;\n",
              "  }\n",
              "\n",
              "  .colab-df-spinner {\n",
              "    border: 2px solid var(--fill-color);\n",
              "    border-color: transparent;\n",
              "    border-bottom-color: var(--fill-color);\n",
              "    animation:\n",
              "      spin 1s steps(1) infinite;\n",
              "  }\n",
              "\n",
              "  @keyframes spin {\n",
              "    0% {\n",
              "      border-color: transparent;\n",
              "      border-bottom-color: var(--fill-color);\n",
              "      border-left-color: var(--fill-color);\n",
              "    }\n",
              "    20% {\n",
              "      border-color: transparent;\n",
              "      border-left-color: var(--fill-color);\n",
              "      border-top-color: var(--fill-color);\n",
              "    }\n",
              "    30% {\n",
              "      border-color: transparent;\n",
              "      border-left-color: var(--fill-color);\n",
              "      border-top-color: var(--fill-color);\n",
              "      border-right-color: var(--fill-color);\n",
              "    }\n",
              "    40% {\n",
              "      border-color: transparent;\n",
              "      border-right-color: var(--fill-color);\n",
              "      border-top-color: var(--fill-color);\n",
              "    }\n",
              "    60% {\n",
              "      border-color: transparent;\n",
              "      border-right-color: var(--fill-color);\n",
              "    }\n",
              "    80% {\n",
              "      border-color: transparent;\n",
              "      border-right-color: var(--fill-color);\n",
              "      border-bottom-color: var(--fill-color);\n",
              "    }\n",
              "    90% {\n",
              "      border-color: transparent;\n",
              "      border-bottom-color: var(--fill-color);\n",
              "    }\n",
              "  }\n",
              "</style>\n",
              "\n",
              "  <script>\n",
              "    async function quickchart(key) {\n",
              "      const quickchartButtonEl =\n",
              "        document.querySelector('#' + key + ' button');\n",
              "      quickchartButtonEl.disabled = true;  // To prevent multiple clicks.\n",
              "      quickchartButtonEl.classList.add('colab-df-spinner');\n",
              "      try {\n",
              "        const charts = await google.colab.kernel.invokeFunction(\n",
              "            'suggestCharts', [key], {});\n",
              "      } catch (error) {\n",
              "        console.error('Error during call to suggestCharts:', error);\n",
              "      }\n",
              "      quickchartButtonEl.classList.remove('colab-df-spinner');\n",
              "      quickchartButtonEl.classList.add('colab-df-quickchart-complete');\n",
              "    }\n",
              "    (() => {\n",
              "      let quickchartButtonEl =\n",
              "        document.querySelector('#df-244259c6-274f-4084-91cd-43166e882f1e button');\n",
              "      quickchartButtonEl.style.display =\n",
              "        google.colab.kernel.accessAllowed ? 'block' : 'none';\n",
              "    })();\n",
              "  </script>\n",
              "</div>\n",
              "\n",
              "    </div>\n",
              "  </div>\n"
            ],
            "application/vnd.google.colaboratory.intrinsic+json": {
              "type": "dataframe",
              "variable_name": "df",
              "summary": "{\n  \"name\": \"df\",\n  \"rows\": 104,\n  \"fields\": [\n    {\n      \"column\": \"\\u0627\\u0644\\u0645\\u062e\\u0627\\u0644\\u0641\\u0629\",\n      \"properties\": {\n        \"dtype\": \"string\",\n        \"num_unique_values\": 104,\n        \"samples\": [\n          \"\\u0627\\u0644\\u0642\\u064a\\u0627\\u062f\\u0629 \\u0628\\u0631\\u062e\\u0635\\u0629 \\u0642\\u064a\\u0627\\u062f\\u0629 \\u0635\\u0644\\u0627\\u062d\\u064a\\u062a\\u0647\\u0627 \\u0645\\u0646\\u062a\\u0647\\u064a\\u0629.\",\n          \"\\u0633\\u064a\\u0631 \\u0627\\u0644\\u0645\\u0631\\u0643\\u0628\\u0629 \\u0628\\u0644\\u0627 \\u0644\\u0648\\u062d\\u0629 \\u0623\\u0645\\u0627\\u0645\\u064a\\u0629.\",\n          \"\\u0642\\u064a\\u0627\\u062f\\u0629 \\u0627\\u0644\\u0645\\u0631\\u0643\\u0628\\u0629 \\u0628\\u0644\\u0648\\u062d\\u0627\\u062a \\u063a\\u064a\\u0631 \\u0648\\u0627\\u0636\\u062d\\u0629 \\u0623\\u0648 \\u0628\\u0647\\u0627 \\u062a\\u0644\\u0641.\"\n        ],\n        \"semantic_type\": \"\",\n        \"description\": \"\"\n      }\n    },\n    {\n      \"column\": \"\\u0627\\u0644\\u063a\\u0631\\u0627\\u0645\\u0629\",\n      \"properties\": {\n        \"dtype\": \"category\",\n        \"num_unique_values\": 7,\n        \"samples\": [\n          \"\\u0627\\u0644\\u063a\\u0631\\u0627\\u0645\\u0629 \\u0627\\u0644\\u0645\\u0627\\u0644\\u064a\\u0629 100 - 150 \\u0631\\u064a\\u0627\\u0644\",\n          \"\\u0627\\u0644\\u063a\\u0631\\u0627\\u0645\\u0629 \\u0627\\u0644\\u0645\\u0627\\u0644\\u064a\\u0629 150 - 300 \\u0631\\u064a\\u0627\\u0644\",\n          \"\\u0627\\u0644\\u063a\\u0631\\u0627\\u0645\\u0629 \\u0627\\u0644\\u0645\\u0627\\u0644\\u064a\\u0629 3000 - 6000 \\u0631\\u064a\\u0627\\u0644\"\n        ],\n        \"semantic_type\": \"\",\n        \"description\": \"\"\n      }\n    }\n  ]\n}"
            }
          },
          "metadata": {},
          "execution_count": 71
        }
      ]
    },
    {
      "cell_type": "code",
      "source": [
        "import pyarabic.araby as araby\n",
        "from pyarabic.araby import strip_harakat\n",
        "def preprocesing(df):\n",
        "  df['المخالفة']=df['المخالفة'].apply(lambda x: araby.strip_harakat(x))\n",
        "  df['المخالفة']=df['المخالفة'].apply(lambda x: araby.strip_tashkeel(x))\n",
        "  df['المخالفة']=df['المخالفة'].apply(lambda x: araby.strip_tatweel(x))\n",
        "  df['الغرامة']=df['الغرامة'].apply(lambda x: araby.strip_harakat(x))\n",
        "  df['الغرامة']=df['الغرامة'].apply(lambda x: araby.strip_tashkeel(x))\n",
        "  df['الغرامة']=df['الغرامة'].apply(lambda x: araby.strip_tatweel(x))\n",
        "  return df\n",
        "  print(df)\n"
      ],
      "metadata": {
        "id": "Jxm017Ij5roi"
      },
      "execution_count": 73,
      "outputs": []
    },
    {
      "cell_type": "code",
      "source": [
        "df.isnull().sum()"
      ],
      "metadata": {
        "colab": {
          "base_uri": "https://localhost:8080/",
          "height": 147
        },
        "id": "ldCwfUC771VZ",
        "outputId": "b6e098e8-d14f-4cff-ee71-1bf98e4baa4f"
      },
      "execution_count": 74,
      "outputs": [
        {
          "output_type": "execute_result",
          "data": {
            "text/plain": [
              "المخالفة    0\n",
              "الغرامة     0\n",
              "dtype: int64"
            ],
            "text/html": [
              "<div>\n",
              "<style scoped>\n",
              "    .dataframe tbody tr th:only-of-type {\n",
              "        vertical-align: middle;\n",
              "    }\n",
              "\n",
              "    .dataframe tbody tr th {\n",
              "        vertical-align: top;\n",
              "    }\n",
              "\n",
              "    .dataframe thead th {\n",
              "        text-align: right;\n",
              "    }\n",
              "</style>\n",
              "<table border=\"1\" class=\"dataframe\">\n",
              "  <thead>\n",
              "    <tr style=\"text-align: right;\">\n",
              "      <th></th>\n",
              "      <th>0</th>\n",
              "    </tr>\n",
              "  </thead>\n",
              "  <tbody>\n",
              "    <tr>\n",
              "      <th>المخالفة</th>\n",
              "      <td>0</td>\n",
              "    </tr>\n",
              "    <tr>\n",
              "      <th>الغرامة</th>\n",
              "      <td>0</td>\n",
              "    </tr>\n",
              "  </tbody>\n",
              "</table>\n",
              "</div><br><label><b>dtype:</b> int64</label>"
            ]
          },
          "metadata": {},
          "execution_count": 74
        }
      ]
    },
    {
      "cell_type": "markdown",
      "metadata": {
        "id": "0Hs28tz2LbFx"
      },
      "source": [
        "## Step 3: Create Markdown Content from the Dataset"
      ]
    },
    {
      "cell_type": "markdown",
      "metadata": {
        "id": "PiNAqLhELd_S"
      },
      "source": [
        "For each traffic violation in the dataset, you will generate markdown text that describes the violation and the associated fine. Create a loop to iterate through the dataset and store the generated markdown in a list. Each fine should look like this:\n",
        "\n",
        "**المخالفة** - الغرامة"
      ]
    },
    {
      "cell_type": "code",
      "execution_count": 75,
      "metadata": {
        "id": "daP6wjbA_km0",
        "outputId": "a3769f0d-f5f1-4959-f841-2934acaf0628",
        "colab": {
          "base_uri": "https://localhost:8080/"
        }
      },
      "outputs": [
        {
          "output_type": "execute_result",
          "data": {
            "text/plain": [
              "0"
            ]
          },
          "metadata": {},
          "execution_count": 75
        }
      ],
      "source": [
        "df.duplicated().sum()"
      ]
    },
    {
      "cell_type": "code",
      "source": [
        "import os\n",
        "directory='data/markdown_files'\n",
        "os.makedirs(directory,exist_ok=True)\n"
      ],
      "metadata": {
        "id": "vg7VKxJmeREr"
      },
      "execution_count": 76,
      "outputs": []
    },
    {
      "source": [
        "markdown_files=[]\n",
        "for i in range(0,len(df)):\n",
        "  title=df['المخالفة'].iloc[i]\n",
        "  content=df['الغرامة'].iloc[i]\n",
        "  markdown_content=f\"**{title}**{content}\"\n",
        "  markdown_files.append(markdown_content)\n",
        "  with open(f'{directory}/{i}.md','w') as file:\n",
        "    file.write(markdown_content)\n",
        "print(df.columns)"
      ],
      "cell_type": "code",
      "metadata": {
        "id": "v_j0vFKNgTa1",
        "outputId": "1d80ed46-f75f-4762-bd39-8773fac03996",
        "colab": {
          "base_uri": "https://localhost:8080/"
        }
      },
      "execution_count": null,
      "outputs": [
        {
          "output_type": "stream",
          "name": "stdout",
          "text": [
            "Index(['المخالفة', 'الغرامة'], dtype='object')\n"
          ]
        }
      ]
    },
    {
      "cell_type": "code",
      "source": [
        "markdown_content"
      ],
      "metadata": {
        "id": "2LTDALCfg2Zc",
        "outputId": "f035d792-6a85-47d7-f8d0-4ea2352e49ee",
        "colab": {
          "base_uri": "https://localhost:8080/",
          "height": 35
        }
      },
      "execution_count": null,
      "outputs": [
        {
          "output_type": "execute_result",
          "data": {
            "text/plain": [
              "'**المجازفة بعبور الأودية والشعاب أثناء جريانها.**الغرامة المالية 5000 - 10000 ريال'"
            ],
            "application/vnd.google.colaboratory.intrinsic+json": {
              "type": "string"
            }
          },
          "metadata": {},
          "execution_count": 37
        }
      ]
    },
    {
      "cell_type": "code",
      "source": [
        "markdown_files"
      ],
      "metadata": {
        "id": "lAp_WIu4jftd",
        "outputId": "12f2ded5-019e-4c50-dace-638bcac711b0",
        "colab": {
          "base_uri": "https://localhost:8080/"
        }
      },
      "execution_count": null,
      "outputs": [
        {
          "output_type": "execute_result",
          "data": {
            "text/plain": [
              "['**قيادة المركبة في الأسواق التي لا يسمح بالقيادة فيها.**الغرامة المالية 100 - 150 ريال',\n",
              " '**ترك المركبة مفتوحة وفي وضع التشغيل بعد مغادرتها.**الغرامة المالية 100 - 150 ريال',\n",
              " '**عدم وجود تأمين ساري للمركبة.**الغرامة المالية 100 - 150 ريال',\n",
              " '**عبور المشاة للطرق من غير الأماكن المخصصة لهم.**الغرامة المالية 100 - 150 ريال',\n",
              " '**عدم تقيد المشاة بالإشارات الخاصة بهم.**الغرامة المالية 100 - 150 ريال',\n",
              " '**وقوف المركبة في أماكن غير مخصصة للوقوف.**الغرامة المالية 100 - 150 ريال',\n",
              " '**عدم إعطاء أفضلية المرور للمشاة أثناء عبورهم في المسارات المخصصة لهم.**الغرامة المالية 100 - 150 ريال',\n",
              " '**عدم استخدام إشارة الالتفاف عند التحول لليمين أو اليسار أو التجاوز أو تغيير المسار.**الغرامة المالية 150 - 300 ريال',\n",
              " '**الرجوع إلى الخلف في الطريق العام لمسافة تزيد على عشرين متراً.**الغرامة المالية 150 - 300 ريال',\n",
              " '**قيام سائق الدراجة الآلية أو العادية - أو ما في حكمهما - بالتعلق بأي مركبة أخرى، أو سحب أو حمل أشياء تعرض مستخدمي الطريق للخطر.**الغرامة المالية 150 - 300 ريال',\n",
              " '**مخالفة قواعد استعمال أنوار التلاقي.**الغرامة المالية 150 - 300 ريال',\n",
              " '**عدم حمل رخصة القيادة أو رخصة السير أثناء القيادة.**الغرامة المالية 150 - 300 ريال',\n",
              " '**إساءة استعمال منبه المركبة.**الغرامة المالية 150 - 300 ريال',\n",
              " '**عدم تقديم المركبة للفحص الفني الدوري.**الغرامة المالية 150 - 300 ريال',\n",
              " '**مخالفة تنظيمات السير على الطرق.**الغرامة المالية 150 - 300 ريال',\n",
              " '**عدم ربط حزام الأمان.**الغرامة المالية 150 - 300 ريال',\n",
              " '**وضع حواجز داخل المركبة أو خارجها تعوق رؤية السائق.**الغرامة المالية 150 - 300 ريال',\n",
              " '**عدم ترك السائق مسافة كافية بين مركبته والمركبة التي أمامه، تسمح له بتفادي وقوع حادث.**الغرامة المالية 150 - 300 ريال',\n",
              " '**التحرك بالمركبة بسرعة عالية، بحيث تحدث الإطارات صوتاً عالياً.**الغرامة المالية 150 - 300 ريال',\n",
              " '**التجمهر في موقع الحادث.**الغرامة المالية 150 - 300 ريال',\n",
              " '**قيام السائق بتخطي أرتال المركبات أمام إشارات المرور أو نقاط الضبط الأمني باستخدام كتف الطريق أو المسار المخصص للالتفاف.**الغرامة المالية 150 - 300 ريال',\n",
              " '**عدم توافر المتطلبات النظامية للمقطورة.**الغرامة المالية 150 - 300 ريال',\n",
              " '**عدم اتخاذ الاحتياطات اللازمة عند إيقاف المركبة في حالات الطوارئ على الطرق العامة.**الغرامة المالية 300 - 500 ريال',\n",
              " '**رمي أجسام خارج المركبة.**الغرامة المالية 300 - 500 ريال',\n",
              " '**التباطؤ في السير على نحو يعرقل الحركة.**الغرامة المالية 300 - 500 ريال',\n",
              " '**الانشغال بغير الطريق أثناء قيادة المركبة.**الغرامة المالية 300 - 500 ريال',\n",
              " '**استعمال المكابح (الفرامل) بشكل مفاجئ لغير ضرورة.**الغرامة المالية 300 - 500 ريال',\n",
              " '**عدم التقيد بتنظيمات السير عند تقاطعات الطرق.**الغرامة المالية 300 - 500 ريال',\n",
              " '**عدم الالتزام بحدود المسارات المحددة على الطريق.**الغرامة المالية 300 - 500 ريال',\n",
              " '**إحداث ضوضاء باستعمال أجهزة من داخل المركبة، أو ارتكاب أي سلوك يتنافى مع الآداب العامة أثناء القيادة.**الغرامة المالية 300 - 500 ريال',\n",
              " '**القيادة برخصة قيادة صلاحيتها منتهية.**الغرامة المالية 300 - 500 ريال',\n",
              " '**عدم استخدام مقاعد الأمان المخصصة للأطفال.**الغرامة المالية 300 - 500 ريال',\n",
              " '**ترك المركبة في طريق منحدرة مع عدم اتخاذ الاحتياطات اللازمة.**الغرامة المالية 300 - 500 ريال',\n",
              " '**ترك الأطفال دون سن العاشرة في المركبة دون مرافق راشد.**الغرامة المالية 300 - 500 ريال',\n",
              " '**ملاحقة مركبات الطوارئ أثناء استعمال المنبهات الخاصة بها.**الغرامة المالية 500 - 900 ريال',\n",
              " '**القيادة على الطريق بمركبات مخصصة للاقتناء.**الغرامة المالية 500 - 900 ريال',\n",
              " '**عدم الوقوف تماماً عند إشارة قف.**الغرامة المالية 500 - 900 ريال',\n",
              " '**عدم الوقوف وقوفاً تاماً عند إشارة (أمامك أفضلية) في حالة مرور مركبات على الطريق المعطاة له الأفضلية.**الغرامة المالية 500 - 900 ريال',\n",
              " '**عدم إعطاء الأفضلية للمركبة القادمة من اليمين عند الوصول إلى تقاطع متساوي الأفضلية في آن واحد وعندما لا يكون هناك إشارات أولوية.**الغرامة المالية 500 - 900 ريال',\n",
              " '**عدم إعطاء الأفضلية للمركبات التي على الطريق الرئيسي في حالة عدم وجود إشارة أفضلية.**الغرامة المالية 500 - 900 ريال',\n",
              " '**عدم التقيد بإشارات رجل الأمن اليدوية عند تنظيمه للحركة وعدم إعطاء إشارته الأولوية على الإشارات الضوئية.**الغرامة المالية 500 - 900 ريال',\n",
              " '**عدم إعطاء الأفضلية للمركبات التي بداخل الدوار من قبل المركبات التي خارجه في حالة عدم وجود إشارات ضوئية أو رجل أمن يوجه السير.**الغرامة المالية 500 - 900 ريال',\n",
              " '**قيادة المركبة داخل الأنفاق من غير إضاءة أنوارها.**الغرامة المالية 500 - 900 ريال',\n",
              " '**زيادة أبعاد الحمولة المنقولة لمركبات النقل الخفيف على الحد المسموح به.**الغرامة المالية 500 - 900 ريال',\n",
              " '**قيام سائق مركبة الطوارئ باستعمال المنبهات الخاصة بها من غير ضرورة.**الغرامة المالية 500 - 900 ريال',\n",
              " '**عدم إعطاء أفضلية المرور في ملتقيات الطرق أو تقاطعاتها لسائق المركبة المتقدم على غيره في حال عدم وجود لوحات تنظم ذلك.**الغرامة المالية 500 - 900 ريال',\n",
              " '**عدم قيام السائق في حال تغيير اتجاهه بالدوران للخلف بإعطاء أفضلية المرور للمركبات القادمة من الاتجاهات الأخرى.**الغرامة المالية 500 - 900 ريال',\n",
              " '**عدم قيام السائق في حال إغلاق جزء من الطريق بإعطاء الأفضلية لمن كان طريقه مفتوحاً.**الغرامة المالية 500 - 900 ريال',\n",
              " '**عدم قيام السائق الذي يرغب في تغيير مساره بإعطاء الأفضلية لسائق المركبة التي تسير في اتجاه مستقيم في حال سير المركبتين متحاذيتين بشكل متواز.**الغرامة المالية 500 - 900 ريال',\n",
              " '**عدم إعطاء أفضلية المرور للمركبات القادمة من طريق رئيسي في حالة تقاطعها مع طريق فرعي أو طريق ترابي.**الغرامة المالية 500 - 900 ريال',\n",
              " '**عدم إعطاء أفضلية المرور لوسائل النقل العام كالقطارات أو الحافلات وما في حكمها في حال سيرها على المسارات المخصصة لها.**الغرامة المالية 500 - 900 ريال',\n",
              " '**نقل الركاب في الأماكن غير المخصصة لهم في المركبة.**الغرامة المالية 500 - 900 ريال',\n",
              " '**استخدام السائق بيده أي جهاز محمول أثناء سير المركبة.**الغرامة المالية 500 - 900 ريال',\n",
              " '**الوقوف في أماكن وقوف ذوي الاحتياجات الخاصة من غير هذه الفئة المسموح لها.**الغرامة المالية 500 - 900 ريال',\n",
              " '**وضع كتابة أو رسم أو ملصق أو أي بيان آخر على جسم المركبة دون موافقة الجهات المختصة.**الغرامة المالية 500 - 900 ريال',\n",
              " '**تسيير مركبة تحدث تلويثاً للبيئة على الطرق العامة.**الغرامة المالية 500 - 900 ريال',\n",
              " '**تظليل زجاج المركبة دون التقيد بالضوابط التي تضعها الإدارة المختصة.**الغرامة المالية 500 - 900 ريال',\n",
              " '**استعمال المركبة لغير الغرض الذي رخصت من أجله.**الغرامة المالية 500 - 900 ريال',\n",
              " '**عدم تغطية الحمولة المنقولة وتثبيتها.**الغرامة المالية 500 - 900 ريال',\n",
              " '**دخول الشاحنات والمعدات الثقيلة وما في حكمهما إلى المدن أو الخروج منها في الأوقات غير المسموح بها.**الغرامة المالية 1000 - 2000 ريال',\n",
              " '**قيادة المركبة برخصة قيادة لا تتناسب مع حجم المركبة ونوع استخدامها.**الغرامة المالية 1000 - 2000 ريال',\n",
              " '**الوقوف على خطوط السكة الحديدية.**الغرامة المالية 1000 - 2000 ريال',\n",
              " '**نقل عدد من الركاب يزيد على العدد المحدد في رخصة السير.**الغرامة المالية 1000 - 2000 ريال',\n",
              " '**رفض إبراز الوثائق الخاصة بالسائق أو المركبة للمصرح لهم الاطلاع عليها.**الغرامة المالية 1000 - 2000 ريال',\n",
              " '**قيادة المركبة بلوحات غير واضحة أو بها تلف.**الغرامة المالية 1000 - 2000 ريال',\n",
              " '**سير المركبة بلا لوحة أمامية.**الغرامة المالية 1000 - 2000 ريال',\n",
              " '**عدم إنهاء إجراءات تعديل مجال استعمال المركبة.**الغرامة المالية 1000 - 2000 ريال',\n",
              " '**عدم إخراج المركبة المعدة للتصدير خلال المدة المحددة.**الغرامة المالية 1000 - 2000 ريال',\n",
              " '**عدم ارتداء الخوذة أثناء قيادة الدراجة الآلية.**الغرامة المالية 1000 - 2000 ريال',\n",
              " '**قيادة المركبة قبل الحصول على رخصة قيادة أو في حال سحب الرخصة.**الغرامة المالية 1000 - 2000 ريال',\n",
              " '**ترك أجسام على الطرق العامة تعرض السلامة العامة للخطر.**الغرامة المالية 1000 - 2000 ريال',\n",
              " '**عدم إعطاء أفضلية المرور لمركبات المواكب الرسمية أو الطوارئ.**الغرامة المالية 1000 - 2000 ريال',\n",
              " '**القيادة على أكتاف الطريق وعلى الأرصفة أو المسارات التي يمنع القيادة فيها.**الغرامة المالية 1000 - 2000 ريال',\n",
              " '**النزول أو الركوب أثناء سير المركبات.**الغرامة المالية 1000 - 2000 ريال',\n",
              " '**عبور المشاة للطرق السريعة.**الغرامة المالية 1000 - 2000 ريال',\n",
              " '**التجاوز في المناطق التي يمنع فيها التجاوز، مثل المنعطفات والمرتفعات.**الغرامة المالية 1000 - 2000 ريال',\n",
              " '**عدم وجود إنارة جانبية أو عواكس أو سواتر للشاحنات والمقطورات.**الغرامة المالية 1000 - 2000 ريال',\n",
              " '**عدم استخدام الأنوار اللازمة عند السير ليلاً أو في الأحوال الجوية التي تكون فيها الرؤية غير واضحة.**الغرامة المالية 1000 - 2000 ريال',\n",
              " '**عدم تثبيت اللوحة في مكانها المخصص.**الغرامة المالية 1000 - 2000 ريال',\n",
              " '**التجمهر في مواقع التفحيط.**الغرامة المالية 1000 - 2000 ريال',\n",
              " '**زيادة أبعاد الحمولة المنقولة لمركبات النقل الثقيل على الحد المسموح به.**الغرامة المالية 1000 - 2000 ريال',\n",
              " '**إجراء أي تعديل أو إضافة على جسم المركبة أو هيكلها، يغير معالمها أو تجهيزاتها الأساسية دون اتخاذ الإجراءات النظامية.**الغرامة المالية 1000 - 2000 ريال',\n",
              " '**قيادة مركبة دون توافر التجهيزات اللازمة، مثل المكابح والأنوار وما في حكمهما.**الغرامة المالية 1000 - 2000 ريال',\n",
              " '**استخدام لوحات غير صادرة من الإدارة المختصة.**الغرامة المالية 1000 - 2000 ريال',\n",
              " '**تجاوز إشارة المرور الضوئية أثناء الضوء الأحمر.**الغرامة المالية 3000 - 6000 ريال',\n",
              " '**تجاوز حافلات النقل المدرسي عند توقفها للتحميل أو التنزيل.**الغرامة المالية 3000 - 6000 ريال',\n",
              " '**العبث بعلامات الطريق أو العاكسات أو الشاحنات المنظمة لحركة السير.**الغرامة المالية 3000 - 6000 ريال',\n",
              " '**عدم الوقوف عند مراكز الضبط الأمني أو نقاط التفتيش أو عدم الوقوف للدورية الأمنية عند وجود توجيه أو علامة توجب الوقوف.**الغرامة المالية 3000 - 6000 ريال',\n",
              " '**استخدام أجهزة غير مصرح بها في المركبة أو وضع شعارات أو ملصقات تتنافى مع الآداب العامة.**الغرامة المالية 3000 - 6000 ريال',\n",
              " '**قيادة المركبة بالاتجاه المعاكس لحركة السير.**الغرامة المالية 3000 - 6000 ريال',\n",
              " '**المراوغة بسرعة بين المركبات على الطرق العامة.**الغرامة المالية 3000 - 6000 ريال',\n",
              " '**إجراء سباق للمركبات على الطرق العامة، أو السير في مواكب دون الحصول على تصريح.**الغرامة المالية 3000 - 6000 ريال',\n",
              " '**عدم التزام الشاحنات والمعدات الثقيلة بالسير في المسار الآمن في الطريق المتعدد المسارات.**الغرامة المالية 3000 - 6000 ريال',\n",
              " '**عدم قيام أصحاب الحيوانات بإبعادها عن حرم الطريق المعتمد.**الغرامة المالية 3000 - 6000 ريال',\n",
              " '**تركيب تجهيزات في المركبة كتلك الخاصة بالمركبات الرسمية ومركبات الطوارئ.**الغرامة المالية 3000 - 6000 ريال',\n",
              " '**تسيير مركبات الأشغال العامة على الطرق قبل اتخاذ الإجراءات اللازمة لتلافي أضرارها، بما في ذلك عدم وضع الشرائح العاكسة على جانبي مؤخرة المركبة.**الغرامة المالية 3000 - 6000 ريال',\n",
              " '**سير المركبة بلا لوحة خلفية، أو بلا لوحات.**الغرامة المالية 3000 - 6000 ريال',\n",
              " '**طمس لوحات المركبة.**الغرامة المالية 3000 - 6000 ريال',\n",
              " '**قيادة المركبة تحت تأثير مسكر أو مخدر، أو عقاقير محذر من القيادة تحت تأثيرها.**الغرامة المالية 5000 - 10000 ريال',\n",
              " '**القيام بأعمال الطرق قبل التنسيق مع الإدارة المختصة.**الغرامة المالية 5000 - 10000 ريال',\n",
              " '**سماح أصحاب الحيوانات بعبور حيواناتهم من غير الأماكن المخصصة لها، أو دون التنسيق مع الجهات المختصة.**الغرامة المالية 5000 - 10000 ريال',\n",
              " '**استخدام لوحات غير عائدة للمركبة.**الغرامة المالية 5000 - 10000 ريال',\n",
              " '**طمس رقم هيكل المركبة أو محاولة طمسه.**الغرامة المالية 5000 - 10000 ريال',\n",
              " '**المجازفة بعبور الأودية والشعاب أثناء جريانها.**الغرامة المالية 5000 - 10000 ريال']"
            ]
          },
          "metadata": {},
          "execution_count": 38
        }
      ]
    },
    {
      "cell_type": "code",
      "source": [
        "with open(os.path.join(directory,'0.md'),'r', encoding='utf_8') as file:\n",
        "  markdown_content=file.read()\n",
        "  print(markdown_content)\n"
      ],
      "metadata": {
        "id": "t_tjk8nGjjsG",
        "outputId": "3ea56db9-5e14-418f-992d-d4e47fbed7e6",
        "colab": {
          "base_uri": "https://localhost:8080/"
        }
      },
      "execution_count": null,
      "outputs": [
        {
          "output_type": "stream",
          "name": "stdout",
          "text": [
            "**قيادة المركبة في الأسواق التي لا يسمح بالقيادة فيها.**الغرامة المالية 100 - 150 ريال\n"
          ]
        }
      ]
    },
    {
      "cell_type": "markdown",
      "metadata": {
        "id": "ifkMDS5SLui4"
      },
      "source": [
        "## Step 4: Chunk the Markdown Data"
      ]
    },
    {
      "cell_type": "markdown",
      "metadata": {
        "id": "pJxNEV5yLxMu"
      },
      "source": [
        "Using LangChain's `RecursiveCharacterTextSplitter`, split the markdown texts into smaller chunks that will be stored in the vector database."
      ]
    },
    {
      "cell_type": "code",
      "source": [
        "from langchain.text_splitter import RecursiveCharacterTextSplitter\n",
        "text_splitter=RecursiveCharacterTextSplitter(chunk_size=500,chunk_overlap=100)\n",
        "documents=text_splitter.create_documents(markdown_files)"
      ],
      "metadata": {
        "id": "1XEaXF6wkhR8"
      },
      "execution_count": null,
      "outputs": []
    },
    {
      "cell_type": "code",
      "source": [
        "print(f'Now you have {len(documents)} documents')"
      ],
      "metadata": {
        "id": "BLgdLqkZkpwJ",
        "outputId": "43234847-cd7a-4937-91dc-f4e111beffa6",
        "colab": {
          "base_uri": "https://localhost:8080/"
        }
      },
      "execution_count": null,
      "outputs": [
        {
          "output_type": "stream",
          "name": "stdout",
          "text": [
            "Now you have 104 documents\n"
          ]
        }
      ]
    },
    {
      "cell_type": "code",
      "source": [
        "print(documents[7].page_content)"
      ],
      "metadata": {
        "id": "NQrwN25ikrJp",
        "outputId": "e3b2740d-4d1c-431e-c940-a5e5e376e1f5",
        "colab": {
          "base_uri": "https://localhost:8080/"
        }
      },
      "execution_count": null,
      "outputs": [
        {
          "output_type": "stream",
          "name": "stdout",
          "text": [
            "**عدم استخدام إشارة الالتفاف عند التحول لليمين أو اليسار أو التجاوز أو تغيير المسار.**الغرامة المالية 150 - 300 ريال\n"
          ]
        }
      ]
    },
    {
      "cell_type": "code",
      "source": [
        "print(documents)"
      ],
      "metadata": {
        "id": "PXsHJuSLkuUW",
        "outputId": "9992e702-f881-4169-d45f-a7b700168d61",
        "colab": {
          "base_uri": "https://localhost:8080/"
        }
      },
      "execution_count": null,
      "outputs": [
        {
          "output_type": "stream",
          "name": "stdout",
          "text": [
            "[Document(metadata={}, page_content='**قيادة المركبة في الأسواق التي لا يسمح بالقيادة فيها.**الغرامة المالية 100 - 150 ريال'), Document(metadata={}, page_content='**ترك المركبة مفتوحة وفي وضع التشغيل بعد مغادرتها.**الغرامة المالية 100 - 150 ريال'), Document(metadata={}, page_content='**عدم وجود تأمين ساري للمركبة.**الغرامة المالية 100 - 150 ريال'), Document(metadata={}, page_content='**عبور المشاة للطرق من غير الأماكن المخصصة لهم.**الغرامة المالية 100 - 150 ريال'), Document(metadata={}, page_content='**عدم تقيد المشاة بالإشارات الخاصة بهم.**الغرامة المالية 100 - 150 ريال'), Document(metadata={}, page_content='**وقوف المركبة في أماكن غير مخصصة للوقوف.**الغرامة المالية 100 - 150 ريال'), Document(metadata={}, page_content='**عدم إعطاء أفضلية المرور للمشاة أثناء عبورهم في المسارات المخصصة لهم.**الغرامة المالية 100 - 150 ريال'), Document(metadata={}, page_content='**عدم استخدام إشارة الالتفاف عند التحول لليمين أو اليسار أو التجاوز أو تغيير المسار.**الغرامة المالية 150 - 300 ريال'), Document(metadata={}, page_content='**الرجوع إلى الخلف في الطريق العام لمسافة تزيد على عشرين متراً.**الغرامة المالية 150 - 300 ريال'), Document(metadata={}, page_content='**قيام سائق الدراجة الآلية أو العادية - أو ما في حكمهما - بالتعلق بأي مركبة أخرى، أو سحب أو حمل أشياء تعرض مستخدمي الطريق للخطر.**الغرامة المالية 150 - 300 ريال'), Document(metadata={}, page_content='**مخالفة قواعد استعمال أنوار التلاقي.**الغرامة المالية 150 - 300 ريال'), Document(metadata={}, page_content='**عدم حمل رخصة القيادة أو رخصة السير أثناء القيادة.**الغرامة المالية 150 - 300 ريال'), Document(metadata={}, page_content='**إساءة استعمال منبه المركبة.**الغرامة المالية 150 - 300 ريال'), Document(metadata={}, page_content='**عدم تقديم المركبة للفحص الفني الدوري.**الغرامة المالية 150 - 300 ريال'), Document(metadata={}, page_content='**مخالفة تنظيمات السير على الطرق.**الغرامة المالية 150 - 300 ريال'), Document(metadata={}, page_content='**عدم ربط حزام الأمان.**الغرامة المالية 150 - 300 ريال'), Document(metadata={}, page_content='**وضع حواجز داخل المركبة أو خارجها تعوق رؤية السائق.**الغرامة المالية 150 - 300 ريال'), Document(metadata={}, page_content='**عدم ترك السائق مسافة كافية بين مركبته والمركبة التي أمامه، تسمح له بتفادي وقوع حادث.**الغرامة المالية 150 - 300 ريال'), Document(metadata={}, page_content='**التحرك بالمركبة بسرعة عالية، بحيث تحدث الإطارات صوتاً عالياً.**الغرامة المالية 150 - 300 ريال'), Document(metadata={}, page_content='**التجمهر في موقع الحادث.**الغرامة المالية 150 - 300 ريال'), Document(metadata={}, page_content='**قيام السائق بتخطي أرتال المركبات أمام إشارات المرور أو نقاط الضبط الأمني باستخدام كتف الطريق أو المسار المخصص للالتفاف.**الغرامة المالية 150 - 300 ريال'), Document(metadata={}, page_content='**عدم توافر المتطلبات النظامية للمقطورة.**الغرامة المالية 150 - 300 ريال'), Document(metadata={}, page_content='**عدم اتخاذ الاحتياطات اللازمة عند إيقاف المركبة في حالات الطوارئ على الطرق العامة.**الغرامة المالية 300 - 500 ريال'), Document(metadata={}, page_content='**رمي أجسام خارج المركبة.**الغرامة المالية 300 - 500 ريال'), Document(metadata={}, page_content='**التباطؤ في السير على نحو يعرقل الحركة.**الغرامة المالية 300 - 500 ريال'), Document(metadata={}, page_content='**الانشغال بغير الطريق أثناء قيادة المركبة.**الغرامة المالية 300 - 500 ريال'), Document(metadata={}, page_content='**استعمال المكابح (الفرامل) بشكل مفاجئ لغير ضرورة.**الغرامة المالية 300 - 500 ريال'), Document(metadata={}, page_content='**عدم التقيد بتنظيمات السير عند تقاطعات الطرق.**الغرامة المالية 300 - 500 ريال'), Document(metadata={}, page_content='**عدم الالتزام بحدود المسارات المحددة على الطريق.**الغرامة المالية 300 - 500 ريال'), Document(metadata={}, page_content='**إحداث ضوضاء باستعمال أجهزة من داخل المركبة، أو ارتكاب أي سلوك يتنافى مع الآداب العامة أثناء القيادة.**الغرامة المالية 300 - 500 ريال'), Document(metadata={}, page_content='**القيادة برخصة قيادة صلاحيتها منتهية.**الغرامة المالية 300 - 500 ريال'), Document(metadata={}, page_content='**عدم استخدام مقاعد الأمان المخصصة للأطفال.**الغرامة المالية 300 - 500 ريال'), Document(metadata={}, page_content='**ترك المركبة في طريق منحدرة مع عدم اتخاذ الاحتياطات اللازمة.**الغرامة المالية 300 - 500 ريال'), Document(metadata={}, page_content='**ترك الأطفال دون سن العاشرة في المركبة دون مرافق راشد.**الغرامة المالية 300 - 500 ريال'), Document(metadata={}, page_content='**ملاحقة مركبات الطوارئ أثناء استعمال المنبهات الخاصة بها.**الغرامة المالية 500 - 900 ريال'), Document(metadata={}, page_content='**القيادة على الطريق بمركبات مخصصة للاقتناء.**الغرامة المالية 500 - 900 ريال'), Document(metadata={}, page_content='**عدم الوقوف تماماً عند إشارة قف.**الغرامة المالية 500 - 900 ريال'), Document(metadata={}, page_content='**عدم الوقوف وقوفاً تاماً عند إشارة (أمامك أفضلية) في حالة مرور مركبات على الطريق المعطاة له الأفضلية.**الغرامة المالية 500 - 900 ريال'), Document(metadata={}, page_content='**عدم إعطاء الأفضلية للمركبة القادمة من اليمين عند الوصول إلى تقاطع متساوي الأفضلية في آن واحد وعندما لا يكون هناك إشارات أولوية.**الغرامة المالية 500 - 900 ريال'), Document(metadata={}, page_content='**عدم إعطاء الأفضلية للمركبات التي على الطريق الرئيسي في حالة عدم وجود إشارة أفضلية.**الغرامة المالية 500 - 900 ريال'), Document(metadata={}, page_content='**عدم التقيد بإشارات رجل الأمن اليدوية عند تنظيمه للحركة وعدم إعطاء إشارته الأولوية على الإشارات الضوئية.**الغرامة المالية 500 - 900 ريال'), Document(metadata={}, page_content='**عدم إعطاء الأفضلية للمركبات التي بداخل الدوار من قبل المركبات التي خارجه في حالة عدم وجود إشارات ضوئية أو رجل أمن يوجه السير.**الغرامة المالية 500 - 900 ريال'), Document(metadata={}, page_content='**قيادة المركبة داخل الأنفاق من غير إضاءة أنوارها.**الغرامة المالية 500 - 900 ريال'), Document(metadata={}, page_content='**زيادة أبعاد الحمولة المنقولة لمركبات النقل الخفيف على الحد المسموح به.**الغرامة المالية 500 - 900 ريال'), Document(metadata={}, page_content='**قيام سائق مركبة الطوارئ باستعمال المنبهات الخاصة بها من غير ضرورة.**الغرامة المالية 500 - 900 ريال'), Document(metadata={}, page_content='**عدم إعطاء أفضلية المرور في ملتقيات الطرق أو تقاطعاتها لسائق المركبة المتقدم على غيره في حال عدم وجود لوحات تنظم ذلك.**الغرامة المالية 500 - 900 ريال'), Document(metadata={}, page_content='**عدم قيام السائق في حال تغيير اتجاهه بالدوران للخلف بإعطاء أفضلية المرور للمركبات القادمة من الاتجاهات الأخرى.**الغرامة المالية 500 - 900 ريال'), Document(metadata={}, page_content='**عدم قيام السائق في حال إغلاق جزء من الطريق بإعطاء الأفضلية لمن كان طريقه مفتوحاً.**الغرامة المالية 500 - 900 ريال'), Document(metadata={}, page_content='**عدم قيام السائق الذي يرغب في تغيير مساره بإعطاء الأفضلية لسائق المركبة التي تسير في اتجاه مستقيم في حال سير المركبتين متحاذيتين بشكل متواز.**الغرامة المالية 500 - 900 ريال'), Document(metadata={}, page_content='**عدم إعطاء أفضلية المرور للمركبات القادمة من طريق رئيسي في حالة تقاطعها مع طريق فرعي أو طريق ترابي.**الغرامة المالية 500 - 900 ريال'), Document(metadata={}, page_content='**عدم إعطاء أفضلية المرور لوسائل النقل العام كالقطارات أو الحافلات وما في حكمها في حال سيرها على المسارات المخصصة لها.**الغرامة المالية 500 - 900 ريال'), Document(metadata={}, page_content='**نقل الركاب في الأماكن غير المخصصة لهم في المركبة.**الغرامة المالية 500 - 900 ريال'), Document(metadata={}, page_content='**استخدام السائق بيده أي جهاز محمول أثناء سير المركبة.**الغرامة المالية 500 - 900 ريال'), Document(metadata={}, page_content='**الوقوف في أماكن وقوف ذوي الاحتياجات الخاصة من غير هذه الفئة المسموح لها.**الغرامة المالية 500 - 900 ريال'), Document(metadata={}, page_content='**وضع كتابة أو رسم أو ملصق أو أي بيان آخر على جسم المركبة دون موافقة الجهات المختصة.**الغرامة المالية 500 - 900 ريال'), Document(metadata={}, page_content='**تسيير مركبة تحدث تلويثاً للبيئة على الطرق العامة.**الغرامة المالية 500 - 900 ريال'), Document(metadata={}, page_content='**تظليل زجاج المركبة دون التقيد بالضوابط التي تضعها الإدارة المختصة.**الغرامة المالية 500 - 900 ريال'), Document(metadata={}, page_content='**استعمال المركبة لغير الغرض الذي رخصت من أجله.**الغرامة المالية 500 - 900 ريال'), Document(metadata={}, page_content='**عدم تغطية الحمولة المنقولة وتثبيتها.**الغرامة المالية 500 - 900 ريال'), Document(metadata={}, page_content='**دخول الشاحنات والمعدات الثقيلة وما في حكمهما إلى المدن أو الخروج منها في الأوقات غير المسموح بها.**الغرامة المالية 1000 - 2000 ريال'), Document(metadata={}, page_content='**قيادة المركبة برخصة قيادة لا تتناسب مع حجم المركبة ونوع استخدامها.**الغرامة المالية 1000 - 2000 ريال'), Document(metadata={}, page_content='**الوقوف على خطوط السكة الحديدية.**الغرامة المالية 1000 - 2000 ريال'), Document(metadata={}, page_content='**نقل عدد من الركاب يزيد على العدد المحدد في رخصة السير.**الغرامة المالية 1000 - 2000 ريال'), Document(metadata={}, page_content='**رفض إبراز الوثائق الخاصة بالسائق أو المركبة للمصرح لهم الاطلاع عليها.**الغرامة المالية 1000 - 2000 ريال'), Document(metadata={}, page_content='**قيادة المركبة بلوحات غير واضحة أو بها تلف.**الغرامة المالية 1000 - 2000 ريال'), Document(metadata={}, page_content='**سير المركبة بلا لوحة أمامية.**الغرامة المالية 1000 - 2000 ريال'), Document(metadata={}, page_content='**عدم إنهاء إجراءات تعديل مجال استعمال المركبة.**الغرامة المالية 1000 - 2000 ريال'), Document(metadata={}, page_content='**عدم إخراج المركبة المعدة للتصدير خلال المدة المحددة.**الغرامة المالية 1000 - 2000 ريال'), Document(metadata={}, page_content='**عدم ارتداء الخوذة أثناء قيادة الدراجة الآلية.**الغرامة المالية 1000 - 2000 ريال'), Document(metadata={}, page_content='**قيادة المركبة قبل الحصول على رخصة قيادة أو في حال سحب الرخصة.**الغرامة المالية 1000 - 2000 ريال'), Document(metadata={}, page_content='**ترك أجسام على الطرق العامة تعرض السلامة العامة للخطر.**الغرامة المالية 1000 - 2000 ريال'), Document(metadata={}, page_content='**عدم إعطاء أفضلية المرور لمركبات المواكب الرسمية أو الطوارئ.**الغرامة المالية 1000 - 2000 ريال'), Document(metadata={}, page_content='**القيادة على أكتاف الطريق وعلى الأرصفة أو المسارات التي يمنع القيادة فيها.**الغرامة المالية 1000 - 2000 ريال'), Document(metadata={}, page_content='**النزول أو الركوب أثناء سير المركبات.**الغرامة المالية 1000 - 2000 ريال'), Document(metadata={}, page_content='**عبور المشاة للطرق السريعة.**الغرامة المالية 1000 - 2000 ريال'), Document(metadata={}, page_content='**التجاوز في المناطق التي يمنع فيها التجاوز، مثل المنعطفات والمرتفعات.**الغرامة المالية 1000 - 2000 ريال'), Document(metadata={}, page_content='**عدم وجود إنارة جانبية أو عواكس أو سواتر للشاحنات والمقطورات.**الغرامة المالية 1000 - 2000 ريال'), Document(metadata={}, page_content='**عدم استخدام الأنوار اللازمة عند السير ليلاً أو في الأحوال الجوية التي تكون فيها الرؤية غير واضحة.**الغرامة المالية 1000 - 2000 ريال'), Document(metadata={}, page_content='**عدم تثبيت اللوحة في مكانها المخصص.**الغرامة المالية 1000 - 2000 ريال'), Document(metadata={}, page_content='**التجمهر في مواقع التفحيط.**الغرامة المالية 1000 - 2000 ريال'), Document(metadata={}, page_content='**زيادة أبعاد الحمولة المنقولة لمركبات النقل الثقيل على الحد المسموح به.**الغرامة المالية 1000 - 2000 ريال'), Document(metadata={}, page_content='**إجراء أي تعديل أو إضافة على جسم المركبة أو هيكلها، يغير معالمها أو تجهيزاتها الأساسية دون اتخاذ الإجراءات النظامية.**الغرامة المالية 1000 - 2000 ريال'), Document(metadata={}, page_content='**قيادة مركبة دون توافر التجهيزات اللازمة، مثل المكابح والأنوار وما في حكمهما.**الغرامة المالية 1000 - 2000 ريال'), Document(metadata={}, page_content='**استخدام لوحات غير صادرة من الإدارة المختصة.**الغرامة المالية 1000 - 2000 ريال'), Document(metadata={}, page_content='**تجاوز إشارة المرور الضوئية أثناء الضوء الأحمر.**الغرامة المالية 3000 - 6000 ريال'), Document(metadata={}, page_content='**تجاوز حافلات النقل المدرسي عند توقفها للتحميل أو التنزيل.**الغرامة المالية 3000 - 6000 ريال'), Document(metadata={}, page_content='**العبث بعلامات الطريق أو العاكسات أو الشاحنات المنظمة لحركة السير.**الغرامة المالية 3000 - 6000 ريال'), Document(metadata={}, page_content='**عدم الوقوف عند مراكز الضبط الأمني أو نقاط التفتيش أو عدم الوقوف للدورية الأمنية عند وجود توجيه أو علامة توجب الوقوف.**الغرامة المالية 3000 - 6000 ريال'), Document(metadata={}, page_content='**استخدام أجهزة غير مصرح بها في المركبة أو وضع شعارات أو ملصقات تتنافى مع الآداب العامة.**الغرامة المالية 3000 - 6000 ريال'), Document(metadata={}, page_content='**قيادة المركبة بالاتجاه المعاكس لحركة السير.**الغرامة المالية 3000 - 6000 ريال'), Document(metadata={}, page_content='**المراوغة بسرعة بين المركبات على الطرق العامة.**الغرامة المالية 3000 - 6000 ريال'), Document(metadata={}, page_content='**إجراء سباق للمركبات على الطرق العامة، أو السير في مواكب دون الحصول على تصريح.**الغرامة المالية 3000 - 6000 ريال'), Document(metadata={}, page_content='**عدم التزام الشاحنات والمعدات الثقيلة بالسير في المسار الآمن في الطريق المتعدد المسارات.**الغرامة المالية 3000 - 6000 ريال'), Document(metadata={}, page_content='**عدم قيام أصحاب الحيوانات بإبعادها عن حرم الطريق المعتمد.**الغرامة المالية 3000 - 6000 ريال'), Document(metadata={}, page_content='**تركيب تجهيزات في المركبة كتلك الخاصة بالمركبات الرسمية ومركبات الطوارئ.**الغرامة المالية 3000 - 6000 ريال'), Document(metadata={}, page_content='**تسيير مركبات الأشغال العامة على الطرق قبل اتخاذ الإجراءات اللازمة لتلافي أضرارها، بما في ذلك عدم وضع الشرائح العاكسة على جانبي مؤخرة المركبة.**الغرامة المالية 3000 - 6000 ريال'), Document(metadata={}, page_content='**سير المركبة بلا لوحة خلفية، أو بلا لوحات.**الغرامة المالية 3000 - 6000 ريال'), Document(metadata={}, page_content='**طمس لوحات المركبة.**الغرامة المالية 3000 - 6000 ريال'), Document(metadata={}, page_content='**قيادة المركبة تحت تأثير مسكر أو مخدر، أو عقاقير محذر من القيادة تحت تأثيرها.**الغرامة المالية 5000 - 10000 ريال'), Document(metadata={}, page_content='**القيام بأعمال الطرق قبل التنسيق مع الإدارة المختصة.**الغرامة المالية 5000 - 10000 ريال'), Document(metadata={}, page_content='**سماح أصحاب الحيوانات بعبور حيواناتهم من غير الأماكن المخصصة لها، أو دون التنسيق مع الجهات المختصة.**الغرامة المالية 5000 - 10000 ريال'), Document(metadata={}, page_content='**استخدام لوحات غير عائدة للمركبة.**الغرامة المالية 5000 - 10000 ريال'), Document(metadata={}, page_content='**طمس رقم هيكل المركبة أو محاولة طمسه.**الغرامة المالية 5000 - 10000 ريال'), Document(metadata={}, page_content='**المجازفة بعبور الأودية والشعاب أثناء جريانها.**الغرامة المالية 5000 - 10000 ريال')]\n"
          ]
        }
      ]
    },
    {
      "cell_type": "markdown",
      "metadata": {
        "id": "EviXuMjfL2Gj"
      },
      "source": [
        "## Step 5: Generate Embeddings for the Documents"
      ]
    },
    {
      "cell_type": "markdown",
      "metadata": {
        "id": "gAUq12UtL5OJ"
      },
      "source": [
        "Generate embeddings for the chunks of text using HuggingFace's pre-trained Arabic language model. These embeddings will be stored in a `Chroma` vector store."
      ]
    },
    {
      "cell_type": "code",
      "source": [
        "from langchain_community.embeddings.sentence_transformer import SentenceTransformerEmbeddings\n",
        "from langchain.vectorstores import Chroma\n",
        "embeddings_function=SentenceTransformerEmbeddings(model_name='Omartificial-Intelligence-Space/GATE-AraBert-v0')\n",
        "db=Chroma.from_documents(documents,embeddings_function,persist_directory='db')\n"
      ],
      "metadata": {
        "id": "lPe1NjZmlAl0"
      },
      "execution_count": null,
      "outputs": []
    },
    {
      "cell_type": "code",
      "source": [
        "result=db.similarity_search_with_relevance_scores(\"مخالفة عدم ربط حزام الامان\", k=4)\n"
      ],
      "metadata": {
        "id": "q4jd9Ev2lEZ_",
        "colab": {
          "base_uri": "https://localhost:8080/"
        },
        "outputId": "07c138ea-970e-4e8c-f853-e1ca23e0e12c"
      },
      "execution_count": 79,
      "outputs": [
        {
          "output_type": "stream",
          "name": "stderr",
          "text": [
            "<ipython-input-79-20bdfaa39633>:1: UserWarning: Relevance scores must be between 0 and 1, got [(Document(metadata={}, page_content='**عدم ربط حزام الأمان.**الغرامة المالية 150 - 300 ريال'), -247.51777956768595), (Document(metadata={}, page_content='**عدم ربط حزام الأمان.**الغرامة المالية 150 - 300 ريال'), -247.51777956768595), (Document(metadata={}, page_content='**عدم ربط حزام الأمان.**الغرامة المالية 150 - 300 ريال'), -247.51777956768595), (Document(metadata={}, page_content='**عدم اتخاذ الاحتياطات اللازمة عند إيقاف المركبة في حالات الطوارئ على الطرق العامة.**الغرامة المالية 300 - 500 ريال'), -271.31522005430094)]\n",
            "  result=db.similarity_search_with_relevance_scores(\"مخالفة عدم ربط حزام الامان\", k=4)\n"
          ]
        }
      ]
    },
    {
      "cell_type": "markdown",
      "metadata": {
        "id": "l32elHl2L-ob"
      },
      "source": [
        "## Step 6: Define the RAG Prompt Template"
      ]
    },
    {
      "cell_type": "markdown",
      "metadata": {
        "id": "X1zWp3KfMAld"
      },
      "source": [
        "Define a custom prompt template in Arabic to retrieve traffic violation-related answers based on the context. Ensure the template greets the user first, states that the information provided could be incorrect, and advises the user to visit the traffic initiative website to verify. Additionally, provide the user with advice in Arabic, ensuring it stays within the given context."
      ]
    },
    {
      "cell_type": "code",
      "execution_count": null,
      "metadata": {
        "id": "gdy4qbn_CYTn"
      },
      "outputs": [],
      "source": [
        "from langchain.prompts import PromptTemplate\n",
        "PROMOT_TEMPLATE=\"\"\"\n",
        "أجب بناءً على السياق فقط وليس بناءً على معرفتك، واجعل إجابتك قصيرة وواضحة.\n",
        "---\n",
        "السياق::{context}\n",
        "---\n",
        "السؤال::{question}\n",
        "\"\"\"\n",
        "\n",
        "prompt=PromptTemplate(template=PROMOT_TEMPLATE,input_variables=['context','question'])\n"
      ]
    },
    {
      "cell_type": "markdown",
      "metadata": {
        "id": "IvfcCIjgMG34"
      },
      "source": [
        "## Step 7: Initialize the Language Model"
      ]
    },
    {
      "cell_type": "markdown",
      "metadata": {
        "id": "_lvHUsNTMIvX"
      },
      "source": [
        "Initialize the language model using the Groq API. Set up the model with a specific configuration, including the API key, temperature setting, and model name."
      ]
    },
    {
      "cell_type": "code",
      "execution_count": null,
      "metadata": {
        "id": "EM_tszFvHN6m"
      },
      "outputs": [],
      "source": [
        "from langchain_groq import ChatGroq\n",
        "\n",
        "groq_api_key='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'\n",
        "llm=ChatGroq(temperature=0,groq_api_key=groq_api_key,model_name=\"llama-3.1-70b-versatile\")\n"
      ]
    },
    {
      "cell_type": "markdown",
      "metadata": {
        "id": "fCcrmiA2MOOi"
      },
      "source": [
        "Now, you will create an LLM Chain that combines the language model and the prompt template you defined. This chain will be used to generate responses based on the retrieved context."
      ]
    },
    {
      "cell_type": "markdown",
      "source": [
        "## Step 8: Create the LLM Chain"
      ],
      "metadata": {
        "id": "YMNyMc6nurv4"
      }
    },
    {
      "cell_type": "code",
      "execution_count": 80,
      "metadata": {
        "id": "j1EEjdquHrTL"
      },
      "outputs": [],
      "source": [
        "from langchain.chains import LLMChain\n",
        "MODEL=LLMChain(llm=llm,prompt=prompt,\n",
        "               verbose=True)"
      ]
    },
    {
      "cell_type": "markdown",
      "metadata": {
        "id": "di48NYGQMQtS"
      },
      "source": [
        "## Step 9: Implement the Query Function"
      ]
    },
    {
      "cell_type": "markdown",
      "metadata": {
        "id": "huXN44hwMS07"
      },
      "source": [
        "Create a function `query_rag` that will take a user query as input, retrieve relevant context from the vector store, and use the language model to generate a response based on that context."
      ]
    },
    {
      "cell_type": "code",
      "execution_count": null,
      "metadata": {
        "id": "HJLrEKqzHhDy"
      },
      "outputs": [],
      "source": [
        "from decimal import Context\n",
        "def query_rag(query: str):\n",
        "  similarity_search_results=db.similarity_search_with_score(query, k=1)\n",
        "  context_text=\"\"\n",
        "\n",
        "  for result in similarity_search_results:\n",
        "   if result[1]>0.7:\n",
        "      context_text=context_text+result[0].page_content +'\\n\\n'\n",
        "  rag_response=MODEL.invoke({\"context\":context_text,\"question\":query})\n",
        "  return rag_response\n"
      ]
    },
    {
      "cell_type": "markdown",
      "metadata": {
        "id": "9iRfIjyzPLC_"
      },
      "source": [
        "## Step 10: Inference - Running Queries in the RAG System"
      ]
    },
    {
      "cell_type": "markdown",
      "metadata": {
        "id": "0iTaUjpWPOyt"
      },
      "source": [
        "In this final step, you will implement an inference pipeline to handle real-time queries. You will allow the system to retrieve the most relevant violations and fines based on a user's input and generate a response.\n",
        "\n",
        "1. Inference Workflow:\n",
        "\n",
        "  * The user inputs a query (e.g., \"ماهي عقوبة عدم الوقوف وقوفاً تاماً عند إشارة؟\").\n",
        "  * The system searches for the most relevant context from the traffic violation vector store.\n",
        "  * It generates an answer and advice based on the context.\n",
        "\n",
        "2. Goal:\n",
        "  * Run the inference to answer questions based on the traffic violation dataset."
      ]
    },
    {
      "cell_type": "code",
      "execution_count": 82,
      "metadata": {
        "id": "7k4BmIAHH38X",
        "colab": {
          "base_uri": "https://localhost:8080/"
        },
        "outputId": "e41c9ec4-7d47-4462-ace4-7e0eaff97e68"
      },
      "outputs": [
        {
          "output_type": "stream",
          "name": "stderr",
          "text": [
            "WARNING:langchain_core.callbacks.manager:Error in StdOutCallbackHandler.on_chain_start callback: AttributeError(\"'NoneType' object has no attribute 'get'\")\n"
          ]
        },
        {
          "output_type": "stream",
          "name": "stdout",
          "text": [
            "Prompt after formatting:\n",
            "\u001b[32;1m\u001b[1;3m\n",
            "أجب بناءً على السياق فقط وليس بناءً على معرفتك، واجعل إجابتك قصيرة وواضحة.\n",
            "---\n",
            "السياق::**عدم الوقوف تماماً عند إشارة قف.**الغرامة المالية 500 - 900 ريال\n",
            "\n",
            "\n",
            "---\n",
            "السؤال::ماهي عقوبة عدم الوقوف وقوفاً تاماً عند إشارة؟\n",
            "\u001b[0m\n",
            "\n",
            "\u001b[1m> Finished chain.\u001b[0m\n",
            "{'context': '**عدم الوقوف تماماً عند إشارة قف.**الغرامة المالية 500 - 900 ريال\\n\\n', 'question': 'ماهي عقوبة عدم الوقوف وقوفاً تاماً عند إشارة؟', 'text': 'الغرامة المالية 500 - 900 ريال.'}\n"
          ]
        }
      ],
      "source": [
        "result=query_rag(\"ماهي عقوبة عدم الوقوف وقوفاً تاماً عند إشارة؟\")\n",
        "print(result)"
      ]
    },
    {
      "cell_type": "code",
      "source": [
        "result=query_rag(\"ماهي غرامة عدم ربط حزام الامان؟\")\n",
        "print(result)"
      ],
      "metadata": {
        "colab": {
          "base_uri": "https://localhost:8080/"
        },
        "id": "Xf00LL97yDQt",
        "outputId": "679e5cd2-e164-4a86-fe95-9cb827c032c3"
      },
      "execution_count": 83,
      "outputs": [
        {
          "output_type": "stream",
          "name": "stderr",
          "text": [
            "WARNING:langchain_core.callbacks.manager:Error in StdOutCallbackHandler.on_chain_start callback: AttributeError(\"'NoneType' object has no attribute 'get'\")\n"
          ]
        },
        {
          "output_type": "stream",
          "name": "stdout",
          "text": [
            "Prompt after formatting:\n",
            "\u001b[32;1m\u001b[1;3m\n",
            "أجب بناءً على السياق فقط وليس بناءً على معرفتك، واجعل إجابتك قصيرة وواضحة.\n",
            "---\n",
            "السياق::**عدم ربط حزام الأمان.**الغرامة المالية 150 - 300 ريال\n",
            "\n",
            "\n",
            "---\n",
            "السؤال::ماهي غرامة عدم ربط حزام الامان؟\n",
            "\u001b[0m\n",
            "\n",
            "\u001b[1m> Finished chain.\u001b[0m\n",
            "{'context': '**عدم ربط حزام الأمان.**الغرامة المالية 150 - 300 ريال\\n\\n', 'question': 'ماهي غرامة عدم ربط حزام الامان؟', 'text': '150 - 300 ريال'}\n"
          ]
        }
      ]
    }
  ],
  "metadata": {
    "accelerator": "GPU",
    "colab": {
      "gpuType": "L4",
      "provenance": [],
      "collapsed_sections": [
        "IKe3G7bqK-W6"
      ],
      "machine_shape": "hm"
    },
    "kernelspec": {
      "display_name": "Python 3",
      "name": "python3"
    },
    "language_info": {
      "name": "python"
    }
  },
  "nbformat": 4,
  "nbformat_minor": 0
}